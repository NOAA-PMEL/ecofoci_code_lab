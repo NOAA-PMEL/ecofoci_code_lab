{
 "cells": [
  {
   "cell_type": "markdown",
   "id": "b55fde66-6450-4101-afbb-59fe85b3945b",
   "metadata": {},
   "source": [
    "# Summary\n",
    "\n",
    "ICOADS Deck 110 has vessel id of the form ppnnn where pp is connected to a vessel class and nnn is connected to a specific vessel.  Even though we can subset on the 'pp' of a vessel, the connection to the actual vessel class (and theirfor the appropriate calibration, correction treatment or bias treatment to the dataset) is not driven based upon known vessel characteristics.\n",
    "\n",
    "We used the associated exploratory maps included in this collection of Jupyter Notebooks to identify the vessel classes based on activities throughout the duration of the war and known vessel locations (Ocean Stations, Fixed Vessels, large excursions, etc)\n",
    "\n",
    "## Source of Data\n",
    "- NCEI netcdf versions of IMMA ICOADS R3 data which was then subsetted and parsed to just latitude, longitude, dates, vessel id, and SST over the period of interest (1940's) for visualization.\n",
    "\n",
    "## Sofware and Dependencies\n",
    "- simple application of geoviews / holoviews project\n",
    "\n",
    "## Todo or Potential enhancements\n",
    "- plot two vessel classes at the same time.  This would allow flotilla's to be visualized\n",
    "- allow for a time slider to view vessels"
   ]
  },
  {
   "cell_type": "code",
   "execution_count": null,
   "id": "38408810-3e1a-4a46-a7e5-6dc5fa97b84c",
   "metadata": {},
   "outputs": [],
   "source": []
  }
 ],
 "metadata": {
  "kernelspec": {
   "display_name": "Python [conda env:holoviz]",
   "language": "python",
   "name": "conda-env-holoviz-py"
  },
  "language_info": {
   "codemirror_mode": {
    "name": "ipython",
    "version": 3
   },
   "file_extension": ".py",
   "mimetype": "text/x-python",
   "name": "python",
   "nbconvert_exporter": "python",
   "pygments_lexer": "ipython3",
   "version": "3.7.12"
  }
 },
 "nbformat": 4,
 "nbformat_minor": 5
}
