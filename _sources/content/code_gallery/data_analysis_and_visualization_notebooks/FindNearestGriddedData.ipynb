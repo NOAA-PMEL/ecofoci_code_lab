{
 "cells": [
  {
   "cell_type": "markdown",
   "id": "b531a3cd-7761-4d83-82d6-466e748ab6c9",
   "metadata": {},
   "source": [
    "# Gridded Data Station Subsetting on closest model point\n",
    "\n",
    "This program is a replacement for the suite of programs like `HROISST_Station.py` and `NARR_daily_WindsSFCtemp_Station`.  Previous iterations of this program would use netcdf files from archive centers to first, locate the closest gridpoint, then extract that point from all successive files and combine the results into a single EPIC flavored netcdf file.\n",
    "\n",
    "**Common Datasets**\n",
    "- NARR 3hrly or daily data\n",
    "- NCEP/NCAR Reanalysis data\n",
    "- erddap hosted JPL MUR sst data\n",
    "- etopo5 or other bathymetry\n",
    "\n",
    "Primary functions to replace and motivation for this notebook\n",
    "- Stop supporting python 2.7 (support 3.8 or greater)\n",
    "- Stop outputting anything EPIC related files\n",
    "- use native \"find nearest\" for xarray... may not truly take into account lat/lon is not consistent km as you go furthur north like great circle would.  Not sure this is actually an issue though unles your grid is super coarse... \n",
    "\n",
    "Tasks that are addressed below:\n",
    "- read from multiple files (often parameters are in seperate files for seperate years)\n",
    "- read from erddap if available \n",
    "- filter 3hr winds (3pt triangle filter shown), but you can use any other filter on any other parameter\n",
    "- take daily, hourly or monthly input\n",
    "\n",
    "Inputs:\n",
    "- station name\n",
    "- start/end time\n",
    "- location (lat,lon)\n",
    "- filter information"
   ]
  },
  {
   "cell_type": "code",
   "execution_count": 1,
   "id": "f9930ca7-9391-4a66-88df-2b8d47bdf9ab",
   "metadata": {},
   "outputs": [],
   "source": [
    "import xarray as xa\n",
    "import pandas as pd\n",
    "import numpy as np\n",
    "import matplotlib.pyplot as plt"
   ]
  },
  {
   "cell_type": "markdown",
   "id": "c826ced5-227e-470a-96d3-d4d5e6d2ff1e",
   "metadata": {},
   "source": [
    "## Explore using data from netcdf files\n",
    "\n",
    "Commonly PJS asks for NARR winds/temp from certain locations (C2, M2)"
   ]
  },
  {
   "cell_type": "markdown",
   "id": "582d262a-6dfc-489a-ba22-f1e9b06cc77b",
   "metadata": {},
   "source": [
    "For netcdf files with parameters that span mulitple files (like NARR or NCEP Reanalysis files where each file is usually just a single parameter plus location/time) you can read them as a multi-file dataset aggregated on similar years (so loop over years for a multi year analysis)\n",
    "\n",
    "If you only want a single parameter, you can go straight to looping over years or even just use the mfdataset method to open all files."
   ]
  },
  {
   "cell_type": "code",
   "execution_count": 2,
   "id": "9044d92c-a61b-4a0b-9944-f3e98a0758a0",
   "metadata": {},
   "outputs": [],
   "source": [
    "year = 2022\n",
    "lat = 71.230\n",
    "lon = -164.105\n",
    "site = 'C2'"
   ]
  },
  {
   "cell_type": "code",
   "execution_count": 3,
   "id": "55a6c5d9-dec9-4499-bda7-5ccd52b59d85",
   "metadata": {},
   "outputs": [
    {
     "name": "stderr",
     "output_type": "stream",
     "text": [
      "/Users/bell/miniconda3/envs/py38/lib/python3.8/site-packages/xarray/conventions.py:516: SerializationWarning: variable 'air' has multiple fill values {9.96921e+36, -9.96921e+36}, decoding all values to NaN.\n",
      "  new_vars[k] = decode_cf_variable(\n",
      "/Users/bell/miniconda3/envs/py38/lib/python3.8/site-packages/xarray/conventions.py:516: SerializationWarning: variable 'uwnd' has multiple fill values {9.96921e+36, -9.96921e+36}, decoding all values to NaN.\n",
      "  new_vars[k] = decode_cf_variable(\n",
      "/Users/bell/miniconda3/envs/py38/lib/python3.8/site-packages/xarray/conventions.py:516: SerializationWarning: variable 'vwnd' has multiple fill values {9.96921e+36, -9.96921e+36}, decoding all values to NaN.\n",
      "  new_vars[k] = decode_cf_variable(\n"
     ]
    }
   ],
   "source": [
    "netcdf_dir = {'datapath':'/Users/bell/in_and_outbox/data_sets/reanalysis_data/NARR/', #NARR Netcdf example\n",
    "              'dataset':'NARR'}\n",
    "# netcdf_dir = {'datapath':'/Volumes/External/in_and_outbox/data_sets/reanalyis_data/NCEP-NCAR/daily/', #NCEP Netcdf example\n",
    "#               'dataset':'NCEP'}\n",
    "\n",
    "#load muliple files, one year - or multiple years, one measurement type\n",
    "ds = xa.open_mfdataset(netcdf_dir['datapath']+f'*{year}.nc').load() #<-- pass year in - "
   ]
  },
  {
   "cell_type": "code",
   "execution_count": 4,
   "id": "02f8d991-7ec7-48bf-b76a-8707c0b33e02",
   "metadata": {
    "tags": []
   },
   "outputs": [],
   "source": [
    "# the following is a least distance calculator using the units specified.  \n",
    "# As one deg of lon and one deg of latitude are not consistantly equal over the entire globe (like one unit of km is) this approach\n",
    "#  has its numerical limitations and should only be used when a measure of ambiguity is ok.  otherwise, stick to consistent units (km or x/y)\n",
    "#\n",
    "# You may need to change the lat/lon variables though for the independent dataset\n",
    "\n",
    "if netcdf_dir['dataset'] == 'NARR':\n",
    "    ''' for when grid is in x/y coords'''\n",
    "    d_lat = ds.lat - lat\n",
    "    d_lon = ds.lon - lon\n",
    "    r2_requested = d_lat**2 + d_lon**2\n",
    "    i_j_loc = np.where(r2_requested == np.min(r2_requested))\n",
    "\n",
    "    nearest_point = ds.isel(x=i_j_loc[1], y=i_j_loc[0]) #x/y order may need reversal\n",
    "else:\n",
    "    if ds.lon.all() >=0:\n",
    "        ''' for when its 0:360'''\n",
    "        nearest_point = ds.sel(lat=lat,lon=lon+360,method='nearest')\n",
    "    else:\n",
    "        ''' for when its -180:180'''\n",
    "        pass"
   ]
  },
  {
   "cell_type": "code",
   "execution_count": 13,
   "id": "b265f8c1-c6f2-4e59-acdd-7ff8fe249356",
   "metadata": {},
   "outputs": [
    {
     "data": {
      "text/plain": [
       "array([-25.797241 , -23.142609 , -23.471329 , -22.580551 , -22.1232   ,\n",
       "       -21.782013 , -22.937912 , -24.244415 , -24.639267 , -22.822906 ,\n",
       "       -24.151901 , -23.558151 , -23.051193 , -22.685837 , -22.852142 ,\n",
       "       -25.176117 , -26.748383 , -27.441772 , -27.982346 , -27.701141 ,\n",
       "       -27.684387 , -26.920288 , -27.034958 , -26.36586  , -25.174927 ,\n",
       "       -22.801147 , -21.335037 , -20.32814  , -20.090027 , -19.014496 ,\n",
       "       -18.656036 , -18.33432  , -18.312744 , -18.867462 , -19.123322 ,\n",
       "       -19.530334 , -19.808167 , -20.566345 , -19.852066 , -18.34375  ,\n",
       "       -21.006226 , -22.135834 , -24.501404 , -25.845093 , -27.237137 ,\n",
       "       -27.84909  , -27.634018 , -26.053299 , -25.37236  , -24.274063 ,\n",
       "       -24.02945  , -23.893768 , -23.797607 , -24.200073 , -25.256744 ,\n",
       "       -26.08464  , -26.45224  , -27.006073 , -27.184387 , -27.360825 ,\n",
       "       -28.49202  , -29.554688 , -30.18161  , -28.604752 , -28.504517 ,\n",
       "       -27.216522 , -27.655838 , -27.569717 , -30.631851 , -30.50978  ,\n",
       "       -29.884338 , -30.630112 , -30.294113 , -29.409927 , -29.023758 ,\n",
       "       -28.70839  , -28.579788 , -29.44629  , -29.007843 , -27.992172 ,\n",
       "       -28.955826 , -28.396881 , -29.64447  , -30.68576  , -29.868164 ,\n",
       "       -26.324219 , -24.067413 , -22.775467 , -23.02095  , -22.389984 ,\n",
       "       -23.037903 , -23.350128 , -24.453735 , -24.55095  , -24.663025 ,\n",
       "       -24.21341  , -24.628922 , -25.36383  , -29.119385 , -28.724533 ,\n",
       "       -25.916534 , -24.26091  , -24.387695 , -25.535263 , -27.925217 ,\n",
       "       -28.968918 , -29.526382 , -30.571579 , -30.792603 , -30.929962 ,\n",
       "       -30.75     , -30.460037 , -30.713226 , -30.992676 , -30.997833 ,\n",
       "       -31.066498 , -28.498413 , -25.762604 , -24.499802 , -23.450424 ,\n",
       "       -22.92743  , -22.535599 , -22.30931  , -21.966705 , -22.258926 ,\n",
       "       -22.057129 , -22.19011  , -22.510681 , -22.884918 , -23.304062 ,\n",
       "       -23.495773 , -23.606567 , -23.762451 , -23.091904 , -23.052628 ,\n",
       "       -23.139679 , -23.091766 , -23.003769 , -23.120255 , -22.884995 ,\n",
       "       -22.91307  , -22.882202 , -22.764969 , -22.304047 , -22.441101 ,\n",
       "       -21.888702 , -22.027435 , -22.827454 , -23.215454 , -22.14981  ,\n",
       "       -21.637299 , -21.417328 , -21.410492 , -21.087234 , -21.2892   ,\n",
       "       -24.152466 , -25.597122 , -23.37622  , -25.003525 , -26.941193 ,\n",
       "       -27.99472  , -29.55513  , -28.690567 , -29.73584  , -30.543549 ,\n",
       "       -31.182251 , -30.239868 , -30.199387 , -30.147125 , -29.973907 ,\n",
       "       -29.152802 , -28.82785  , -28.714828 , -28.56578  , -28.102356 ,\n",
       "       -27.78598  , -27.907959 , -26.756393 , -25.438782 , -23.034515 ,\n",
       "       -22.078812 , -21.082474 , -20.860596 , -20.186462 , -20.442932 ,\n",
       "       -19.857346 , -19.891113 , -18.790176 , -17.843277 , -17.215332 ,\n",
       "       -16.122345 , -16.008514 , -16.461517 , -17.011932 , -18.471573 ,\n",
       "       -19.928268 , -21.855621 , -23.028519 , -24.142868 , -24.31601  ,\n",
       "       -25.166443 , -24.833649 , -25.89003  , -26.81691  , -27.513916 ,\n",
       "       -27.969193 , -28.218216 , -26.56868  , -25.843903 , -24.785019 ,\n",
       "       -24.69136  , -24.421722 , -24.548645 , -24.300842 , -24.445587 ,\n",
       "       -24.653534 , -25.154327 , -25.782394 , -29.256134 , -31.366928 ,\n",
       "       -32.069214 , -31.644287 , -31.165802 , -30.421448 , -28.939972 ,\n",
       "       -26.889282 , -26.629623 , -24.763763 , -24.12938  , -23.443787 ,\n",
       "       -22.235413 , -21.286896 , -20.552994 , -21.059296 , -22.329514 ,\n",
       "       -22.56543  , -22.992813 , -22.750381 , -23.367355 , -23.765656 ,\n",
       "       -23.619095 , -23.77452  , -25.652878 , -28.085388 , -28.053345 ,\n",
       "       -24.4012   , -23.27214  , -22.236664 , -22.313324 , -22.345596 ,\n",
       "       -22.788803 , -22.694275 , -22.397995 , -20.139328 , -19.77629  ,\n",
       "       -18.892273 , -19.037079 , -19.142685 , -19.934753 , -19.736954 ,\n",
       "       -20.600937 , -21.314468 , -21.114014 , -21.541702 , -21.557663 ,\n",
       "       -21.075119 , -21.647797 , -22.544678 , -22.597672 , -23.998398 ,\n",
       "       -25.892075 , -27.64206  , -28.01155  , -28.710999 , -30.233063 ,\n",
       "       -30.732376 , -30.65538  , -30.358414 , -30.567978 , -28.30066  ,\n",
       "       -24.61174  , -23.48262  , -23.120346 , -22.473541 , -22.937866 ,\n",
       "       -22.869202 , -23.101883 , -22.697525 , -22.47847  , -22.861786 ,\n",
       "       -24.58139  , -26.317322 , -26.460815 , -24.416367 , -22.85318  ,\n",
       "       -24.899445 , -25.288467 , -27.482422 , -31.53064  , -32.615097 ,\n",
       "       -31.33786  , -31.542831 , -32.125366 , -30.1053   , -27.458801 ,\n",
       "       -27.96733  , -28.320557 , -29.414047 , -29.701645 , -30.007126 ,\n",
       "       -30.251907 , -31.723068 , -31.082932 , -33.120483 , -34.22223  ,\n",
       "       -34.603516 , -34.738205 , -33.91574  , -33.86606  , -34.095886 ,\n",
       "       -32.517807 , -32.65146  , -30.152786 , -28.534409 , -27.475998 ,\n",
       "       -26.156952 , -25.499695 , -27.151672 , -24.961609 , -24.06836  ,\n",
       "       -24.23845  , -24.484772 , -24.841751 , -24.781387 , -26.522827 ,\n",
       "       -27.95723  , -28.119919 , -28.081818 , -29.066391 , -27.479263 ,\n",
       "       -26.937897 , -27.716187 , -28.326889 , -26.515274 , -26.329483 ,\n",
       "       -25.697235 , -25.886505 , -25.807343 , -25.990204 , -25.288193 ,\n",
       "       -25.085754 , -24.947067 , -24.516388 , -24.075897 , -24.311798 ,\n",
       "       -24.652664 , -24.867401 , -25.174896 , -25.498001 , -25.814758 ,\n",
       "       -24.698608 , -24.08107  , -25.033005 , -24.264801 , -24.205963 ,\n",
       "       -23.332916 , -23.031738 , -22.224075 , -21.425903 , -20.529556 ,\n",
       "       -20.591873 , -20.736252 , -20.631866 , -22.365433 , -24.274597 ,\n",
       "       -24.68509  , -23.109085 , -22.182663 , -22.154587 , -22.593597 ,\n",
       "       -22.449814 , -22.943527 , -23.566284 , -22.110062 , -20.648743 ,\n",
       "       -20.14357  , -19.773956 , -19.791626 , -19.817581 , -19.584122 ,\n",
       "       -19.382904 , -19.696075 , -19.038757 , -20.176804 , -21.547012 ,\n",
       "       -23.678772 , -25.396011 , -27.070496 , -28.253357 , -27.779785 ,\n",
       "       -25.577118 , -25.259216 , -26.042984 , -28.683655 , -30.060562 ,\n",
       "       -30.522995 , -31.110916 , -30.452148 , -28.249252 , -28.871002 ,\n",
       "       -30.133163 , -30.17183  , -29.098495 , -28.961777 , -26.251526 ,\n",
       "       -21.490768 , -16.297882 , -12.163116 ,  -9.480072 ,  -7.9664   ,\n",
       "        -7.4937134,  -6.978485 ,  -7.0210876,  -7.1669006,  -8.823486 ,\n",
       "       -16.56137  , -20.950134 , -22.349564 , -23.6819   , -23.662216 ,\n",
       "       -25.077988 , -24.94011  , -22.697327 , -23.575699 , -25.591263 ,\n",
       "       -25.702133 , -25.645813 , -25.136978 , -23.754333 , -21.871902 ,\n",
       "       -19.539062 , -18.932098 , -18.59349  , -18.323685 , -18.290253 ,\n",
       "       -17.921967 , -18.129883 , -17.944199 , -17.282715 , -17.48265  ,\n",
       "       -17.883896 , -18.607956 , -19.586166 , -20.137115 , -20.627487 ,\n",
       "       -18.382889 , -16.06015  , -15.256409 , -15.630157 , -14.454559 ,\n",
       "       -14.310272 , -14.125763 , -15.2005005, -16.877472 , -14.247833 ,\n",
       "       -11.060699 ,  -9.455933 ,  -8.198761 ,  -7.917389 ,  -8.124695 ,\n",
       "        -8.517944 ,  -7.0194397], dtype=float32)"
      ]
     },
     "execution_count": 13,
     "metadata": {},
     "output_type": "execute_result"
    }
   ],
   "source": [
    "ods.AT_21.isel(lat=0,lon=0,depth=0).values"
   ]
  },
  {
   "cell_type": "code",
   "execution_count": 14,
   "id": "a5aab3f1-4f61-4158-98a8-3541d802c8d8",
   "metadata": {},
   "outputs": [
    {
     "data": {
      "image/png": "[encoded data removed]",
      "text/plain": [
       "<Figure size 864x288 with 2 Axes>"
      ]
     },
     "metadata": {
      "needs_background": "light"
     },
     "output_type": "display_data"
    }
   ],
   "source": [
    "#compare to old method which used python=2.7, EPIC formatted NetCDF data and a Great Circle calculator for nearest point\n",
    "\n",
    "ods = xa.load_dataset(netcdf_dir['datapath']+'NARR_C2_2022.cf.nc')\n",
    "\n",
    "fig, ax = plt.subplots(2,figsize=(12, 4), sharex=True)\n",
    "\n",
    "(nearest_point.air-273.15).plot(ax=ax[0])\n",
    "ods.AT_21.plot(ax=ax[0])\n",
    "\n",
    "((nearest_point.air-273.15)-ods.AT_21).plot(ax=ax[1])\n",
    "\n",
    "assert ((nearest_point.air-273.15).isel(x=0,y=0).values == ods.AT_21.isel(lat=0,lon=0,depth=0).values).all(), 'Methods not equivalent' "
   ]
  },
  {
   "cell_type": "code",
   "execution_count": null,
   "id": "74491d43-d5b8-4988-a24a-b8520518c704",
   "metadata": {},
   "outputs": [],
   "source": [
    "# often a triangle filter was applied to the 3hr data... you can do the same with the following numpy call\n",
    "fig, ax = plt.subplots(1,figsize=(12, 4), sharex=True)\n",
    "ods.AT_21.plot(ax=ax)\n",
    "ax.plot(ods.time,np.convolve(ods.AT_21[:,0,0,0],[0.25, 0.5, 0.25],'same')) #triangle filter"
   ]
  },
  {
   "cell_type": "code",
   "execution_count": null,
   "id": "b0d422ad-49d6-4ffe-a08e-2f0b90151945",
   "metadata": {},
   "outputs": [],
   "source": [
    "start_date = '2022-01-01'\n",
    "end_date = '2022-02-26'\n",
    "lat = 56.867\n",
    "lon = -164.07\n",
    "site = 'M2'"
   ]
  },
  {
   "cell_type": "code",
   "execution_count": null,
   "id": "d6c7bd5d-022a-473d-b139-1268813c0d6b",
   "metadata": {},
   "outputs": [],
   "source": [
    "## from erddap (SST and ice concentration)\n",
    "\n",
    "# Could also use this to retrieve bathymetry from erddap hosted files\n",
    "\n",
    "def NearestFromErddap(server=None,dataset=None,variablename=None,latitude=0,longitude=0,startdate='',enddate=''):\n",
    "    ''' Given an erddap url and a datasetID, provide the latitude and longitude to get the nearest datavalue within a time window.  \n",
    "    You will also need to specify the name of the parameter you are interested in, some examples are below.\n",
    "    \n",
    "    date format : yyyy-mm-dd\n",
    "    latitude : -90 to 90\n",
    "    longitude: try -180:180 or 0:360\n",
    "    \n",
    "    NOAA - HROISST: https://coastwatch.pfeg.noaa.gov :: ncdcOisst21Agg_LonPM180 or ncdcOisst21Agg\n",
    "            sst: err: ice (also all as a 4d function :'( )\n",
    "    JPL - MUR: https://coastwatch.pfeg.noaa.gov :: jplMURSST41 or jplMURSST41_Lon0360\n",
    "            analysed_sst; sea_ice_fraction; analysis_error\n",
    "    UKMET - OSTIA: https://upwell.pfeg.noaa.gov :: nasa_jpl_2fa2_cbe7_cd13.html\n",
    "    \n",
    "    OSISAF - EUMET: polarwatch.noaa.gov :: eumetsat_osisaf_ice_conc_nh_ps\n",
    "    (this outputs and x/y dataset that needs to be merged on to the NH PolarStereographic Grid)\n",
    "    '''\n",
    "    \n",
    "    try:\n",
    "        if dataset in ['ncdcOisst21Agg_LonPM180','ncdcOisst21Agg']:\n",
    "            url=f\"{server}/erddap/griddap/{dataset}.csvp?{variablename}[({startdate}):1:({enddate})][(0.0):1:(0.0)][({latitude}):1:({latitude})][({longitude}):1:({longitude})]\"\n",
    "            return pd.read_csv(url,skiprows=0,parse_dates=True,index_col='time (UTC)')\n",
    "        else:\n",
    "            url=f\"{server}/erddap/griddap/{dataset}.csvp?{variablename}[({startdate}):1:({enddate})][({latitude}):1:({latitude})][({longitude}):1:({longitude})]\"\n",
    "            return pd.read_csv(url,skiprows=0,parse_dates=True,index_col='time (UTC)')\n",
    "    except:\n",
    "        return url    \n",
    "    "
   ]
  },
  {
   "cell_type": "code",
   "execution_count": null,
   "id": "f7768b65-db51-4cf2-a306-641b62915ab5",
   "metadata": {},
   "outputs": [],
   "source": [
    "jpl_sst = NearestFromErddap('https://coastwatch.pfeg.noaa.gov','jplMURSST41','analysed_sst',lat,lon,f'{start_date}',f'{end_date}')"
   ]
  },
  {
   "cell_type": "code",
   "execution_count": null,
   "id": "d2224d5e-b6e2-4499-984a-f00640e93ece",
   "metadata": {},
   "outputs": [],
   "source": [
    "ukmet_sst = NearestFromErddap('https://upwell.pfeg.noaa.gov','nasa_jpl_2fa2_cbe7_cd13','analysed_sst',lat,lon,f'{start_date}',f'{end_date}')"
   ]
  },
  {
   "cell_type": "code",
   "execution_count": null,
   "id": "fdb666a4-5895-4c8e-ad7d-0dc74b24adbf",
   "metadata": {},
   "outputs": [],
   "source": [
    "noaaoi_sst = NearestFromErddap('https://coastwatch.pfeg.noaa.gov','ncdcOisst21Agg_LonPM180','sst',lat,lon,f'{start_date}',f'{end_date}')"
   ]
  },
  {
   "cell_type": "code",
   "execution_count": null,
   "id": "48b273ee-3b6c-4258-857d-7db780ae5a0b",
   "metadata": {},
   "outputs": [],
   "source": [
    "fig, ax = plt.subplots(1,figsize=(16, 2))\n",
    "\n",
    "jpl_sst['analysed_sst (degree_C)'].plot(ax=ax,label='MUR')\n",
    "ukmet_sst['analysed_sst (degree_C)'].plot(ax=ax,label='UKMet')\n",
    "noaaoi_sst['sst (degree_C)'].plot(ax=ax,label='NOAA')\n",
    "ax.set_ylim([-2,5])\n",
    "ax.legend()"
   ]
  },
  {
   "cell_type": "markdown",
   "id": "eb3ac280-6907-4c27-a023-2db690e09b8f",
   "metadata": {},
   "source": [
    "We can use the same code above to retrieve \"ice concentration\" information at the same location as well... some even from the same datasource"
   ]
  },
  {
   "cell_type": "code",
   "execution_count": null,
   "id": "c326ac7a-57b2-4b82-a570-3a8728f68926",
   "metadata": {},
   "outputs": [],
   "source": [
    "jpl_ice = NearestFromErddap('https://coastwatch.pfeg.noaa.gov','jplMURSST41','sea_ice_fraction',lat,lon,f'{year}-01-01',f'{end_date}')"
   ]
  },
  {
   "cell_type": "code",
   "execution_count": null,
   "id": "463474c0-27f9-4672-b196-11f763f281f5",
   "metadata": {},
   "outputs": [],
   "source": [
    "ukmet_ice = NearestFromErddap('https://upwell.pfeg.noaa.gov','nasa_jpl_2fa2_cbe7_cd13','sea_ice_fraction',lat,lon,f'{year}-01-01',f'{end_date}')"
   ]
  },
  {
   "cell_type": "code",
   "execution_count": null,
   "id": "e01a48d0-9a98-40dc-9302-2db14bfb1e77",
   "metadata": {},
   "outputs": [],
   "source": [
    "noaaoi_ice = NearestFromErddap('https://coastwatch.pfeg.noaa.gov','ncdcOisst21Agg_LonPM180','ice',lat,lon,f'{year}-01-01',f'{end_date}')"
   ]
  },
  {
   "cell_type": "code",
   "execution_count": null,
   "id": "f3f99e9b-73b6-47d1-a454-fb2cc094b012",
   "metadata": {},
   "outputs": [],
   "source": [
    "fig, ax = plt.subplots(1,figsize=(16, 2))\n",
    "\n",
    "jpl_ice['sea_ice_fraction (1)'].plot(ax=ax,label='MUR')\n",
    "ukmet_ice['sea_ice_fraction (1)'].plot(ax=ax,label='UKMet')\n",
    "noaaoi_ice['ice (1)'].plot(ax=ax,label='NOAA')\n",
    "ax.set_ylim([-.01,1.01])\n",
    "ax.legend()"
   ]
  },
  {
   "cell_type": "markdown",
   "id": "d38199fa-0313-4e95-864d-199f446ae2bd",
   "metadata": {},
   "source": [
    "**Todo:**\n",
    "- Show that the gridded datapoint is near the initial datapoint and include some simple bathymetry or coastlines\n",
    "- Ouput to csv is straight forward (netcdf -> pandas -> csv)... any other specific formats need descriptions\n",
    "- Tether into Database for MooringID's or CTD Locations?"
   ]
  },
  {
   "cell_type": "code",
   "execution_count": null,
   "id": "a4b9d16e-bca5-435c-8e50-cb1f7ff41c87",
   "metadata": {},
   "outputs": [],
   "source": []
  }
 ],
 "metadata": {
  "kernelspec": {
   "display_name": "Python [conda env:py38] *",
   "language": "python",
   "name": "conda-env-py38-py"
  },
  "language_info": {
   "codemirror_mode": {
    "name": "ipython",
    "version": 3
   },
   "file_extension": ".py",
   "mimetype": "text/x-python",
   "name": "python",
   "nbconvert_exporter": "python",
   "pygments_lexer": "ipython3",
   "version": "3.8.12"
  }
 },
 "nbformat": 4,
 "nbformat_minor": 5
}
