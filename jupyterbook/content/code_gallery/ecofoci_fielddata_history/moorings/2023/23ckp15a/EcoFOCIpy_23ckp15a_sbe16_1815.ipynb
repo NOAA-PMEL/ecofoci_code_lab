{
 "cells": [
  {
   "cell_type": "markdown",
   "id": "educational-chosen",
   "metadata": {
    "tags": []
   },
   "source": [
    "# Using EcoFOCIpy to process raw field data\n",
    "\n",
    "## Mooring / Timeseries Data\n",
    "\n",
    "Basic workflow for each instrument grouping is *(initial archive level)*:\n",
    "- Parse data from raw files into pandas dataframe\n",
    "- output initial files (pandas->csv) **ERDDAP NRT** when no meta data is added\n",
    "\n",
    "Convert to xarray dataframe for all following work *(working or final data level):\n",
    "- ingest metadata from deployment/recovery records or cast logs\n",
    "- process data beyond simple file translate\n",
    "- apply any calibrations or corrections\n",
    "    + field corrections\n",
    "    + offsets\n",
    "    + instrument compensations\n",
    "    + some QC were available... this would be old-school simple bounds mostly\n",
    "- adjust time bounds and sample frequency (xarray dataframe)\n",
    "- save as CF netcdf via xarray: so many of the steps above are optional\n",
    "    + **ERDDAP NRT or preliminary** if no corrections, offsets or time bounds are applied but none/some meta data is, this is an internally hosted dataset for primary analysis, quick review, and historical purposes.\n",
    "    + **Working and awaiting QC** has no ERDDAP representation and is a holding spot, often has deck data removed.  It is usually a combination of editable csv files and archivable netcdf files\n",
    "    + **ERDDAP Final** fully calibrated, qc'd and populated with meta information.  Used for distribution and science analysis\n",
    "\n",
    "Plot for preview and QC\n",
    "- preview images (indiv and/or collectively)\n",
    "- manual qc process\n",
    "- automated qc process ML/AI"
   ]
  },
  {
   "cell_type": "markdown",
   "id": "allied-miniature",
   "metadata": {},
   "source": [
    "## Example below is for SBE-16 but the workflow is similar for all instruments.\n",
    "\n",
    "Future processing of this instrument can be a simplified (no markdown) process which can be archived so that the procedure can be traced or updated"
   ]
  },
  {
   "cell_type": "code",
   "execution_count": 35,
   "id": "studied-pollution",
   "metadata": {
    "tags": []
   },
   "outputs": [],
   "source": [
    "%matplotlib inline\n",
    "import matplotlib.pyplot as plt\n",
    "import yaml\n",
    "\n",
    "import EcoFOCIpy.io.sbe_parser as sbe_parser #<- instrument specific\n",
    "import EcoFOCIpy.io.ncCFsave as ncCFsave\n",
    "import EcoFOCIpy.metaconfig.load_config as load_config"
   ]
  },
  {
   "cell_type": "markdown",
   "id": "public-millennium",
   "metadata": {},
   "source": [
    "The sample_data_dir should be included in the github package but may not be included in the pip install of the package\n",
    "\n",
    "## Simple Processing - first step"
   ]
  },
  {
   "cell_type": "code",
   "execution_count": 36,
   "id": "offensive-level",
   "metadata": {
    "tags": []
   },
   "outputs": [],
   "source": [
    "sample_data_dir = '/Users/bell/Programs/EcoFOCIpy/'\n",
    "user_data_dir = '/Users/bell/ecoraid/2023/Moorings/23ckp15a/'"
   ]
  },
  {
   "cell_type": "code",
   "execution_count": 37,
   "id": "third-yellow",
   "metadata": {
    "tags": []
   },
   "outputs": [],
   "source": [
    "###############################################################\n",
    "# edit to point to {instrument sepcific} raw datafile \n",
    "datafile = user_data_dir+'rawconverted/sbe16/23ckp15a_sbe16_1815_43m.cnv'\n",
    "instrument = 'SBE-16 1815'\n",
    "mooring_meta_file = user_data_dir+'logs/23CKP-15A.yaml'\n",
    "inst_meta_file = sample_data_dir+'staticdata/instr_metaconfig/sbe16_cf.yaml'\n",
    "institution_meta_file = sample_data_dir+'staticdata/institutional_meta_example.yaml' #include uaf?\n",
    "inst_shortname = 's16'\n",
    "###############################################################\n",
    "\n",
    "#init and load data\n",
    "sbe16_wop = sbe_parser.sbe16()\n",
    "(sbe16_wop_data,sbe16_wop_header) = sbe16_wop.parse(filename=datafile,\n",
    "                                                    return_header=True,\n",
    "                                                    datetime_index=True) "
   ]
  },
  {
   "cell_type": "code",
   "execution_count": 38,
   "id": "d90660ab-bfc4-428e-b86e-eb7e835eedf6",
   "metadata": {
    "tags": []
   },
   "outputs": [
    {
     "data": {
      "text/plain": [
       "['* Sea-Bird SBE16 Data File:\\n',\n",
       " '* FileName = C:\\\\Users\\\\foci\\\\Documents\\\\2024\\\\sikuliaq_extra_downloads\\\\23ckp15a_sbe16_1815_43m.hex\\n',\n",
       " '* Software Version 1.59\\n',\n",
       " '* Temperature SN = 1815\\n',\n",
       " '* Conductivity SN = 1815\\n',\n",
       " '* System UpLoad Time = Nov 21 2024 19:54:07\\n',\n",
       " '** realtime: 195235\\n',\n",
       " '** instime: 194022\\n',\n",
       " '* ds\\n',\n",
       " '* SEACAT V4.1b SERIAL NO. 1815   11/22/24  19:40:48.897\\n',\n",
       " '* clk = 32767.625,  iop = 118,  vmain = 11.3,  vlith = 4.4\\n',\n",
       " '* at 09/15/23  00:00:00.000  sample interval = 3600 sec\\n',\n",
       " '* samples = 10412,  free = 53801,  lwait = 0 msec\\n',\n",
       " '* SW1 = 49H,  battery cutoff = 7.3 volts\\n',\n",
       " '* no. of volts sampled = 0\\n',\n",
       " '* mode = normal\\n',\n",
       " '* logdata = NO\\n',\n",
       " '\\n',\n",
       " '* S>\\n',\n",
       " '* hdr 0  09/15  00:00:01   samples 0 to 999  interval = 3600 sec\\n',\n",
       " '* hdr 1  10/26  16:01:11   samples 1000 to 1999  interval = 3600 sec\\n',\n",
       " '* hdr 2  12/07  08:01:46   samples 2000 to 2999  interval = 3600 sec\\n',\n",
       " '* hdr 3  01/18  00:02:19   samples 3000 to 3999  interval = 3600 sec\\n',\n",
       " '* hdr 4  02/28  16:02:19   samples 4000 to 4999  interval = 3600 sec\\n',\n",
       " '* hdr 5  04/11  08:02:19   samples 5000 to 5999  interval = 3600 sec\\n',\n",
       " '* hdr 6  05/23  00:02:19   samples 6000 to 6999  interval = 3600 sec\\n',\n",
       " '* hdr 7  07/03  16:02:19   samples 7000 to 7999  interval = 3600 sec\\n',\n",
       " '* hdr 8  08/14  08:02:12   samples 8000 to 8999  interval = 3600 sec\\n',\n",
       " '* hdr 9  09/24  23:55:07   samples 9000 to 9999  interval = 3600 sec\\n',\n",
       " '* hdr 10  11/05  15:53:40   samples 10000 to 10411  interval = 3600 sec\\n',\n",
       " '\\n',\n",
       " '* S>\\n',\n",
       " '# nquan = 5\\n',\n",
       " '# nvalues = 10413                                 \\n',\n",
       " '# units = specified\\n',\n",
       " '# name 0 = timeS: Time, Elapsed [seconds]\\n',\n",
       " '# name 1 = c0S/m: Conductivity [S/m]\\n',\n",
       " '# name 2 = sal00: Salinity, Practical [PSU], moored pressure = 0.00000e+000 [dbar]\\n',\n",
       " '# name 3 = t090C: Temperature [ITS-90, deg C]\\n',\n",
       " '# name 4 = flag:  0.000e+00\\n',\n",
       " '# span 0 =      0.000, 37483200.0                 \\n',\n",
       " '# span 1 =  -0.075164,   2.954360                 \\n',\n",
       " '# span 2 =     0.0000,    32.8209                 \\n',\n",
       " '# span 3 =    -5.3490,    19.9773                 \\n',\n",
       " '# span 4 = 0.0000e+00, 0.0000e+00                 \\n',\n",
       " '# interval = seconds: 3600\\n',\n",
       " \"# start_time = Sep 15 2023 00:00:01 [Instrument's time stamp, header]\\n\",\n",
       " '# bad_flag = -9.990e-29\\n',\n",
       " '# <Sensors count=\"2\" >\\n',\n",
       " '#   <sensor Channel=\"1\" >\\n',\n",
       " '#     <!-- Frequency 0, Temperature -->\\n',\n",
       " '#     <TemperatureSensor SensorID=\"55\" >\\n',\n",
       " '#       <SerialNumber>1815</SerialNumber>\\n',\n",
       " '#       <CalibrationDate>07-Apr-23</CalibrationDate>\\n',\n",
       " '#       <UseG_J>1</UseG_J>\\n',\n",
       " '#       <A>0.00000000e+000</A>\\n',\n",
       " '#       <B>0.00000000e+000</B>\\n',\n",
       " '#       <C>0.00000000e+000</C>\\n',\n",
       " '#       <D>0.00000000e+000</D>\\n',\n",
       " '#       <F0_Old>0.000</F0_Old>\\n',\n",
       " '#       <G>4.17253991e-003</G>\\n',\n",
       " '#       <H>5.88757041e-004</H>\\n',\n",
       " '#       <I>2.40688583e-006</I>\\n',\n",
       " '#       <J>-1.91028116e-006</J>\\n',\n",
       " '#       <F0>1000.000</F0>\\n',\n",
       " '#       <Slope>1.00000000</Slope>\\n',\n",
       " '#       <Offset>0.0000</Offset>\\n',\n",
       " '#     </TemperatureSensor>\\n',\n",
       " '#   </sensor>\\n',\n",
       " '#   <sensor Channel=\"2\" >\\n',\n",
       " '#     <!-- Frequency 1, Conductivity -->\\n',\n",
       " '#     <ConductivitySensor SensorID=\"3\" >\\n',\n",
       " '#       <SerialNumber>1815</SerialNumber>\\n',\n",
       " '#       <CalibrationDate>07-Apr-23</CalibrationDate>\\n',\n",
       " '#       <UseG_J>1</UseG_J>\\n',\n",
       " '#       <!-- Cell const and series R are applicable only for wide range sensors. -->\\n',\n",
       " '#       <SeriesR>0.0000</SeriesR>\\n',\n",
       " '#       <CellConst>2000.0000</CellConst>\\n',\n",
       " '#       <ConductivityType>0</ConductivityType>\\n',\n",
       " '#       <Coefficients equation=\"0\" >\\n',\n",
       " '#         <A>0.00000000e+000</A>\\n',\n",
       " '#         <B>0.00000000e+000</B>\\n',\n",
       " '#         <C>0.00000000e+000</C>\\n',\n",
       " '#         <D>0.00000000e+000</D>\\n',\n",
       " '#         <M>0.0</M>\\n',\n",
       " '#         <CPcor>-9.57000000e-008</CPcor>\\n',\n",
       " '#       </Coefficients>\\n',\n",
       " '#       <Coefficients equation=\"1\" >\\n',\n",
       " '#         <G>-4.05062883e+000</G>\\n',\n",
       " '#         <H>4.84267832e-001</H>\\n',\n",
       " '#         <I>7.35408211e-004</I>\\n',\n",
       " '#         <J>1.97847170e-007</J>\\n',\n",
       " '#         <CPcor>-9.57000000e-008</CPcor>\\n',\n",
       " '#         <CTcor>3.2500e-006</CTcor>\\n',\n",
       " '#         <!-- WBOTC not applicable unless ConductivityType = 1. -->\\n',\n",
       " '#         <WBOTC>0.00000000e+000</WBOTC>\\n',\n",
       " '#       </Coefficients>\\n',\n",
       " '#       <Slope>1.00000000</Slope>\\n',\n",
       " '#       <Offset>0.00000</Offset>\\n',\n",
       " '#     </ConductivitySensor>\\n',\n",
       " '#   </sensor>\\n',\n",
       " '# </Sensors>\\n',\n",
       " '# datcnv_date = Dec 11 2024 13:51:02, 7.26.7.129 [datcnv_vars = 4]\\n',\n",
       " '# datcnv_in = \\\\\\\\pesto\\\\OERD\\\\Strausz\\\\-VAULT-\\\\my_documents\\\\temp\\\\2024\\\\sikuliaq_downloads\\\\sbe16_processing\\\\23ckp15a_sbe16_1815_43m.hex \\\\\\\\pesto\\\\OERD\\\\Strausz\\\\-VAULT-\\\\my_documents\\\\temp\\\\2024\\\\sikuliaq_downloads\\\\sbe16_processing\\\\SBE16_1815.xmlcon\\n',\n",
       " '# datcnv_skipover = 0\\n',\n",
       " '# file_type = ascii\\n',\n",
       " '*END*\\n']"
      ]
     },
     "execution_count": 38,
     "metadata": {},
     "output_type": "execute_result"
    }
   ],
   "source": [
    "sbe16_wop_header"
   ]
  },
  {
   "cell_type": "code",
   "execution_count": 39,
   "id": "e3614922",
   "metadata": {
    "tags": []
   },
   "outputs": [
    {
     "data": {
      "text/plain": [
       "{0: 'timeS', 1: 'c0S/m', 2: 'sal00', 3: 't090C', 4: 'flag'}"
      ]
     },
     "execution_count": 39,
     "metadata": {},
     "output_type": "execute_result"
    }
   ],
   "source": [
    "#provide original variable names from SBE file\n",
    "sbe_parser.seabird_header(filename=datafile)[2]"
   ]
  },
  {
   "cell_type": "code",
   "execution_count": 40,
   "id": "alive-bruce",
   "metadata": {
    "tags": []
   },
   "outputs": [],
   "source": [
    "# import datetime\n",
    "# sbe16_wop_data.index = [sbe16_wop_data.index[0] + datetime.timedelta(seconds=x) for x in ((sbe16_wop_data.timeS /15) * 3600)]"
   ]
  },
  {
   "cell_type": "code",
   "execution_count": 41,
   "id": "bacdf251-e073-4347-a5ec-b222b70155eb",
   "metadata": {
    "tags": []
   },
   "outputs": [
    {
     "data": {
      "text/html": [
       "<div>\n",
       "<style scoped>\n",
       "    .dataframe tbody tr th:only-of-type {\n",
       "        vertical-align: middle;\n",
       "    }\n",
       "\n",
       "    .dataframe tbody tr th {\n",
       "        vertical-align: top;\n",
       "    }\n",
       "\n",
       "    .dataframe thead th {\n",
       "        text-align: right;\n",
       "    }\n",
       "</style>\n",
       "<table border=\"1\" class=\"dataframe\">\n",
       "  <thead>\n",
       "    <tr style=\"text-align: right;\">\n",
       "      <th></th>\n",
       "      <th>timeS</th>\n",
       "      <th>c0S/m</th>\n",
       "      <th>sal00</th>\n",
       "      <th>t090C</th>\n",
       "      <th>flag</th>\n",
       "    </tr>\n",
       "    <tr>\n",
       "      <th>date_time</th>\n",
       "      <th></th>\n",
       "      <th></th>\n",
       "      <th></th>\n",
       "      <th></th>\n",
       "      <th></th>\n",
       "    </tr>\n",
       "  </thead>\n",
       "  <tbody>\n",
       "    <tr>\n",
       "      <th>2023-09-15 00:00:01</th>\n",
       "      <td>0.0</td>\n",
       "      <td>-0.000152</td>\n",
       "      <td>0.0000</td>\n",
       "      <td>8.2326</td>\n",
       "      <td>0.0</td>\n",
       "    </tr>\n",
       "    <tr>\n",
       "      <th>2023-09-15 01:00:01</th>\n",
       "      <td>3600.0</td>\n",
       "      <td>-0.000152</td>\n",
       "      <td>0.0000</td>\n",
       "      <td>7.7067</td>\n",
       "      <td>0.0</td>\n",
       "    </tr>\n",
       "    <tr>\n",
       "      <th>2023-09-15 02:00:01</th>\n",
       "      <td>7200.0</td>\n",
       "      <td>-0.000152</td>\n",
       "      <td>0.0000</td>\n",
       "      <td>8.1082</td>\n",
       "      <td>0.0</td>\n",
       "    </tr>\n",
       "    <tr>\n",
       "      <th>2023-09-15 03:00:01</th>\n",
       "      <td>10800.0</td>\n",
       "      <td>-0.000152</td>\n",
       "      <td>0.0000</td>\n",
       "      <td>8.4175</td>\n",
       "      <td>0.0</td>\n",
       "    </tr>\n",
       "    <tr>\n",
       "      <th>2023-09-15 04:00:01</th>\n",
       "      <td>14400.0</td>\n",
       "      <td>-0.000152</td>\n",
       "      <td>0.0000</td>\n",
       "      <td>7.3019</td>\n",
       "      <td>0.0</td>\n",
       "    </tr>\n",
       "    <tr>\n",
       "      <th>...</th>\n",
       "      <td>...</td>\n",
       "      <td>...</td>\n",
       "      <td>...</td>\n",
       "      <td>...</td>\n",
       "      <td>...</td>\n",
       "    </tr>\n",
       "    <tr>\n",
       "      <th>2024-11-21 16:00:01</th>\n",
       "      <td>37468800.0</td>\n",
       "      <td>0.042641</td>\n",
       "      <td>0.2381</td>\n",
       "      <td>18.2069</td>\n",
       "      <td>0.0</td>\n",
       "    </tr>\n",
       "    <tr>\n",
       "      <th>2024-11-21 17:00:01</th>\n",
       "      <td>37472400.0</td>\n",
       "      <td>0.042846</td>\n",
       "      <td>0.2390</td>\n",
       "      <td>18.2421</td>\n",
       "      <td>0.0</td>\n",
       "    </tr>\n",
       "    <tr>\n",
       "      <th>2024-11-21 18:00:01</th>\n",
       "      <td>37476000.0</td>\n",
       "      <td>0.042949</td>\n",
       "      <td>0.2395</td>\n",
       "      <td>18.2572</td>\n",
       "      <td>0.0</td>\n",
       "    </tr>\n",
       "    <tr>\n",
       "      <th>2024-11-21 19:00:01</th>\n",
       "      <td>37479600.0</td>\n",
       "      <td>0.042949</td>\n",
       "      <td>0.2395</td>\n",
       "      <td>18.2572</td>\n",
       "      <td>0.0</td>\n",
       "    </tr>\n",
       "    <tr>\n",
       "      <th>2024-11-21 20:00:01</th>\n",
       "      <td>37483200.0</td>\n",
       "      <td>-0.075164</td>\n",
       "      <td>0.0000</td>\n",
       "      <td>-5.3490</td>\n",
       "      <td>0.0</td>\n",
       "    </tr>\n",
       "  </tbody>\n",
       "</table>\n",
       "<p>10413 rows × 5 columns</p>\n",
       "</div>"
      ],
      "text/plain": [
       "                          timeS     c0S/m   sal00    t090C  flag\n",
       "date_time                                                       \n",
       "2023-09-15 00:00:01         0.0 -0.000152  0.0000   8.2326   0.0\n",
       "2023-09-15 01:00:01      3600.0 -0.000152  0.0000   7.7067   0.0\n",
       "2023-09-15 02:00:01      7200.0 -0.000152  0.0000   8.1082   0.0\n",
       "2023-09-15 03:00:01     10800.0 -0.000152  0.0000   8.4175   0.0\n",
       "2023-09-15 04:00:01     14400.0 -0.000152  0.0000   7.3019   0.0\n",
       "...                         ...       ...     ...      ...   ...\n",
       "2024-11-21 16:00:01  37468800.0  0.042641  0.2381  18.2069   0.0\n",
       "2024-11-21 17:00:01  37472400.0  0.042846  0.2390  18.2421   0.0\n",
       "2024-11-21 18:00:01  37476000.0  0.042949  0.2395  18.2572   0.0\n",
       "2024-11-21 19:00:01  37479600.0  0.042949  0.2395  18.2572   0.0\n",
       "2024-11-21 20:00:01  37483200.0 -0.075164  0.0000  -5.3490   0.0\n",
       "\n",
       "[10413 rows x 5 columns]"
      ]
     },
     "execution_count": 41,
     "metadata": {},
     "output_type": "execute_result"
    }
   ],
   "source": [
    "sbe16_wop_data"
   ]
  },
  {
   "cell_type": "markdown",
   "id": "ready-audit",
   "metadata": {},
   "source": [
    "## Time properties\n",
    "\n",
    "Its unusual that our clocks drift to the point of concern for our instruments (if an instrument is off by 3 minutes but only sampling hourly... regridding that data will result in minimal changes).  However, there are a few time oriented modifications that may need to be made.\n",
    "\n",
    "The can be classified into two categories:\n",
    "+ interpolate: these change the parameter values in accordance with the time edits\n",
    "    - linear interpolation is most common\n",
    "    - averaging of data and rebinning/resampling is also common (this needs to have the \"time lable\" thought out...)\n",
    "    - decimating is less common but does not impact the max/min values\n",
    "+ shift: these do not alter the measurements, just the timestamps they are associated with\n",
    "    - the round function will work well to correct small time errors/drifts **common**\n",
    "    - dropping extra precision on time (if you want hourly measurements, just remove all minute/second info... could cause large errors if rounding would have been more appropriate)"
   ]
  },
  {
   "cell_type": "markdown",
   "id": "supposed-bankruptcy",
   "metadata": {},
   "source": [
    "It is very easy to use pandas interplation and resample methods on the dataframe as is.  A few steps are suggested below:\n",
    "- parse out on-deck (predeployment and recovery) data.  This can be done via pandas or xarray but requires the mooring metadata to have been read in.  See future steps below.\n",
    "- even if the sample frequency is set to the desired measurement frequency, it would be good to perform a quick regridding as an assurance task\n",
    "- FOCI data is usualy 1min, 10min, 1hr - and the 1min data is a fairly new (sbe56) data stream\n",
    "    + subsampling high frequency data to lower frequency is easy via df.resample().mean() but it will label the new datapoint per default instructions.  The default is to label it with the left boundary of the bin.\n",
    "    + you may want to take the median instead of the mean for noisy data (fluorometer) , occasionally decimating may be more appropriate if you want to downsize the dataset size but not smear features\n",
    "    + shifting times can be a bit more involved.  There are two primary ways to do it, interpolate or shift (round)\n",
    "        - to interpolate, you will need to upsample your data to a higher frequency which will generate missing values, then interpolate (with a maximum gap size), then decimate.  This always has the artifact of smoothing data and decreasing the min/max values. **common on microcats and other 10min datasets**\n",
    "        - shifting usually just involves droping extra time \"digits\", if you want hourly, you could just drop the trailing minutes assuming you are just off the hour (8:05 -> 8:00) or you can round to the nearest time unit but niether of these changes the data value, just the time associated with it. **common on seacats and other hourly datasets**\n",
    "        - you may also be able to *shift* using the pandas datetime round function and specifing the desired frequency.\n",
    "    + I suggest if no change is needed... df.index.round(freq=*'your native sample freq'*)\n",
    "    "
   ]
  },
  {
   "cell_type": "code",
   "execution_count": 42,
   "id": "b55bbc1f",
   "metadata": {
    "tags": []
   },
   "outputs": [],
   "source": [
    "# sbe16_wop_data.index = sbe16_wop_data.index.round(freq='30T')\n",
    "sbe16_wop_data.index = sbe16_wop_data.index.rename('date_time')"
   ]
  },
  {
   "cell_type": "code",
   "execution_count": 43,
   "id": "undefined-membrane",
   "metadata": {
    "tags": []
   },
   "outputs": [
    {
     "data": {
      "text/plain": [
       "<Axes: xlabel='date_time'>"
      ]
     },
     "execution_count": 43,
     "metadata": {},
     "output_type": "execute_result"
    },
    {
     "data": {
      "image/png": "[encoded data removed]",
      "text/plain": [
       "<Figure size 640x480 with 1 Axes>"
      ]
     },
     "metadata": {},
     "output_type": "display_data"
    }
   ],
   "source": [
    "sbe16_wop_data.plot()"
   ]
  },
  {
   "cell_type": "markdown",
   "id": "acknowledged-active",
   "metadata": {},
   "source": [
    "## Add Deployment meta information\n",
    "\n",
    "Two methods are available (if comming from python2 world - ordereddict was important... in py38 a dictionary is inherently ordered)"
   ]
  },
  {
   "cell_type": "code",
   "execution_count": 44,
   "id": "freelance-fairy",
   "metadata": {
    "tags": []
   },
   "outputs": [],
   "source": [
    "#just a dictionary of dictionaries - simple\n",
    "with open(mooring_meta_file) as file:\n",
    "    mooring_config = yaml.full_load(file)"
   ]
  },
  {
   "cell_type": "code",
   "execution_count": 45,
   "id": "israeli-begin",
   "metadata": {
    "tags": []
   },
   "outputs": [
    {
     "data": {
      "text/plain": [
       "{'InstType': 'SBE-16',\n",
       " 'SerialNo': '1815',\n",
       " 'DesignedDepth': 43.0,\n",
       " 'ActualDepth': 41.0,\n",
       " 'PreDeploymentNotes': '',\n",
       " 'PostDeploymentNotes': '',\n",
       " 'Deployed': 'y',\n",
       " 'Recovered': 'y'}"
      ]
     },
     "execution_count": 45,
     "metadata": {},
     "output_type": "execute_result"
    }
   ],
   "source": [
    "mooring_config['Instrumentation'][instrument]"
   ]
  },
  {
   "cell_type": "markdown",
   "id": "mysterious-cornwall",
   "metadata": {},
   "source": [
    "## Add Instrument meta information\n",
    "\n",
    "Time, depth, lat, lon should be added regardless (always our coordinates) but for a mooring site its going to be a (1,1,1,t) dataset\n",
    "The variables of interest should be read from the data file and matched to a key for naming.  That key is in the inst_config file seen below and should represent common conversion names in the raw data"
   ]
  },
  {
   "cell_type": "code",
   "execution_count": 46,
   "id": "250a95cd-efa6-4eb0-ae4d-3eea81de85d4",
   "metadata": {
    "tags": []
   },
   "outputs": [],
   "source": [
    "#just a dictionary of dictionaries - simple\n",
    "with open(institution_meta_file) as file:\n",
    "    institution_config = yaml.full_load(file)"
   ]
  },
  {
   "cell_type": "code",
   "execution_count": 47,
   "id": "checked-raise",
   "metadata": {
    "tags": []
   },
   "outputs": [],
   "source": [
    "with open(inst_meta_file) as file:\n",
    "    inst_config = yaml.full_load(file)\n"
   ]
  },
  {
   "cell_type": "code",
   "execution_count": 48,
   "id": "e69d943d",
   "metadata": {
    "tags": []
   },
   "outputs": [
    {
     "data": {
      "text/html": [
       "<div>\n",
       "<style scoped>\n",
       "    .dataframe tbody tr th:only-of-type {\n",
       "        vertical-align: middle;\n",
       "    }\n",
       "\n",
       "    .dataframe tbody tr th {\n",
       "        vertical-align: top;\n",
       "    }\n",
       "\n",
       "    .dataframe thead th {\n",
       "        text-align: right;\n",
       "    }\n",
       "</style>\n",
       "<table border=\"1\" class=\"dataframe\">\n",
       "  <thead>\n",
       "    <tr style=\"text-align: right;\">\n",
       "      <th></th>\n",
       "      <th>timeS</th>\n",
       "      <th>c0S/m</th>\n",
       "      <th>salinity</th>\n",
       "      <th>temperature</th>\n",
       "      <th>flag</th>\n",
       "    </tr>\n",
       "    <tr>\n",
       "      <th>date_time</th>\n",
       "      <th></th>\n",
       "      <th></th>\n",
       "      <th></th>\n",
       "      <th></th>\n",
       "      <th></th>\n",
       "    </tr>\n",
       "  </thead>\n",
       "  <tbody>\n",
       "    <tr>\n",
       "      <th>2024-02-04 05:00:01</th>\n",
       "      <td>12286800.0</td>\n",
       "      <td>2.563971</td>\n",
       "      <td>32.3724</td>\n",
       "      <td>-1.7737</td>\n",
       "      <td>0.0</td>\n",
       "    </tr>\n",
       "  </tbody>\n",
       "</table>\n",
       "</div>"
      ],
      "text/plain": [
       "                          timeS     c0S/m  salinity  temperature  flag\n",
       "date_time                                                             \n",
       "2024-02-04 05:00:01  12286800.0  2.563971   32.3724      -1.7737   0.0"
      ]
     },
     "execution_count": 48,
     "metadata": {},
     "output_type": "execute_result"
    }
   ],
   "source": [
    "#sbe16 data uses header info to name variables... but we want standard names from the dictionary I've created, so we need to rename column variables appropriately\n",
    "#rename values to appropriate names, if a value isn't in the .yaml file, you can add it\n",
    "sbe16_wop_data = sbe16_wop_data.rename(columns={'tv290C':'temperature',\n",
    "                        'tv290C': 'temperature', #watch for duplicate temperature options\n",
    "                        't090C': 'temperature', #watch for duplicate temperature options\n",
    "                        'sal00':'salinity',\n",
    "                        'sbeox0Mm/Kg':'oxy_conc',\n",
    "                        'sbeox0ML/L':'oxy_concM',\n",
    "                        'sigma-È00':'sigma_theta',\n",
    "                        'sigma-t00':'sigma_t',\n",
    "                        'CStarAt0':'Attenuation',\n",
    "                        'CStarTr0':'Transmittance',\n",
    "                        'flECO-AFL':'chlor_fluorescence',\n",
    "                        'wetStar': 'chlor_fluorescence', #pumped chlor\n",
    "                        'empty':'empty', #this will be ignored\n",
    "                        'upoly0': 'oxy_conc',\n",
    "                        'upoly1': 'oxy_temperature',\n",
    "                        'flag':'flag'})\n",
    "sbe16_wop_data.sample()"
   ]
  },
  {
   "cell_type": "code",
   "execution_count": 49,
   "id": "varied-popularity",
   "metadata": {
    "tags": []
   },
   "outputs": [
    {
     "data": {
      "text/plain": [
       "<EcoFOCIpy.io.ncCFsave.EcoFOCI_CFnc at 0x32b4511f0>"
      ]
     },
     "execution_count": 49,
     "metadata": {},
     "output_type": "execute_result"
    }
   ],
   "source": [
    "# Add meta data and prelim processing based on meta data\n",
    "# Convert to xarray and add meta information - save as CF netcdf file\n",
    "# pass -> data, instmeta, depmeta\n",
    "sbe16_wop_nc = ncCFsave.EcoFOCI_CFnc(df=sbe16_wop_data, \n",
    "                                instrument_yaml=inst_config, \n",
    "                                operation_yaml=mooring_config,\n",
    "                                operation_type='mooring', \n",
    "                                instrument_id=instrument, \n",
    "                                inst_shortname=inst_shortname)\n",
    "sbe16_wop_nc"
   ]
  },
  {
   "cell_type": "markdown",
   "id": "asian-chambers",
   "metadata": {},
   "source": [
    "At this point, you could save your file with the `.xarray2netcdf_save()` method and have a functioning dataset.... but it would be very simple with no additional qc, meta-data, or tuned parameters for optimizing software like ferret or erddap."
   ]
  },
  {
   "cell_type": "code",
   "execution_count": 50,
   "id": "practical-pennsylvania",
   "metadata": {
    "tags": []
   },
   "outputs": [],
   "source": [
    "# expand the dimensions and coordinate variables\n",
    "# renames them appropriatley and prepares them for meta-filled values\n",
    "sbe16_wop_nc.expand_dimensions()"
   ]
  },
  {
   "cell_type": "code",
   "execution_count": 51,
   "id": "floral-operations",
   "metadata": {
    "tags": []
   },
   "outputs": [],
   "source": [
    "#build list from columsn in data - if a variable isn't in the yaml file, it will be dropped from the final data fields\n",
    "sbe16_wop_nc.variable_meta_data(variable_keys=list(sbe16_wop_data.columns.values),drop_missing=True)\n",
    "sbe16_wop_nc.temporal_geospatioal_meta_data(depth='actual')\n",
    "#adding dimension meta needs to come after updating the dimension values... BUG?\n",
    "sbe16_wop_nc.dimension_meta_data(variable_keys=['depth','latitude','longitude'])"
   ]
  },
  {
   "cell_type": "markdown",
   "id": "seventh-product",
   "metadata": {},
   "source": [
    "The following steps can happen in just about any order and are all meta-data driven.  Therefore, they are not required to have a functioning dataset, but they are required to have a well described dataset"
   ]
  },
  {
   "cell_type": "code",
   "execution_count": 52,
   "id": "auburn-diversity",
   "metadata": {
    "tags": []
   },
   "outputs": [],
   "source": [
    "#add global attributes\n",
    "sbe16_wop_nc.deployment_meta_add()\n",
    "sbe16_wop_nc.get_xdf()\n",
    "\n",
    "#add instituitonal global attributes\n",
    "sbe16_wop_nc.institution_meta_add(institution_yaml=institution_config)\n",
    "\n",
    "#add instrument global attributes\n",
    "sbe16_wop_nc.instrument_meta_data()\n",
    "\n",
    "#add creation date/time - provenance data\n",
    "sbe16_wop_nc.provinance_meta_add()\n",
    "\n",
    "#provide intial qc status field\n",
    "sbe16_wop_nc.qc_status(qc_status='unknown')\n"
   ]
  },
  {
   "cell_type": "markdown",
   "id": "sustained-hughes",
   "metadata": {},
   "source": [
    "## Save CF Netcdf files\n",
    "\n",
    "Currently stick to netcdf3 classic... but migrating to netcdf4 (default) may be no problems for most modern purposes.  Its easy enough to pass the `format` kwargs through to the netcdf api of xarray."
   ]
  },
  {
   "cell_type": "code",
   "execution_count": 53,
   "id": "modular-volunteer",
   "metadata": {
    "tags": []
   },
   "outputs": [
    {
     "name": "stderr",
     "output_type": "stream",
     "text": [
      "/Users/bell/src/ecofocipy/src/EcoFOCIpy/io/ncCFsave.py:320: UserWarning: Times can't be serialized faithfully to int64 with requested units 'days since 1900-01-01'. Resolution of 'seconds' needed. Serializing times to floating point instead. Set encoding['dtype'] to integer dtype to serialize to int64. Set encoding['dtype'] to floating point dtype to silence this warning.\n",
      "  xdf.to_netcdf(filename,format=kwargs['format'],encoding={'time':{'units':'days since 1900-01-01'}})\n"
     ]
    }
   ],
   "source": [
    "# combine trim (not mandatory) and filename together (saves to test.nc without name)\n",
    "\n",
    "depth = str(int(mooring_config['Instrumentation'][instrument]['ActualDepth'])).zfill(4)\n",
    "# mooring_yaml['Instrumentation'][self.instrument_id]['DesignedDepth'])).zfill(4) #<-- alternative\n",
    "filename = \"\".join(mooring_config['MooringID'].split('-')).lower()+'_'+inst_shortname+'_'+depth+'m.nc'\n",
    "sbe16_wop_nc.xarray2netcdf_save(xdf = sbe16_wop_nc.autotrim_time(),\n",
    "                           filename=filename,format=\"NETCDF3_CLASSIC\")\n",
    "\n",
    "# don't trim the data and pass your own filename\n",
    "# sbe16_wop_nc.xarray2netcdf_save(xdf = sbe16_wop_nc.get_xdf(),\n",
    "#    filename=filename,format=\"NETCDF4_CLASSIC\")"
   ]
  },
  {
   "cell_type": "code",
   "execution_count": 54,
   "id": "unlike-breathing",
   "metadata": {
    "tags": []
   },
   "outputs": [
    {
     "data": {
      "text/html": [
       "<div><svg style=\"position: absolute; width: 0; height: 0; overflow: hidden\">\n",
       "<defs>\n",
       "<symbol id=\"icon-database\" viewBox=\"0 0 32 32\">\n",
       "<path d=\"M16 0c-8.837 0-16 2.239-16 5v4c0 2.761 7.163 5 16 5s16-2.239 16-5v-4c0-2.761-7.163-5-16-5z\"></path>\n",
       "<path d=\"M16 17c-8.837 0-16-2.239-16-5v6c0 2.761 7.163 5 16 5s16-2.239 16-5v-6c0 2.761-7.163 5-16 5z\"></path>\n",
       "<path d=\"M16 26c-8.837 0-16-2.239-16-5v6c0 2.761 7.163 5 16 5s16-2.239 16-5v-6c0 2.761-7.163 5-16 5z\"></path>\n",
       "</symbol>\n",
       "<symbol id=\"icon-file-text2\" viewBox=\"0 0 32 32\">\n",
       "<path d=\"M28.681 7.159c-0.694-0.947-1.662-2.053-2.724-3.116s-2.169-2.030-3.116-2.724c-1.612-1.182-2.393-1.319-2.841-1.319h-15.5c-1.378 0-2.5 1.121-2.5 2.5v27c0 1.378 1.122 2.5 2.5 2.5h23c1.378 0 2.5-1.122 2.5-2.5v-19.5c0-0.448-0.137-1.23-1.319-2.841zM24.543 5.457c0.959 0.959 1.712 1.825 2.268 2.543h-4.811v-4.811c0.718 0.556 1.584 1.309 2.543 2.268zM28 29.5c0 0.271-0.229 0.5-0.5 0.5h-23c-0.271 0-0.5-0.229-0.5-0.5v-27c0-0.271 0.229-0.5 0.5-0.5 0 0 15.499-0 15.5 0v7c0 0.552 0.448 1 1 1h7v19.5z\"></path>\n",
       "<path d=\"M23 26h-14c-0.552 0-1-0.448-1-1s0.448-1 1-1h14c0.552 0 1 0.448 1 1s-0.448 1-1 1z\"></path>\n",
       "<path d=\"M23 22h-14c-0.552 0-1-0.448-1-1s0.448-1 1-1h14c0.552 0 1 0.448 1 1s-0.448 1-1 1z\"></path>\n",
       "<path d=\"M23 18h-14c-0.552 0-1-0.448-1-1s0.448-1 1-1h14c0.552 0 1 0.448 1 1s-0.448 1-1 1z\"></path>\n",
       "</symbol>\n",
       "</defs>\n",
       "</svg>\n",
       "<style>/* CSS stylesheet for displaying xarray objects in jupyterlab.\n",
       " *\n",
       " */\n",
       "\n",
       ":root {\n",
       "  --xr-font-color0: var(--jp-content-font-color0, rgba(0, 0, 0, 1));\n",
       "  --xr-font-color2: var(--jp-content-font-color2, rgba(0, 0, 0, 0.54));\n",
       "  --xr-font-color3: var(--jp-content-font-color3, rgba(0, 0, 0, 0.38));\n",
       "  --xr-border-color: var(--jp-border-color2, #e0e0e0);\n",
       "  --xr-disabled-color: var(--jp-layout-color3, #bdbdbd);\n",
       "  --xr-background-color: var(--jp-layout-color0, white);\n",
       "  --xr-background-color-row-even: var(--jp-layout-color1, white);\n",
       "  --xr-background-color-row-odd: var(--jp-layout-color2, #eeeeee);\n",
       "}\n",
       "\n",
       "html[theme=dark],\n",
       "body[data-theme=dark],\n",
       "body.vscode-dark {\n",
       "  --xr-font-color0: rgba(255, 255, 255, 1);\n",
       "  --xr-font-color2: rgba(255, 255, 255, 0.54);\n",
       "  --xr-font-color3: rgba(255, 255, 255, 0.38);\n",
       "  --xr-border-color: #1F1F1F;\n",
       "  --xr-disabled-color: #515151;\n",
       "  --xr-background-color: #111111;\n",
       "  --xr-background-color-row-even: #111111;\n",
       "  --xr-background-color-row-odd: #313131;\n",
       "}\n",
       "\n",
       ".xr-wrap {\n",
       "  display: block !important;\n",
       "  min-width: 300px;\n",
       "  max-width: 700px;\n",
       "}\n",
       "\n",
       ".xr-text-repr-fallback {\n",
       "  /* fallback to plain text repr when CSS is not injected (untrusted notebook) */\n",
       "  display: none;\n",
       "}\n",
       "\n",
       ".xr-header {\n",
       "  padding-top: 6px;\n",
       "  padding-bottom: 6px;\n",
       "  margin-bottom: 4px;\n",
       "  border-bottom: solid 1px var(--xr-border-color);\n",
       "}\n",
       "\n",
       ".xr-header > div,\n",
       ".xr-header > ul {\n",
       "  display: inline;\n",
       "  margin-top: 0;\n",
       "  margin-bottom: 0;\n",
       "}\n",
       "\n",
       ".xr-obj-type,\n",
       ".xr-array-name {\n",
       "  margin-left: 2px;\n",
       "  margin-right: 10px;\n",
       "}\n",
       "\n",
       ".xr-obj-type {\n",
       "  color: var(--xr-font-color2);\n",
       "}\n",
       "\n",
       ".xr-sections {\n",
       "  padding-left: 0 !important;\n",
       "  display: grid;\n",
       "  grid-template-columns: 150px auto auto 1fr 20px 20px;\n",
       "}\n",
       "\n",
       ".xr-section-item {\n",
       "  display: contents;\n",
       "}\n",
       "\n",
       ".xr-section-item input {\n",
       "  display: none;\n",
       "}\n",
       "\n",
       ".xr-section-item input + label {\n",
       "  color: var(--xr-disabled-color);\n",
       "}\n",
       "\n",
       ".xr-section-item input:enabled + label {\n",
       "  cursor: pointer;\n",
       "  color: var(--xr-font-color2);\n",
       "}\n",
       "\n",
       ".xr-section-item input:enabled + label:hover {\n",
       "  color: var(--xr-font-color0);\n",
       "}\n",
       "\n",
       ".xr-section-summary {\n",
       "  grid-column: 1;\n",
       "  color: var(--xr-font-color2);\n",
       "  font-weight: 500;\n",
       "}\n",
       "\n",
       ".xr-section-summary > span {\n",
       "  display: inline-block;\n",
       "  padding-left: 0.5em;\n",
       "}\n",
       "\n",
       ".xr-section-summary-in:disabled + label {\n",
       "  color: var(--xr-font-color2);\n",
       "}\n",
       "\n",
       ".xr-section-summary-in + label:before {\n",
       "  display: inline-block;\n",
       "  content: '►';\n",
       "  font-size: 11px;\n",
       "  width: 15px;\n",
       "  text-align: center;\n",
       "}\n",
       "\n",
       ".xr-section-summary-in:disabled + label:before {\n",
       "  color: var(--xr-disabled-color);\n",
       "}\n",
       "\n",
       ".xr-section-summary-in:checked + label:before {\n",
       "  content: '▼';\n",
       "}\n",
       "\n",
       ".xr-section-summary-in:checked + label > span {\n",
       "  display: none;\n",
       "}\n",
       "\n",
       ".xr-section-summary,\n",
       ".xr-section-inline-details {\n",
       "  padding-top: 4px;\n",
       "  padding-bottom: 4px;\n",
       "}\n",
       "\n",
       ".xr-section-inline-details {\n",
       "  grid-column: 2 / -1;\n",
       "}\n",
       "\n",
       ".xr-section-details {\n",
       "  display: none;\n",
       "  grid-column: 1 / -1;\n",
       "  margin-bottom: 5px;\n",
       "}\n",
       "\n",
       ".xr-section-summary-in:checked ~ .xr-section-details {\n",
       "  display: contents;\n",
       "}\n",
       "\n",
       ".xr-array-wrap {\n",
       "  grid-column: 1 / -1;\n",
       "  display: grid;\n",
       "  grid-template-columns: 20px auto;\n",
       "}\n",
       "\n",
       ".xr-array-wrap > label {\n",
       "  grid-column: 1;\n",
       "  vertical-align: top;\n",
       "}\n",
       "\n",
       ".xr-preview {\n",
       "  color: var(--xr-font-color3);\n",
       "}\n",
       "\n",
       ".xr-array-preview,\n",
       ".xr-array-data {\n",
       "  padding: 0 5px !important;\n",
       "  grid-column: 2;\n",
       "}\n",
       "\n",
       ".xr-array-data,\n",
       ".xr-array-in:checked ~ .xr-array-preview {\n",
       "  display: none;\n",
       "}\n",
       "\n",
       ".xr-array-in:checked ~ .xr-array-data,\n",
       ".xr-array-preview {\n",
       "  display: inline-block;\n",
       "}\n",
       "\n",
       ".xr-dim-list {\n",
       "  display: inline-block !important;\n",
       "  list-style: none;\n",
       "  padding: 0 !important;\n",
       "  margin: 0;\n",
       "}\n",
       "\n",
       ".xr-dim-list li {\n",
       "  display: inline-block;\n",
       "  padding: 0;\n",
       "  margin: 0;\n",
       "}\n",
       "\n",
       ".xr-dim-list:before {\n",
       "  content: '(';\n",
       "}\n",
       "\n",
       ".xr-dim-list:after {\n",
       "  content: ')';\n",
       "}\n",
       "\n",
       ".xr-dim-list li:not(:last-child):after {\n",
       "  content: ',';\n",
       "  padding-right: 5px;\n",
       "}\n",
       "\n",
       ".xr-has-index {\n",
       "  font-weight: bold;\n",
       "}\n",
       "\n",
       ".xr-var-list,\n",
       ".xr-var-item {\n",
       "  display: contents;\n",
       "}\n",
       "\n",
       ".xr-var-item > div,\n",
       ".xr-var-item label,\n",
       ".xr-var-item > .xr-var-name span {\n",
       "  background-color: var(--xr-background-color-row-even);\n",
       "  margin-bottom: 0;\n",
       "}\n",
       "\n",
       ".xr-var-item > .xr-var-name:hover span {\n",
       "  padding-right: 5px;\n",
       "}\n",
       "\n",
       ".xr-var-list > li:nth-child(odd) > div,\n",
       ".xr-var-list > li:nth-child(odd) > label,\n",
       ".xr-var-list > li:nth-child(odd) > .xr-var-name span {\n",
       "  background-color: var(--xr-background-color-row-odd);\n",
       "}\n",
       "\n",
       ".xr-var-name {\n",
       "  grid-column: 1;\n",
       "}\n",
       "\n",
       ".xr-var-dims {\n",
       "  grid-column: 2;\n",
       "}\n",
       "\n",
       ".xr-var-dtype {\n",
       "  grid-column: 3;\n",
       "  text-align: right;\n",
       "  color: var(--xr-font-color2);\n",
       "}\n",
       "\n",
       ".xr-var-preview {\n",
       "  grid-column: 4;\n",
       "}\n",
       "\n",
       ".xr-index-preview {\n",
       "  grid-column: 2 / 5;\n",
       "  color: var(--xr-font-color2);\n",
       "}\n",
       "\n",
       ".xr-var-name,\n",
       ".xr-var-dims,\n",
       ".xr-var-dtype,\n",
       ".xr-preview,\n",
       ".xr-attrs dt {\n",
       "  white-space: nowrap;\n",
       "  overflow: hidden;\n",
       "  text-overflow: ellipsis;\n",
       "  padding-right: 10px;\n",
       "}\n",
       "\n",
       ".xr-var-name:hover,\n",
       ".xr-var-dims:hover,\n",
       ".xr-var-dtype:hover,\n",
       ".xr-attrs dt:hover {\n",
       "  overflow: visible;\n",
       "  width: auto;\n",
       "  z-index: 1;\n",
       "}\n",
       "\n",
       ".xr-var-attrs,\n",
       ".xr-var-data,\n",
       ".xr-index-data {\n",
       "  display: none;\n",
       "  background-color: var(--xr-background-color) !important;\n",
       "  padding-bottom: 5px !important;\n",
       "}\n",
       "\n",
       ".xr-var-attrs-in:checked ~ .xr-var-attrs,\n",
       ".xr-var-data-in:checked ~ .xr-var-data,\n",
       ".xr-index-data-in:checked ~ .xr-index-data {\n",
       "  display: block;\n",
       "}\n",
       "\n",
       ".xr-var-data > table {\n",
       "  float: right;\n",
       "}\n",
       "\n",
       ".xr-var-name span,\n",
       ".xr-var-data,\n",
       ".xr-index-name div,\n",
       ".xr-index-data,\n",
       ".xr-attrs {\n",
       "  padding-left: 25px !important;\n",
       "}\n",
       "\n",
       ".xr-attrs,\n",
       ".xr-var-attrs,\n",
       ".xr-var-data,\n",
       ".xr-index-data {\n",
       "  grid-column: 1 / -1;\n",
       "}\n",
       "\n",
       "dl.xr-attrs {\n",
       "  padding: 0;\n",
       "  margin: 0;\n",
       "  display: grid;\n",
       "  grid-template-columns: 125px auto;\n",
       "}\n",
       "\n",
       ".xr-attrs dt,\n",
       ".xr-attrs dd {\n",
       "  padding: 0;\n",
       "  margin: 0;\n",
       "  float: left;\n",
       "  padding-right: 10px;\n",
       "  width: auto;\n",
       "}\n",
       "\n",
       ".xr-attrs dt {\n",
       "  font-weight: normal;\n",
       "  grid-column: 1;\n",
       "}\n",
       "\n",
       ".xr-attrs dt:hover span {\n",
       "  display: inline-block;\n",
       "  background: var(--xr-background-color);\n",
       "  padding-right: 10px;\n",
       "}\n",
       "\n",
       ".xr-attrs dd {\n",
       "  grid-column: 2;\n",
       "  white-space: pre-wrap;\n",
       "  word-break: break-all;\n",
       "}\n",
       "\n",
       ".xr-icon-database,\n",
       ".xr-icon-file-text2,\n",
       ".xr-no-icon {\n",
       "  display: inline-block;\n",
       "  vertical-align: middle;\n",
       "  width: 1em;\n",
       "  height: 1.5em !important;\n",
       "  stroke-width: 0;\n",
       "  stroke: currentColor;\n",
       "  fill: currentColor;\n",
       "}\n",
       "</style><pre class='xr-text-repr-fallback'>&lt;xarray.Dataset&gt;\n",
       "Dimensions:      (time: 10413, depth: 1, latitude: 1, longitude: 1)\n",
       "Coordinates:\n",
       "  * time         (time) datetime64[ns] 2023-09-15T00:00:01 ... 2024-11-21T20:...\n",
       "  * latitude     (latitude) float64 72.31\n",
       "  * longitude    (longitude) float64 -167.3\n",
       "  * depth        (depth) float64 41.0\n",
       "Data variables:\n",
       "    salinity     (time, depth, latitude, longitude) float64 0.0 0.0 ... 0.0\n",
       "    temperature  (time, depth, latitude, longitude) float64 8.233 ... -5.349\n",
       "Attributes: (12/33)\n",
       "    Latitude_DegMMddW:                      72 18.59 N\n",
       "    Longitude_DegMMddN:                     167 16.250 W\n",
       "    MooringID:                              23CKP-15A\n",
       "    platform_deployment_date:               2023-09-28T15:30:00Z\n",
       "    platform_deployment_cruise_name:        SKQ202312S\n",
       "    platform_recovery_date:                 2024-08-17T05:02:00Z\n",
       "    ...                                     ...\n",
       "    InstrumentSerialNumber:                 1815\n",
       "    InstrumentType:                         SBE-16\n",
       "    date_created:                           2024-12-12T10:56:04Z\n",
       "    date_modified:                          \n",
       "    QC_indicator:                           unknown\n",
       "    history:                                Trimmed to deployment.</pre><div class='xr-wrap' style='display:none'><div class='xr-header'><div class='xr-obj-type'>xarray.Dataset</div></div><ul class='xr-sections'><li class='xr-section-item'><input id='section-dc272e81-9965-49e1-a094-60a8a35d8aac' class='xr-section-summary-in' type='checkbox' disabled ><label for='section-dc272e81-9965-49e1-a094-60a8a35d8aac' class='xr-section-summary'  title='Expand/collapse section'>Dimensions:</label><div class='xr-section-inline-details'><ul class='xr-dim-list'><li><span class='xr-has-index'>time</span>: 10413</li><li><span class='xr-has-index'>depth</span>: 1</li><li><span class='xr-has-index'>latitude</span>: 1</li><li><span class='xr-has-index'>longitude</span>: 1</li></ul></div><div class='xr-section-details'></div></li><li class='xr-section-item'><input id='section-bf189392-cd77-433c-83f2-d69f0f9b8285' class='xr-section-summary-in' type='checkbox'  checked><label for='section-bf189392-cd77-433c-83f2-d69f0f9b8285' class='xr-section-summary' >Coordinates: <span>(4)</span></label><div class='xr-section-inline-details'></div><div class='xr-section-details'><ul class='xr-var-list'><li class='xr-var-item'><div class='xr-var-name'><span class='xr-has-index'>time</span></div><div class='xr-var-dims'>(time)</div><div class='xr-var-dtype'>datetime64[ns]</div><div class='xr-var-preview xr-preview'>2023-09-15T00:00:01 ... 2024-11-...</div><input id='attrs-bda62495-8c07-4a08-9cfb-e6c3dba8e4fb' class='xr-var-attrs-in' type='checkbox' disabled><label for='attrs-bda62495-8c07-4a08-9cfb-e6c3dba8e4fb' title='Show/Hide attributes'><svg class='icon xr-icon-file-text2'><use xlink:href='#icon-file-text2'></use></svg></label><input id='data-4a8b11c5-3bfb-4a82-994d-5559041d3846' class='xr-var-data-in' type='checkbox'><label for='data-4a8b11c5-3bfb-4a82-994d-5559041d3846' title='Show/Hide data repr'><svg class='icon xr-icon-database'><use xlink:href='#icon-database'></use></svg></label><div class='xr-var-attrs'><dl class='xr-attrs'></dl></div><div class='xr-var-data'><pre>array([&#x27;2023-09-15T00:00:01.000000000&#x27;, &#x27;2023-09-15T01:00:01.000000000&#x27;,\n",
       "       &#x27;2023-09-15T02:00:01.000000000&#x27;, ..., &#x27;2024-11-21T18:00:01.000000000&#x27;,\n",
       "       &#x27;2024-11-21T19:00:01.000000000&#x27;, &#x27;2024-11-21T20:00:01.000000000&#x27;],\n",
       "      dtype=&#x27;datetime64[ns]&#x27;)</pre></div></li><li class='xr-var-item'><div class='xr-var-name'><span class='xr-has-index'>latitude</span></div><div class='xr-var-dims'>(latitude)</div><div class='xr-var-dtype'>float64</div><div class='xr-var-preview xr-preview'>72.31</div><input id='attrs-3095c5ca-71bb-48d3-b5bd-0d8c942c740f' class='xr-var-attrs-in' type='checkbox' ><label for='attrs-3095c5ca-71bb-48d3-b5bd-0d8c942c740f' title='Show/Hide attributes'><svg class='icon xr-icon-file-text2'><use xlink:href='#icon-file-text2'></use></svg></label><input id='data-81c18fd4-87ba-4689-b2d1-d712c6ad56f8' class='xr-var-data-in' type='checkbox'><label for='data-81c18fd4-87ba-4689-b2d1-d712c6ad56f8' title='Show/Hide data repr'><svg class='icon xr-icon-database'><use xlink:href='#icon-database'></use></svg></label><div class='xr-var-attrs'><dl class='xr-attrs'><dt><span>epic_key :</span></dt><dd>LON_501</dd><dt><span>name :</span></dt><dd>latitude</dd><dt><span>generic_name :</span></dt><dd>latitude</dd><dt><span>units :</span></dt><dd>degrees_north</dd><dt><span>long_name :</span></dt><dd>latitude</dd><dt><span>standard_name :</span></dt><dd>latitude</dd></dl></div><div class='xr-var-data'><pre>array([72.309833])</pre></div></li><li class='xr-var-item'><div class='xr-var-name'><span class='xr-has-index'>longitude</span></div><div class='xr-var-dims'>(longitude)</div><div class='xr-var-dtype'>float64</div><div class='xr-var-preview xr-preview'>-167.3</div><input id='attrs-2f145988-6c76-4895-b9a2-926a1a1b72b7' class='xr-var-attrs-in' type='checkbox' ><label for='attrs-2f145988-6c76-4895-b9a2-926a1a1b72b7' title='Show/Hide attributes'><svg class='icon xr-icon-file-text2'><use xlink:href='#icon-file-text2'></use></svg></label><input id='data-e446ce78-60e0-48f8-8c5a-dccbd3659578' class='xr-var-data-in' type='checkbox'><label for='data-e446ce78-60e0-48f8-8c5a-dccbd3659578' title='Show/Hide data repr'><svg class='icon xr-icon-database'><use xlink:href='#icon-database'></use></svg></label><div class='xr-var-attrs'><dl class='xr-attrs'><dt><span>epic_key :</span></dt><dd>LAT_500</dd><dt><span>name :</span></dt><dd>longitude</dd><dt><span>generic_name :</span></dt><dd>longitude</dd><dt><span>units :</span></dt><dd>degrees_east</dd><dt><span>long_name :</span></dt><dd>longitude</dd><dt><span>standard_name :</span></dt><dd>longitude</dd></dl></div><div class='xr-var-data'><pre>array([-167.270833])</pre></div></li><li class='xr-var-item'><div class='xr-var-name'><span class='xr-has-index'>depth</span></div><div class='xr-var-dims'>(depth)</div><div class='xr-var-dtype'>float64</div><div class='xr-var-preview xr-preview'>41.0</div><input id='attrs-ab8b9cf5-6041-4c19-a818-ae1b69cab825' class='xr-var-attrs-in' type='checkbox' ><label for='attrs-ab8b9cf5-6041-4c19-a818-ae1b69cab825' title='Show/Hide attributes'><svg class='icon xr-icon-file-text2'><use xlink:href='#icon-file-text2'></use></svg></label><input id='data-7988def4-1b56-4316-bbc4-cd0cfbb70be0' class='xr-var-data-in' type='checkbox'><label for='data-7988def4-1b56-4316-bbc4-cd0cfbb70be0' title='Show/Hide data repr'><svg class='icon xr-icon-database'><use xlink:href='#icon-database'></use></svg></label><div class='xr-var-attrs'><dl class='xr-attrs'><dt><span>epic_key :</span></dt><dd>D_3</dd><dt><span>generic_name :</span></dt><dd>depth</dd><dt><span>units :</span></dt><dd>meter</dd><dt><span>long_name :</span></dt><dd>depth below surface (meters)</dd><dt><span>standard_name :</span></dt><dd>depth</dd><dt><span>positive :</span></dt><dd>down</dd></dl></div><div class='xr-var-data'><pre>array([41.])</pre></div></li></ul></div></li><li class='xr-section-item'><input id='section-0dbf777b-92d8-483a-a8d2-7ede7e089205' class='xr-section-summary-in' type='checkbox'  checked><label for='section-0dbf777b-92d8-483a-a8d2-7ede7e089205' class='xr-section-summary' >Data variables: <span>(2)</span></label><div class='xr-section-inline-details'></div><div class='xr-section-details'><ul class='xr-var-list'><li class='xr-var-item'><div class='xr-var-name'><span>salinity</span></div><div class='xr-var-dims'>(time, depth, latitude, longitude)</div><div class='xr-var-dtype'>float64</div><div class='xr-var-preview xr-preview'>0.0 0.0 0.0 ... 0.2395 0.2395 0.0</div><input id='attrs-8c18ab64-072c-48e0-acd8-d1a2bc47f5f8' class='xr-var-attrs-in' type='checkbox' ><label for='attrs-8c18ab64-072c-48e0-acd8-d1a2bc47f5f8' title='Show/Hide attributes'><svg class='icon xr-icon-file-text2'><use xlink:href='#icon-file-text2'></use></svg></label><input id='data-e1c2d799-804a-4c4a-af41-233a4b8ab34f' class='xr-var-data-in' type='checkbox'><label for='data-e1c2d799-804a-4c4a-af41-233a4b8ab34f' title='Show/Hide data repr'><svg class='icon xr-icon-database'><use xlink:href='#icon-database'></use></svg></label><div class='xr-var-attrs'><dl class='xr-attrs'><dt><span>epic_key :</span></dt><dd>S_41</dd><dt><span>generic_name :</span></dt><dd>psal</dd><dt><span>units :</span></dt><dd>PSU</dd><dt><span>long_name :</span></dt><dd>Practical salinity in-situ PSS-78 scale</dd><dt><span>standard_name :</span></dt><dd>sea_water_practical_salinity</dd></dl></div><div class='xr-var-data'><pre>array([[[[0.    ]]],\n",
       "\n",
       "\n",
       "       [[[0.    ]]],\n",
       "\n",
       "\n",
       "       [[[0.    ]]],\n",
       "\n",
       "\n",
       "       ...,\n",
       "\n",
       "\n",
       "       [[[0.2395]]],\n",
       "\n",
       "\n",
       "       [[[0.2395]]],\n",
       "\n",
       "\n",
       "       [[[0.    ]]]])</pre></div></li><li class='xr-var-item'><div class='xr-var-name'><span>temperature</span></div><div class='xr-var-dims'>(time, depth, latitude, longitude)</div><div class='xr-var-dtype'>float64</div><div class='xr-var-preview xr-preview'>8.233 7.707 8.108 ... 18.26 -5.349</div><input id='attrs-6a14246a-1ce0-4c1c-ad33-d76c26282882' class='xr-var-attrs-in' type='checkbox' ><label for='attrs-6a14246a-1ce0-4c1c-ad33-d76c26282882' title='Show/Hide attributes'><svg class='icon xr-icon-file-text2'><use xlink:href='#icon-file-text2'></use></svg></label><input id='data-9027be9d-f47a-4862-bb93-25cf9d90dfda' class='xr-var-data-in' type='checkbox'><label for='data-9027be9d-f47a-4862-bb93-25cf9d90dfda' title='Show/Hide data repr'><svg class='icon xr-icon-database'><use xlink:href='#icon-database'></use></svg></label><div class='xr-var-attrs'><dl class='xr-attrs'><dt><span>epic_key :</span></dt><dd>T_20</dd><dt><span>generic_name :</span></dt><dd>temp</dd><dt><span>long_name :</span></dt><dd>Sea temperature in-situ ITS-90 scale</dd><dt><span>standard_name :</span></dt><dd>sea_water_temperature</dd><dt><span>units :</span></dt><dd>degree_C</dd></dl></div><div class='xr-var-data'><pre>array([[[[ 8.2326]]],\n",
       "\n",
       "\n",
       "       [[[ 7.7067]]],\n",
       "\n",
       "\n",
       "       [[[ 8.1082]]],\n",
       "\n",
       "\n",
       "       ...,\n",
       "\n",
       "\n",
       "       [[[18.2572]]],\n",
       "\n",
       "\n",
       "       [[[18.2572]]],\n",
       "\n",
       "\n",
       "       [[[-5.349 ]]]])</pre></div></li></ul></div></li><li class='xr-section-item'><input id='section-1a189999-1e39-4207-ac88-b16c0a8066e9' class='xr-section-summary-in' type='checkbox'  ><label for='section-1a189999-1e39-4207-ac88-b16c0a8066e9' class='xr-section-summary' >Indexes: <span>(4)</span></label><div class='xr-section-inline-details'></div><div class='xr-section-details'><ul class='xr-var-list'><li class='xr-var-item'><div class='xr-index-name'><div>time</div></div><div class='xr-index-preview'>PandasIndex</div><div></div><input id='index-d88aeea1-6df4-4700-818d-26eea62dffee' class='xr-index-data-in' type='checkbox'/><label for='index-d88aeea1-6df4-4700-818d-26eea62dffee' title='Show/Hide index repr'><svg class='icon xr-icon-database'><use xlink:href='#icon-database'></use></svg></label><div class='xr-index-data'><pre>PandasIndex(DatetimeIndex([&#x27;2023-09-15 00:00:01&#x27;, &#x27;2023-09-15 01:00:01&#x27;,\n",
       "               &#x27;2023-09-15 02:00:01&#x27;, &#x27;2023-09-15 03:00:01&#x27;,\n",
       "               &#x27;2023-09-15 04:00:01&#x27;, &#x27;2023-09-15 05:00:01&#x27;,\n",
       "               &#x27;2023-09-15 06:00:01&#x27;, &#x27;2023-09-15 07:00:01&#x27;,\n",
       "               &#x27;2023-09-15 08:00:01&#x27;, &#x27;2023-09-15 09:00:01&#x27;,\n",
       "               ...\n",
       "               &#x27;2024-11-21 11:00:01&#x27;, &#x27;2024-11-21 12:00:01&#x27;,\n",
       "               &#x27;2024-11-21 13:00:01&#x27;, &#x27;2024-11-21 14:00:01&#x27;,\n",
       "               &#x27;2024-11-21 15:00:01&#x27;, &#x27;2024-11-21 16:00:01&#x27;,\n",
       "               &#x27;2024-11-21 17:00:01&#x27;, &#x27;2024-11-21 18:00:01&#x27;,\n",
       "               &#x27;2024-11-21 19:00:01&#x27;, &#x27;2024-11-21 20:00:01&#x27;],\n",
       "              dtype=&#x27;datetime64[ns]&#x27;, name=&#x27;time&#x27;, length=10413, freq=None))</pre></div></li><li class='xr-var-item'><div class='xr-index-name'><div>latitude</div></div><div class='xr-index-preview'>PandasIndex</div><div></div><input id='index-f4db8071-42a8-4c73-bf47-57427c2e5826' class='xr-index-data-in' type='checkbox'/><label for='index-f4db8071-42a8-4c73-bf47-57427c2e5826' title='Show/Hide index repr'><svg class='icon xr-icon-database'><use xlink:href='#icon-database'></use></svg></label><div class='xr-index-data'><pre>PandasIndex(Index([72.30983333333333], dtype=&#x27;float64&#x27;, name=&#x27;latitude&#x27;))</pre></div></li><li class='xr-var-item'><div class='xr-index-name'><div>longitude</div></div><div class='xr-index-preview'>PandasIndex</div><div></div><input id='index-b36c5ca9-b4bf-4195-8b81-9a1605a4fe0b' class='xr-index-data-in' type='checkbox'/><label for='index-b36c5ca9-b4bf-4195-8b81-9a1605a4fe0b' title='Show/Hide index repr'><svg class='icon xr-icon-database'><use xlink:href='#icon-database'></use></svg></label><div class='xr-index-data'><pre>PandasIndex(Index([-167.27083333333334], dtype=&#x27;float64&#x27;, name=&#x27;longitude&#x27;))</pre></div></li><li class='xr-var-item'><div class='xr-index-name'><div>depth</div></div><div class='xr-index-preview'>PandasIndex</div><div></div><input id='index-8ed3e1d3-b56e-4831-9cf6-53b59a375cd3' class='xr-index-data-in' type='checkbox'/><label for='index-8ed3e1d3-b56e-4831-9cf6-53b59a375cd3' title='Show/Hide index repr'><svg class='icon xr-icon-database'><use xlink:href='#icon-database'></use></svg></label><div class='xr-index-data'><pre>PandasIndex(Index([41.0], dtype=&#x27;float64&#x27;, name=&#x27;depth&#x27;))</pre></div></li></ul></div></li><li class='xr-section-item'><input id='section-f659314c-fc2f-4f9c-b703-fef43fb528d9' class='xr-section-summary-in' type='checkbox'  ><label for='section-f659314c-fc2f-4f9c-b703-fef43fb528d9' class='xr-section-summary' >Attributes: <span>(33)</span></label><div class='xr-section-inline-details'></div><div class='xr-section-details'><dl class='xr-attrs'><dt><span>Latitude_DegMMddW :</span></dt><dd>72 18.59 N</dd><dt><span>Longitude_DegMMddN :</span></dt><dd>167 16.250 W</dd><dt><span>MooringID :</span></dt><dd>23CKP-15A</dd><dt><span>platform_deployment_date :</span></dt><dd>2023-09-28T15:30:00Z</dd><dt><span>platform_deployment_cruise_name :</span></dt><dd>SKQ202312S</dd><dt><span>platform_recovery_date :</span></dt><dd>2024-08-17T05:02:00Z</dd><dt><span>platform_recovery_cruise_name :</span></dt><dd>SKQ202412S</dd><dt><span>platform_deployment_recovery_comments :</span></dt><dd></dd><dt><span>WaterDepth :</span></dt><dd>48.0</dd><dt><span>source_documents :</span></dt><dd>http://www.oceansites.org/docs/oceansites_data_format_reference_manual.pdf</dd><dt><span>institution :</span></dt><dd>Pacific Marine Environmental Lab (PMEL)</dd><dt><span>project :</span></dt><dd>EcoFOCI</dd><dt><span>project_url :</span></dt><dd>https://www.ecofoci.noaa.gov</dd><dt><span>principal_investigator :</span></dt><dd>Phyllis Stabeno</dd><dt><span>principal_investigator_email :</span></dt><dd>phyllis.stabeno (at) noaa.gov</dd><dt><span>creator_name :</span></dt><dd>Shaun Bell</dd><dt><span>creator_email :</span></dt><dd>shaun.bell (at) noaa.gov</dd><dt><span>creator_institution :</span></dt><dd>PMEL</dd><dt><span>keywords :</span></dt><dd>Mooring, Oceanographic</dd><dt><span>comment :</span></dt><dd>Provisional data</dd><dt><span>sea_area :</span></dt><dd>Bering Sea (BS)</dd><dt><span>featureType :</span></dt><dd>timeSeries</dd><dt><span>conventions :</span></dt><dd>”CF-1.6, ~OceanSITES-1.5, ACDD-1.2”</dd><dt><span>license :</span></dt><dd></dd><dt><span>references :</span></dt><dd></dd><dt><span>citation :</span></dt><dd></dd><dt><span>acknowledgement :</span></dt><dd></dd><dt><span>InstrumentSerialNumber :</span></dt><dd>1815</dd><dt><span>InstrumentType :</span></dt><dd>SBE-16</dd><dt><span>date_created :</span></dt><dd>2024-12-12T10:56:04Z</dd><dt><span>date_modified :</span></dt><dd></dd><dt><span>QC_indicator :</span></dt><dd>unknown</dd><dt><span>history :</span></dt><dd>Trimmed to deployment.</dd></dl></div></li></ul></div></div>"
      ],
      "text/plain": [
       "<xarray.Dataset>\n",
       "Dimensions:      (time: 10413, depth: 1, latitude: 1, longitude: 1)\n",
       "Coordinates:\n",
       "  * time         (time) datetime64[ns] 2023-09-15T00:00:01 ... 2024-11-21T20:...\n",
       "  * latitude     (latitude) float64 72.31\n",
       "  * longitude    (longitude) float64 -167.3\n",
       "  * depth        (depth) float64 41.0\n",
       "Data variables:\n",
       "    salinity     (time, depth, latitude, longitude) float64 0.0 0.0 ... 0.0\n",
       "    temperature  (time, depth, latitude, longitude) float64 8.233 ... -5.349\n",
       "Attributes: (12/33)\n",
       "    Latitude_DegMMddW:                      72 18.59 N\n",
       "    Longitude_DegMMddN:                     167 16.250 W\n",
       "    MooringID:                              23CKP-15A\n",
       "    platform_deployment_date:               2023-09-28T15:30:00Z\n",
       "    platform_deployment_cruise_name:        SKQ202312S\n",
       "    platform_recovery_date:                 2024-08-17T05:02:00Z\n",
       "    ...                                     ...\n",
       "    InstrumentSerialNumber:                 1815\n",
       "    InstrumentType:                         SBE-16\n",
       "    date_created:                           2024-12-12T10:56:04Z\n",
       "    date_modified:                          \n",
       "    QC_indicator:                           unknown\n",
       "    history:                                Trimmed to deployment."
      ]
     },
     "execution_count": 54,
     "metadata": {},
     "output_type": "execute_result"
    }
   ],
   "source": [
    "sbe16_wop_nc.get_xdf()"
   ]
  },
  {
   "cell_type": "code",
   "execution_count": 55,
   "id": "88bac5bf-fd3c-40a0-bed9-086b1b7d9e46",
   "metadata": {
    "tags": []
   },
   "outputs": [
    {
     "name": "stdout",
     "output_type": "stream",
     "text": [
      "likely no pressure variable in datafile\n"
     ]
    }
   ],
   "source": [
    "try:\n",
    "    print(sbe16_wop_nc.autotrim_time().pressure.mean())\n",
    "except:\n",
    "    print(f'likely no pressure variable in datafile')"
   ]
  },
  {
   "cell_type": "code",
   "execution_count": 56,
   "id": "0c488eed-e3df-4ea8-a412-8eadd281379e",
   "metadata": {
    "tags": []
   },
   "outputs": [
    {
     "data": {
      "text/plain": [
       "<Figure size 640x480 with 0 Axes>"
      ]
     },
     "metadata": {},
     "output_type": "display_data"
    },
    {
     "data": {
      "image/png": "[encoded data removed]",
      "text/plain": [
       "<Figure size 2400x800 with 4 Axes>"
      ]
     },
     "metadata": {},
     "output_type": "display_data"
    }
   ],
   "source": [
    "#wrap the plot in image settings for visual appeal\n",
    "# may be able to make this cleaner or just a preset\n",
    "# copy is in the notebook examples\n",
    "%run '../../../settings/mpl_plot_settings.py'\n",
    "\n",
    "%matplotlib inline\n",
    "import matplotlib.dates as mdates\n",
    "from matplotlib.dates import YearLocator, WeekdayLocator, MonthLocator, DayLocator, HourLocator, DateFormatter\n",
    "import matplotlib.ticker as ticker\n",
    "\n",
    "import cmocean\n",
    "\n",
    "fig, ax = plt.subplots(4,figsize=(24, 8),sharex=True)\n",
    "sbe16_wop_nc.autotrim_time().temperature.plot(ax=ax[0],color='r')\n",
    "sbe16_wop_nc.autotrim_time().salinity.plot(ax=ax[1],color='b')\n",
    "try:\n",
    "    sbe16_wop_nc.autotrim_time().oxy_conc.plot(ax=ax[2],color='orange')\n",
    "except:\n",
    "    pass\n",
    "try:\n",
    "    sbe16_wop_nc.autotrim_time().par.plot(ax=ax[3],color='y')\n",
    "except:\n",
    "    pass\n",
    "# xfmt = mdates.DateFormatter('%d-%b')\n",
    "ax[3].xaxis.set_major_locator(DayLocator(bymonthday=1))\n",
    "ax[3].xaxis.set_minor_locator(DayLocator(bymonthday=15))\n",
    "ax[3].xaxis.set_minor_formatter(DateFormatter('%b %Y'))\n",
    "ax[3].xaxis.set_major_formatter(DateFormatter(''))\n",
    "ax[3].xaxis.set_tick_params(which='major', pad=3)\n",
    "ax[3].xaxis.set_tick_params(which='minor', pad=5)"
   ]
  },
  {
   "cell_type": "code",
   "execution_count": 57,
   "id": "b7584968-6b2d-442d-920c-35928fe9e912",
   "metadata": {
    "tags": []
   },
   "outputs": [],
   "source": [
    "#csvoutput if necessary - untrimmed for deck analysis\n",
    "(sbe16_wop_nc.get_xdf().to_dataframe()).to_csv(filename.replace('nc','csv'))\n",
    "#csvoutput of trimmed data for manual edit\n",
    "(sbe16_wop_nc.autotrim_time().to_dataframe()).to_csv(filename.replace('nc','trimmed.csv'))"
   ]
  },
  {
   "cell_type": "markdown",
   "id": "individual-nature",
   "metadata": {},
   "source": [
    "## Next Steps\n",
    "\n",
    "QC of data (plot parameters with other instruments)\n",
    "- There is an oxygen sensor on this unit (see above to perform the salinity/depth corrections)\n",
    "\n",
    "- be sure to updated the qc_status and the history"
   ]
  },
  {
   "cell_type": "code",
   "execution_count": 58,
   "id": "c7fc8770-3086-4a1a-874d-c2acf27e48af",
   "metadata": {
    "tags": []
   },
   "outputs": [],
   "source": [
    "import matplotlib.pyplot as plt\n",
    "import pandas as pd\n",
    "import EcoFOCIpy.io.erddap as erddap\n",
    "import datetime\n",
    "\n",
    "dep = {'url':\"http://akutan2.pmel.noaa.gov:8080/erddap\",\n",
    "                   'cruiseid':'skq202312s',\n",
    "                   'qclevel':'final',\n",
    "                   'concastno':'067'\n",
    "                  }\n",
    "\n",
    "rec = {'url':\"http://akutan2.pmel.noaa.gov:8082/erddap\",\n",
    "                   'cruiseid':'skq202412s',\n",
    "                   'qclevel':'preliminary',\n",
    "                   'concastno':'049'\n",
    "                  }"
   ]
  },
  {
   "cell_type": "code",
   "execution_count": 59,
   "id": "6c0406ad-1503-4407-8e54-501f9a1a4142",
   "metadata": {
    "tags": []
   },
   "outputs": [],
   "source": [
    "depcast = erddap.erddapCTDretrieve(**dep)\n",
    "reccast = erddap.erddapCTDretrieve(**rec)"
   ]
  },
  {
   "cell_type": "markdown",
   "id": "01140ef9-5406-4cb0-9848-53bddc2b1872",
   "metadata": {},
   "source": [
    "some variable names switch between preliminary and final... this will eventually be resolved"
   ]
  },
  {
   "cell_type": "code",
   "execution_count": 60,
   "id": "d9f5f466-2e6a-4de5-9496-746cce9da094",
   "metadata": {},
   "outputs": [],
   "source": [
    "#drop units from names\n",
    "depcast.columns = [x.split()[0] for x in depcast.columns]\n",
    "reccast.columns = [x.split()[0] for x in reccast.columns]"
   ]
  },
  {
   "cell_type": "code",
   "execution_count": 62,
   "id": "c90702aa-2e22-41e6-b360-8afaa9fda4e2",
   "metadata": {},
   "outputs": [
    {
     "data": {
      "image/png": "[encoded data removed]",
      "text/plain": [
       "<Figure size 2400x800 with 4 Axes>"
      ]
     },
     "metadata": {},
     "output_type": "display_data"
    }
   ],
   "source": [
    "depth = int(mooring_config['Instrumentation'][instrument]['ActualDepth'])\n",
    "\n",
    "fig, ax = plt.subplots(4,figsize=(24, 8),sharex=True)\n",
    "sbe16_wop_nc.autotrim_time().temperature.plot(ax=ax[0],color='r')\n",
    "ax[0].plot(pd.to_datetime(depcast[depcast['pressure'] == depth]['time']),\n",
    "        depcast[depcast['pressure'] == depth]['temperature_ch1'],\n",
    "        'o',markersize=20,markerfacecolor='none',markeredgecolor='black')\n",
    "ax[0].plot(pd.to_datetime(depcast[depcast['pressure'] == depth]['time']),\n",
    "        depcast[depcast['pressure'] == depth]['temperature_ch1'],\n",
    "        '+',markersize=10,markerfacecolor='none',markeredgecolor='black')\n",
    "ax[0].plot(pd.to_datetime(reccast[reccast['pressure'] == depth]['time']),\n",
    "        reccast[reccast['pressure'] == depth]['T_28'],\n",
    "        'o',markersize=20,markerfacecolor='none',markeredgecolor='black')\n",
    "ax[0].plot(pd.to_datetime(reccast[reccast['pressure'] == depth]['time']),\n",
    "        reccast[reccast['pressure'] == depth]['T_28'],\n",
    "        '+',markersize=10,markerfacecolor='none',markeredgecolor='black')\n",
    "\n",
    "sbe16_wop_nc.autotrim_time().salinity.plot(ax=ax[1],color='b')\n",
    "ax[1].plot(pd.to_datetime(depcast[depcast['pressure'] == depth]['time']),\n",
    "        depcast[depcast['pressure'] == depth]['salinity_ch1'],\n",
    "        'o',markersize=20,markerfacecolor='none',markeredgecolor='black')\n",
    "ax[1].plot(pd.to_datetime(depcast[depcast['pressure'] == depth]['time']),\n",
    "        depcast[depcast['pressure'] == depth]['salinity_ch1'],\n",
    "        '+',markersize=10,markerfacecolor='none',markeredgecolor='black')\n",
    "ax[1].plot(pd.to_datetime(reccast[reccast['pressure'] == depth]['time']),\n",
    "        reccast[reccast['pressure'] == depth]['S_41'],\n",
    "        'o',markersize=20,markerfacecolor='none',markeredgecolor='black')\n",
    "ax[1].plot(pd.to_datetime(reccast[reccast['pressure'] == depth]['time']),\n",
    "        reccast[reccast['pressure'] == depth]['S_41'],\n",
    "        '+',markersize=10,markerfacecolor='none',markeredgecolor='black')\n",
    "\n",
    "# sbe16_wop_nc.autotrim_time().oxy_conc.plot(ax=ax[2],color='orange')\n",
    "# ax[2].plot(pd.to_datetime(depcast[depcast['pressure'] == depth]['time']),\n",
    "#         depcast[depcast['pressure'] == depth]['O_65'],\n",
    "#         'o',markersize=20,markerfacecolor='none',markeredgecolor='black')\n",
    "# ax[2].plot(pd.to_datetime(depcast[depcast['pressure'] == depth]['time']),\n",
    "#         depcast[depcast['pressure'] == depth]['O_65'],\n",
    "#         '+',markersize=10,markerfacecolor='none',markeredgecolor='black')\n",
    "# ax[2].plot(pd.to_datetime(reccast[reccast['pressure'] == depth]['time']),\n",
    "#         reccast[reccast['pressure'] == depth]['O_65'],\n",
    "#         'o',markersize=20,markerfacecolor='none',markeredgecolor='black')\n",
    "# ax[2].plot(pd.to_datetime(reccast[reccast['pressure'] == depth]['time']),\n",
    "#         reccast[reccast['pressure'] == depth]['O_65'],\n",
    "#         '+',markersize=10,markerfacecolor='none',markeredgecolor='black')\n",
    "\n",
    "# sbe16_wop_nc.autotrim_time().par.plot(ax=ax[3],color='orange')\n",
    "# ax[3].plot(pd.to_datetime(depcast[depcast['pressure'] == depth]['time']),\n",
    "#         depcast[depcast['pressure'] == depth]['PAR_905'],\n",
    "#         'o',markersize=20,markerfacecolor='none',markeredgecolor='black')\n",
    "# ax[3].plot(pd.to_datetime(depcast[depcast['pressure'] == depth]['time']),\n",
    "#         depcast[depcast['pressure'] == depth]['PAR_905'],\n",
    "#         '+',markersize=10,markerfacecolor='none',markeredgecolor='black')\n",
    "# ax[3].plot(pd.to_datetime(reccast[reccast['pressure'] == depth]['time']),\n",
    "#         reccast[reccast['pressure'] == depth]['PAR_905'],\n",
    "#         'o',markersize=20,markerfacecolor='none',markeredgecolor='black')\n",
    "# ax[3].plot(pd.to_datetime(reccast[reccast['pressure'] == depth]['time']),\n",
    "#         reccast[reccast['pressure'] == depth]['PAR_905'],\n",
    "#         '+',markersize=10,markerfacecolor='none',markeredgecolor='black')\n",
    "\n",
    "# xfmt = mdates.DateFormatter('%d-%b')\n",
    "ax[3].xaxis.set_major_locator(DayLocator(bymonthday=1))\n",
    "ax[3].xaxis.set_minor_locator(DayLocator(bymonthday=15))\n",
    "ax[3].xaxis.set_minor_formatter(DateFormatter('%b %Y'))\n",
    "ax[3].xaxis.set_major_formatter(DateFormatter(''))\n",
    "ax[3].xaxis.set_tick_params(which='major', pad=3)\n",
    "ax[3].xaxis.set_tick_params(which='minor', pad=5)\n",
    "\n",
    "fig.savefig(f\"images/{filename.replace('nc','_tempsalCal.png')}\")"
   ]
  },
  {
   "cell_type": "code",
   "execution_count": 64,
   "id": "cc4ab2a0-7813-4519-95f8-058206b02340",
   "metadata": {},
   "outputs": [
    {
     "name": "stdout",
     "output_type": "stream",
     "text": [
      "Deployment\n",
      "T0: [0.7586] [0.8302]\n",
      "T1: [0.7586] [0.8294]\n",
      "S0: [32.4178] [32.3846]\n",
      "S1: [32.4178] [32.3994]\n",
      "Recovery\n",
      "T0: [-1.7051] [-1.7042]\n",
      "T1: [-1.7051] [-1.7033]\n",
      "S0: [32.5341] [32.5152]\n",
      "S1: [32.5341] [32.5317]\n"
     ]
    }
   ],
   "source": [
    "#print collocated cast comparison\n",
    "mooring = sbe16_wop_nc.autotrim_time().sel(time=datetime.datetime.strptime(depcast['time'].unique()[0],\n",
    "                                                                 '%Y-%m-%dT%H:%M:%SZ'),\n",
    "                                 method='nearest')\n",
    "print('Deployment')\n",
    "print('T0:',mooring.temperature.values[0][0],depcast[depcast['pressure'] == depth]['temperature_ch1'].values)\n",
    "print('T1:',mooring.temperature.values[0][0],depcast[depcast['pressure'] == depth]['temperature_ch2'].values)\n",
    "print('S0:',mooring.salinity.values[0][0],depcast[depcast['pressure'] == depth]['salinity_ch1'].values)\n",
    "print('S1:',mooring.salinity.values[0][0],depcast[depcast['pressure'] == depth]['salinity_ch2'].values)\n",
    "\n",
    "mooring = sbe16_wop_nc.autotrim_time().sel(time=datetime.datetime.strptime(reccast['time'].unique()[0],\n",
    "                                                                 '%Y-%m-%dT%H:%M:%SZ'),\n",
    "                                 method='nearest')\n",
    "print('Recovery')\n",
    "print('T0:',mooring.temperature.values[0][0],reccast[reccast['pressure'] == depth]['T_28'].values)\n",
    "print('T1:',mooring.temperature.values[0][0],reccast[reccast['pressure'] == depth]['T2_35'].values)\n",
    "print('S0:',mooring.salinity.values[0][0],reccast[reccast['pressure'] == depth]['S_41'].values)\n",
    "print('S1:',mooring.salinity.values[0][0],reccast[reccast['pressure'] == depth]['S_42'].values)\n"
   ]
  },
  {
   "cell_type": "markdown",
   "id": "f4b6448a-56f5-492f-809d-2d56910b0b93",
   "metadata": {},
   "source": [
    "### QC Notes from plots\n",
    "\n",
    "- **no pressure var - so assume pressure correction from other depths**\n",
    "- Salinity in Jan to be removed, couple day blockage\n",
    "- rough field check points look good at the large scale"
   ]
  },
  {
   "cell_type": "markdown",
   "id": "a838f88d-3bfa-4dac-a0a7-52355d51ac75",
   "metadata": {},
   "source": [
    "### Post Manual QC load data and rebuild nc file\n",
    "\n",
    "- using excel for a few points or a dynamic web map for multiple (a tool on ecofoci-field.pmel.noaa.gov) or any other method to identify spikes\n",
    "**NOTE** if you use excel, be cautious about how your time is formatted (its important) - use custom formatting and make it of the form `yyyy-mm-ddTHH:MM:SSZ` to assure proper read in to xarray\n"
   ]
  },
  {
   "cell_type": "code",
   "execution_count": null,
   "id": "771e2414-39f3-4c6c-83aa-2e145ae087a5",
   "metadata": {},
   "outputs": [],
   "source": []
  }
 ],
 "metadata": {
  "kernelspec": {
   "display_name": "Python [conda env:p312]",
   "language": "python",
   "name": "conda-env-p312-py"
  },
  "language_info": {
   "codemirror_mode": {
    "name": "ipython",
    "version": 3
   },
   "file_extension": ".py",
   "mimetype": "text/x-python",
   "name": "python",
   "nbconvert_exporter": "python",
   "pygments_lexer": "ipython3",
   "version": "3.12.8"
  }
 },
 "nbformat": 4,
 "nbformat_minor": 5
}
