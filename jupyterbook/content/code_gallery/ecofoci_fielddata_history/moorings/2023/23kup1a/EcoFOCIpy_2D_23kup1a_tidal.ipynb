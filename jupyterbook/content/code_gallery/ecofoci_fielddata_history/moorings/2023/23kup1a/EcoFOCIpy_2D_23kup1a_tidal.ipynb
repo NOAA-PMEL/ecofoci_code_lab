{
 "cells": [
  {
   "cell_type": "markdown",
   "id": "dc240ea7-7886-427b-9b73-6aec406eff12",
   "metadata": {
    "tags": []
   },
   "source": [
    "# EcoFOCIpy ADCP Tidal Verification - 22BSP-5A\n",
    "\n",
    "use utide (t_tide) to plot \"the M2 tidal component\" against a reference deployment (2018)\n",
    "\n",
    "Todo: Build reference datasset into EcoFOCIpy for M2, M4, M5, M8"
   ]
  },
  {
   "cell_type": "code",
   "execution_count": 1,
   "id": "1a9d1e10-24f2-4f0f-9f71-822da897b025",
   "metadata": {
    "tags": []
   },
   "outputs": [
    {
     "name": "stderr",
     "output_type": "stream",
     "text": [
      "/Users/bell/mambaforge/envs/py311/lib/python3.11/site-packages/utide/harmonics.py:16: RuntimeWarning: invalid value encountered in cast\n",
      "  nshallow = np.ma.masked_invalid(const.nshallow).astype(int)\n",
      "/Users/bell/mambaforge/envs/py311/lib/python3.11/site-packages/utide/harmonics.py:17: RuntimeWarning: invalid value encountered in cast\n",
      "  ishallow = np.ma.masked_invalid(const.ishallow).astype(int) - 1\n"
     ]
    }
   ],
   "source": [
    "from utide import solve, reconstruct\n",
    "import matplotlib.pyplot as plt\n",
    "\n",
    "import xarray as xa\n",
    "import pandas as pd\n",
    "import numpy as np"
   ]
  },
  {
   "cell_type": "code",
   "execution_count": 4,
   "id": "46560c26-e4ae-4a51-85e6-887fb81fec0b",
   "metadata": {
    "tags": []
   },
   "outputs": [],
   "source": [
    "xdf = xa.load_dataset('/Users/bell/ecoraid/2023/Moorings/23kup1a/final_data_cf/23kup1a_wcp_velein_0041m.nc')"
   ]
  },
  {
   "cell_type": "code",
   "execution_count": 5,
   "id": "6eec124b-7dc0-4cd8-9e6a-bd376a1e0c85",
   "metadata": {
    "tags": []
   },
   "outputs": [
    {
     "name": "stdout",
     "output_type": "stream",
     "text": [
      "solve: matrix prep ... solution ... done.\n"
     ]
    }
   ],
   "source": [
    "kw = dict(lat=xdf.latitude.values, constit='auto', trend=False, method='ols', Rayleigh_min=0.95,)\n",
    "\n",
    "# should use 3rd bin from top and 2nd bin from bottom\n",
    "u = xdf.u_curr_comp.isel({'latitude':0,'longitude':0}).mean(dim='depth')\n",
    "v = xdf.v_curr_comp.isel({'latitude':0,'longitude':0}).mean(dim='depth')\n",
    "\n",
    "coef = solve(xdf.time.values, u.values, v.values, **kw)"
   ]
  },
  {
   "cell_type": "code",
   "execution_count": 6,
   "id": "21727548-193f-4c66-aaf3-56916d398ee3",
   "metadata": {
    "tags": []
   },
   "outputs": [],
   "source": [
    "df = pd.DataFrame(index=coef['name'],\n",
    "             data=np.array([coef['Lsmaj'],coef['Lsmin'],coef['g'],coef['theta']]).T,\n",
    "            columns=['Lsmaj','Lsmin','g','theta'])"
   ]
  },
  {
   "cell_type": "code",
   "execution_count": 7,
   "id": "41d6d038-4d05-4df4-bf2f-8f32b5f0dcaa",
   "metadata": {
    "tags": []
   },
   "outputs": [
    {
     "data": {
      "text/html": [
       "<div>\n",
       "<style scoped>\n",
       "    .dataframe tbody tr th:only-of-type {\n",
       "        vertical-align: middle;\n",
       "    }\n",
       "\n",
       "    .dataframe tbody tr th {\n",
       "        vertical-align: top;\n",
       "    }\n",
       "\n",
       "    .dataframe thead th {\n",
       "        text-align: right;\n",
       "    }\n",
       "</style>\n",
       "<table border=\"1\" class=\"dataframe\">\n",
       "  <thead>\n",
       "    <tr style=\"text-align: right;\">\n",
       "      <th></th>\n",
       "      <th>Lsmaj</th>\n",
       "      <th>Lsmin</th>\n",
       "      <th>g</th>\n",
       "      <th>theta</th>\n",
       "    </tr>\n",
       "  </thead>\n",
       "  <tbody>\n",
       "    <tr>\n",
       "      <th>M2</th>\n",
       "      <td>21.727827</td>\n",
       "      <td>-21.205036</td>\n",
       "      <td>9.879511</td>\n",
       "      <td>159.168700</td>\n",
       "    </tr>\n",
       "    <tr>\n",
       "      <th>K1</th>\n",
       "      <td>16.902170</td>\n",
       "      <td>2.951589</td>\n",
       "      <td>134.917078</td>\n",
       "      <td>174.374108</td>\n",
       "    </tr>\n",
       "  </tbody>\n",
       "</table>\n",
       "</div>"
      ],
      "text/plain": [
       "        Lsmaj      Lsmin           g       theta\n",
       "M2  21.727827 -21.205036    9.879511  159.168700\n",
       "K1  16.902170   2.951589  134.917078  174.374108"
      ]
     },
     "execution_count": 7,
     "metadata": {},
     "output_type": "execute_result"
    }
   ],
   "source": [
    "df.loc[['M2','K1']]"
   ]
  },
  {
   "cell_type": "code",
   "execution_count": 14,
   "id": "3cae3b15-180b-43da-85ce-ca25e33df221",
   "metadata": {
    "tags": []
   },
   "outputs": [],
   "source": [
    "MM = df.loc[['M2']]\n",
    "SEMA, SEMI = MM['Lsmaj'], MM['Lsmin']\n",
    "PHA, INC = MM['g'], MM['theta']\n",
    "ECC = SEMI / SEMA "
   ]
  },
  {
   "cell_type": "code",
   "execution_count": 15,
   "id": "c39c684f-848c-4d09-aa4c-9ccd21507f19",
   "metadata": {
    "tags": []
   },
   "outputs": [],
   "source": [
    "\"\"\"\n",
    "Ellipse plot subfunction.\n",
    "\n",
    "Converted to Python by Pierre Cazenave, October 2012.\n",
    "\n",
    "\"\"\"\n",
    "\n",
    "def plot_ellipse(SEMA, ECC, INC, PHA, color=False):\n",
    "    i = 1j\n",
    "\n",
    "    SEMI = SEMA * ECC\n",
    "    Wp = (1 + ECC) / 2 * SEMA\n",
    "    Wm = (1 - ECC) / 2 * SEMA\n",
    "    THETAp = INC - PHA\n",
    "    THETAm = INC + PHA\n",
    "\n",
    "    # Convert degrees into radians\n",
    "    THETAp = THETAp / 180 * np.pi\n",
    "    THETAm = THETAm / 180 * np.pi\n",
    "    INC = INC / 180 * np.pi\n",
    "    PHA = PHA / 180 * np.pi\n",
    "\n",
    "    # Calculate wp and wm.\n",
    "    wp = Wp * np.exp(i * THETAp)\n",
    "    wm = Wm * np.exp(i * THETAm)\n",
    "\n",
    "    dot = np.pi / 36\n",
    "    ot = np.arange(0, 2 * np.pi, dot)\n",
    "    a = wp * np.exp(i * ot)\n",
    "    b = wm * np.exp(-i * ot)\n",
    "    w = a + b\n",
    "\n",
    "    wmax = SEMA * np.exp(i * INC)\n",
    "    wmin = SEMI * np.exp(i * (INC + np.pi / 2))\n",
    "\n",
    "    plt.plot(np.real(w), np.imag(w))\n",
    "    plt.axis('equal')\n",
    "    # plt.hold('on')\n",
    "    plt.plot([0, np.real(wmax)[0]], [0, np.imag(wmax)[0]], 'm')\n",
    "    plt.plot([0, np.real(wmin)[0]], [0, np.imag(wmin)[0]], 'm')\n",
    "    plt.xlabel('u')\n",
    "    plt.ylabel('v')\n",
    "    if color:\n",
    "        plt.plot(np.real(a), np.imag(a), 'k')\n",
    "        plt.plot(np.real(b), np.imag(b), 'k')\n",
    "        plt.plot(np.real(w), np.imag(w), 'k')\n",
    "    else:\n",
    "        plt.plot(np.real(a), np.imag(a), 'r')\n",
    "        plt.plot(np.real(b), np.imag(b), 'g')\n",
    "    plt.plot([0, np.real(a[0])], [0, np.imag(a[0])], 'ro')\n",
    "    plt.plot([0, np.real(b[0])], [0, np.imag(b[0])], 'go')\n",
    "    plt.plot([0, np.real(w[0])], [0, np.imag(w[0])], 'bo')\n",
    "    plt.plot(np.real(a[0]), np.imag(a[0]), 'ro')\n",
    "    plt.plot(np.real(b[0]), np.imag(b[0]), 'go')\n",
    "    plt.plot(np.real(w[0]), np.imag(w[0]), 'bo')\n",
    "    plt.plot(np.real([a[0], a[0]+b[0]]), np.imag([a[0], a[0]+b[0]]), linestyle='--', color='g')\n",
    "    plt.plot(np.real([b[0], a[0]+b[0]]), np.imag([b[0], a[0]+b[0]]), linestyle='--', color='r')\n",
    "\n",
    "    for n in range(len(ot)):\n",
    "        # plt.hold('on')\n",
    "        plt.plot(np.real(a[n]), np.imag(a[n]), 'ro')\n",
    "        plt.plot(np.real(b[n]), np.imag(b[n]), 'go')\n",
    "        plt.plot(np.real(w[n]), np.imag(w[n]), 'bo')\n",
    "\n",
    "    # plt.hold('off')    \n",
    "    return plt"
   ]
  },
  {
   "cell_type": "code",
   "execution_count": 16,
   "id": "58776bcb-5c40-4bff-87c9-edea63219572",
   "metadata": {
    "tags": []
   },
   "outputs": [
    {
     "data": {
      "text/plain": [
       "<module 'matplotlib.pyplot' from '/Users/bell/mambaforge/envs/py311/lib/python3.11/site-packages/matplotlib/pyplot.py'>"
      ]
     },
     "execution_count": 16,
     "metadata": {},
     "output_type": "execute_result"
    },
    {
     "data": {
      "image/png": "[encoded data removed]",
      "text/plain": [
       "<Figure size 640x480 with 1 Axes>"
      ]
     },
     "metadata": {},
     "output_type": "display_data"
    }
   ],
   "source": [
    "plot_ellipse(SEMA.values, ECC.values, INC.values, PHA.values)"
   ]
  },
  {
   "cell_type": "code",
   "execution_count": null,
   "id": "784006ca-8fe8-4cf5-a38a-dddae598eb26",
   "metadata": {},
   "outputs": [],
   "source": []
  }
 ],
 "metadata": {
  "kernelspec": {
   "display_name": "Python [conda env:py311]",
   "language": "python",
   "name": "conda-env-py311-py"
  },
  "language_info": {
   "codemirror_mode": {
    "name": "ipython",
    "version": 3
   },
   "file_extension": ".py",
   "mimetype": "text/x-python",
   "name": "python",
   "nbconvert_exporter": "python",
   "pygments_lexer": "ipython3",
   "version": "3.11.5"
  }
 },
 "nbformat": 4,
 "nbformat_minor": 5
}
