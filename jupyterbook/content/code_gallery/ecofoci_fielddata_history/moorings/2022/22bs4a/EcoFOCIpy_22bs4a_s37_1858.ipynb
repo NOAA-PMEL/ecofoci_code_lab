{
 "cells": [
  {
   "cell_type": "markdown",
   "id": "educational-chosen",
   "metadata": {},
   "source": [
    "# Using EcoFOCIpy to process raw field data\n",
    "\n",
    "## Mooring / Timeseries Data\n",
    "\n",
    "Basic workflow for each instrument grouping is *(initial archive level)*:\n",
    "- Parse data from raw files into pandas dataframe\n",
    "- output initial files (pandas->csv) **ERDDAP NRT** when no meta data is added\n",
    "\n",
    "Convert to xarray dataframe for all following work *(working or final data level):\n",
    "- TODO: Add metadata from instrument yaml files and/or header info\n",
    "- ingest metadata from deployment/recovery records or cast logs\n",
    "- process data beyond simple file translate\n",
    "- apply any calibrations or corrections\n",
    "    + field corrections\n",
    "    + offsets\n",
    "    + instrument compensations\n",
    "    + some QC were available... this would be old-school simple bounds mostly\n",
    "- adjust time bounds and sample frequency (xarray dataframe)\n",
    "- save as CF netcdf via xarray: so many of the steps above are optional\n",
    "    + **ERDDAP NRT** if no corrections, offsets or time bounds are applied but some meta data is\n",
    "    + **Working and awaiting QC** has no ERDDAP representation and is a holding spot\n",
    "    + **ERDDAP Final** fully calibrated, qc'd and populated with meta information\n",
    "\n",
    "Plot for preview and QC\n",
    "- preview images (indiv and/or collectively)\n",
    "- manual qc process\n",
    "- automated qc process ML/AI\n",
    "\n",
    "Further refinenments for ERDDAP hosting:\n"
   ]
  },
  {
   "cell_type": "markdown",
   "id": "allied-miniature",
   "metadata": {},
   "source": [
    "## Example below is for SBE-37 but the workflow is similar for all instruments.\n",
    "\n",
    "Future processing of this instrument can be a simplified (no markdown) process which can be archived so that the procedure can be traced or updated"
   ]
  },
  {
   "cell_type": "code",
   "execution_count": 1,
   "id": "studied-pollution",
   "metadata": {
    "tags": []
   },
   "outputs": [],
   "source": [
    "%matplotlib inline\n",
    "import matplotlib.pyplot as plt\n",
    "import yaml\n",
    "\n",
    "import EcoFOCIpy.io.sbe_parser as sbe_parser #<- instrument specific\n",
    "import EcoFOCIpy.io.ncCFsave as ncCFsave\n",
    "import EcoFOCIpy.metaconfig.load_config as load_config"
   ]
  },
  {
   "cell_type": "markdown",
   "id": "public-millennium",
   "metadata": {},
   "source": [
    "The sample_data_dir should be included in the github package but may not be included in the pip install of the package\n",
    "\n",
    "## Simple Processing - first step"
   ]
  },
  {
   "cell_type": "code",
   "execution_count": 2,
   "id": "offensive-level",
   "metadata": {
    "tags": []
   },
   "outputs": [],
   "source": [
    "sample_data_dir = '/Users/bell/Programs/EcoFOCIpy/'\n",
    "user_data_dir = '/Users/bell/ecoraid/2022/Moorings/22bs4a/'"
   ]
  },
  {
   "cell_type": "code",
   "execution_count": 3,
   "id": "third-yellow",
   "metadata": {
    "tags": []
   },
   "outputs": [],
   "source": [
    "###############################################################\n",
    "# edit to point to {instrument sepcific} raw datafile \n",
    "datafile = user_data_dir+'raw/sbe37/22BS4A_sbe37_SN1858_55m.asc'\n",
    "instrument = 'SBE-37 1858'\n",
    "mooring_meta_file = user_data_dir+'logs/22BS-4A.yaml'\n",
    "inst_meta_file = sample_data_dir+'staticdata/instr_metaconfig/sbe37_cf.yaml'\n",
    "institution_meta_file = sample_data_dir+'staticdata/institutional_meta_example.yaml' #include uaf?\n",
    "inst_shortname = 's37'\n",
    "###############################################################\n",
    "\n",
    "#init and load data\n",
    "sbe37_wop = sbe_parser.sbe37()\n",
    "(sbe37_wop_data,sbe37_wop_header) = sbe37_wop.parse(filename=datafile,\n",
    "                                                    return_header=True,\n",
    "                                                    datetime_index=True) "
   ]
  },
  {
   "cell_type": "markdown",
   "id": "metallic-youth",
   "metadata": {},
   "source": [
    "The data is output as a pandas dataframe from the intial module call and if its available, a header"
   ]
  },
  {
   "cell_type": "code",
   "execution_count": 4,
   "id": "fifteen-military",
   "metadata": {
    "tags": []
   },
   "outputs": [
    {
     "data": {
      "text/plain": [
       "['* Sea-Bird SBE37 Data File:\\n',\n",
       " '* FileName = C:\\\\Users\\\\foci\\\\Documents\\\\2023\\\\instrument_download_practice\\\\22BS4A_sbe37_SN1858_55m.asc\\n',\n",
       " '* Software Version 1.59\\n',\n",
       " '* Temperature SN = 1858\\n',\n",
       " '* Conductivity SN = 1858\\n',\n",
       " '* System UpLoad Time = Aug 31 2023 23:39:05\\n',\n",
       " '** sbe-37s\\n',\n",
       " '** 1858\\n',\n",
       " '** realtime=08/31/2023 23:37:00\\n',\n",
       " '** insttime=08/31/2023 23:41:07\\n',\n",
       " '* ds\\n',\n",
       " '* SBE37-SM V 2.3  SERIAL NO. 1858    31 Aug 2023  23:41:51\\n',\n",
       " '* not logging: received stop command\\n',\n",
       " '* sample interval = 3600 seconds\\n',\n",
       " '* samplenumber = 11616, free = 221400\\n',\n",
       " '* do not transmit real-time data\\n',\n",
       " '* store time with each sample\\n',\n",
       " '* A/D cycles to average = 4\\n',\n",
       " '* reference pressure = 55.0 db\\n',\n",
       " '* serial sync mode disabled\\n',\n",
       " '* wait time after serial sync sampling = 30 seconds\\n',\n",
       " '* temperature = 11.52 deg C\\n',\n",
       " '\\n',\n",
       " '\\n',\n",
       " '* S>\\n',\n",
       " '* SBE37-SM V 2.3  1858\\n',\n",
       " '* temperature:  05-may-21\\n',\n",
       " '*     TA0 = -2.684039e-06\\n',\n",
       " '*     TA1 = 2.765840e-04\\n',\n",
       " '*     TA2 = -2.332699e-06\\n',\n",
       " '*     TA3 = 1.593899e-07\\n',\n",
       " '* conductivity:  05-may-21\\n',\n",
       " '*     G = -1.168298e+00\\n',\n",
       " '*     H = 1.675336e-01\\n',\n",
       " '*     I = -5.066485e-03\\n',\n",
       " '*     J = 3.453208e-04\\n',\n",
       " '*     CPCOR = -9.570000e-08\\n',\n",
       " '*     CTCOR = 3.250000e-06\\n',\n",
       " '*     WBOTC = 4.648365e-06\\n',\n",
       " '* rtc:  05-may-21\\n',\n",
       " '*     RTCA0 = 9.999893e-01\\n',\n",
       " '*     RTCA1 = 1.803682e-06\\n',\n",
       " '*     RTCA2 = -3.297504e-08\\n',\n",
       " '\\n',\n",
       " '\\n',\n",
       " '* S> \\n',\n",
       " '*END*\\n']"
      ]
     },
     "execution_count": 4,
     "metadata": {},
     "output_type": "execute_result"
    }
   ],
   "source": [
    "sbe37_wop_header"
   ]
  },
  {
   "cell_type": "code",
   "execution_count": 5,
   "id": "alive-bruce",
   "metadata": {
    "tags": []
   },
   "outputs": [
    {
     "data": {
      "text/html": [
       "<div>\n",
       "<style scoped>\n",
       "    .dataframe tbody tr th:only-of-type {\n",
       "        vertical-align: middle;\n",
       "    }\n",
       "\n",
       "    .dataframe tbody tr th {\n",
       "        vertical-align: top;\n",
       "    }\n",
       "\n",
       "    .dataframe thead th {\n",
       "        text-align: right;\n",
       "    }\n",
       "</style>\n",
       "<table border=\"1\" class=\"dataframe\">\n",
       "  <thead>\n",
       "    <tr style=\"text-align: right;\">\n",
       "      <th></th>\n",
       "      <th>temperature</th>\n",
       "      <th>conductivity</th>\n",
       "    </tr>\n",
       "    <tr>\n",
       "      <th>date_time</th>\n",
       "      <th></th>\n",
       "      <th></th>\n",
       "    </tr>\n",
       "  </thead>\n",
       "  <tbody>\n",
       "    <tr>\n",
       "      <th>2022-05-05 00:01:25</th>\n",
       "      <td>3.8582</td>\n",
       "      <td>-0.05172</td>\n",
       "    </tr>\n",
       "    <tr>\n",
       "      <th>2022-05-05 01:01:25</th>\n",
       "      <td>3.3873</td>\n",
       "      <td>-0.05174</td>\n",
       "    </tr>\n",
       "    <tr>\n",
       "      <th>2022-05-05 02:01:25</th>\n",
       "      <td>4.5146</td>\n",
       "      <td>-0.05174</td>\n",
       "    </tr>\n",
       "    <tr>\n",
       "      <th>2022-05-05 03:01:25</th>\n",
       "      <td>4.4510</td>\n",
       "      <td>-0.05173</td>\n",
       "    </tr>\n",
       "    <tr>\n",
       "      <th>2022-05-05 04:01:25</th>\n",
       "      <td>5.1129</td>\n",
       "      <td>-0.05173</td>\n",
       "    </tr>\n",
       "    <tr>\n",
       "      <th>...</th>\n",
       "      <td>...</td>\n",
       "      <td>...</td>\n",
       "    </tr>\n",
       "    <tr>\n",
       "      <th>2023-08-31 19:01:25</th>\n",
       "      <td>7.0666</td>\n",
       "      <td>-0.04546</td>\n",
       "    </tr>\n",
       "    <tr>\n",
       "      <th>2023-08-31 20:01:25</th>\n",
       "      <td>7.4149</td>\n",
       "      <td>-0.04542</td>\n",
       "    </tr>\n",
       "    <tr>\n",
       "      <th>2023-08-31 21:01:25</th>\n",
       "      <td>7.4932</td>\n",
       "      <td>-0.04541</td>\n",
       "    </tr>\n",
       "    <tr>\n",
       "      <th>2023-08-31 22:01:25</th>\n",
       "      <td>7.9916</td>\n",
       "      <td>-0.04533</td>\n",
       "    </tr>\n",
       "    <tr>\n",
       "      <th>2023-08-31 23:01:25</th>\n",
       "      <td>8.1007</td>\n",
       "      <td>-0.04530</td>\n",
       "    </tr>\n",
       "  </tbody>\n",
       "</table>\n",
       "<p>11616 rows × 2 columns</p>\n",
       "</div>"
      ],
      "text/plain": [
       "                     temperature  conductivity\n",
       "date_time                                     \n",
       "2022-05-05 00:01:25       3.8582      -0.05172\n",
       "2022-05-05 01:01:25       3.3873      -0.05174\n",
       "2022-05-05 02:01:25       4.5146      -0.05174\n",
       "2022-05-05 03:01:25       4.4510      -0.05173\n",
       "2022-05-05 04:01:25       5.1129      -0.05173\n",
       "...                          ...           ...\n",
       "2023-08-31 19:01:25       7.0666      -0.04546\n",
       "2023-08-31 20:01:25       7.4149      -0.04542\n",
       "2023-08-31 21:01:25       7.4932      -0.04541\n",
       "2023-08-31 22:01:25       7.9916      -0.04533\n",
       "2023-08-31 23:01:25       8.1007      -0.04530\n",
       "\n",
       "[11616 rows x 2 columns]"
      ]
     },
     "execution_count": 5,
     "metadata": {},
     "output_type": "execute_result"
    }
   ],
   "source": [
    "sbe37_wop_data"
   ]
  },
  {
   "cell_type": "markdown",
   "id": "ready-audit",
   "metadata": {},
   "source": [
    "## Time properties\n",
    "\n",
    "Its unusual that our clocks drift to the point of concern for our instruments (if an instrument is off by 3 minutes but only sampling hourly... regridding that data will result in minimal changes).  However, there are a few time oriented modifications that may need to be made."
   ]
  },
  {
   "cell_type": "markdown",
   "id": "supposed-bankruptcy",
   "metadata": {},
   "source": [
    "It is very easy to use pandas interplation and resample methods on the dataframe as is.  A few steps are suggested below:\n",
    "- parse out on-deck (predeployment and recovery) data.  This can be done via pandas or xarray but requires the mooring metadata to have been read in.  See future steps below.\n",
    "- even if the sample frequency is set to the desired measurement frequency, it would be good to perform a quick regridding as an assurance task\n",
    "- FOCI data is usualy 1min, 10min, 1hr - and the 1min data is a fairly new (sbe56) data stream\n",
    "    + subsampling high frequency data to lower frequency is easy via df.resample().mean()\n",
    "    + you may want to take the median instead of the mean for noisy data (fluorometer) , occasionally decimating may be more appropriate if you want to downsize the dataset size but not smear features\n",
    "    + shifting times can be a bit more involved.  There are two primary ways to do it, interpolate or shift\n",
    "        - to interpolate, you will need to upsample your data to a higher frequency which will generate missing values, then interpolate (with a maximum gap size), then decimate.  This always has the artifact of smoothing data and decreasing the min/max values. **common on microcats and other 10min datasets**\n",
    "        - shifting usually just involves droping extra time \"digits\", if you want hourly, you could just drop the trailing minutes assuming you are just off the hour (8:05 -> 8:00) or you can round to the nearest time unit but niether of these changes the data value, just the time associated with it. **common on seacats and other hourly datasets**\n",
    "    + I suggest if no change is needed... resample().mean() to the sample frequency just in case there is a small deviation from expected (<1min)\n",
    "    "
   ]
  },
  {
   "cell_type": "code",
   "execution_count": 6,
   "id": "fourth-perspective",
   "metadata": {
    "tags": []
   },
   "outputs": [
    {
     "data": {
      "text/html": [
       "<div>\n",
       "<style scoped>\n",
       "    .dataframe tbody tr th:only-of-type {\n",
       "        vertical-align: middle;\n",
       "    }\n",
       "\n",
       "    .dataframe tbody tr th {\n",
       "        vertical-align: top;\n",
       "    }\n",
       "\n",
       "    .dataframe thead th {\n",
       "        text-align: right;\n",
       "    }\n",
       "</style>\n",
       "<table border=\"1\" class=\"dataframe\">\n",
       "  <thead>\n",
       "    <tr style=\"text-align: right;\">\n",
       "      <th></th>\n",
       "      <th>temperature</th>\n",
       "      <th>conductivity</th>\n",
       "    </tr>\n",
       "    <tr>\n",
       "      <th>date_time</th>\n",
       "      <th></th>\n",
       "      <th></th>\n",
       "    </tr>\n",
       "  </thead>\n",
       "  <tbody>\n",
       "    <tr>\n",
       "      <th>2022-05-05 00:00:00</th>\n",
       "      <td>3.8582</td>\n",
       "      <td>-0.05172</td>\n",
       "    </tr>\n",
       "    <tr>\n",
       "      <th>2022-05-05 01:00:00</th>\n",
       "      <td>3.3873</td>\n",
       "      <td>-0.05174</td>\n",
       "    </tr>\n",
       "    <tr>\n",
       "      <th>2022-05-05 02:00:00</th>\n",
       "      <td>4.5146</td>\n",
       "      <td>-0.05174</td>\n",
       "    </tr>\n",
       "    <tr>\n",
       "      <th>2022-05-05 03:00:00</th>\n",
       "      <td>4.4510</td>\n",
       "      <td>-0.05173</td>\n",
       "    </tr>\n",
       "    <tr>\n",
       "      <th>2022-05-05 04:00:00</th>\n",
       "      <td>5.1129</td>\n",
       "      <td>-0.05173</td>\n",
       "    </tr>\n",
       "    <tr>\n",
       "      <th>...</th>\n",
       "      <td>...</td>\n",
       "      <td>...</td>\n",
       "    </tr>\n",
       "    <tr>\n",
       "      <th>2023-08-31 19:00:00</th>\n",
       "      <td>7.0666</td>\n",
       "      <td>-0.04546</td>\n",
       "    </tr>\n",
       "    <tr>\n",
       "      <th>2023-08-31 20:00:00</th>\n",
       "      <td>7.4149</td>\n",
       "      <td>-0.04542</td>\n",
       "    </tr>\n",
       "    <tr>\n",
       "      <th>2023-08-31 21:00:00</th>\n",
       "      <td>7.4932</td>\n",
       "      <td>-0.04541</td>\n",
       "    </tr>\n",
       "    <tr>\n",
       "      <th>2023-08-31 22:00:00</th>\n",
       "      <td>7.9916</td>\n",
       "      <td>-0.04533</td>\n",
       "    </tr>\n",
       "    <tr>\n",
       "      <th>2023-08-31 23:00:00</th>\n",
       "      <td>8.1007</td>\n",
       "      <td>-0.04530</td>\n",
       "    </tr>\n",
       "  </tbody>\n",
       "</table>\n",
       "<p>11616 rows × 2 columns</p>\n",
       "</div>"
      ],
      "text/plain": [
       "                     temperature  conductivity\n",
       "date_time                                     \n",
       "2022-05-05 00:00:00       3.8582      -0.05172\n",
       "2022-05-05 01:00:00       3.3873      -0.05174\n",
       "2022-05-05 02:00:00       4.5146      -0.05174\n",
       "2022-05-05 03:00:00       4.4510      -0.05173\n",
       "2022-05-05 04:00:00       5.1129      -0.05173\n",
       "...                          ...           ...\n",
       "2023-08-31 19:00:00       7.0666      -0.04546\n",
       "2023-08-31 20:00:00       7.4149      -0.04542\n",
       "2023-08-31 21:00:00       7.4932      -0.04541\n",
       "2023-08-31 22:00:00       7.9916      -0.04533\n",
       "2023-08-31 23:00:00       8.1007      -0.04530\n",
       "\n",
       "[11616 rows x 2 columns]"
      ]
     },
     "execution_count": 6,
     "metadata": {},
     "output_type": "execute_result"
    }
   ],
   "source": [
    "sbe37_wop_data.index = sbe37_wop_data.index.round(freq='1H')\n",
    "sbe37_wop_data"
   ]
  },
  {
   "cell_type": "code",
   "execution_count": 7,
   "id": "undefined-membrane",
   "metadata": {
    "tags": []
   },
   "outputs": [
    {
     "data": {
      "text/plain": [
       "<Axes: xlabel='date_time'>"
      ]
     },
     "execution_count": 7,
     "metadata": {},
     "output_type": "execute_result"
    },
    {
     "data": {
      "image/png": "[encoded data removed]",
      "text/plain": [
       "<Figure size 640x480 with 1 Axes>"
      ]
     },
     "metadata": {},
     "output_type": "display_data"
    }
   ],
   "source": [
    "sbe37_wop_data.plot()"
   ]
  },
  {
   "cell_type": "markdown",
   "id": "acknowledged-active",
   "metadata": {},
   "source": [
    "## Add Deployment meta information\n",
    "\n",
    "Two methods are available (if comming from python2 world - ordereddict was important... in py38 a dictionary is inherently ordered)"
   ]
  },
  {
   "cell_type": "code",
   "execution_count": 8,
   "id": "freelance-fairy",
   "metadata": {
    "tags": []
   },
   "outputs": [],
   "source": [
    "#just a dictionary of dictionaries - simple\n",
    "with open(mooring_meta_file) as file:\n",
    "    mooring_config = yaml.full_load(file)"
   ]
  },
  {
   "cell_type": "code",
   "execution_count": 9,
   "id": "ef639835-3d06-4b26-bc62-5d07a01fa3fd",
   "metadata": {
    "tags": []
   },
   "outputs": [],
   "source": [
    "#just a dictionary of dictionaries - simple\n",
    "with open(institution_meta_file) as file:\n",
    "    institution_config = yaml.full_load(file)"
   ]
  },
  {
   "cell_type": "markdown",
   "id": "aaf24c5c-1460-47e8-839d-301529bf0699",
   "metadata": {
    "tags": []
   },
   "source": [
    "## Add Salinity via seawater tools ##\n",
    "\n",
    "- this is an unusual step as its usually calculated internally"
   ]
  },
  {
   "cell_type": "code",
   "execution_count": 10,
   "id": "73495235-b229-4b75-8bfe-80ed8d5fff14",
   "metadata": {
    "tags": []
   },
   "outputs": [],
   "source": [
    "import seawater as sw"
   ]
  },
  {
   "cell_type": "code",
   "execution_count": 11,
   "id": "7aac90a4-b6e1-42b8-b242-d6265cfad79c",
   "metadata": {
    "tags": []
   },
   "outputs": [
    {
     "name": "stderr",
     "output_type": "stream",
     "text": [
      "/Users/bell/mambaforge/envs/py310/lib/python3.10/site-packages/seawater/library.py:363: RuntimeWarning: invalid value encountered in sqrt\n",
      "  Rtx = (rt) ** 0.5\n"
     ]
    }
   ],
   "source": [
    "sbe37_wop_data['salinity'] = sw.salt(sbe37_wop_data.conductivity * 10 / 42.914, \n",
    "        sbe37_wop_data.temperature, \n",
    "        (sbe37_wop_data.temperature * 0 ) + int(mooring_config['Instrumentation'][instrument]['ActualDepth']))"
   ]
  },
  {
   "cell_type": "markdown",
   "id": "mysterious-cornwall",
   "metadata": {},
   "source": [
    "## Add Instrument meta information\n",
    "\n",
    "Time, depth, lat, lon should be added regardless (always our coordinates) but for a mooring site its going to be a (1,1,1,t) dataset\n",
    "The variables of interest should be read from the data file and matched to a key for naming.  That key is in the inst_config file seen below and should represent common conversion names in the raw data"
   ]
  },
  {
   "cell_type": "code",
   "execution_count": 12,
   "id": "476e2edd",
   "metadata": {
    "tags": []
   },
   "outputs": [],
   "source": [
    "with open(inst_meta_file) as file:\n",
    "    inst_config = yaml.full_load(file)"
   ]
  },
  {
   "cell_type": "code",
   "execution_count": 13,
   "id": "varied-popularity",
   "metadata": {
    "tags": []
   },
   "outputs": [
    {
     "data": {
      "text/plain": [
       "<EcoFOCIpy.io.ncCFsave.EcoFOCI_CFnc at 0x28462ae00>"
      ]
     },
     "execution_count": 13,
     "metadata": {},
     "output_type": "execute_result"
    }
   ],
   "source": [
    "# Add meta data and prelim processing based on meta data\n",
    "# Convert to xarray and add meta information - save as CF netcdf file\n",
    "# pass -> data, instmeta, depmeta\n",
    "sbe37_wop_nc = ncCFsave.EcoFOCI_CFnc(df=sbe37_wop_data, \n",
    "                                instrument_yaml=inst_config, \n",
    "                                operation_yaml=mooring_config,\n",
    "                                operation_type='mooring', \n",
    "                                instrument_id=instrument, \n",
    "                                inst_shortname=inst_shortname)\n",
    "sbe37_wop_nc"
   ]
  },
  {
   "cell_type": "markdown",
   "id": "asian-chambers",
   "metadata": {},
   "source": [
    "At this point, you could save your file with the `.xarray2netcdf_save()` method and have a functioning dataset.... but it would be very simple with no additional qc, meta-data, or tuned parameters for optimizing software like ferret or erddap."
   ]
  },
  {
   "cell_type": "code",
   "execution_count": 14,
   "id": "practical-pennsylvania",
   "metadata": {
    "tags": []
   },
   "outputs": [],
   "source": [
    "# expand the dimensions and coordinate variables\n",
    "# renames them appropriatley and prepares them for meta-filled values\n",
    "sbe37_wop_nc.expand_dimensions()"
   ]
  },
  {
   "cell_type": "code",
   "execution_count": 15,
   "id": "floral-operations",
   "metadata": {
    "tags": []
   },
   "outputs": [],
   "source": [
    "sbe37_wop_nc.variable_meta_data(variable_keys=list(sbe37_wop_data.columns.values),drop_missing=True)\n",
    "sbe37_wop_nc.temporal_geospatioal_meta_data(depth='actual')\n",
    "#adding dimension meta needs to come after updating the dimension values... BUG?\n",
    "sbe37_wop_nc.dimension_meta_data(variable_keys=['depth','latitude','longitude'])"
   ]
  },
  {
   "cell_type": "markdown",
   "id": "seventh-product",
   "metadata": {},
   "source": [
    "The following steps can happen in just about any order and are all meta-data driven.  Therefore, they are not required to have a functioning dataset, but they are required to have a well described dataset"
   ]
  },
  {
   "cell_type": "code",
   "execution_count": 16,
   "id": "auburn-diversity",
   "metadata": {
    "tags": []
   },
   "outputs": [],
   "source": [
    "#add global attributes\n",
    "sbe37_wop_nc.deployment_meta_add()\n",
    "sbe37_wop_nc.get_xdf()\n",
    "\n",
    "#add instituitonal global attributes\n",
    "sbe37_wop_nc.institution_meta_add(institution_yaml=institution_config)\n",
    "\n",
    "#add instrument global attributes\n",
    "sbe37_wop_nc.instrument_meta_data()\n",
    "\n",
    "#add creation date/time - provenance data\n",
    "sbe37_wop_nc.provinance_meta_add()\n",
    "\n",
    "#provide intial qc status field\n",
    "sbe37_wop_nc.qc_status(qc_status='unknown')"
   ]
  },
  {
   "cell_type": "markdown",
   "id": "sustained-hughes",
   "metadata": {},
   "source": [
    "## Save CF Netcdf files\n",
    "\n",
    "Currently stick to netcdf3 classic... but migrating to netcdf4 (default) may be no problems for most modern purposes.  Its easy enough to pass the `format` kwargs through to the netcdf api of xarray."
   ]
  },
  {
   "cell_type": "code",
   "execution_count": 17,
   "id": "modular-volunteer",
   "metadata": {
    "tags": []
   },
   "outputs": [],
   "source": [
    "# combine trim (not mandatory) and filename together (saves to test.nc without name)\n",
    "\n",
    "depth = str(int(mooring_config['Instrumentation'][instrument]['ActualDepth'])).zfill(4)\n",
    "# mooring_yaml['Instrumentation'][self.instrument_id]['DesignedDepth'])).zfill(4) #<-- alternative\n",
    "filename = \"\".join(mooring_config['MooringID'].split('-')).lower()+'_'+inst_shortname+'_'+depth+'m.nc'\n",
    "sbe37_wop_nc.xarray2netcdf_save(xdf = sbe37_wop_nc.autotrim_time(),\n",
    "                           filename=filename,format=\"NETCDF3_CLASSIC\")\n",
    "\n",
    "# don't trim the data and pass your own filename\n",
    "# sbe37_wop_nc.xarray2netcdf_save(xdf = sbe37_wop_nc.get_xdf(),\n",
    "#                            filename=filename,format=\"NETCDF4_CLASSIC\")"
   ]
  },
  {
   "cell_type": "code",
   "execution_count": 18,
   "id": "e56f5fce-3fde-40a4-8655-3e0e06b5c6dc",
   "metadata": {
    "tags": []
   },
   "outputs": [
    {
     "data": {
      "text/html": [
       "<div><svg style=\"position: absolute; width: 0; height: 0; overflow: hidden\">\n",
       "<defs>\n",
       "<symbol id=\"icon-database\" viewBox=\"0 0 32 32\">\n",
       "<path d=\"M16 0c-8.837 0-16 2.239-16 5v4c0 2.761 7.163 5 16 5s16-2.239 16-5v-4c0-2.761-7.163-5-16-5z\"></path>\n",
       "<path d=\"M16 17c-8.837 0-16-2.239-16-5v6c0 2.761 7.163 5 16 5s16-2.239 16-5v-6c0 2.761-7.163 5-16 5z\"></path>\n",
       "<path d=\"M16 26c-8.837 0-16-2.239-16-5v6c0 2.761 7.163 5 16 5s16-2.239 16-5v-6c0 2.761-7.163 5-16 5z\"></path>\n",
       "</symbol>\n",
       "<symbol id=\"icon-file-text2\" viewBox=\"0 0 32 32\">\n",
       "<path d=\"M28.681 7.159c-0.694-0.947-1.662-2.053-2.724-3.116s-2.169-2.030-3.116-2.724c-1.612-1.182-2.393-1.319-2.841-1.319h-15.5c-1.378 0-2.5 1.121-2.5 2.5v27c0 1.378 1.122 2.5 2.5 2.5h23c1.378 0 2.5-1.122 2.5-2.5v-19.5c0-0.448-0.137-1.23-1.319-2.841zM24.543 5.457c0.959 0.959 1.712 1.825 2.268 2.543h-4.811v-4.811c0.718 0.556 1.584 1.309 2.543 2.268zM28 29.5c0 0.271-0.229 0.5-0.5 0.5h-23c-0.271 0-0.5-0.229-0.5-0.5v-27c0-0.271 0.229-0.5 0.5-0.5 0 0 15.499-0 15.5 0v7c0 0.552 0.448 1 1 1h7v19.5z\"></path>\n",
       "<path d=\"M23 26h-14c-0.552 0-1-0.448-1-1s0.448-1 1-1h14c0.552 0 1 0.448 1 1s-0.448 1-1 1z\"></path>\n",
       "<path d=\"M23 22h-14c-0.552 0-1-0.448-1-1s0.448-1 1-1h14c0.552 0 1 0.448 1 1s-0.448 1-1 1z\"></path>\n",
       "<path d=\"M23 18h-14c-0.552 0-1-0.448-1-1s0.448-1 1-1h14c0.552 0 1 0.448 1 1s-0.448 1-1 1z\"></path>\n",
       "</symbol>\n",
       "</defs>\n",
       "</svg>\n",
       "<style>/* CSS stylesheet for displaying xarray objects in jupyterlab.\n",
       " *\n",
       " */\n",
       "\n",
       ":root {\n",
       "  --xr-font-color0: var(--jp-content-font-color0, rgba(0, 0, 0, 1));\n",
       "  --xr-font-color2: var(--jp-content-font-color2, rgba(0, 0, 0, 0.54));\n",
       "  --xr-font-color3: var(--jp-content-font-color3, rgba(0, 0, 0, 0.38));\n",
       "  --xr-border-color: var(--jp-border-color2, #e0e0e0);\n",
       "  --xr-disabled-color: var(--jp-layout-color3, #bdbdbd);\n",
       "  --xr-background-color: var(--jp-layout-color0, white);\n",
       "  --xr-background-color-row-even: var(--jp-layout-color1, white);\n",
       "  --xr-background-color-row-odd: var(--jp-layout-color2, #eeeeee);\n",
       "}\n",
       "\n",
       "html[theme=dark],\n",
       "body[data-theme=dark],\n",
       "body.vscode-dark {\n",
       "  --xr-font-color0: rgba(255, 255, 255, 1);\n",
       "  --xr-font-color2: rgba(255, 255, 255, 0.54);\n",
       "  --xr-font-color3: rgba(255, 255, 255, 0.38);\n",
       "  --xr-border-color: #1F1F1F;\n",
       "  --xr-disabled-color: #515151;\n",
       "  --xr-background-color: #111111;\n",
       "  --xr-background-color-row-even: #111111;\n",
       "  --xr-background-color-row-odd: #313131;\n",
       "}\n",
       "\n",
       ".xr-wrap {\n",
       "  display: block !important;\n",
       "  min-width: 300px;\n",
       "  max-width: 700px;\n",
       "}\n",
       "\n",
       ".xr-text-repr-fallback {\n",
       "  /* fallback to plain text repr when CSS is not injected (untrusted notebook) */\n",
       "  display: none;\n",
       "}\n",
       "\n",
       ".xr-header {\n",
       "  padding-top: 6px;\n",
       "  padding-bottom: 6px;\n",
       "  margin-bottom: 4px;\n",
       "  border-bottom: solid 1px var(--xr-border-color);\n",
       "}\n",
       "\n",
       ".xr-header > div,\n",
       ".xr-header > ul {\n",
       "  display: inline;\n",
       "  margin-top: 0;\n",
       "  margin-bottom: 0;\n",
       "}\n",
       "\n",
       ".xr-obj-type,\n",
       ".xr-array-name {\n",
       "  margin-left: 2px;\n",
       "  margin-right: 10px;\n",
       "}\n",
       "\n",
       ".xr-obj-type {\n",
       "  color: var(--xr-font-color2);\n",
       "}\n",
       "\n",
       ".xr-sections {\n",
       "  padding-left: 0 !important;\n",
       "  display: grid;\n",
       "  grid-template-columns: 150px auto auto 1fr 20px 20px;\n",
       "}\n",
       "\n",
       ".xr-section-item {\n",
       "  display: contents;\n",
       "}\n",
       "\n",
       ".xr-section-item input {\n",
       "  display: none;\n",
       "}\n",
       "\n",
       ".xr-section-item input + label {\n",
       "  color: var(--xr-disabled-color);\n",
       "}\n",
       "\n",
       ".xr-section-item input:enabled + label {\n",
       "  cursor: pointer;\n",
       "  color: var(--xr-font-color2);\n",
       "}\n",
       "\n",
       ".xr-section-item input:enabled + label:hover {\n",
       "  color: var(--xr-font-color0);\n",
       "}\n",
       "\n",
       ".xr-section-summary {\n",
       "  grid-column: 1;\n",
       "  color: var(--xr-font-color2);\n",
       "  font-weight: 500;\n",
       "}\n",
       "\n",
       ".xr-section-summary > span {\n",
       "  display: inline-block;\n",
       "  padding-left: 0.5em;\n",
       "}\n",
       "\n",
       ".xr-section-summary-in:disabled + label {\n",
       "  color: var(--xr-font-color2);\n",
       "}\n",
       "\n",
       ".xr-section-summary-in + label:before {\n",
       "  display: inline-block;\n",
       "  content: '►';\n",
       "  font-size: 11px;\n",
       "  width: 15px;\n",
       "  text-align: center;\n",
       "}\n",
       "\n",
       ".xr-section-summary-in:disabled + label:before {\n",
       "  color: var(--xr-disabled-color);\n",
       "}\n",
       "\n",
       ".xr-section-summary-in:checked + label:before {\n",
       "  content: '▼';\n",
       "}\n",
       "\n",
       ".xr-section-summary-in:checked + label > span {\n",
       "  display: none;\n",
       "}\n",
       "\n",
       ".xr-section-summary,\n",
       ".xr-section-inline-details {\n",
       "  padding-top: 4px;\n",
       "  padding-bottom: 4px;\n",
       "}\n",
       "\n",
       ".xr-section-inline-details {\n",
       "  grid-column: 2 / -1;\n",
       "}\n",
       "\n",
       ".xr-section-details {\n",
       "  display: none;\n",
       "  grid-column: 1 / -1;\n",
       "  margin-bottom: 5px;\n",
       "}\n",
       "\n",
       ".xr-section-summary-in:checked ~ .xr-section-details {\n",
       "  display: contents;\n",
       "}\n",
       "\n",
       ".xr-array-wrap {\n",
       "  grid-column: 1 / -1;\n",
       "  display: grid;\n",
       "  grid-template-columns: 20px auto;\n",
       "}\n",
       "\n",
       ".xr-array-wrap > label {\n",
       "  grid-column: 1;\n",
       "  vertical-align: top;\n",
       "}\n",
       "\n",
       ".xr-preview {\n",
       "  color: var(--xr-font-color3);\n",
       "}\n",
       "\n",
       ".xr-array-preview,\n",
       ".xr-array-data {\n",
       "  padding: 0 5px !important;\n",
       "  grid-column: 2;\n",
       "}\n",
       "\n",
       ".xr-array-data,\n",
       ".xr-array-in:checked ~ .xr-array-preview {\n",
       "  display: none;\n",
       "}\n",
       "\n",
       ".xr-array-in:checked ~ .xr-array-data,\n",
       ".xr-array-preview {\n",
       "  display: inline-block;\n",
       "}\n",
       "\n",
       ".xr-dim-list {\n",
       "  display: inline-block !important;\n",
       "  list-style: none;\n",
       "  padding: 0 !important;\n",
       "  margin: 0;\n",
       "}\n",
       "\n",
       ".xr-dim-list li {\n",
       "  display: inline-block;\n",
       "  padding: 0;\n",
       "  margin: 0;\n",
       "}\n",
       "\n",
       ".xr-dim-list:before {\n",
       "  content: '(';\n",
       "}\n",
       "\n",
       ".xr-dim-list:after {\n",
       "  content: ')';\n",
       "}\n",
       "\n",
       ".xr-dim-list li:not(:last-child):after {\n",
       "  content: ',';\n",
       "  padding-right: 5px;\n",
       "}\n",
       "\n",
       ".xr-has-index {\n",
       "  font-weight: bold;\n",
       "}\n",
       "\n",
       ".xr-var-list,\n",
       ".xr-var-item {\n",
       "  display: contents;\n",
       "}\n",
       "\n",
       ".xr-var-item > div,\n",
       ".xr-var-item label,\n",
       ".xr-var-item > .xr-var-name span {\n",
       "  background-color: var(--xr-background-color-row-even);\n",
       "  margin-bottom: 0;\n",
       "}\n",
       "\n",
       ".xr-var-item > .xr-var-name:hover span {\n",
       "  padding-right: 5px;\n",
       "}\n",
       "\n",
       ".xr-var-list > li:nth-child(odd) > div,\n",
       ".xr-var-list > li:nth-child(odd) > label,\n",
       ".xr-var-list > li:nth-child(odd) > .xr-var-name span {\n",
       "  background-color: var(--xr-background-color-row-odd);\n",
       "}\n",
       "\n",
       ".xr-var-name {\n",
       "  grid-column: 1;\n",
       "}\n",
       "\n",
       ".xr-var-dims {\n",
       "  grid-column: 2;\n",
       "}\n",
       "\n",
       ".xr-var-dtype {\n",
       "  grid-column: 3;\n",
       "  text-align: right;\n",
       "  color: var(--xr-font-color2);\n",
       "}\n",
       "\n",
       ".xr-var-preview {\n",
       "  grid-column: 4;\n",
       "}\n",
       "\n",
       ".xr-index-preview {\n",
       "  grid-column: 2 / 5;\n",
       "  color: var(--xr-font-color2);\n",
       "}\n",
       "\n",
       ".xr-var-name,\n",
       ".xr-var-dims,\n",
       ".xr-var-dtype,\n",
       ".xr-preview,\n",
       ".xr-attrs dt {\n",
       "  white-space: nowrap;\n",
       "  overflow: hidden;\n",
       "  text-overflow: ellipsis;\n",
       "  padding-right: 10px;\n",
       "}\n",
       "\n",
       ".xr-var-name:hover,\n",
       ".xr-var-dims:hover,\n",
       ".xr-var-dtype:hover,\n",
       ".xr-attrs dt:hover {\n",
       "  overflow: visible;\n",
       "  width: auto;\n",
       "  z-index: 1;\n",
       "}\n",
       "\n",
       ".xr-var-attrs,\n",
       ".xr-var-data,\n",
       ".xr-index-data {\n",
       "  display: none;\n",
       "  background-color: var(--xr-background-color) !important;\n",
       "  padding-bottom: 5px !important;\n",
       "}\n",
       "\n",
       ".xr-var-attrs-in:checked ~ .xr-var-attrs,\n",
       ".xr-var-data-in:checked ~ .xr-var-data,\n",
       ".xr-index-data-in:checked ~ .xr-index-data {\n",
       "  display: block;\n",
       "}\n",
       "\n",
       ".xr-var-data > table {\n",
       "  float: right;\n",
       "}\n",
       "\n",
       ".xr-var-name span,\n",
       ".xr-var-data,\n",
       ".xr-index-name div,\n",
       ".xr-index-data,\n",
       ".xr-attrs {\n",
       "  padding-left: 25px !important;\n",
       "}\n",
       "\n",
       ".xr-attrs,\n",
       ".xr-var-attrs,\n",
       ".xr-var-data,\n",
       ".xr-index-data {\n",
       "  grid-column: 1 / -1;\n",
       "}\n",
       "\n",
       "dl.xr-attrs {\n",
       "  padding: 0;\n",
       "  margin: 0;\n",
       "  display: grid;\n",
       "  grid-template-columns: 125px auto;\n",
       "}\n",
       "\n",
       ".xr-attrs dt,\n",
       ".xr-attrs dd {\n",
       "  padding: 0;\n",
       "  margin: 0;\n",
       "  float: left;\n",
       "  padding-right: 10px;\n",
       "  width: auto;\n",
       "}\n",
       "\n",
       ".xr-attrs dt {\n",
       "  font-weight: normal;\n",
       "  grid-column: 1;\n",
       "}\n",
       "\n",
       ".xr-attrs dt:hover span {\n",
       "  display: inline-block;\n",
       "  background: var(--xr-background-color);\n",
       "  padding-right: 10px;\n",
       "}\n",
       "\n",
       ".xr-attrs dd {\n",
       "  grid-column: 2;\n",
       "  white-space: pre-wrap;\n",
       "  word-break: break-all;\n",
       "}\n",
       "\n",
       ".xr-icon-database,\n",
       ".xr-icon-file-text2,\n",
       ".xr-no-icon {\n",
       "  display: inline-block;\n",
       "  vertical-align: middle;\n",
       "  width: 1em;\n",
       "  height: 1.5em !important;\n",
       "  stroke-width: 0;\n",
       "  stroke: currentColor;\n",
       "  fill: currentColor;\n",
       "}\n",
       "</style><pre class='xr-text-repr-fallback'>&lt;xarray.Dataset&gt;\n",
       "Dimensions:       (time: 8595, depth: 1, latitude: 1, longitude: 1)\n",
       "Coordinates:\n",
       "  * time          (time) datetime64[ns] 2022-09-05T22:00:00 ... 2023-08-30\n",
       "  * latitude      (latitude) float64 57.87\n",
       "  * longitude     (longitude) float64 -168.9\n",
       "  * depth         (depth) float64 52.0\n",
       "Data variables:\n",
       "    temperature   (time, depth, latitude, longitude) float64 1.683 ... 3.393\n",
       "    conductivity  (time, depth, latitude, longitude) float64 2.789 ... 2.947\n",
       "    salinity      (time, depth, latitude, longitude) float64 31.68 ... 31.91\n",
       "Attributes: (12/33)\n",
       "    Latitude_DegMMddW:                      57 52.291 N\n",
       "    Longitude_DegMMddN:                     168 53.262 W\n",
       "    MooringID:                              22BS-4A\n",
       "    platform_deployment_date:               2022-09-05T21:12:00Z\n",
       "    platform_deployment_cruise_name:        AQ2201\n",
       "    platform_recovery_date:                 2023-08-30T00:00:00Z\n",
       "    ...                                     ...\n",
       "    InstrumentSerialNumber:                 1858\n",
       "    InstrumentType:                         SBE-37\n",
       "    date_created:                           2023-10-18T14:45:05Z\n",
       "    date_modified:                          \n",
       "    QC_indicator:                           unknown\n",
       "    history:                                Trimmed to deployment.\\nTrimmed t...</pre><div class='xr-wrap' style='display:none'><div class='xr-header'><div class='xr-obj-type'>xarray.Dataset</div></div><ul class='xr-sections'><li class='xr-section-item'><input id='section-277f2a31-630a-4201-8d30-19ac29090e2f' class='xr-section-summary-in' type='checkbox' disabled ><label for='section-277f2a31-630a-4201-8d30-19ac29090e2f' class='xr-section-summary'  title='Expand/collapse section'>Dimensions:</label><div class='xr-section-inline-details'><ul class='xr-dim-list'><li><span class='xr-has-index'>time</span>: 8595</li><li><span class='xr-has-index'>depth</span>: 1</li><li><span class='xr-has-index'>latitude</span>: 1</li><li><span class='xr-has-index'>longitude</span>: 1</li></ul></div><div class='xr-section-details'></div></li><li class='xr-section-item'><input id='section-1420dc40-4aa6-4787-af2a-656e3fab07c3' class='xr-section-summary-in' type='checkbox'  checked><label for='section-1420dc40-4aa6-4787-af2a-656e3fab07c3' class='xr-section-summary' >Coordinates: <span>(4)</span></label><div class='xr-section-inline-details'></div><div class='xr-section-details'><ul class='xr-var-list'><li class='xr-var-item'><div class='xr-var-name'><span class='xr-has-index'>time</span></div><div class='xr-var-dims'>(time)</div><div class='xr-var-dtype'>datetime64[ns]</div><div class='xr-var-preview xr-preview'>2022-09-05T22:00:00 ... 2023-08-30</div><input id='attrs-db08c578-9c82-41f3-a866-269cceb8e172' class='xr-var-attrs-in' type='checkbox' disabled><label for='attrs-db08c578-9c82-41f3-a866-269cceb8e172' title='Show/Hide attributes'><svg class='icon xr-icon-file-text2'><use xlink:href='#icon-file-text2'></use></svg></label><input id='data-827da744-8a8e-486f-adfe-d518d4d40449' class='xr-var-data-in' type='checkbox'><label for='data-827da744-8a8e-486f-adfe-d518d4d40449' title='Show/Hide data repr'><svg class='icon xr-icon-database'><use xlink:href='#icon-database'></use></svg></label><div class='xr-var-attrs'><dl class='xr-attrs'></dl></div><div class='xr-var-data'><pre>array([&#x27;2022-09-05T22:00:00.000000000&#x27;, &#x27;2022-09-05T23:00:00.000000000&#x27;,\n",
       "       &#x27;2022-09-06T00:00:00.000000000&#x27;, ..., &#x27;2023-08-29T22:00:00.000000000&#x27;,\n",
       "       &#x27;2023-08-29T23:00:00.000000000&#x27;, &#x27;2023-08-30T00:00:00.000000000&#x27;],\n",
       "      dtype=&#x27;datetime64[ns]&#x27;)</pre></div></li><li class='xr-var-item'><div class='xr-var-name'><span class='xr-has-index'>latitude</span></div><div class='xr-var-dims'>(latitude)</div><div class='xr-var-dtype'>float64</div><div class='xr-var-preview xr-preview'>57.87</div><input id='attrs-1d3f6d79-6932-479e-8a83-3e4254f5f313' class='xr-var-attrs-in' type='checkbox' ><label for='attrs-1d3f6d79-6932-479e-8a83-3e4254f5f313' title='Show/Hide attributes'><svg class='icon xr-icon-file-text2'><use xlink:href='#icon-file-text2'></use></svg></label><input id='data-97e57789-bc02-4b41-8daf-bb9b0a0cde9a' class='xr-var-data-in' type='checkbox'><label for='data-97e57789-bc02-4b41-8daf-bb9b0a0cde9a' title='Show/Hide data repr'><svg class='icon xr-icon-database'><use xlink:href='#icon-database'></use></svg></label><div class='xr-var-attrs'><dl class='xr-attrs'><dt><span>epic_key :</span></dt><dd>LON_501</dd><dt><span>name :</span></dt><dd>latitude</dd><dt><span>generic_name :</span></dt><dd>latitude</dd><dt><span>units :</span></dt><dd>degrees_north</dd><dt><span>long_name :</span></dt><dd>latitude</dd><dt><span>standard_name :</span></dt><dd>latitude</dd></dl></div><div class='xr-var-data'><pre>array([57.871517])</pre></div></li><li class='xr-var-item'><div class='xr-var-name'><span class='xr-has-index'>longitude</span></div><div class='xr-var-dims'>(longitude)</div><div class='xr-var-dtype'>float64</div><div class='xr-var-preview xr-preview'>-168.9</div><input id='attrs-7d08fbce-7326-4ecf-a77b-72eae140a22f' class='xr-var-attrs-in' type='checkbox' ><label for='attrs-7d08fbce-7326-4ecf-a77b-72eae140a22f' title='Show/Hide attributes'><svg class='icon xr-icon-file-text2'><use xlink:href='#icon-file-text2'></use></svg></label><input id='data-b77c0a23-93a3-4812-b0c3-c7fda1707886' class='xr-var-data-in' type='checkbox'><label for='data-b77c0a23-93a3-4812-b0c3-c7fda1707886' title='Show/Hide data repr'><svg class='icon xr-icon-database'><use xlink:href='#icon-database'></use></svg></label><div class='xr-var-attrs'><dl class='xr-attrs'><dt><span>epic_key :</span></dt><dd>LAT_500</dd><dt><span>name :</span></dt><dd>longitude</dd><dt><span>generic_name :</span></dt><dd>longitude</dd><dt><span>units :</span></dt><dd>degrees_east</dd><dt><span>long_name :</span></dt><dd>longitude</dd><dt><span>standard_name :</span></dt><dd>longitude</dd></dl></div><div class='xr-var-data'><pre>array([-168.8877])</pre></div></li><li class='xr-var-item'><div class='xr-var-name'><span class='xr-has-index'>depth</span></div><div class='xr-var-dims'>(depth)</div><div class='xr-var-dtype'>float64</div><div class='xr-var-preview xr-preview'>52.0</div><input id='attrs-6c74c021-825a-4e6c-8cec-1a762578f800' class='xr-var-attrs-in' type='checkbox' ><label for='attrs-6c74c021-825a-4e6c-8cec-1a762578f800' title='Show/Hide attributes'><svg class='icon xr-icon-file-text2'><use xlink:href='#icon-file-text2'></use></svg></label><input id='data-504b3209-1ca1-4c7b-bf68-5fc3b97875ba' class='xr-var-data-in' type='checkbox'><label for='data-504b3209-1ca1-4c7b-bf68-5fc3b97875ba' title='Show/Hide data repr'><svg class='icon xr-icon-database'><use xlink:href='#icon-database'></use></svg></label><div class='xr-var-attrs'><dl class='xr-attrs'><dt><span>epic_key :</span></dt><dd>D_3</dd><dt><span>generic_name :</span></dt><dd>depth</dd><dt><span>units :</span></dt><dd>meter</dd><dt><span>long_name :</span></dt><dd>depth below surface (meters)</dd><dt><span>standard_name :</span></dt><dd>depth</dd><dt><span>positive :</span></dt><dd>down</dd></dl></div><div class='xr-var-data'><pre>array([52.])</pre></div></li></ul></div></li><li class='xr-section-item'><input id='section-e4810f6e-b5e5-495c-b24e-731bb1496d67' class='xr-section-summary-in' type='checkbox'  checked><label for='section-e4810f6e-b5e5-495c-b24e-731bb1496d67' class='xr-section-summary' >Data variables: <span>(3)</span></label><div class='xr-section-inline-details'></div><div class='xr-section-details'><ul class='xr-var-list'><li class='xr-var-item'><div class='xr-var-name'><span>temperature</span></div><div class='xr-var-dims'>(time, depth, latitude, longitude)</div><div class='xr-var-dtype'>float64</div><div class='xr-var-preview xr-preview'>1.683 1.688 1.702 ... 3.401 3.393</div><input id='attrs-f990ef3c-b62d-4488-aa23-eb78ae101ae5' class='xr-var-attrs-in' type='checkbox' ><label for='attrs-f990ef3c-b62d-4488-aa23-eb78ae101ae5' title='Show/Hide attributes'><svg class='icon xr-icon-file-text2'><use xlink:href='#icon-file-text2'></use></svg></label><input id='data-a9bee2eb-e74a-4bea-9183-5b5a1e0e4c48' class='xr-var-data-in' type='checkbox'><label for='data-a9bee2eb-e74a-4bea-9183-5b5a1e0e4c48' title='Show/Hide data repr'><svg class='icon xr-icon-database'><use xlink:href='#icon-database'></use></svg></label><div class='xr-var-attrs'><dl class='xr-attrs'><dt><span>epic_key :</span></dt><dd>T_20</dd><dt><span>generic_name :</span></dt><dd>temp</dd><dt><span>long_name :</span></dt><dd>Sea temperature in-situ ITS-90 scale</dd><dt><span>standard_name :</span></dt><dd>sea_water_temperature</dd><dt><span>units :</span></dt><dd>degree_C</dd></dl></div><div class='xr-var-data'><pre>array([[[[1.6835]]],\n",
       "\n",
       "\n",
       "       [[[1.6885]]],\n",
       "\n",
       "\n",
       "       [[[1.7015]]],\n",
       "\n",
       "\n",
       "       ...,\n",
       "\n",
       "\n",
       "       [[[3.4136]]],\n",
       "\n",
       "\n",
       "       [[[3.4012]]],\n",
       "\n",
       "\n",
       "       [[[3.393 ]]]])</pre></div></li><li class='xr-var-item'><div class='xr-var-name'><span>conductivity</span></div><div class='xr-var-dims'>(time, depth, latitude, longitude)</div><div class='xr-var-dtype'>float64</div><div class='xr-var-preview xr-preview'>2.789 2.789 2.791 ... 2.948 2.947</div><input id='attrs-d57cb222-fa8b-41cd-9d0f-221a6f2ebd5f' class='xr-var-attrs-in' type='checkbox' ><label for='attrs-d57cb222-fa8b-41cd-9d0f-221a6f2ebd5f' title='Show/Hide attributes'><svg class='icon xr-icon-file-text2'><use xlink:href='#icon-file-text2'></use></svg></label><input id='data-170bb3fd-d14c-4fec-9069-baf35b9e62a6' class='xr-var-data-in' type='checkbox'><label for='data-170bb3fd-d14c-4fec-9069-baf35b9e62a6' title='Show/Hide data repr'><svg class='icon xr-icon-database'><use xlink:href='#icon-database'></use></svg></label><div class='xr-var-attrs'><dl class='xr-attrs'><dt><span>epic_key :</span></dt><dd>C_50</dd><dt><span>generic_name :</span></dt><dd>cond</dd><dt><span>units :</span></dt><dd>mmho/cm</dd><dt><span>long_name :</span></dt><dd>Sea water conductivity</dd><dt><span>standard_name :</span></dt><dd>sea_water_electrical_conductivity</dd></dl></div><div class='xr-var-data'><pre>array([[[[2.78861]]],\n",
       "\n",
       "\n",
       "       [[[2.78944]]],\n",
       "\n",
       "\n",
       "       [[[2.79131]]],\n",
       "\n",
       "\n",
       "       ...,\n",
       "\n",
       "\n",
       "       [[[2.94858]]],\n",
       "\n",
       "\n",
       "       [[[2.94775]]],\n",
       "\n",
       "\n",
       "       [[[2.94688]]]])</pre></div></li><li class='xr-var-item'><div class='xr-var-name'><span>salinity</span></div><div class='xr-var-dims'>(time, depth, latitude, longitude)</div><div class='xr-var-dtype'>float64</div><div class='xr-var-preview xr-preview'>31.68 31.68 31.69 ... 31.91 31.91</div><input id='attrs-28bbafa9-7640-4cfe-8096-a59e26acb323' class='xr-var-attrs-in' type='checkbox' ><label for='attrs-28bbafa9-7640-4cfe-8096-a59e26acb323' title='Show/Hide attributes'><svg class='icon xr-icon-file-text2'><use xlink:href='#icon-file-text2'></use></svg></label><input id='data-e4250789-271e-44d0-81ea-9fa36ecc28fc' class='xr-var-data-in' type='checkbox'><label for='data-e4250789-271e-44d0-81ea-9fa36ecc28fc' title='Show/Hide data repr'><svg class='icon xr-icon-database'><use xlink:href='#icon-database'></use></svg></label><div class='xr-var-attrs'><dl class='xr-attrs'><dt><span>epic_key :</span></dt><dd>S_41</dd><dt><span>generic_name :</span></dt><dd>psal</dd><dt><span>units :</span></dt><dd>PSU</dd><dt><span>long_name :</span></dt><dd>Practical salinity in-situ PSS-78 scale</dd><dt><span>standard_name :</span></dt><dd>sea_water_practical_salinity</dd></dl></div><div class='xr-var-data'><pre>array([[[[31.67622095]]],\n",
       "\n",
       "\n",
       "       [[[31.68158266]]],\n",
       "\n",
       "\n",
       "       [[[31.69191084]]],\n",
       "\n",
       "\n",
       "       ...,\n",
       "\n",
       "\n",
       "       [[[31.91179541]]],\n",
       "\n",
       "\n",
       "       [[[31.91407442]]],\n",
       "\n",
       "\n",
       "       [[[31.91174069]]]])</pre></div></li></ul></div></li><li class='xr-section-item'><input id='section-c7df6b48-a527-4e92-8bce-267620c791c5' class='xr-section-summary-in' type='checkbox'  ><label for='section-c7df6b48-a527-4e92-8bce-267620c791c5' class='xr-section-summary' >Indexes: <span>(4)</span></label><div class='xr-section-inline-details'></div><div class='xr-section-details'><ul class='xr-var-list'><li class='xr-var-item'><div class='xr-index-name'><div>time</div></div><div class='xr-index-preview'>PandasIndex</div><div></div><input id='index-3684a85e-1b39-4650-8f42-ccffa0343bac' class='xr-index-data-in' type='checkbox'/><label for='index-3684a85e-1b39-4650-8f42-ccffa0343bac' title='Show/Hide index repr'><svg class='icon xr-icon-database'><use xlink:href='#icon-database'></use></svg></label><div class='xr-index-data'><pre>PandasIndex(DatetimeIndex([&#x27;2022-09-05 22:00:00&#x27;, &#x27;2022-09-05 23:00:00&#x27;,\n",
       "               &#x27;2022-09-06 00:00:00&#x27;, &#x27;2022-09-06 01:00:00&#x27;,\n",
       "               &#x27;2022-09-06 02:00:00&#x27;, &#x27;2022-09-06 03:00:00&#x27;,\n",
       "               &#x27;2022-09-06 04:00:00&#x27;, &#x27;2022-09-06 05:00:00&#x27;,\n",
       "               &#x27;2022-09-06 06:00:00&#x27;, &#x27;2022-09-06 07:00:00&#x27;,\n",
       "               ...\n",
       "               &#x27;2023-08-29 15:00:00&#x27;, &#x27;2023-08-29 16:00:00&#x27;,\n",
       "               &#x27;2023-08-29 17:00:00&#x27;, &#x27;2023-08-29 18:00:00&#x27;,\n",
       "               &#x27;2023-08-29 19:00:00&#x27;, &#x27;2023-08-29 20:00:00&#x27;,\n",
       "               &#x27;2023-08-29 21:00:00&#x27;, &#x27;2023-08-29 22:00:00&#x27;,\n",
       "               &#x27;2023-08-29 23:00:00&#x27;, &#x27;2023-08-30 00:00:00&#x27;],\n",
       "              dtype=&#x27;datetime64[ns]&#x27;, name=&#x27;time&#x27;, length=8595, freq=None))</pre></div></li><li class='xr-var-item'><div class='xr-index-name'><div>latitude</div></div><div class='xr-index-preview'>PandasIndex</div><div></div><input id='index-6f056ab9-ef83-4b3a-8070-8c96e0c0673e' class='xr-index-data-in' type='checkbox'/><label for='index-6f056ab9-ef83-4b3a-8070-8c96e0c0673e' title='Show/Hide index repr'><svg class='icon xr-icon-database'><use xlink:href='#icon-database'></use></svg></label><div class='xr-index-data'><pre>PandasIndex(Index([57.871516666666665], dtype=&#x27;float64&#x27;, name=&#x27;latitude&#x27;))</pre></div></li><li class='xr-var-item'><div class='xr-index-name'><div>longitude</div></div><div class='xr-index-preview'>PandasIndex</div><div></div><input id='index-769024bb-e547-4965-a88a-d4288779e453' class='xr-index-data-in' type='checkbox'/><label for='index-769024bb-e547-4965-a88a-d4288779e453' title='Show/Hide index repr'><svg class='icon xr-icon-database'><use xlink:href='#icon-database'></use></svg></label><div class='xr-index-data'><pre>PandasIndex(Index([-168.8877], dtype=&#x27;float64&#x27;, name=&#x27;longitude&#x27;))</pre></div></li><li class='xr-var-item'><div class='xr-index-name'><div>depth</div></div><div class='xr-index-preview'>PandasIndex</div><div></div><input id='index-67303bea-d50d-4f41-a022-e2ce32af1e1c' class='xr-index-data-in' type='checkbox'/><label for='index-67303bea-d50d-4f41-a022-e2ce32af1e1c' title='Show/Hide index repr'><svg class='icon xr-icon-database'><use xlink:href='#icon-database'></use></svg></label><div class='xr-index-data'><pre>PandasIndex(Index([52.0], dtype=&#x27;float64&#x27;, name=&#x27;depth&#x27;))</pre></div></li></ul></div></li><li class='xr-section-item'><input id='section-ad928b46-185f-451d-9df0-d074df33107f' class='xr-section-summary-in' type='checkbox'  ><label for='section-ad928b46-185f-451d-9df0-d074df33107f' class='xr-section-summary' >Attributes: <span>(33)</span></label><div class='xr-section-inline-details'></div><div class='xr-section-details'><dl class='xr-attrs'><dt><span>Latitude_DegMMddW :</span></dt><dd>57 52.291 N</dd><dt><span>Longitude_DegMMddN :</span></dt><dd>168 53.262 W</dd><dt><span>MooringID :</span></dt><dd>22BS-4A</dd><dt><span>platform_deployment_date :</span></dt><dd>2022-09-05T21:12:00Z</dd><dt><span>platform_deployment_cruise_name :</span></dt><dd>AQ2201</dd><dt><span>platform_recovery_date :</span></dt><dd>2023-08-30T00:00:00Z</dd><dt><span>platform_recovery_cruise_name :</span></dt><dd>AQ2301</dd><dt><span>platform_deployment_recovery_comments :</span></dt><dd>Remove all caps, start all fluorometers, plug in seacat pumps\r\n",
       "\r\n",
       "RECOVERY:\r\n",
       "SBE16 @ 12.5m had odd response on download according to L. Candela - should check file and possibly re-download.</dd><dt><span>WaterDepth :</span></dt><dd>73.5</dd><dt><span>source_documents :</span></dt><dd>http://www.oceansites.org/docs/oceansites_data_format_reference_manual.pdf</dd><dt><span>institution :</span></dt><dd>Pacific Marine Environmental Lab (PMEL)</dd><dt><span>project :</span></dt><dd>EcoFOCI</dd><dt><span>project_url :</span></dt><dd>https://www.ecofoci.noaa.gov</dd><dt><span>principal_investigator :</span></dt><dd>Phyllis Stabeno</dd><dt><span>principal_investigator_email :</span></dt><dd>phyllis.stabeno (at) noaa.gov</dd><dt><span>creator_name :</span></dt><dd>Shaun Bell</dd><dt><span>creator_email :</span></dt><dd>shaun.bell (at) noaa.gov</dd><dt><span>creator_institution :</span></dt><dd>PMEL</dd><dt><span>keywords :</span></dt><dd>Mooring, Oceanographic</dd><dt><span>comment :</span></dt><dd>Provisional data</dd><dt><span>sea_area :</span></dt><dd>Bering Sea (BS)</dd><dt><span>featureType :</span></dt><dd>timeSeries</dd><dt><span>conventions :</span></dt><dd>”CF-1.6, ~OceanSITES-1.5, ACDD-1.2”</dd><dt><span>license :</span></dt><dd></dd><dt><span>references :</span></dt><dd></dd><dt><span>citation :</span></dt><dd></dd><dt><span>acknowledgement :</span></dt><dd></dd><dt><span>InstrumentSerialNumber :</span></dt><dd>1858</dd><dt><span>InstrumentType :</span></dt><dd>SBE-37</dd><dt><span>date_created :</span></dt><dd>2023-10-18T14:45:05Z</dd><dt><span>date_modified :</span></dt><dd></dd><dt><span>QC_indicator :</span></dt><dd>unknown</dd><dt><span>history :</span></dt><dd>Trimmed to deployment.\n",
       "Trimmed to deployment.</dd></dl></div></li></ul></div></div>"
      ],
      "text/plain": [
       "<xarray.Dataset>\n",
       "Dimensions:       (time: 8595, depth: 1, latitude: 1, longitude: 1)\n",
       "Coordinates:\n",
       "  * time          (time) datetime64[ns] 2022-09-05T22:00:00 ... 2023-08-30\n",
       "  * latitude      (latitude) float64 57.87\n",
       "  * longitude     (longitude) float64 -168.9\n",
       "  * depth         (depth) float64 52.0\n",
       "Data variables:\n",
       "    temperature   (time, depth, latitude, longitude) float64 1.683 ... 3.393\n",
       "    conductivity  (time, depth, latitude, longitude) float64 2.789 ... 2.947\n",
       "    salinity      (time, depth, latitude, longitude) float64 31.68 ... 31.91\n",
       "Attributes: (12/33)\n",
       "    Latitude_DegMMddW:                      57 52.291 N\n",
       "    Longitude_DegMMddN:                     168 53.262 W\n",
       "    MooringID:                              22BS-4A\n",
       "    platform_deployment_date:               2022-09-05T21:12:00Z\n",
       "    platform_deployment_cruise_name:        AQ2201\n",
       "    platform_recovery_date:                 2023-08-30T00:00:00Z\n",
       "    ...                                     ...\n",
       "    InstrumentSerialNumber:                 1858\n",
       "    InstrumentType:                         SBE-37\n",
       "    date_created:                           2023-10-18T14:45:05Z\n",
       "    date_modified:                          \n",
       "    QC_indicator:                           unknown\n",
       "    history:                                Trimmed to deployment.\\nTrimmed t..."
      ]
     },
     "execution_count": 18,
     "metadata": {},
     "output_type": "execute_result"
    }
   ],
   "source": [
    "sbe37_wop_nc.autotrim_time()"
   ]
  },
  {
   "cell_type": "code",
   "execution_count": 19,
   "id": "7d48784b-60ef-48aa-9505-d8048ba213ed",
   "metadata": {
    "tags": []
   },
   "outputs": [
    {
     "name": "stdout",
     "output_type": "stream",
     "text": [
      "likely no pressure variable in datafile\n"
     ]
    }
   ],
   "source": [
    "try:\n",
    "    print(sbe37_wop_nc.autotrim_time().pressure.mean())\n",
    "except:\n",
    "    print(f'likely no pressure variable in datafile')"
   ]
  },
  {
   "cell_type": "code",
   "execution_count": null,
   "id": "d8ea4f9d-120b-4845-b563-973c6cc1bf75",
   "metadata": {
    "tags": []
   },
   "outputs": [
    {
     "ename": "NameError",
     "evalue": "name 'sbe37_wop_nc' is not defined",
     "output_type": "error",
     "traceback": [
      "\u001b[0;31m---------------------------------------------------------------------------\u001b[0m",
      "\u001b[0;31mNameError\u001b[0m                                 Traceback (most recent call last)",
      "Cell \u001b[0;32mIn[1], line 12\u001b[0m\n\u001b[1;32m      8\u001b[0m \u001b[38;5;28;01mimport\u001b[39;00m \u001b[38;5;21;01mmatplotlib\u001b[39;00m\u001b[38;5;21;01m.\u001b[39;00m\u001b[38;5;21;01mticker\u001b[39;00m \u001b[38;5;28;01mas\u001b[39;00m \u001b[38;5;21;01mticker\u001b[39;00m\n\u001b[1;32m     11\u001b[0m fig, ax \u001b[38;5;241m=\u001b[39m plt\u001b[38;5;241m.\u001b[39msubplots(\u001b[38;5;241m3\u001b[39m,figsize\u001b[38;5;241m=\u001b[39m(\u001b[38;5;241m24\u001b[39m, \u001b[38;5;241m6\u001b[39m),sharex\u001b[38;5;241m=\u001b[39m\u001b[38;5;28;01mTrue\u001b[39;00m)\n\u001b[0;32m---> 12\u001b[0m \u001b[43msbe37_wop_nc\u001b[49m\u001b[38;5;241m.\u001b[39mautotrim_time()\u001b[38;5;241m.\u001b[39mtemperature\u001b[38;5;241m.\u001b[39mplot(ax\u001b[38;5;241m=\u001b[39max[\u001b[38;5;241m0\u001b[39m],color\u001b[38;5;241m=\u001b[39m\u001b[38;5;124m'\u001b[39m\u001b[38;5;124mr\u001b[39m\u001b[38;5;124m'\u001b[39m)\n\u001b[1;32m     13\u001b[0m sbe37_wop_nc\u001b[38;5;241m.\u001b[39mautotrim_time()\u001b[38;5;241m.\u001b[39msalinity\u001b[38;5;241m.\u001b[39mplot(ax\u001b[38;5;241m=\u001b[39max[\u001b[38;5;241m1\u001b[39m],color\u001b[38;5;241m=\u001b[39m\u001b[38;5;124m'\u001b[39m\u001b[38;5;124mb\u001b[39m\u001b[38;5;124m'\u001b[39m)\n\u001b[1;32m     14\u001b[0m \u001b[38;5;28;01mtry\u001b[39;00m:\n",
      "\u001b[0;31mNameError\u001b[0m: name 'sbe37_wop_nc' is not defined"
     ]
    },
    {
     "data": {
      "image/png": "[encoded data removed]",
      "text/plain": [
       "<Figure size 2400x600 with 3 Axes>"
      ]
     },
     "metadata": {},
     "output_type": "display_data"
    }
   ],
   "source": [
    "#wrap the plot in image settings for visual appeal\n",
    "# may be able to make this cleaner or just a preset\n",
    "%run '../../../settings/mpl_plot_settings.py'\n",
    "\n",
    "%matplotlib inline\n",
    "import matplotlib.dates as mdates\n",
    "from matplotlib.dates import YearLocator, WeekdayLocator, MonthLocator, DayLocator, HourLocator, DateFormatter\n",
    "import matplotlib.ticker as ticker\n",
    "\n",
    "\n",
    "fig, ax = plt.subplots(3,figsize=(24, 6),sharex=True)\n",
    "sbe37_wop_nc.autotrim_time().temperature.plot(ax=ax[0],color='r')\n",
    "sbe37_wop_nc.autotrim_time().salinity.plot(ax=ax[1],color='b')\n",
    "try:\n",
    "    sbe37_wop_nc.autotrim_time().pressure.plot(ax=ax[2],color='k')\n",
    "except:\n",
    "    pass\n",
    "\n",
    "# xfmt = mdates.DateFormatter('%d-%b')\n",
    "ax[2].xaxis.set_major_locator(DayLocator(bymonthday=1))\n",
    "ax[2].xaxis.set_minor_locator(DayLocator(bymonthday=15))\n",
    "ax[2].xaxis.set_minor_formatter(DateFormatter('%b %Y'))\n",
    "ax[2].xaxis.set_major_formatter(DateFormatter(''))\n",
    "ax[2].xaxis.set_tick_params(which='major', pad=3)\n",
    "ax[2].xaxis.set_tick_params(which='minor', pad=5)"
   ]
  },
  {
   "cell_type": "code",
   "execution_count": 21,
   "id": "bac4fa8e-96a5-4301-993c-b969e15a2008",
   "metadata": {
    "tags": []
   },
   "outputs": [],
   "source": [
    "#csvoutput if necessary - untrimmed for deck analysis\n",
    "(sbe37_wop_nc.get_xdf().to_dataframe()).to_csv(filename.replace('nc','csv'))"
   ]
  },
  {
   "cell_type": "markdown",
   "id": "individual-nature",
   "metadata": {},
   "source": [
    "## Next Steps\n",
    "\n",
    "QC of data (plot parameters with other instruments)\n",
    "- be sure to updated the qc_status and the history"
   ]
  },
  {
   "cell_type": "markdown",
   "id": "edc0682b-e828-4a66-a7b3-2fb11547660f",
   "metadata": {},
   "source": [
    "**no pressure var - so assume pressure correction from other depths**"
   ]
  },
  {
   "cell_type": "markdown",
   "id": "5dea076c-3873-411c-92bd-7a791989171a",
   "metadata": {},
   "source": [
    "## QC plotting against CTDs (here or in a seperate ipynb)"
   ]
  },
  {
   "cell_type": "code",
   "execution_count": 22,
   "id": "8eda0353-a4b1-4085-aebb-b3b9d458bf2c",
   "metadata": {
    "tags": []
   },
   "outputs": [],
   "source": [
    "import matplotlib.pyplot as plt\n",
    "import pandas as pd\n",
    "import EcoFOCIpy.io.erddap as erddap\n",
    "\n",
    "url = \"http://ecofoci-field.pmel.noaa.gov:8082/erddap\"\n",
    "\n",
    "erddap.test_erddap_connection(url=url) #basic test for connection to internal server, no response is a good thing"
   ]
  },
  {
   "cell_type": "code",
   "execution_count": 26,
   "id": "108bd6c4-99f3-4830-8ccc-106f75ee463e",
   "metadata": {
    "tags": []
   },
   "outputs": [],
   "source": [
    "depcast = erddap.erddapCTDretrieve(url=url,cruiseid='dy2306',qclevel='preliminary',concastno='033')\n",
    "reccast = erddap.erddapCTDretrieve(url=url,cruiseid='aq2301',qclevel='preliminary',concastno='018')"
   ]
  },
  {
   "cell_type": "code",
   "execution_count": 27,
   "id": "780adc0a-3c2a-4834-860a-65fbe06e1dbb",
   "metadata": {},
   "outputs": [],
   "source": [
    "#drop units from names\n",
    "depcast.columns = [x.split()[0] for x in depcast.columns]\n",
    "reccast.columns = [x.split()[0] for x in reccast.columns]"
   ]
  },
  {
   "cell_type": "markdown",
   "id": "033070c7-51bb-40d7-bfd5-916502a6c8f1",
   "metadata": {},
   "source": [
    "some variable names switch between preliminary and final... this will eventually be resolved"
   ]
  },
  {
   "cell_type": "code",
   "execution_count": 28,
   "id": "7566b5a7-d7fb-45e9-862c-87932fc901cd",
   "metadata": {
    "tags": []
   },
   "outputs": [
    {
     "data": {
      "image/png": "[encoded data removed]",
      "text/plain": [
       "<Figure size 2400x800 with 3 Axes>"
      ]
     },
     "metadata": {},
     "output_type": "display_data"
    }
   ],
   "source": [
    "depth = int(mooring_config['Instrumentation'][instrument]['ActualDepth'])\n",
    "\n",
    "fig, ax = plt.subplots(3,figsize=(24, 8),sharex=True)\n",
    "sbe37_wop_nc.autotrim_time().temperature.plot(ax=ax[0],color='r')\n",
    "ax[0].plot(pd.to_datetime(depcast[depcast['pressure'] == depth]['time']),\n",
    "        depcast[depcast['pressure'] == depth]['T_28'],\n",
    "        'o',markersize=20,markerfacecolor='none',markeredgecolor='black')\n",
    "ax[0].plot(pd.to_datetime(depcast[depcast['pressure'] == depth]['time']),\n",
    "        depcast[depcast['pressure'] == depth]['T_28'],\n",
    "        '+',markersize=10,markerfacecolor='none',markeredgecolor='black')\n",
    "ax[0].plot(pd.to_datetime(reccast[reccast['pressure'] == depth]['time']),\n",
    "        reccast[reccast['pressure'] == depth]['T_28'],\n",
    "        'o',markersize=20,markerfacecolor='none',markeredgecolor='black')\n",
    "ax[0].plot(pd.to_datetime(reccast[reccast['pressure'] == depth]['time']),\n",
    "        reccast[reccast['pressure'] == depth]['T_28'],\n",
    "        '+',markersize=10,markerfacecolor='none',markeredgecolor='black')\n",
    "\n",
    "sbe37_wop_nc.autotrim_time().salinity.plot(ax=ax[1],color='b')\n",
    "ax[1].plot(pd.to_datetime(depcast[depcast['pressure'] == depth]['time']),\n",
    "        depcast[depcast['pressure'] == depth]['S_41'],\n",
    "        'o',markersize=20,markerfacecolor='none',markeredgecolor='black')\n",
    "ax[1].plot(pd.to_datetime(depcast[depcast['pressure'] == depth]['time']),\n",
    "        depcast[depcast['pressure'] == depth]['S_41'],\n",
    "        '+',markersize=10,markerfacecolor='none',markeredgecolor='black')\n",
    "ax[1].plot(pd.to_datetime(reccast[reccast['pressure'] == depth]['time']),\n",
    "        reccast[reccast['pressure'] == depth]['S_41'],\n",
    "        'o',markersize=20,markerfacecolor='none',markeredgecolor='black')\n",
    "ax[1].plot(pd.to_datetime(reccast[reccast['pressure'] == depth]['time']),\n",
    "        reccast[reccast['pressure'] == depth]['S_41'],\n",
    "        '+',markersize=10,markerfacecolor='none',markeredgecolor='black')\n",
    "\n",
    "# sbe16_wop_nc.autotrim_time().par.plot(ax=ax[2],color='y')\n",
    "\n",
    "# xfmt = mdates.DateFormatter('%d-%b')\n",
    "ax[2].xaxis.set_major_locator(DayLocator(bymonthday=1))\n",
    "ax[2].xaxis.set_minor_locator(DayLocator(bymonthday=15))\n",
    "ax[2].xaxis.set_minor_formatter(DateFormatter('%b %Y'))\n",
    "ax[2].xaxis.set_major_formatter(DateFormatter(''))\n",
    "ax[2].xaxis.set_tick_params(which='major', pad=3)\n",
    "ax[2].xaxis.set_tick_params(which='minor', pad=5)\n",
    "\n",
    "fig.savefig(f\"images/{filename.replace('nc','_tempsalCal.png')}\")"
   ]
  },
  {
   "cell_type": "code",
   "execution_count": null,
   "id": "0f5d2b4e-1374-4a80-90d2-f0b56eb163f1",
   "metadata": {},
   "outputs": [],
   "source": []
  }
 ],
 "metadata": {
  "kernelspec": {
   "display_name": "Python [conda env:py310] *",
   "language": "python",
   "name": "conda-env-py310-py"
  },
  "language_info": {
   "codemirror_mode": {
    "name": "ipython",
    "version": 3
   },
   "file_extension": ".py",
   "mimetype": "text/x-python",
   "name": "python",
   "nbconvert_exporter": "python",
   "pygments_lexer": "ipython3",
   "version": "3.10.14"
  }
 },
 "nbformat": 4,
 "nbformat_minor": 5
}
