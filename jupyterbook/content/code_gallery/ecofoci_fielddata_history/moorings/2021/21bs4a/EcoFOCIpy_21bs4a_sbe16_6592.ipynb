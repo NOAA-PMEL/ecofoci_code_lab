{
 "cells": [
  {
   "cell_type": "markdown",
   "id": "educational-chosen",
   "metadata": {
    "tags": []
   },
   "source": [
    "# Using EcoFOCIpy to process raw field data\n",
    "\n",
    "## Mooring / Timeseries Data\n",
    "\n",
    "Basic workflow for each instrument grouping is *(initial archive level)*:\n",
    "- Parse data from raw files into pandas dataframe\n",
    "- output initial files (pandas->csv) **ERDDAP NRT** when no meta data is added\n",
    "\n",
    "Convert to xarray dataframe for all following work *(working or final data level):\n",
    "- ingest metadata from deployment/recovery records or cast logs\n",
    "- process data beyond simple file translate\n",
    "- apply any calibrations or corrections\n",
    "    + field corrections\n",
    "    + offsets\n",
    "    + instrument compensations\n",
    "    + some QC were available... this would be old-school simple bounds mostly\n",
    "- adjust time bounds and sample frequency (xarray dataframe)\n",
    "- save as CF netcdf via xarray: so many of the steps above are optional\n",
    "    + **ERDDAP NRT or preliminary** if no corrections, offsets or time bounds are applied but none/some meta data is, this is an internally hosted dataset for primary analysis, quick review, and historical purposes.\n",
    "    + **Working and awaiting QC** has no ERDDAP representation and is a holding spot, often has deck data removed.  It is usually a combination of editable csv files and archivable netcdf files\n",
    "    + **ERDDAP Final** fully calibrated, qc'd and populated with meta information.  Used for distribution and science analysis\n",
    "\n",
    "Plot for preview and QC\n",
    "- preview images (indiv and/or collectively)\n",
    "- manual qc process\n",
    "- automated qc process ML/AI"
   ]
  },
  {
   "cell_type": "markdown",
   "id": "allied-miniature",
   "metadata": {},
   "source": [
    "## Example below is for SBE-16 but the workflow is similar for all instruments.\n",
    "\n",
    "Future processing of this instrument can be a simplified (no markdown) process which can be archived so that the procedure can be traced or updated"
   ]
  },
  {
   "cell_type": "code",
   "execution_count": 1,
   "id": "studied-pollution",
   "metadata": {
    "tags": []
   },
   "outputs": [],
   "source": [
    "%matplotlib inline\n",
    "import matplotlib.pyplot as plt\n",
    "import yaml\n",
    "\n",
    "import EcoFOCIpy.io.sbe_parser as sbe_parser #<- instrument specific\n",
    "import EcoFOCIpy.io.ncCFsave as ncCFsave\n",
    "import EcoFOCIpy.metaconfig.load_config as load_config"
   ]
  },
  {
   "cell_type": "markdown",
   "id": "public-millennium",
   "metadata": {},
   "source": [
    "The sample_data_dir should be included in the github package but may not be included in the pip install of the package\n",
    "\n",
    "## Simple Processing - first step"
   ]
  },
  {
   "cell_type": "code",
   "execution_count": 2,
   "id": "offensive-level",
   "metadata": {
    "tags": []
   },
   "outputs": [],
   "source": [
    "sample_data_dir = '/Users/bell/Programs/EcoFOCIpy/'\n",
    "user_data_dir = '/Users/bell/ecoraid/2021/Moorings/21bs4a/'"
   ]
  },
  {
   "cell_type": "code",
   "execution_count": 4,
   "id": "third-yellow",
   "metadata": {
    "tags": []
   },
   "outputs": [],
   "source": [
    "###############################################################\n",
    "# edit to point to {instrument sepcific} raw datafile \n",
    "datafile = user_data_dir+'rawconverted/sbe16/21bs4a_sbe16_6592_12.5m.cnv'\n",
    "instrument = 'SBE-16 6592'\n",
    "mooring_meta_file = user_data_dir+'logs/21BS-4A.yaml'\n",
    "inst_meta_file = sample_data_dir+'staticdata/instr_metaconfig/sbe16_cf.yaml'\n",
    "institution_meta_file = sample_data_dir+'staticdata/institutional_meta_example.yaml' #include uaf?\n",
    "inst_shortname = 's16'\n",
    "###############################################################\n",
    "\n",
    "#init and load data\n",
    "sbe16_wop = sbe_parser.sbe16()\n",
    "(sbe16_wop_data,sbe16_wop_header) = sbe16_wop.parse(filename=datafile,\n",
    "                                                    return_header=True,\n",
    "                                                    datetime_index=True) "
   ]
  },
  {
   "cell_type": "code",
   "execution_count": 5,
   "id": "d90660ab-bfc4-428e-b86e-eb7e835eedf6",
   "metadata": {
    "tags": []
   },
   "outputs": [
    {
     "data": {
      "text/plain": [
       "['* Sea-Bird SBE16 Data File:\\n',\n",
       " '* FileName = C:\\\\Users\\\\foci\\\\Documents\\\\2022\\\\fall_dowloads\\\\21bs4a_sbe16_6592_12.5m.hex\\n',\n",
       " '* Software Version 1.59\\n',\n",
       " '* Temperature SN = 6592\\n',\n",
       " '* Conductivity SN = 6592\\n',\n",
       " '* System UpLoad Time = Dec 09 2022 00:35:21\\n',\n",
       " '** realtime: 003345\\n',\n",
       " '** instime: 003457\\n',\n",
       " '* ds\\n',\n",
       " '* SBE 16plus V 2.5.2  SERIAL NO. 6592    09 Dec 2022 00:35:47\\n',\n",
       " '* vbatt = 11.4, vlith =  8.0, ioper =  49.6 ma, ipump =   0.4 ma,\\n',\n",
       " '* status = not logging\\n',\n",
       " '* samples = 14089, free = 6565725\\n',\n",
       " '* sample interval = 3600 seconds, number of measurements per sample = 4\\n',\n",
       " '* pump = run pump during sample, delay before sampling = 4.0 seconds, delay after sampling = 0.0 seconds\\n',\n",
       " '* transmit real-time = no\\n',\n",
       " '* battery cutoff =  7.5 volts\\n',\n",
       " '* pressure sensor = none, reference pressure = 12.5\\n',\n",
       " '* SBE 38 = no, SBE 50 = no, WETLABS = no, OPTODE = no, SBE63 = no, Gas Tension Device = no\\n',\n",
       " '* Ext Volt 0 = no, Ext Volt 1 = no\\n',\n",
       " '* Ext Volt 2 = no, Ext Volt 3 = no\\n',\n",
       " '* Ext Volt 4 = no, Ext Volt 5 = no\\n',\n",
       " '* echo characters = yes\\n',\n",
       " '* output format = raw HEX\\n',\n",
       " '* serial sync mode disabled\\n',\n",
       " '\\n',\n",
       " '* S>\\n',\n",
       " '* hdr   1 01 May 2021 00:00:06 samples 1 to 2000, int = 3600, stop = logging\\n',\n",
       " '* hdr   2 23 Jul 2021 08:00:06 samples 2001 to 4000, int = 3600, stop = logging\\n',\n",
       " '* hdr   3 14 Oct 2021 16:00:06 samples 4001 to 6000, int = 3600, stop = logging\\n',\n",
       " '* hdr   4 06 Jan 2022 00:00:06 samples 6001 to 8000, int = 3600, stop = logging\\n',\n",
       " '* hdr   5 30 Mar 2022 08:00:06 samples 8001 to 10000, int = 3600, stop = logging\\n',\n",
       " '* hdr   6 21 Jun 2022 16:00:06 samples 10001 to 12000, int = 3600, stop = logging\\n',\n",
       " '* hdr   7 13 Sep 2022 00:00:06 samples 12001 to 14000, int = 3600, stop = logging\\n',\n",
       " '* hdr   8 05 Dec 2022 08:00:06 samples 14001 to 14089, int = 3600, stop = stop cmd\\n',\n",
       " '\\n',\n",
       " '* S>\\n',\n",
       " '# nquan = 5\\n',\n",
       " '# nvalues = 14089                                 \\n',\n",
       " '# units = specified\\n',\n",
       " '# name 0 = timeK: Time, Instrument [seconds]\\n',\n",
       " '# name 1 = c0S/m: Conductivity [S/m]\\n',\n",
       " '# name 2 = sal00: Salinity, Practical [PSU], moored pressure = 0.00000e+000 [dbar]\\n',\n",
       " '# name 3 = tv290C: Temperature [ITS-90, deg C]\\n',\n",
       " '# name 4 = flag:  0.000e+00\\n',\n",
       " '# span 0 =  673142405,  723859205                 \\n',\n",
       " '# span 1 =   0.000022,   3.650176                 \\n',\n",
       " '# span 2 =    -0.0011,    32.3472                 \\n',\n",
       " '# span 3 =    -1.7335,    22.3179                 \\n',\n",
       " '# span 4 = 0.0000e+00, 0.0000e+00                 \\n',\n",
       " '# interval = seconds: 3600\\n',\n",
       " \"# start_time = May 01 2021 00:00:05 [Instrument's time stamp, first data scan]\\n\",\n",
       " '# bad_flag = -9.990e-29\\n',\n",
       " '# <Sensors count=\"2\" >\\n',\n",
       " '#   <sensor Channel=\"1\" >\\n',\n",
       " '#     <!-- Count, Temperature -->\\n',\n",
       " '#     <TemperatureSensor SensorID=\"58\" >\\n',\n",
       " '#       <SerialNumber>6592</SerialNumber>\\n',\n",
       " '#       <CalibrationDate>08-Mar-18</CalibrationDate>\\n',\n",
       " '#       <A0>1.28520320e-003</A0>\\n',\n",
       " '#       <A1>2.57330028e-004</A1>\\n',\n",
       " '#       <A2>1.01766770e-007</A2>\\n',\n",
       " '#       <A3>1.34337987e-007</A3>\\n',\n",
       " '#       <Slope>1.00000000</Slope>\\n',\n",
       " '#       <Offset>0.0000</Offset>\\n',\n",
       " '#     </TemperatureSensor>\\n',\n",
       " '#   </sensor>\\n',\n",
       " '#   <sensor Channel=\"2\" >\\n',\n",
       " '#     <!-- Frequency 0, Conductivity -->\\n',\n",
       " '#     <ConductivitySensor SensorID=\"3\" >\\n',\n",
       " '#       <SerialNumber>6592</SerialNumber>\\n',\n",
       " '#       <CalibrationDate>08-Mar-18</CalibrationDate>\\n',\n",
       " '#       <UseG_J>1</UseG_J>\\n',\n",
       " '#       <!-- Cell const and series R are applicable only for wide range sensors. -->\\n',\n",
       " '#       <SeriesR>0.0000</SeriesR>\\n',\n",
       " '#       <CellConst>2000.0000</CellConst>\\n',\n",
       " '#       <ConductivityType>0</ConductivityType>\\n',\n",
       " '#       <Coefficients equation=\"0\" >\\n',\n",
       " '#         <A>0.00000000e+000</A>\\n',\n",
       " '#         <B>0.00000000e+000</B>\\n',\n",
       " '#         <C>0.00000000e+000</C>\\n',\n",
       " '#         <D>0.00000000e+000</D>\\n',\n",
       " '#         <M>0.0</M>\\n',\n",
       " '#         <CPcor>-9.57000000e-008</CPcor>\\n',\n",
       " '#       </Coefficients>\\n',\n",
       " '#       <Coefficients equation=\"1\" >\\n',\n",
       " '#         <G>-1.02072449e+000</G>\\n',\n",
       " '#         <H>1.38024632e-001</H>\\n',\n",
       " '#         <I>-2.22107696e-004</I>\\n',\n",
       " '#         <J>3.46148406e-005</J>\\n',\n",
       " '#         <CPcor>-9.57000000e-008</CPcor>\\n',\n",
       " '#         <CTcor>3.2500e-006</CTcor>\\n',\n",
       " '#         <!-- WBOTC not applicable unless ConductivityType = 1. -->\\n',\n",
       " '#         <WBOTC>0.00000000e+000</WBOTC>\\n',\n",
       " '#       </Coefficients>\\n',\n",
       " '#       <Slope>1.00000000</Slope>\\n',\n",
       " '#       <Offset>0.00000</Offset>\\n',\n",
       " '#     </ConductivitySensor>\\n',\n",
       " '#   </sensor>\\n',\n",
       " '# </Sensors>\\n',\n",
       " '# datcnv_date = Jan 13 2023 10:26:41, 7.26.7.129 [datcnv_vars = 4]\\n',\n",
       " '# datcnv_in = Z:\\\\home\\\\makushin\\\\strausz\\\\my_documents\\\\temp\\\\2022\\\\sbe16\\\\21bs4a_sbe16_6592_12.5m.hex Z:\\\\home\\\\makushin\\\\strausz\\\\my_documents\\\\temp\\\\2022\\\\sbe16\\\\SBE16plusV2_6592.xmlcon\\n',\n",
       " '# datcnv_skipover = 0\\n',\n",
       " '# file_type = ascii\\n',\n",
       " '*END*\\n']"
      ]
     },
     "execution_count": 5,
     "metadata": {},
     "output_type": "execute_result"
    }
   ],
   "source": [
    "sbe16_wop_header"
   ]
  },
  {
   "cell_type": "code",
   "execution_count": 6,
   "id": "e3614922",
   "metadata": {
    "tags": []
   },
   "outputs": [
    {
     "data": {
      "text/plain": [
       "{0: 'timeK', 1: 'c0S/m', 2: 'sal00', 3: 'tv290C', 4: 'flag'}"
      ]
     },
     "execution_count": 6,
     "metadata": {},
     "output_type": "execute_result"
    }
   ],
   "source": [
    "#provide original variable names from SBE file\n",
    "sbe_parser.seabird_header(filename=datafile)[2]"
   ]
  },
  {
   "cell_type": "code",
   "execution_count": 7,
   "id": "alive-bruce",
   "metadata": {
    "tags": []
   },
   "outputs": [],
   "source": [
    "# import datetime\n",
    "# sbe16_wop_data.index = [sbe16_wop_data.index[0] + datetime.timedelta(seconds=x) for x in ((sbe16_wop_data.timeS /15) * 3600)]"
   ]
  },
  {
   "cell_type": "code",
   "execution_count": 8,
   "id": "bacdf251-e073-4347-a5ec-b222b70155eb",
   "metadata": {
    "tags": []
   },
   "outputs": [
    {
     "data": {
      "text/html": [
       "<div>\n",
       "<style scoped>\n",
       "    .dataframe tbody tr th:only-of-type {\n",
       "        vertical-align: middle;\n",
       "    }\n",
       "\n",
       "    .dataframe tbody tr th {\n",
       "        vertical-align: top;\n",
       "    }\n",
       "\n",
       "    .dataframe thead th {\n",
       "        text-align: right;\n",
       "    }\n",
       "</style>\n",
       "<table border=\"1\" class=\"dataframe\">\n",
       "  <thead>\n",
       "    <tr style=\"text-align: right;\">\n",
       "      <th></th>\n",
       "      <th>timeK</th>\n",
       "      <th>c0S/m</th>\n",
       "      <th>sal00</th>\n",
       "      <th>tv290C</th>\n",
       "      <th>flag</th>\n",
       "    </tr>\n",
       "    <tr>\n",
       "      <th>date_time</th>\n",
       "      <th></th>\n",
       "      <th></th>\n",
       "      <th></th>\n",
       "      <th></th>\n",
       "      <th></th>\n",
       "    </tr>\n",
       "  </thead>\n",
       "  <tbody>\n",
       "    <tr>\n",
       "      <th>2021-05-01 00:00:05</th>\n",
       "      <td>673142405</td>\n",
       "      <td>0.000039</td>\n",
       "      <td>0.0056</td>\n",
       "      <td>10.8553</td>\n",
       "      <td>0.0</td>\n",
       "    </tr>\n",
       "    <tr>\n",
       "      <th>2021-05-01 01:00:05</th>\n",
       "      <td>673146005</td>\n",
       "      <td>0.000036</td>\n",
       "      <td>0.0054</td>\n",
       "      <td>10.5661</td>\n",
       "      <td>0.0</td>\n",
       "    </tr>\n",
       "    <tr>\n",
       "      <th>2021-05-01 02:00:05</th>\n",
       "      <td>673149605</td>\n",
       "      <td>0.000033</td>\n",
       "      <td>0.0076</td>\n",
       "      <td>14.7645</td>\n",
       "      <td>0.0</td>\n",
       "    </tr>\n",
       "    <tr>\n",
       "      <th>2021-05-01 03:00:05</th>\n",
       "      <td>673153205</td>\n",
       "      <td>0.000024</td>\n",
       "      <td>0.0052</td>\n",
       "      <td>10.1537</td>\n",
       "      <td>0.0</td>\n",
       "    </tr>\n",
       "    <tr>\n",
       "      <th>2021-05-01 04:00:05</th>\n",
       "      <td>673156805</td>\n",
       "      <td>0.000039</td>\n",
       "      <td>0.0038</td>\n",
       "      <td>7.7727</td>\n",
       "      <td>0.0</td>\n",
       "    </tr>\n",
       "    <tr>\n",
       "      <th>...</th>\n",
       "      <td>...</td>\n",
       "      <td>...</td>\n",
       "      <td>...</td>\n",
       "      <td>...</td>\n",
       "      <td>...</td>\n",
       "    </tr>\n",
       "    <tr>\n",
       "      <th>2022-12-08 20:00:05</th>\n",
       "      <td>723844805</td>\n",
       "      <td>0.000030</td>\n",
       "      <td>0.0085</td>\n",
       "      <td>16.6847</td>\n",
       "      <td>0.0</td>\n",
       "    </tr>\n",
       "    <tr>\n",
       "      <th>2022-12-08 21:00:05</th>\n",
       "      <td>723848405</td>\n",
       "      <td>0.000027</td>\n",
       "      <td>0.0085</td>\n",
       "      <td>16.6829</td>\n",
       "      <td>0.0</td>\n",
       "    </tr>\n",
       "    <tr>\n",
       "      <th>2022-12-08 22:00:05</th>\n",
       "      <td>723852005</td>\n",
       "      <td>0.000033</td>\n",
       "      <td>0.0085</td>\n",
       "      <td>16.6767</td>\n",
       "      <td>0.0</td>\n",
       "    </tr>\n",
       "    <tr>\n",
       "      <th>2022-12-08 23:00:05</th>\n",
       "      <td>723855605</td>\n",
       "      <td>0.000036</td>\n",
       "      <td>0.0085</td>\n",
       "      <td>16.6949</td>\n",
       "      <td>0.0</td>\n",
       "    </tr>\n",
       "    <tr>\n",
       "      <th>2022-12-09 00:00:05</th>\n",
       "      <td>723859205</td>\n",
       "      <td>0.000033</td>\n",
       "      <td>0.0085</td>\n",
       "      <td>16.6925</td>\n",
       "      <td>0.0</td>\n",
       "    </tr>\n",
       "  </tbody>\n",
       "</table>\n",
       "<p>14089 rows × 5 columns</p>\n",
       "</div>"
      ],
      "text/plain": [
       "                         timeK     c0S/m   sal00   tv290C  flag\n",
       "date_time                                                      \n",
       "2021-05-01 00:00:05  673142405  0.000039  0.0056  10.8553   0.0\n",
       "2021-05-01 01:00:05  673146005  0.000036  0.0054  10.5661   0.0\n",
       "2021-05-01 02:00:05  673149605  0.000033  0.0076  14.7645   0.0\n",
       "2021-05-01 03:00:05  673153205  0.000024  0.0052  10.1537   0.0\n",
       "2021-05-01 04:00:05  673156805  0.000039  0.0038   7.7727   0.0\n",
       "...                        ...       ...     ...      ...   ...\n",
       "2022-12-08 20:00:05  723844805  0.000030  0.0085  16.6847   0.0\n",
       "2022-12-08 21:00:05  723848405  0.000027  0.0085  16.6829   0.0\n",
       "2022-12-08 22:00:05  723852005  0.000033  0.0085  16.6767   0.0\n",
       "2022-12-08 23:00:05  723855605  0.000036  0.0085  16.6949   0.0\n",
       "2022-12-09 00:00:05  723859205  0.000033  0.0085  16.6925   0.0\n",
       "\n",
       "[14089 rows x 5 columns]"
      ]
     },
     "execution_count": 8,
     "metadata": {},
     "output_type": "execute_result"
    }
   ],
   "source": [
    "sbe16_wop_data"
   ]
  },
  {
   "cell_type": "markdown",
   "id": "ready-audit",
   "metadata": {},
   "source": [
    "## Time properties\n",
    "\n",
    "Its unusual that our clocks drift to the point of concern for our instruments (if an instrument is off by 3 minutes but only sampling hourly... regridding that data will result in minimal changes).  However, there are a few time oriented modifications that may need to be made.\n",
    "\n",
    "The can be classified into two categories:\n",
    "+ interpolate: these change the parameter values in accordance with the time edits\n",
    "    - linear interpolation is most common\n",
    "    - averaging of data and rebinning/resampling is also common (this needs to have the \"time lable\" thought out...)\n",
    "    - decimating is less common but does not impact the max/min values\n",
    "+ shift: these do not alter the measurements, just the timestamps they are associated with\n",
    "    - the round function will work well to correct small time errors/drifts **common**\n",
    "    - dropping extra precision on time (if you want hourly measurements, just remove all minute/second info... could cause large errors if rounding would have been more appropriate)"
   ]
  },
  {
   "cell_type": "markdown",
   "id": "supposed-bankruptcy",
   "metadata": {},
   "source": [
    "It is very easy to use pandas interplation and resample methods on the dataframe as is.  A few steps are suggested below:\n",
    "- parse out on-deck (predeployment and recovery) data.  This can be done via pandas or xarray but requires the mooring metadata to have been read in.  See future steps below.\n",
    "- even if the sample frequency is set to the desired measurement frequency, it would be good to perform a quick regridding as an assurance task\n",
    "- FOCI data is usualy 1min, 10min, 1hr - and the 1min data is a fairly new (sbe56) data stream\n",
    "    + subsampling high frequency data to lower frequency is easy via df.resample().mean() but it will label the new datapoint per default instructions.  The default is to label it with the left boundary of the bin.\n",
    "    + you may want to take the median instead of the mean for noisy data (fluorometer) , occasionally decimating may be more appropriate if you want to downsize the dataset size but not smear features\n",
    "    + shifting times can be a bit more involved.  There are two primary ways to do it, interpolate or shift (round)\n",
    "        - to interpolate, you will need to upsample your data to a higher frequency which will generate missing values, then interpolate (with a maximum gap size), then decimate.  This always has the artifact of smoothing data and decreasing the min/max values. **common on microcats and other 10min datasets**\n",
    "        - shifting usually just involves droping extra time \"digits\", if you want hourly, you could just drop the trailing minutes assuming you are just off the hour (8:05 -> 8:00) or you can round to the nearest time unit but niether of these changes the data value, just the time associated with it. **common on seacats and other hourly datasets**\n",
    "        - you may also be able to *shift* using the pandas datetime round function and specifing the desired frequency.\n",
    "    + I suggest if no change is needed... df.index.round(freq=*'your native sample freq'*)\n",
    "    "
   ]
  },
  {
   "cell_type": "code",
   "execution_count": 9,
   "id": "b55bbc1f",
   "metadata": {
    "tags": []
   },
   "outputs": [],
   "source": [
    "sbe16_wop_data.index = sbe16_wop_data.index.round(freq='60t')\n",
    "sbe16_wop_data.index = sbe16_wop_data.index.rename('date_time')"
   ]
  },
  {
   "cell_type": "code",
   "execution_count": 10,
   "id": "undefined-membrane",
   "metadata": {
    "tags": []
   },
   "outputs": [
    {
     "data": {
      "text/plain": [
       "<Axes: xlabel='date_time'>"
      ]
     },
     "execution_count": 10,
     "metadata": {},
     "output_type": "execute_result"
    },
    {
     "data": {
      "image/png": "[encoded data removed]",
      "text/plain": [
       "<Figure size 640x480 with 1 Axes>"
      ]
     },
     "metadata": {},
     "output_type": "display_data"
    }
   ],
   "source": [
    "sbe16_wop_data.plot()"
   ]
  },
  {
   "cell_type": "markdown",
   "id": "acknowledged-active",
   "metadata": {},
   "source": [
    "## Add Deployment meta information\n",
    "\n",
    "Two methods are available (if comming from python2 world - ordereddict was important... in py38 a dictionary is inherently ordered)"
   ]
  },
  {
   "cell_type": "code",
   "execution_count": 11,
   "id": "freelance-fairy",
   "metadata": {
    "tags": []
   },
   "outputs": [],
   "source": [
    "#just a dictionary of dictionaries - simple\n",
    "with open(mooring_meta_file) as file:\n",
    "    mooring_config = yaml.full_load(file)"
   ]
  },
  {
   "cell_type": "code",
   "execution_count": 12,
   "id": "israeli-begin",
   "metadata": {
    "tags": []
   },
   "outputs": [
    {
     "data": {
      "text/plain": [
       "{'InstType': 'SBE-16',\n",
       " 'SerialNo': '6592',\n",
       " 'DesignedDepth': 12.5,\n",
       " 'ActualDepth': 10.5,\n",
       " 'PreDeploymentNotes': '',\n",
       " 'PostDeploymentNotes': 'cables loose and rubbed',\n",
       " 'Deployed': 'y',\n",
       " 'Recovered': 'y'}"
      ]
     },
     "execution_count": 12,
     "metadata": {},
     "output_type": "execute_result"
    }
   ],
   "source": [
    "mooring_config['Instrumentation'][instrument]"
   ]
  },
  {
   "cell_type": "markdown",
   "id": "mysterious-cornwall",
   "metadata": {},
   "source": [
    "## Add Instrument meta information\n",
    "\n",
    "Time, depth, lat, lon should be added regardless (always our coordinates) but for a mooring site its going to be a (1,1,1,t) dataset\n",
    "The variables of interest should be read from the data file and matched to a key for naming.  That key is in the inst_config file seen below and should represent common conversion names in the raw data"
   ]
  },
  {
   "cell_type": "code",
   "execution_count": 13,
   "id": "250a95cd-efa6-4eb0-ae4d-3eea81de85d4",
   "metadata": {
    "tags": []
   },
   "outputs": [],
   "source": [
    "#just a dictionary of dictionaries - simple\n",
    "with open(institution_meta_file) as file:\n",
    "    institution_config = yaml.full_load(file)"
   ]
  },
  {
   "cell_type": "code",
   "execution_count": 14,
   "id": "checked-raise",
   "metadata": {
    "tags": []
   },
   "outputs": [],
   "source": [
    "with open(inst_meta_file) as file:\n",
    "    inst_config = yaml.full_load(file)\n"
   ]
  },
  {
   "cell_type": "code",
   "execution_count": 24,
   "id": "e69d943d",
   "metadata": {
    "tags": []
   },
   "outputs": [
    {
     "data": {
      "text/html": [
       "<div>\n",
       "<style scoped>\n",
       "    .dataframe tbody tr th:only-of-type {\n",
       "        vertical-align: middle;\n",
       "    }\n",
       "\n",
       "    .dataframe tbody tr th {\n",
       "        vertical-align: top;\n",
       "    }\n",
       "\n",
       "    .dataframe thead th {\n",
       "        text-align: right;\n",
       "    }\n",
       "</style>\n",
       "<table border=\"1\" class=\"dataframe\">\n",
       "  <thead>\n",
       "    <tr style=\"text-align: right;\">\n",
       "      <th></th>\n",
       "      <th>timeK</th>\n",
       "      <th>c0S/m</th>\n",
       "      <th>salinity</th>\n",
       "      <th>temperature</th>\n",
       "      <th>flag</th>\n",
       "    </tr>\n",
       "    <tr>\n",
       "      <th>date_time</th>\n",
       "      <th></th>\n",
       "      <th></th>\n",
       "      <th></th>\n",
       "      <th></th>\n",
       "      <th></th>\n",
       "    </tr>\n",
       "  </thead>\n",
       "  <tbody>\n",
       "    <tr>\n",
       "      <th>2022-05-21 14:00:00</th>\n",
       "      <td>706456805</td>\n",
       "      <td>2.659953</td>\n",
       "      <td>31.6717</td>\n",
       "      <td>0.1014</td>\n",
       "      <td>0.0</td>\n",
       "    </tr>\n",
       "  </tbody>\n",
       "</table>\n",
       "</div>"
      ],
      "text/plain": [
       "                         timeK     c0S/m  salinity  temperature  flag\n",
       "date_time                                                            \n",
       "2022-05-21 14:00:00  706456805  2.659953   31.6717       0.1014   0.0"
      ]
     },
     "execution_count": 24,
     "metadata": {},
     "output_type": "execute_result"
    }
   ],
   "source": [
    "#sbe16 data uses header info to name variables... but we want standard names from the dictionary I've created, so we need to rename column variables appropriately\n",
    "#rename values to appropriate names, if a value isn't in the .yaml file, you can add it\n",
    "sbe16_wop_data = sbe16_wop_data.rename(columns={'t090C':'temperature',\n",
    "                        'tv290C': 'temperature', #watch for duplicate temperature options\n",
    "                        'sal00':'salinity',\n",
    "                        'sbeox0Mm/Kg':'oxy_conc',\n",
    "                        'sbeox0ML/L':'oxy_concM',\n",
    "                        'sigma-È00':'sigma_theta',\n",
    "                        'sigma-t00':'sigma_t',\n",
    "                        'CStarAt0':'Attenuation',\n",
    "                        'CStarTr0':'Transmittance',\n",
    "                        'flECO-AFL':'chlor_fluorescence',\n",
    "                        'wetStar': 'chlor_fluorescence', #pumped chlor\n",
    "                        'empty':'empty', #this will be ignored\n",
    "                        'upoly0': 'oxy_conc',\n",
    "                        'upoly1': 'oxy_temperature',\n",
    "                        'prDM': 'pressure',\n",
    "                        'flag':'flag'})\n",
    "sbe16_wop_data.sample()"
   ]
  },
  {
   "cell_type": "code",
   "execution_count": 25,
   "id": "varied-popularity",
   "metadata": {
    "tags": []
   },
   "outputs": [
    {
     "data": {
      "text/plain": [
       "<EcoFOCIpy.io.ncCFsave.EcoFOCI_CFnc at 0x17f1415b0>"
      ]
     },
     "execution_count": 25,
     "metadata": {},
     "output_type": "execute_result"
    }
   ],
   "source": [
    "# Add meta data and prelim processing based on meta data\n",
    "# Convert to xarray and add meta information - save as CF netcdf file\n",
    "# pass -> data, instmeta, depmeta\n",
    "sbe16_wop_nc = ncCFsave.EcoFOCI_CFnc(df=sbe16_wop_data, \n",
    "                                instrument_yaml=inst_config, \n",
    "                                operation_yaml=mooring_config,\n",
    "                                operation_type='mooring', \n",
    "                                instrument_id=instrument, \n",
    "                                inst_shortname=inst_shortname)\n",
    "sbe16_wop_nc"
   ]
  },
  {
   "cell_type": "markdown",
   "id": "asian-chambers",
   "metadata": {},
   "source": [
    "At this point, you could save your file with the `.xarray2netcdf_save()` method and have a functioning dataset.... but it would be very simple with no additional qc, meta-data, or tuned parameters for optimizing software like ferret or erddap."
   ]
  },
  {
   "cell_type": "code",
   "execution_count": 26,
   "id": "practical-pennsylvania",
   "metadata": {
    "tags": []
   },
   "outputs": [],
   "source": [
    "# expand the dimensions and coordinate variables\n",
    "# renames them appropriatley and prepares them for meta-filled values\n",
    "sbe16_wop_nc.expand_dimensions()"
   ]
  },
  {
   "cell_type": "code",
   "execution_count": 27,
   "id": "floral-operations",
   "metadata": {
    "tags": []
   },
   "outputs": [],
   "source": [
    "#build list from columsn in data - if a variable isn't in the yaml file, it will be dropped from the final data fields\n",
    "sbe16_wop_nc.variable_meta_data(variable_keys=list(sbe16_wop_data.columns.values),drop_missing=True)\n",
    "sbe16_wop_nc.temporal_geospatioal_meta_data(depth='actual')\n",
    "#adding dimension meta needs to come after updating the dimension values... BUG?\n",
    "sbe16_wop_nc.dimension_meta_data(variable_keys=['depth','latitude','longitude'])"
   ]
  },
  {
   "cell_type": "markdown",
   "id": "seventh-product",
   "metadata": {},
   "source": [
    "The following steps can happen in just about any order and are all meta-data driven.  Therefore, they are not required to have a functioning dataset, but they are required to have a well described dataset"
   ]
  },
  {
   "cell_type": "code",
   "execution_count": 28,
   "id": "auburn-diversity",
   "metadata": {
    "tags": []
   },
   "outputs": [],
   "source": [
    "#add global attributes\n",
    "sbe16_wop_nc.deployment_meta_add()\n",
    "sbe16_wop_nc.get_xdf()\n",
    "\n",
    "#add instituitonal global attributes\n",
    "sbe16_wop_nc.institution_meta_add(institution_yaml=institution_config)\n",
    "\n",
    "#add instrument global attributes\n",
    "sbe16_wop_nc.instrument_meta_data()\n",
    "\n",
    "#add creation date/time - provenance data\n",
    "sbe16_wop_nc.provinance_meta_add()\n",
    "\n",
    "#provide intial qc status field\n",
    "sbe16_wop_nc.qc_status(qc_status='unknown')\n"
   ]
  },
  {
   "cell_type": "markdown",
   "id": "sustained-hughes",
   "metadata": {},
   "source": [
    "## Save CF Netcdf files\n",
    "\n",
    "Currently stick to netcdf3 classic... but migrating to netcdf4 (default) may be no problems for most modern purposes.  Its easy enough to pass the `format` kwargs through to the netcdf api of xarray."
   ]
  },
  {
   "cell_type": "code",
   "execution_count": 29,
   "id": "739aa6ac-ab2b-4ff6-8ed1-183e240137f6",
   "metadata": {
    "tags": []
   },
   "outputs": [
    {
     "name": "stderr",
     "output_type": "stream",
     "text": [
      "/Users/bell/src/ecofocipy/src/EcoFOCIpy/io/ncCFsave.py:320: UserWarning: Times can't be serialized faithfully to int64 with requested units 'days since 1900-01-01'. Resolution of 'hours' needed. Serializing times to floating point instead. Set encoding['dtype'] to integer dtype to serialize to int64. Set encoding['dtype'] to floating point dtype to silence this warning.\n",
      "  xdf.to_netcdf(filename,format=kwargs['format'],encoding={'time':{'units':'days since 1900-01-01'}})\n"
     ]
    }
   ],
   "source": [
    "# combine trim (not mandatory) and filename together (saves to test.nc without name)\n",
    "\n",
    "depth = str(int(mooring_config['Instrumentation'][instrument]['ActualDepth'])).zfill(4)\n",
    "# mooring_yaml['Instrumentation'][self.instrument_id]['DesignedDepth'])).zfill(4) #<-- alternative\n",
    "filename = \"\".join(mooring_config['MooringID'].split('-')).lower()+'_'+inst_shortname+'_'+depth+'m.nc'\n",
    "sbe16_wop_nc.xarray2netcdf_save(xdf = sbe16_wop_nc.autotrim_time(),\n",
    "                           filename=filename,format=\"NETCDF3_CLASSIC\")\n",
    "\n",
    "# don't trim the data and pass your own filename\n",
    "# sbe16_wop_nc.xarray2netcdf_save(xdf = sbe16_wop_nc.get_xdf(),\n",
    "#    filename=filename,format=\"NETCDF4_CLASSIC\")"
   ]
  },
  {
   "cell_type": "code",
   "execution_count": 30,
   "id": "unlike-breathing",
   "metadata": {
    "tags": []
   },
   "outputs": [
    {
     "data": {
      "text/html": [
       "<div><svg style=\"position: absolute; width: 0; height: 0; overflow: hidden\">\n",
       "<defs>\n",
       "<symbol id=\"icon-database\" viewBox=\"0 0 32 32\">\n",
       "<path d=\"M16 0c-8.837 0-16 2.239-16 5v4c0 2.761 7.163 5 16 5s16-2.239 16-5v-4c0-2.761-7.163-5-16-5z\"></path>\n",
       "<path d=\"M16 17c-8.837 0-16-2.239-16-5v6c0 2.761 7.163 5 16 5s16-2.239 16-5v-6c0 2.761-7.163 5-16 5z\"></path>\n",
       "<path d=\"M16 26c-8.837 0-16-2.239-16-5v6c0 2.761 7.163 5 16 5s16-2.239 16-5v-6c0 2.761-7.163 5-16 5z\"></path>\n",
       "</symbol>\n",
       "<symbol id=\"icon-file-text2\" viewBox=\"0 0 32 32\">\n",
       "<path d=\"M28.681 7.159c-0.694-0.947-1.662-2.053-2.724-3.116s-2.169-2.030-3.116-2.724c-1.612-1.182-2.393-1.319-2.841-1.319h-15.5c-1.378 0-2.5 1.121-2.5 2.5v27c0 1.378 1.122 2.5 2.5 2.5h23c1.378 0 2.5-1.122 2.5-2.5v-19.5c0-0.448-0.137-1.23-1.319-2.841zM24.543 5.457c0.959 0.959 1.712 1.825 2.268 2.543h-4.811v-4.811c0.718 0.556 1.584 1.309 2.543 2.268zM28 29.5c0 0.271-0.229 0.5-0.5 0.5h-23c-0.271 0-0.5-0.229-0.5-0.5v-27c0-0.271 0.229-0.5 0.5-0.5 0 0 15.499-0 15.5 0v7c0 0.552 0.448 1 1 1h7v19.5z\"></path>\n",
       "<path d=\"M23 26h-14c-0.552 0-1-0.448-1-1s0.448-1 1-1h14c0.552 0 1 0.448 1 1s-0.448 1-1 1z\"></path>\n",
       "<path d=\"M23 22h-14c-0.552 0-1-0.448-1-1s0.448-1 1-1h14c0.552 0 1 0.448 1 1s-0.448 1-1 1z\"></path>\n",
       "<path d=\"M23 18h-14c-0.552 0-1-0.448-1-1s0.448-1 1-1h14c0.552 0 1 0.448 1 1s-0.448 1-1 1z\"></path>\n",
       "</symbol>\n",
       "</defs>\n",
       "</svg>\n",
       "<style>/* CSS stylesheet for displaying xarray objects in jupyterlab.\n",
       " *\n",
       " */\n",
       "\n",
       ":root {\n",
       "  --xr-font-color0: var(--jp-content-font-color0, rgba(0, 0, 0, 1));\n",
       "  --xr-font-color2: var(--jp-content-font-color2, rgba(0, 0, 0, 0.54));\n",
       "  --xr-font-color3: var(--jp-content-font-color3, rgba(0, 0, 0, 0.38));\n",
       "  --xr-border-color: var(--jp-border-color2, #e0e0e0);\n",
       "  --xr-disabled-color: var(--jp-layout-color3, #bdbdbd);\n",
       "  --xr-background-color: var(--jp-layout-color0, white);\n",
       "  --xr-background-color-row-even: var(--jp-layout-color1, white);\n",
       "  --xr-background-color-row-odd: var(--jp-layout-color2, #eeeeee);\n",
       "}\n",
       "\n",
       "html[theme=dark],\n",
       "body[data-theme=dark],\n",
       "body.vscode-dark {\n",
       "  --xr-font-color0: rgba(255, 255, 255, 1);\n",
       "  --xr-font-color2: rgba(255, 255, 255, 0.54);\n",
       "  --xr-font-color3: rgba(255, 255, 255, 0.38);\n",
       "  --xr-border-color: #1F1F1F;\n",
       "  --xr-disabled-color: #515151;\n",
       "  --xr-background-color: #111111;\n",
       "  --xr-background-color-row-even: #111111;\n",
       "  --xr-background-color-row-odd: #313131;\n",
       "}\n",
       "\n",
       ".xr-wrap {\n",
       "  display: block !important;\n",
       "  min-width: 300px;\n",
       "  max-width: 700px;\n",
       "}\n",
       "\n",
       ".xr-text-repr-fallback {\n",
       "  /* fallback to plain text repr when CSS is not injected (untrusted notebook) */\n",
       "  display: none;\n",
       "}\n",
       "\n",
       ".xr-header {\n",
       "  padding-top: 6px;\n",
       "  padding-bottom: 6px;\n",
       "  margin-bottom: 4px;\n",
       "  border-bottom: solid 1px var(--xr-border-color);\n",
       "}\n",
       "\n",
       ".xr-header > div,\n",
       ".xr-header > ul {\n",
       "  display: inline;\n",
       "  margin-top: 0;\n",
       "  margin-bottom: 0;\n",
       "}\n",
       "\n",
       ".xr-obj-type,\n",
       ".xr-array-name {\n",
       "  margin-left: 2px;\n",
       "  margin-right: 10px;\n",
       "}\n",
       "\n",
       ".xr-obj-type {\n",
       "  color: var(--xr-font-color2);\n",
       "}\n",
       "\n",
       ".xr-sections {\n",
       "  padding-left: 0 !important;\n",
       "  display: grid;\n",
       "  grid-template-columns: 150px auto auto 1fr 20px 20px;\n",
       "}\n",
       "\n",
       ".xr-section-item {\n",
       "  display: contents;\n",
       "}\n",
       "\n",
       ".xr-section-item input {\n",
       "  display: none;\n",
       "}\n",
       "\n",
       ".xr-section-item input + label {\n",
       "  color: var(--xr-disabled-color);\n",
       "}\n",
       "\n",
       ".xr-section-item input:enabled + label {\n",
       "  cursor: pointer;\n",
       "  color: var(--xr-font-color2);\n",
       "}\n",
       "\n",
       ".xr-section-item input:enabled + label:hover {\n",
       "  color: var(--xr-font-color0);\n",
       "}\n",
       "\n",
       ".xr-section-summary {\n",
       "  grid-column: 1;\n",
       "  color: var(--xr-font-color2);\n",
       "  font-weight: 500;\n",
       "}\n",
       "\n",
       ".xr-section-summary > span {\n",
       "  display: inline-block;\n",
       "  padding-left: 0.5em;\n",
       "}\n",
       "\n",
       ".xr-section-summary-in:disabled + label {\n",
       "  color: var(--xr-font-color2);\n",
       "}\n",
       "\n",
       ".xr-section-summary-in + label:before {\n",
       "  display: inline-block;\n",
       "  content: '►';\n",
       "  font-size: 11px;\n",
       "  width: 15px;\n",
       "  text-align: center;\n",
       "}\n",
       "\n",
       ".xr-section-summary-in:disabled + label:before {\n",
       "  color: var(--xr-disabled-color);\n",
       "}\n",
       "\n",
       ".xr-section-summary-in:checked + label:before {\n",
       "  content: '▼';\n",
       "}\n",
       "\n",
       ".xr-section-summary-in:checked + label > span {\n",
       "  display: none;\n",
       "}\n",
       "\n",
       ".xr-section-summary,\n",
       ".xr-section-inline-details {\n",
       "  padding-top: 4px;\n",
       "  padding-bottom: 4px;\n",
       "}\n",
       "\n",
       ".xr-section-inline-details {\n",
       "  grid-column: 2 / -1;\n",
       "}\n",
       "\n",
       ".xr-section-details {\n",
       "  display: none;\n",
       "  grid-column: 1 / -1;\n",
       "  margin-bottom: 5px;\n",
       "}\n",
       "\n",
       ".xr-section-summary-in:checked ~ .xr-section-details {\n",
       "  display: contents;\n",
       "}\n",
       "\n",
       ".xr-array-wrap {\n",
       "  grid-column: 1 / -1;\n",
       "  display: grid;\n",
       "  grid-template-columns: 20px auto;\n",
       "}\n",
       "\n",
       ".xr-array-wrap > label {\n",
       "  grid-column: 1;\n",
       "  vertical-align: top;\n",
       "}\n",
       "\n",
       ".xr-preview {\n",
       "  color: var(--xr-font-color3);\n",
       "}\n",
       "\n",
       ".xr-array-preview,\n",
       ".xr-array-data {\n",
       "  padding: 0 5px !important;\n",
       "  grid-column: 2;\n",
       "}\n",
       "\n",
       ".xr-array-data,\n",
       ".xr-array-in:checked ~ .xr-array-preview {\n",
       "  display: none;\n",
       "}\n",
       "\n",
       ".xr-array-in:checked ~ .xr-array-data,\n",
       ".xr-array-preview {\n",
       "  display: inline-block;\n",
       "}\n",
       "\n",
       ".xr-dim-list {\n",
       "  display: inline-block !important;\n",
       "  list-style: none;\n",
       "  padding: 0 !important;\n",
       "  margin: 0;\n",
       "}\n",
       "\n",
       ".xr-dim-list li {\n",
       "  display: inline-block;\n",
       "  padding: 0;\n",
       "  margin: 0;\n",
       "}\n",
       "\n",
       ".xr-dim-list:before {\n",
       "  content: '(';\n",
       "}\n",
       "\n",
       ".xr-dim-list:after {\n",
       "  content: ')';\n",
       "}\n",
       "\n",
       ".xr-dim-list li:not(:last-child):after {\n",
       "  content: ',';\n",
       "  padding-right: 5px;\n",
       "}\n",
       "\n",
       ".xr-has-index {\n",
       "  font-weight: bold;\n",
       "}\n",
       "\n",
       ".xr-var-list,\n",
       ".xr-var-item {\n",
       "  display: contents;\n",
       "}\n",
       "\n",
       ".xr-var-item > div,\n",
       ".xr-var-item label,\n",
       ".xr-var-item > .xr-var-name span {\n",
       "  background-color: var(--xr-background-color-row-even);\n",
       "  margin-bottom: 0;\n",
       "}\n",
       "\n",
       ".xr-var-item > .xr-var-name:hover span {\n",
       "  padding-right: 5px;\n",
       "}\n",
       "\n",
       ".xr-var-list > li:nth-child(odd) > div,\n",
       ".xr-var-list > li:nth-child(odd) > label,\n",
       ".xr-var-list > li:nth-child(odd) > .xr-var-name span {\n",
       "  background-color: var(--xr-background-color-row-odd);\n",
       "}\n",
       "\n",
       ".xr-var-name {\n",
       "  grid-column: 1;\n",
       "}\n",
       "\n",
       ".xr-var-dims {\n",
       "  grid-column: 2;\n",
       "}\n",
       "\n",
       ".xr-var-dtype {\n",
       "  grid-column: 3;\n",
       "  text-align: right;\n",
       "  color: var(--xr-font-color2);\n",
       "}\n",
       "\n",
       ".xr-var-preview {\n",
       "  grid-column: 4;\n",
       "}\n",
       "\n",
       ".xr-index-preview {\n",
       "  grid-column: 2 / 5;\n",
       "  color: var(--xr-font-color2);\n",
       "}\n",
       "\n",
       ".xr-var-name,\n",
       ".xr-var-dims,\n",
       ".xr-var-dtype,\n",
       ".xr-preview,\n",
       ".xr-attrs dt {\n",
       "  white-space: nowrap;\n",
       "  overflow: hidden;\n",
       "  text-overflow: ellipsis;\n",
       "  padding-right: 10px;\n",
       "}\n",
       "\n",
       ".xr-var-name:hover,\n",
       ".xr-var-dims:hover,\n",
       ".xr-var-dtype:hover,\n",
       ".xr-attrs dt:hover {\n",
       "  overflow: visible;\n",
       "  width: auto;\n",
       "  z-index: 1;\n",
       "}\n",
       "\n",
       ".xr-var-attrs,\n",
       ".xr-var-data,\n",
       ".xr-index-data {\n",
       "  display: none;\n",
       "  background-color: var(--xr-background-color) !important;\n",
       "  padding-bottom: 5px !important;\n",
       "}\n",
       "\n",
       ".xr-var-attrs-in:checked ~ .xr-var-attrs,\n",
       ".xr-var-data-in:checked ~ .xr-var-data,\n",
       ".xr-index-data-in:checked ~ .xr-index-data {\n",
       "  display: block;\n",
       "}\n",
       "\n",
       ".xr-var-data > table {\n",
       "  float: right;\n",
       "}\n",
       "\n",
       ".xr-var-name span,\n",
       ".xr-var-data,\n",
       ".xr-index-name div,\n",
       ".xr-index-data,\n",
       ".xr-attrs {\n",
       "  padding-left: 25px !important;\n",
       "}\n",
       "\n",
       ".xr-attrs,\n",
       ".xr-var-attrs,\n",
       ".xr-var-data,\n",
       ".xr-index-data {\n",
       "  grid-column: 1 / -1;\n",
       "}\n",
       "\n",
       "dl.xr-attrs {\n",
       "  padding: 0;\n",
       "  margin: 0;\n",
       "  display: grid;\n",
       "  grid-template-columns: 125px auto;\n",
       "}\n",
       "\n",
       ".xr-attrs dt,\n",
       ".xr-attrs dd {\n",
       "  padding: 0;\n",
       "  margin: 0;\n",
       "  float: left;\n",
       "  padding-right: 10px;\n",
       "  width: auto;\n",
       "}\n",
       "\n",
       ".xr-attrs dt {\n",
       "  font-weight: normal;\n",
       "  grid-column: 1;\n",
       "}\n",
       "\n",
       ".xr-attrs dt:hover span {\n",
       "  display: inline-block;\n",
       "  background: var(--xr-background-color);\n",
       "  padding-right: 10px;\n",
       "}\n",
       "\n",
       ".xr-attrs dd {\n",
       "  grid-column: 2;\n",
       "  white-space: pre-wrap;\n",
       "  word-break: break-all;\n",
       "}\n",
       "\n",
       ".xr-icon-database,\n",
       ".xr-icon-file-text2,\n",
       ".xr-no-icon {\n",
       "  display: inline-block;\n",
       "  vertical-align: middle;\n",
       "  width: 1em;\n",
       "  height: 1.5em !important;\n",
       "  stroke-width: 0;\n",
       "  stroke: currentColor;\n",
       "  fill: currentColor;\n",
       "}\n",
       "</style><pre class='xr-text-repr-fallback'>&lt;xarray.Dataset&gt;\n",
       "Dimensions:      (time: 14089, depth: 1, latitude: 1, longitude: 1)\n",
       "Coordinates:\n",
       "  * time         (time) datetime64[ns] 2021-05-01 ... 2022-12-09\n",
       "  * latitude     (latitude) float64 57.87\n",
       "  * longitude    (longitude) float64 -168.9\n",
       "  * depth        (depth) float64 10.5\n",
       "Data variables:\n",
       "    salinity     (time, depth, latitude, longitude) float64 0.0056 ... 0.0085\n",
       "    temperature  (time, depth, latitude, longitude) float64 10.86 ... 16.69\n",
       "Attributes: (12/33)\n",
       "    Latitude_DegMMddW:                      57 51.99 N\n",
       "    Longitude_DegMMddN:                     168 52.83 W\n",
       "    MooringID:                              21BS-4A\n",
       "    platform_deployment_date:               2021-05-08T20:53:00Z\n",
       "    platform_deployment_cruise_name:        DY2103\n",
       "    platform_recovery_date:                 2022-09-05T16:30:00Z\n",
       "    ...                                     ...\n",
       "    InstrumentSerialNumber:                 6592\n",
       "    InstrumentType:                         SBE-16\n",
       "    date_created:                           2024-09-25T08:16:15Z\n",
       "    date_modified:                          \n",
       "    QC_indicator:                           unknown\n",
       "    history:                                Trimmed to deployment.</pre><div class='xr-wrap' style='display:none'><div class='xr-header'><div class='xr-obj-type'>xarray.Dataset</div></div><ul class='xr-sections'><li class='xr-section-item'><input id='section-aa36a535-ea6c-4111-b2d5-1847085b4ccc' class='xr-section-summary-in' type='checkbox' disabled ><label for='section-aa36a535-ea6c-4111-b2d5-1847085b4ccc' class='xr-section-summary'  title='Expand/collapse section'>Dimensions:</label><div class='xr-section-inline-details'><ul class='xr-dim-list'><li><span class='xr-has-index'>time</span>: 14089</li><li><span class='xr-has-index'>depth</span>: 1</li><li><span class='xr-has-index'>latitude</span>: 1</li><li><span class='xr-has-index'>longitude</span>: 1</li></ul></div><div class='xr-section-details'></div></li><li class='xr-section-item'><input id='section-52b9d6db-01c5-4186-a72b-9bf509d3cee8' class='xr-section-summary-in' type='checkbox'  checked><label for='section-52b9d6db-01c5-4186-a72b-9bf509d3cee8' class='xr-section-summary' >Coordinates: <span>(4)</span></label><div class='xr-section-inline-details'></div><div class='xr-section-details'><ul class='xr-var-list'><li class='xr-var-item'><div class='xr-var-name'><span class='xr-has-index'>time</span></div><div class='xr-var-dims'>(time)</div><div class='xr-var-dtype'>datetime64[ns]</div><div class='xr-var-preview xr-preview'>2021-05-01 ... 2022-12-09</div><input id='attrs-bb3699cb-619d-445e-8b4a-316fcac8563e' class='xr-var-attrs-in' type='checkbox' disabled><label for='attrs-bb3699cb-619d-445e-8b4a-316fcac8563e' title='Show/Hide attributes'><svg class='icon xr-icon-file-text2'><use xlink:href='#icon-file-text2'></use></svg></label><input id='data-7fb5eaaf-0c4e-4f46-9ee6-912964bde569' class='xr-var-data-in' type='checkbox'><label for='data-7fb5eaaf-0c4e-4f46-9ee6-912964bde569' title='Show/Hide data repr'><svg class='icon xr-icon-database'><use xlink:href='#icon-database'></use></svg></label><div class='xr-var-attrs'><dl class='xr-attrs'></dl></div><div class='xr-var-data'><pre>array([&#x27;2021-05-01T00:00:00.000000000&#x27;, &#x27;2021-05-01T01:00:00.000000000&#x27;,\n",
       "       &#x27;2021-05-01T02:00:00.000000000&#x27;, ..., &#x27;2022-12-08T22:00:00.000000000&#x27;,\n",
       "       &#x27;2022-12-08T23:00:00.000000000&#x27;, &#x27;2022-12-09T00:00:00.000000000&#x27;],\n",
       "      dtype=&#x27;datetime64[ns]&#x27;)</pre></div></li><li class='xr-var-item'><div class='xr-var-name'><span class='xr-has-index'>latitude</span></div><div class='xr-var-dims'>(latitude)</div><div class='xr-var-dtype'>float64</div><div class='xr-var-preview xr-preview'>57.87</div><input id='attrs-40c21009-af76-45d0-9eb3-9735d7f94573' class='xr-var-attrs-in' type='checkbox' ><label for='attrs-40c21009-af76-45d0-9eb3-9735d7f94573' title='Show/Hide attributes'><svg class='icon xr-icon-file-text2'><use xlink:href='#icon-file-text2'></use></svg></label><input id='data-d38081d1-9cff-4020-86ff-e78902a33716' class='xr-var-data-in' type='checkbox'><label for='data-d38081d1-9cff-4020-86ff-e78902a33716' title='Show/Hide data repr'><svg class='icon xr-icon-database'><use xlink:href='#icon-database'></use></svg></label><div class='xr-var-attrs'><dl class='xr-attrs'><dt><span>epic_key :</span></dt><dd>LON_501</dd><dt><span>name :</span></dt><dd>latitude</dd><dt><span>generic_name :</span></dt><dd>latitude</dd><dt><span>units :</span></dt><dd>degrees_north</dd><dt><span>long_name :</span></dt><dd>latitude</dd><dt><span>standard_name :</span></dt><dd>latitude</dd></dl></div><div class='xr-var-data'><pre>array([57.8665])</pre></div></li><li class='xr-var-item'><div class='xr-var-name'><span class='xr-has-index'>longitude</span></div><div class='xr-var-dims'>(longitude)</div><div class='xr-var-dtype'>float64</div><div class='xr-var-preview xr-preview'>-168.9</div><input id='attrs-3e8c5142-4cd5-438d-869c-8fc6d9ab1ce7' class='xr-var-attrs-in' type='checkbox' ><label for='attrs-3e8c5142-4cd5-438d-869c-8fc6d9ab1ce7' title='Show/Hide attributes'><svg class='icon xr-icon-file-text2'><use xlink:href='#icon-file-text2'></use></svg></label><input id='data-508e6eba-43bf-493e-af11-ce98547f9f87' class='xr-var-data-in' type='checkbox'><label for='data-508e6eba-43bf-493e-af11-ce98547f9f87' title='Show/Hide data repr'><svg class='icon xr-icon-database'><use xlink:href='#icon-database'></use></svg></label><div class='xr-var-attrs'><dl class='xr-attrs'><dt><span>epic_key :</span></dt><dd>LAT_500</dd><dt><span>name :</span></dt><dd>longitude</dd><dt><span>generic_name :</span></dt><dd>longitude</dd><dt><span>units :</span></dt><dd>degrees_east</dd><dt><span>long_name :</span></dt><dd>longitude</dd><dt><span>standard_name :</span></dt><dd>longitude</dd></dl></div><div class='xr-var-data'><pre>array([-168.8805])</pre></div></li><li class='xr-var-item'><div class='xr-var-name'><span class='xr-has-index'>depth</span></div><div class='xr-var-dims'>(depth)</div><div class='xr-var-dtype'>float64</div><div class='xr-var-preview xr-preview'>10.5</div><input id='attrs-50a515db-8bc4-4660-ad69-79813b38821a' class='xr-var-attrs-in' type='checkbox' ><label for='attrs-50a515db-8bc4-4660-ad69-79813b38821a' title='Show/Hide attributes'><svg class='icon xr-icon-file-text2'><use xlink:href='#icon-file-text2'></use></svg></label><input id='data-2bf5d942-68b1-43d6-a388-367b8c49f155' class='xr-var-data-in' type='checkbox'><label for='data-2bf5d942-68b1-43d6-a388-367b8c49f155' title='Show/Hide data repr'><svg class='icon xr-icon-database'><use xlink:href='#icon-database'></use></svg></label><div class='xr-var-attrs'><dl class='xr-attrs'><dt><span>epic_key :</span></dt><dd>D_3</dd><dt><span>generic_name :</span></dt><dd>depth</dd><dt><span>units :</span></dt><dd>meter</dd><dt><span>long_name :</span></dt><dd>depth below surface (meters)</dd><dt><span>standard_name :</span></dt><dd>depth</dd><dt><span>positive :</span></dt><dd>down</dd></dl></div><div class='xr-var-data'><pre>array([10.5])</pre></div></li></ul></div></li><li class='xr-section-item'><input id='section-03a99545-8271-4521-9754-5a4cd7a57388' class='xr-section-summary-in' type='checkbox'  checked><label for='section-03a99545-8271-4521-9754-5a4cd7a57388' class='xr-section-summary' >Data variables: <span>(2)</span></label><div class='xr-section-inline-details'></div><div class='xr-section-details'><ul class='xr-var-list'><li class='xr-var-item'><div class='xr-var-name'><span>salinity</span></div><div class='xr-var-dims'>(time, depth, latitude, longitude)</div><div class='xr-var-dtype'>float64</div><div class='xr-var-preview xr-preview'>0.0056 0.0054 ... 0.0085 0.0085</div><input id='attrs-b0d8bcd8-31ec-4b1f-8619-5a0e64ae7e33' class='xr-var-attrs-in' type='checkbox' ><label for='attrs-b0d8bcd8-31ec-4b1f-8619-5a0e64ae7e33' title='Show/Hide attributes'><svg class='icon xr-icon-file-text2'><use xlink:href='#icon-file-text2'></use></svg></label><input id='data-b80a2e28-7442-4e3b-9eae-284cf91a00de' class='xr-var-data-in' type='checkbox'><label for='data-b80a2e28-7442-4e3b-9eae-284cf91a00de' title='Show/Hide data repr'><svg class='icon xr-icon-database'><use xlink:href='#icon-database'></use></svg></label><div class='xr-var-attrs'><dl class='xr-attrs'><dt><span>epic_key :</span></dt><dd>S_41</dd><dt><span>generic_name :</span></dt><dd>psal</dd><dt><span>units :</span></dt><dd>PSU</dd><dt><span>long_name :</span></dt><dd>Practical salinity in-situ PSS-78 scale</dd><dt><span>standard_name :</span></dt><dd>sea_water_practical_salinity</dd></dl></div><div class='xr-var-data'><pre>array([[[[0.0056]]],\n",
       "\n",
       "\n",
       "       [[[0.0054]]],\n",
       "\n",
       "\n",
       "       [[[0.0076]]],\n",
       "\n",
       "\n",
       "       ...,\n",
       "\n",
       "\n",
       "       [[[0.0085]]],\n",
       "\n",
       "\n",
       "       [[[0.0085]]],\n",
       "\n",
       "\n",
       "       [[[0.0085]]]])</pre></div></li><li class='xr-var-item'><div class='xr-var-name'><span>temperature</span></div><div class='xr-var-dims'>(time, depth, latitude, longitude)</div><div class='xr-var-dtype'>float64</div><div class='xr-var-preview xr-preview'>10.86 10.57 14.76 ... 16.69 16.69</div><input id='attrs-aebdfc6f-8ba1-42fc-86de-92c22caf1ad8' class='xr-var-attrs-in' type='checkbox' ><label for='attrs-aebdfc6f-8ba1-42fc-86de-92c22caf1ad8' title='Show/Hide attributes'><svg class='icon xr-icon-file-text2'><use xlink:href='#icon-file-text2'></use></svg></label><input id='data-dd067e5d-dff5-4ef2-bb2d-0b597e3dfc5c' class='xr-var-data-in' type='checkbox'><label for='data-dd067e5d-dff5-4ef2-bb2d-0b597e3dfc5c' title='Show/Hide data repr'><svg class='icon xr-icon-database'><use xlink:href='#icon-database'></use></svg></label><div class='xr-var-attrs'><dl class='xr-attrs'><dt><span>epic_key :</span></dt><dd>T_20</dd><dt><span>generic_name :</span></dt><dd>temp</dd><dt><span>long_name :</span></dt><dd>Sea temperature in-situ ITS-90 scale</dd><dt><span>standard_name :</span></dt><dd>sea_water_temperature</dd><dt><span>units :</span></dt><dd>degree_C</dd></dl></div><div class='xr-var-data'><pre>array([[[[10.8553]]],\n",
       "\n",
       "\n",
       "       [[[10.5661]]],\n",
       "\n",
       "\n",
       "       [[[14.7645]]],\n",
       "\n",
       "\n",
       "       ...,\n",
       "\n",
       "\n",
       "       [[[16.6767]]],\n",
       "\n",
       "\n",
       "       [[[16.6949]]],\n",
       "\n",
       "\n",
       "       [[[16.6925]]]])</pre></div></li></ul></div></li><li class='xr-section-item'><input id='section-ae7adb69-4beb-48b5-925f-bd0a04bb9e30' class='xr-section-summary-in' type='checkbox'  ><label for='section-ae7adb69-4beb-48b5-925f-bd0a04bb9e30' class='xr-section-summary' >Indexes: <span>(4)</span></label><div class='xr-section-inline-details'></div><div class='xr-section-details'><ul class='xr-var-list'><li class='xr-var-item'><div class='xr-index-name'><div>time</div></div><div class='xr-index-preview'>PandasIndex</div><div></div><input id='index-7c7c0fb9-efc8-48ab-82f1-379e7ce6269d' class='xr-index-data-in' type='checkbox'/><label for='index-7c7c0fb9-efc8-48ab-82f1-379e7ce6269d' title='Show/Hide index repr'><svg class='icon xr-icon-database'><use xlink:href='#icon-database'></use></svg></label><div class='xr-index-data'><pre>PandasIndex(DatetimeIndex([&#x27;2021-05-01 00:00:00&#x27;, &#x27;2021-05-01 01:00:00&#x27;,\n",
       "               &#x27;2021-05-01 02:00:00&#x27;, &#x27;2021-05-01 03:00:00&#x27;,\n",
       "               &#x27;2021-05-01 04:00:00&#x27;, &#x27;2021-05-01 05:00:00&#x27;,\n",
       "               &#x27;2021-05-01 06:00:00&#x27;, &#x27;2021-05-01 07:00:00&#x27;,\n",
       "               &#x27;2021-05-01 08:00:00&#x27;, &#x27;2021-05-01 09:00:00&#x27;,\n",
       "               ...\n",
       "               &#x27;2022-12-08 15:00:00&#x27;, &#x27;2022-12-08 16:00:00&#x27;,\n",
       "               &#x27;2022-12-08 17:00:00&#x27;, &#x27;2022-12-08 18:00:00&#x27;,\n",
       "               &#x27;2022-12-08 19:00:00&#x27;, &#x27;2022-12-08 20:00:00&#x27;,\n",
       "               &#x27;2022-12-08 21:00:00&#x27;, &#x27;2022-12-08 22:00:00&#x27;,\n",
       "               &#x27;2022-12-08 23:00:00&#x27;, &#x27;2022-12-09 00:00:00&#x27;],\n",
       "              dtype=&#x27;datetime64[ns]&#x27;, name=&#x27;time&#x27;, length=14089, freq=None))</pre></div></li><li class='xr-var-item'><div class='xr-index-name'><div>latitude</div></div><div class='xr-index-preview'>PandasIndex</div><div></div><input id='index-aa3191ab-168b-4aec-9578-685de5202751' class='xr-index-data-in' type='checkbox'/><label for='index-aa3191ab-168b-4aec-9578-685de5202751' title='Show/Hide index repr'><svg class='icon xr-icon-database'><use xlink:href='#icon-database'></use></svg></label><div class='xr-index-data'><pre>PandasIndex(Index([57.8665], dtype=&#x27;float64&#x27;, name=&#x27;latitude&#x27;))</pre></div></li><li class='xr-var-item'><div class='xr-index-name'><div>longitude</div></div><div class='xr-index-preview'>PandasIndex</div><div></div><input id='index-4c1286ea-f261-42c2-9159-d364370467ff' class='xr-index-data-in' type='checkbox'/><label for='index-4c1286ea-f261-42c2-9159-d364370467ff' title='Show/Hide index repr'><svg class='icon xr-icon-database'><use xlink:href='#icon-database'></use></svg></label><div class='xr-index-data'><pre>PandasIndex(Index([-168.8805], dtype=&#x27;float64&#x27;, name=&#x27;longitude&#x27;))</pre></div></li><li class='xr-var-item'><div class='xr-index-name'><div>depth</div></div><div class='xr-index-preview'>PandasIndex</div><div></div><input id='index-16afcbb2-b04d-4d08-bfd4-2b34171efcd3' class='xr-index-data-in' type='checkbox'/><label for='index-16afcbb2-b04d-4d08-bfd4-2b34171efcd3' title='Show/Hide index repr'><svg class='icon xr-icon-database'><use xlink:href='#icon-database'></use></svg></label><div class='xr-index-data'><pre>PandasIndex(Index([10.5], dtype=&#x27;float64&#x27;, name=&#x27;depth&#x27;))</pre></div></li></ul></div></li><li class='xr-section-item'><input id='section-6512cbc3-d95b-48f7-b7e7-5f6c42fc3338' class='xr-section-summary-in' type='checkbox'  ><label for='section-6512cbc3-d95b-48f7-b7e7-5f6c42fc3338' class='xr-section-summary' >Attributes: <span>(33)</span></label><div class='xr-section-inline-details'></div><div class='xr-section-details'><dl class='xr-attrs'><dt><span>Latitude_DegMMddW :</span></dt><dd>57 51.99 N</dd><dt><span>Longitude_DegMMddN :</span></dt><dd>168 52.83 W</dd><dt><span>MooringID :</span></dt><dd>21BS-4A</dd><dt><span>platform_deployment_date :</span></dt><dd>2021-05-08T20:53:00Z</dd><dt><span>platform_deployment_cruise_name :</span></dt><dd>DY2103</dd><dt><span>platform_recovery_date :</span></dt><dd>2022-09-05T16:30:00Z</dd><dt><span>platform_recovery_cruise_name :</span></dt><dd>AQ2201</dd><dt><span>platform_deployment_recovery_comments :</span></dt><dd>BS-4 will from 2021 forward will be deployed in the spring.\r\n",
       "\r\n",
       "Pinged release on DY2206 - pinged ok; strong signal\r\n",
       "</dd><dt><span>WaterDepth :</span></dt><dd>71.0</dd><dt><span>source_documents :</span></dt><dd>http://www.oceansites.org/docs/oceansites_data_format_reference_manual.pdf</dd><dt><span>institution :</span></dt><dd>Pacific Marine Environmental Lab (PMEL)</dd><dt><span>project :</span></dt><dd>EcoFOCI</dd><dt><span>project_url :</span></dt><dd>https://www.ecofoci.noaa.gov</dd><dt><span>principal_investigator :</span></dt><dd>Phyllis Stabeno</dd><dt><span>principal_investigator_email :</span></dt><dd>phyllis.stabeno (at) noaa.gov</dd><dt><span>creator_name :</span></dt><dd>Shaun Bell</dd><dt><span>creator_email :</span></dt><dd>shaun.bell (at) noaa.gov</dd><dt><span>creator_institution :</span></dt><dd>PMEL</dd><dt><span>keywords :</span></dt><dd>Mooring, Oceanographic</dd><dt><span>comment :</span></dt><dd>Provisional data</dd><dt><span>sea_area :</span></dt><dd>Bering Sea (BS)</dd><dt><span>featureType :</span></dt><dd>timeSeries</dd><dt><span>conventions :</span></dt><dd>”CF-1.6, ~OceanSITES-1.5, ACDD-1.2”</dd><dt><span>license :</span></dt><dd></dd><dt><span>references :</span></dt><dd></dd><dt><span>citation :</span></dt><dd></dd><dt><span>acknowledgement :</span></dt><dd></dd><dt><span>InstrumentSerialNumber :</span></dt><dd>6592</dd><dt><span>InstrumentType :</span></dt><dd>SBE-16</dd><dt><span>date_created :</span></dt><dd>2024-09-25T08:16:15Z</dd><dt><span>date_modified :</span></dt><dd></dd><dt><span>QC_indicator :</span></dt><dd>unknown</dd><dt><span>history :</span></dt><dd>Trimmed to deployment.</dd></dl></div></li></ul></div></div>"
      ],
      "text/plain": [
       "<xarray.Dataset>\n",
       "Dimensions:      (time: 14089, depth: 1, latitude: 1, longitude: 1)\n",
       "Coordinates:\n",
       "  * time         (time) datetime64[ns] 2021-05-01 ... 2022-12-09\n",
       "  * latitude     (latitude) float64 57.87\n",
       "  * longitude    (longitude) float64 -168.9\n",
       "  * depth        (depth) float64 10.5\n",
       "Data variables:\n",
       "    salinity     (time, depth, latitude, longitude) float64 0.0056 ... 0.0085\n",
       "    temperature  (time, depth, latitude, longitude) float64 10.86 ... 16.69\n",
       "Attributes: (12/33)\n",
       "    Latitude_DegMMddW:                      57 51.99 N\n",
       "    Longitude_DegMMddN:                     168 52.83 W\n",
       "    MooringID:                              21BS-4A\n",
       "    platform_deployment_date:               2021-05-08T20:53:00Z\n",
       "    platform_deployment_cruise_name:        DY2103\n",
       "    platform_recovery_date:                 2022-09-05T16:30:00Z\n",
       "    ...                                     ...\n",
       "    InstrumentSerialNumber:                 6592\n",
       "    InstrumentType:                         SBE-16\n",
       "    date_created:                           2024-09-25T08:16:15Z\n",
       "    date_modified:                          \n",
       "    QC_indicator:                           unknown\n",
       "    history:                                Trimmed to deployment."
      ]
     },
     "execution_count": 30,
     "metadata": {},
     "output_type": "execute_result"
    }
   ],
   "source": [
    "sbe16_wop_nc.get_xdf()"
   ]
  },
  {
   "cell_type": "code",
   "execution_count": 31,
   "id": "88bac5bf-fd3c-40a0-bed9-086b1b7d9e46",
   "metadata": {
    "tags": []
   },
   "outputs": [
    {
     "name": "stdout",
     "output_type": "stream",
     "text": [
      "likely no pressure variable in datafile\n"
     ]
    }
   ],
   "source": [
    "try:\n",
    "    print(sbe16_wop_nc.autotrim_time().pressure.mean())\n",
    "except:\n",
    "    print(f'likely no pressure variable in datafile')"
   ]
  },
  {
   "cell_type": "code",
   "execution_count": 32,
   "id": "0c488eed-e3df-4ea8-a412-8eadd281379e",
   "metadata": {
    "tags": []
   },
   "outputs": [
    {
     "data": {
      "text/plain": [
       "<Figure size 640x480 with 0 Axes>"
      ]
     },
     "metadata": {},
     "output_type": "display_data"
    },
    {
     "data": {
      "image/png": "[encoded data removed]",
      "text/plain": [
       "<Figure size 2400x800 with 3 Axes>"
      ]
     },
     "metadata": {},
     "output_type": "display_data"
    }
   ],
   "source": [
    "#wrap the plot in image settings for visual appeal\n",
    "# may be able to make this cleaner or just a preset\n",
    "# copy is in the notebook examples\n",
    "%run '../../../settings/mpl_plot_settings.py'\n",
    "\n",
    "%matplotlib inline\n",
    "import matplotlib.dates as mdates\n",
    "from matplotlib.dates import YearLocator, WeekdayLocator, MonthLocator, DayLocator, HourLocator, DateFormatter\n",
    "import matplotlib.ticker as ticker\n",
    "\n",
    "import cmocean\n",
    "\n",
    "fig, ax = plt.subplots(3,figsize=(24, 8),sharex=True)\n",
    "sbe16_wop_nc.autotrim_time().temperature.plot(ax=ax[0],color='r')\n",
    "sbe16_wop_nc.autotrim_time().salinity.plot(ax=ax[1],color='b')\n",
    "try:\n",
    "    sbe16_wop_nc.autotrim_time().pressure.plot(ax=ax[2],color='k')\n",
    "except:\n",
    "    pass\n",
    "# xfmt = mdates.DateFormatter('%d-%b')\n",
    "ax[2].xaxis.set_major_locator(DayLocator(bymonthday=1))\n",
    "ax[2].xaxis.set_minor_locator(DayLocator(bymonthday=15))\n",
    "ax[2].xaxis.set_minor_formatter(DateFormatter('%b %Y'))\n",
    "ax[2].xaxis.set_major_formatter(DateFormatter(''))\n",
    "ax[2].xaxis.set_tick_params(which='major', pad=3)\n",
    "ax[2].xaxis.set_tick_params(which='minor', pad=5)"
   ]
  },
  {
   "cell_type": "code",
   "execution_count": 33,
   "id": "b7584968-6b2d-442d-920c-35928fe9e912",
   "metadata": {
    "tags": []
   },
   "outputs": [],
   "source": [
    "#csvoutput if necessary - untrimmed for deck analysis\n",
    "(sbe16_wop_nc.get_xdf().to_dataframe()).to_csv(filename.replace('nc','csv'))\n"
   ]
  },
  {
   "cell_type": "code",
   "execution_count": 34,
   "id": "94c5ab9f-d8bc-40ae-b801-737ca5819869",
   "metadata": {},
   "outputs": [],
   "source": [
    "#csvoutput of trimmed data for manual edit\n",
    "(sbe16_wop_nc.autotrim_time().to_dataframe()).to_csv(filename.replace('nc','trimmed.csv'))"
   ]
  },
  {
   "cell_type": "markdown",
   "id": "individual-nature",
   "metadata": {},
   "source": [
    "## Next Steps\n",
    "\n",
    "QC of data (plot parameters with other instruments)\n",
    "- There is an oxygen sensor on this unit (see above to perform the salinity/depth corrections)\n",
    "\n",
    "- be sure to updated the qc_status and the history"
   ]
  },
  {
   "cell_type": "code",
   "execution_count": 40,
   "id": "c7fc8770-3086-4a1a-874d-c2acf27e48af",
   "metadata": {
    "tags": []
   },
   "outputs": [],
   "source": [
    "import pandas as pd\n",
    "import xarray as xr\n",
    "import datetime\n",
    "import EcoFOCIpy.io.erddap as erddap\n",
    "\n",
    "url = \"http://akutan.pmel.noaa.gov:8080/erddap\"\n",
    "\n",
    "erddap.test_erddap_connection(url=url) #basic test for connection to internal server, no response is a good thing"
   ]
  },
  {
   "cell_type": "code",
   "execution_count": 41,
   "id": "6c0406ad-1503-4407-8e54-501f9a1a4142",
   "metadata": {
    "tags": []
   },
   "outputs": [],
   "source": [
    "depcast = erddap.erddapCTDretrieve(url=url,cruiseid='dy2103',qclevel='final',concastno='027')\n",
    "reccast = erddap.erddapCTDretrieve(url=url,cruiseid='dy2206',qclevel='final',concastno='022')"
   ]
  },
  {
   "cell_type": "markdown",
   "id": "01140ef9-5406-4cb0-9848-53bddc2b1872",
   "metadata": {},
   "source": [
    "some variable names switch between preliminary and final... this will eventually be resolved"
   ]
  },
  {
   "cell_type": "code",
   "execution_count": 42,
   "id": "d9f5f466-2e6a-4de5-9496-746cce9da094",
   "metadata": {},
   "outputs": [],
   "source": [
    "#drop units from names\n",
    "depcast.columns = [x.split()[0] for x in depcast.columns]\n",
    "reccast.columns = [x.split()[0] for x in reccast.columns]"
   ]
  },
  {
   "cell_type": "code",
   "execution_count": 43,
   "id": "c90702aa-2e22-41e6-b360-8afaa9fda4e2",
   "metadata": {},
   "outputs": [
    {
     "data": {
      "image/png": "[encoded data removed]",
      "text/plain": [
       "<Figure size 2400x800 with 3 Axes>"
      ]
     },
     "metadata": {},
     "output_type": "display_data"
    }
   ],
   "source": [
    "depth = int(mooring_config['Instrumentation'][instrument]['ActualDepth'])\n",
    "\n",
    "fig, ax = plt.subplots(3,figsize=(24, 8),sharex=True)\n",
    "sbe16_wop_nc.autotrim_time().temperature.plot(ax=ax[0],color='r')\n",
    "ax[0].plot(pd.to_datetime(depcast[depcast['pressure'] == depth]['time']),\n",
    "        depcast[depcast['pressure'] == depth]['temperature_ch1'],\n",
    "        'o',markersize=20,markerfacecolor='none',markeredgecolor='black')\n",
    "ax[0].plot(pd.to_datetime(depcast[depcast['pressure'] == depth]['time']),\n",
    "        depcast[depcast['pressure'] == depth]['temperature_ch1'],\n",
    "        '+',markersize=10,markerfacecolor='none',markeredgecolor='black')\n",
    "ax[0].plot(pd.to_datetime(reccast[reccast['pressure'] == depth]['time']),\n",
    "        reccast[reccast['pressure'] == depth]['temperature_ch1'],\n",
    "        'o',markersize=20,markerfacecolor='none',markeredgecolor='black')\n",
    "ax[0].plot(pd.to_datetime(reccast[reccast['pressure'] == depth]['time']),\n",
    "        reccast[reccast['pressure'] == depth]['temperature_ch1'],\n",
    "        '+',markersize=10,markerfacecolor='none',markeredgecolor='black')\n",
    "\n",
    "sbe16_wop_nc.autotrim_time().salinity.plot(ax=ax[1],color='b')\n",
    "ax[1].plot(pd.to_datetime(depcast[depcast['pressure'] == depth]['time']),\n",
    "        depcast[depcast['pressure'] == depth]['salinity_ch1'],\n",
    "        'o',markersize=20,markerfacecolor='none',markeredgecolor='black')\n",
    "ax[1].plot(pd.to_datetime(depcast[depcast['pressure'] == depth]['time']),\n",
    "        depcast[depcast['pressure'] == depth]['salinity_ch1'],\n",
    "        '+',markersize=10,markerfacecolor='none',markeredgecolor='black')\n",
    "ax[1].plot(pd.to_datetime(reccast[reccast['pressure'] == depth]['time']),\n",
    "        reccast[reccast['pressure'] == depth]['salinity_ch1'],\n",
    "        'o',markersize=20,markerfacecolor='none',markeredgecolor='black')\n",
    "ax[1].plot(pd.to_datetime(reccast[reccast['pressure'] == depth]['time']),\n",
    "        reccast[reccast['pressure'] == depth]['salinity_ch1'],\n",
    "        '+',markersize=10,markerfacecolor='none',markeredgecolor='black')\n",
    "\n",
    "# xfmt = mdates.DateFormatter('%d-%b')\n",
    "ax[2].xaxis.set_major_locator(DayLocator(bymonthday=1))\n",
    "ax[2].xaxis.set_minor_locator(DayLocator(bymonthday=15))\n",
    "ax[2].xaxis.set_minor_formatter(DateFormatter('%b %Y'))\n",
    "ax[2].xaxis.set_major_formatter(DateFormatter(''))\n",
    "ax[2].xaxis.set_tick_params(which='major', pad=3)\n",
    "ax[2].xaxis.set_tick_params(which='minor', pad=5)\n",
    "\n",
    "fig.savefig(f\"images/{filename.replace('nc','_tempsalCal.png')}\")"
   ]
  },
  {
   "cell_type": "code",
   "execution_count": 44,
   "id": "cbb67981-75e7-4060-8b86-b0cbf5f7239e",
   "metadata": {},
   "outputs": [
    {
     "name": "stdout",
     "output_type": "stream",
     "text": [
      "Deployment\n",
      "T0: [1.3683] [1.3895]\n",
      "T1: [1.3683] [1.389]\n",
      "S0: [32.2283] [32.2313]\n",
      "S1: [32.2283] [32.2326]\n",
      "Recovery\n",
      "T0: [-0.1033] [-0.0966]\n",
      "T1: [-0.1033] [-0.0969]\n",
      "S0: [31.6642] [31.6829]\n",
      "S1: [31.6642] [31.6826]\n"
     ]
    }
   ],
   "source": [
    "#print collocated cast comparison\n",
    "mooring = sbe16_wop_nc.autotrim_time().sel(time=datetime.datetime.strptime(depcast['time'].unique()[0],\n",
    "                                                                 '%Y-%m-%dT%H:%M:%SZ'),\n",
    "                                 method='nearest')\n",
    "print('Deployment')\n",
    "print('T0:',mooring.temperature.values[0][0],depcast[depcast['pressure'] == depth]['temperature_ch1'].values)\n",
    "print('T1:',mooring.temperature.values[0][0],depcast[depcast['pressure'] == depth]['temperature_ch2'].values)\n",
    "print('S0:',mooring.salinity.values[0][0],depcast[depcast['pressure'] == depth]['salinity_ch1'].values)\n",
    "print('S1:',mooring.salinity.values[0][0],depcast[depcast['pressure'] == depth]['salinity_ch2'].values)\n",
    "\n",
    "mooring = sbe16_wop_nc.autotrim_time().sel(time=datetime.datetime.strptime(reccast['time'].unique()[0],\n",
    "                                                                 '%Y-%m-%dT%H:%M:%SZ'),\n",
    "                                 method='nearest')\n",
    "print('Recovery')\n",
    "print('T0:',mooring.temperature.values[0][0],reccast[reccast['pressure'] == depth]['temperature_ch1'].values)\n",
    "print('T1:',mooring.temperature.values[0][0],reccast[reccast['pressure'] == depth]['temperature_ch2'].values)\n",
    "print('S0:',mooring.salinity.values[0][0],reccast[reccast['pressure'] == depth]['salinity_ch1'].values)\n",
    "print('S1:',mooring.salinity.values[0][0],reccast[reccast['pressure'] == depth]['salinity_ch2'].values)\n"
   ]
  },
  {
   "cell_type": "markdown",
   "id": "f4b6448a-56f5-492f-809d-2d56910b0b93",
   "metadata": {},
   "source": [
    "### QC Notes from plots\n",
    "\n",
    "- **no pressure var - so assume pressure correction from other depths**\n",
    "- A few salinity Spikes should be removed\n",
    "- rough field check points look good at the large scale\n"
   ]
  },
  {
   "cell_type": "markdown",
   "id": "a838f88d-3bfa-4dac-a0a7-52355d51ac75",
   "metadata": {},
   "source": [
    "### Post Manual QC load data and rebuild nc file\n",
    "\n",
    "- using excel for a few points or a dynamic web map for multiple (a tool on ecofoci-field.pmel.noaa.gov) or any other method to identify spikes\n",
    "**NOTE** if you use excel, be cautious about how your time is formatted (its important) - use custom formatting and make it of the form `yyyy-mm-ddTHH:MM:SSZ` to assure proper read in to xarray\n",
    "\n",
    "*TODO:* use erddap hosted data "
   ]
  },
  {
   "cell_type": "code",
   "execution_count": null,
   "id": "5a5f28cd-4aed-4ee5-848c-f54a0306a024",
   "metadata": {},
   "outputs": [],
   "source": []
  }
 ],
 "metadata": {
  "kernelspec": {
   "display_name": "Python [conda env:p312]",
   "language": "python",
   "name": "conda-env-p312-py"
  },
  "language_info": {
   "codemirror_mode": {
    "name": "ipython",
    "version": 3
   },
   "file_extension": ".py",
   "mimetype": "text/x-python",
   "name": "python",
   "nbconvert_exporter": "python",
   "pygments_lexer": "ipython3",
   "version": "3.12.1"
  }
 },
 "nbformat": 4,
 "nbformat_minor": 5
}
