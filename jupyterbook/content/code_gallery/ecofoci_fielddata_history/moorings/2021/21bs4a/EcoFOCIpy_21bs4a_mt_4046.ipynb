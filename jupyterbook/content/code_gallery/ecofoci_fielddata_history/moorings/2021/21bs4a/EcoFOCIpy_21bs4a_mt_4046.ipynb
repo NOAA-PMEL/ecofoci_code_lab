{
 "cells": [
  {
   "cell_type": "markdown",
   "id": "educational-chosen",
   "metadata": {},
   "source": [
    "# Using EcoFOCIpy to process raw field data\n",
    "\n",
    "## Mooring / Timeseries Data\n",
    "\n",
    "Basic workflow for each instrument grouping is *(initial archive level)*:\n",
    "- Parse data from raw files into pandas dataframe\n",
    "- output initial files (pandas->csv) **ERDDAP NRT** when no meta data is added\n",
    "\n",
    "Convert to xarray dataframe for all following work *(working or final data level):\n",
    "- TODO: Add metadata from instrument yaml files and/or header info\n",
    "- ingest metadata from deployment/recovery records or cast logs\n",
    "- process data beyond simple file translate\n",
    "- apply any calibrations or corrections\n",
    "    + field corrections\n",
    "    + offsets\n",
    "    + instrument compensations\n",
    "    + some QC were available... this would be old-school simple bounds mostly\n",
    "- adjust time bounds and sample frequency (xarray dataframe)\n",
    "- save as CF netcdf via xarray: so many of the steps above are optional\n",
    "    + **ERDDAP NRT** if no corrections, offsets or time bounds are applied but some meta data is\n",
    "    + **Working and awaiting QC** has no ERDDAP representation and is a holding spot\n",
    "    + **ERDDAP Final** fully calibrated, qc'd and populated with meta information\n",
    "\n",
    "Plot for preview and QC\n",
    "- preview images (indiv and/or collectively)\n",
    "- manual qc process\n",
    "- automated qc process ML/AI\n",
    "\n",
    "Further refinenments for ERDDAP hosting:\n"
   ]
  },
  {
   "cell_type": "markdown",
   "id": "allied-miniature",
   "metadata": {},
   "source": [
    "## Example below is for MTRs\n",
    "\n",
    "Future processing of this instrument can be a simplified (no markdown) process which can be archived so that the procedure can be traced or updated"
   ]
  },
  {
   "cell_type": "code",
   "execution_count": 2,
   "id": "studied-pollution",
   "metadata": {},
   "outputs": [],
   "source": [
    "%matplotlib inline\n",
    "import matplotlib.pyplot as plt\n",
    "import yaml\n",
    "\n",
    "import EcoFOCIpy.io.mtr_parser as mtr_parser #<- instrument specific\n",
    "import EcoFOCIpy.io.ncCFsave as ncCFsave\n",
    "import EcoFOCIpy.metaconfig.load_config as load_config"
   ]
  },
  {
   "cell_type": "markdown",
   "id": "public-millennium",
   "metadata": {},
   "source": [
    "The sample_data_dir should be included in the github package but may not be included in the pip install of the package\n",
    "\n",
    "## Simple Processing - first step"
   ]
  },
  {
   "cell_type": "code",
   "execution_count": 3,
   "id": "offensive-level",
   "metadata": {},
   "outputs": [],
   "source": [
    "sample_data_dir = '/Users/bell/Programs/EcoFOCIpy/'\n",
    "user_data_dir = '/Users/bell/ecoraid/2021/Moorings/21bs4a/'"
   ]
  },
  {
   "cell_type": "code",
   "execution_count": 10,
   "id": "third-yellow",
   "metadata": {},
   "outputs": [],
   "source": [
    "###############################################################\n",
    "# edit to point to {instrument sepcific} raw datafile \n",
    "datafile = user_data_dir+'raw/mtr/4046.txt'\n",
    "instrument = 'MTR 4046'\n",
    "mooring_meta_file = user_data_dir+'logs/21BS-4A.yaml'\n",
    "inst_meta_file = sample_data_dir+'staticdata/instr_metaconfig/mtr_cf.yaml'\n",
    "institution_meta_file = sample_data_dir+'staticdata/institutional_meta_example.yaml' #include uaf?\n",
    "inst_shortname = 'mt'\n",
    "\n",
    "#\n",
    "mtr_coef = [1.1044011601E-03,5.2526680861E-04,2.3235863205E-06] #22-Jul-18\n",
    "time_offset_seconds = 0*60 + 1\n",
    "###############################################################\n",
    "\n",
    "#init and load data\n",
    "mtr_wop = mtr_parser.mtr()\n",
    "(mtr_wop_data,mtr_wop_header) = mtr_wop.parse(filename=datafile,\n",
    "                                                    return_header=True,\n",
    "                                                    datetime_index=True,\n",
    "                                                    version=4.1) "
   ]
  },
  {
   "cell_type": "markdown",
   "id": "metallic-youth",
   "metadata": {},
   "source": [
    "The data is output as a pandas dataframe from the intial module call and if its available, a header"
   ]
  },
  {
   "cell_type": "code",
   "execution_count": 11,
   "id": "fifteen-military",
   "metadata": {
    "tags": []
   },
   "outputs": [
    {
     "data": {
      "text/plain": [
       "['',\n",
       " '',\n",
       " 'Quit logging? Y or (N) Y',\n",
       " '',\n",
       " 'PMEL MTR revision = V4.00 December 4, 1996',\n",
       " 'MTR serial number = 4046',\n",
       " 'MTR time/date     = 88:74:56 invalid time!  00/00/2124 invalid date! (year must have 4 digits)',\n",
       " 'Start time/date   = 00:00:00 05/01/2021',\n",
       " 'Sample interval   = 00:10:00',\n",
       " 'Records logged    = 525',\n",
       " 'Extra samples     = 32',\n",
       " '',\n",
       " \"Command Mode: Type 'help' for command list.\",\n",
       " 'CMD> READ DATA']"
      ]
     },
     "execution_count": 11,
     "metadata": {},
     "output_type": "execute_result"
    }
   ],
   "source": [
    "mtr_wop_header"
   ]
  },
  {
   "cell_type": "code",
   "execution_count": 12,
   "id": "alive-bruce",
   "metadata": {
    "tags": []
   },
   "outputs": [],
   "source": [
    "mtr_wop_data = mtr_wop.hex2dec(mtr_wop_data)"
   ]
  },
  {
   "cell_type": "code",
   "execution_count": 13,
   "id": "e37e3636-1458-42fb-8f17-4345bddd506b",
   "metadata": {
    "tags": []
   },
   "outputs": [],
   "source": [
    "#10min batches represent a two hour grouping, 10 groupings for a 20hour window\n",
    "mtr_wop_data = mtr_wop.res2temp(mtr_wop_data,mtr_coef)"
   ]
  },
  {
   "cell_type": "code",
   "execution_count": 14,
   "id": "68e460ca-eef5-42e3-af46-ba3e40b1c2d3",
   "metadata": {},
   "outputs": [],
   "source": [
    "mtr_wop_df = mtr_wop.dic2df(mtr_wop_data)"
   ]
  },
  {
   "cell_type": "markdown",
   "id": "fb58c041-ad11-400a-8d93-4c77815d0cd5",
   "metadata": {},
   "source": [
    "### Special note for MTR times\n",
    "\n",
    "Historically these instruments have drifted significantly.  (usually to be slow) We keep track of the shift in seconds. "
   ]
  },
  {
   "cell_type": "code",
   "execution_count": 15,
   "id": "193db459-1582-4a8e-8b40-79d5b1dc6398",
   "metadata": {},
   "outputs": [
    {
     "data": {
      "text/plain": [
       "(                               temperature\n",
       " date_time                                 \n",
       " 2021-05-02 16:00:00.000000000     4.912995\n",
       " 2021-05-02 16:10:00.000015934     5.142132\n",
       " 2021-05-02 16:20:00.000031868     4.905146\n",
       " 2021-05-02 16:30:00.000047802     4.882896\n",
       " 2021-05-02 16:40:00.000063736     4.868488\n",
       " ...                                    ...\n",
       " 2022-07-12 11:10:00.999938170     0.000000\n",
       " 2022-07-12 11:20:00.999954104     0.000000\n",
       " 2022-07-12 11:30:00.999970038     0.000000\n",
       " 2022-07-12 11:40:00.999985972     0.000000\n",
       " 2022-07-12 11:50:01.000001906     0.000000\n",
       " \n",
       " [62760 rows x 1 columns],\n",
       " 15934)"
      ]
     },
     "execution_count": 15,
     "metadata": {},
     "output_type": "execute_result"
    }
   ],
   "source": [
    "mtr_wop_df = mtr_wop.time_correction(mtr_wop_df, offset=time_offset_seconds) #positive to catch up with GPS time - linear correction may need to be applied... this is an offset shift at the moment \n",
    "mtr_wop_df"
   ]
  },
  {
   "cell_type": "markdown",
   "id": "ready-audit",
   "metadata": {},
   "source": [
    "## Time properties\n",
    "\n",
    "Its unusual that our clocks drift to the point of concern for our instruments (if an instrument is off by 3 minutes but only sampling hourly... regridding that data will result in minimal changes).  However, there are a few time oriented modifications that may need to be made."
   ]
  },
  {
   "cell_type": "markdown",
   "id": "supposed-bankruptcy",
   "metadata": {},
   "source": [
    "It is very easy to use pandas interplation and resample methods on the dataframe as is.  A few steps are suggested below:\n",
    "- parse out on-deck (predeployment and recovery) data.  This can be done via pandas or xarray but requires the mooring metadata to have been read in.  See future steps below.\n",
    "- even if the sample frequency is set to the desired measurement frequency, it would be good to perform a quick regridding as an assurance task\n",
    "- FOCI data is usualy 1min, 10min, 1hr - and the 1min data is a fairly new (sbe56) data stream\n",
    "    + subsampling high frequency data to lower frequency is easy via df.resample().mean()\n",
    "    + you may want to take the median instead of the mean for noisy data (fluorometer) , occasionally decimating may be more appropriate if you want to downsize the dataset size but not smear features\n",
    "    + shifting times can be a bit more involved.  There are two primary ways to do it, interpolate or shift\n",
    "        - to interpolate, you will need to upsample your data to a higher frequency which will generate missing values, then interpolate (with a maximum gap size), then decimate.  This always has the artifact of smoothing data and decreasing the min/max values. **common on microcats and other 10min datasets**\n",
    "        - shifting usually just involves droping extra time \"digits\", if you want hourly, you could just drop the trailing minutes assuming you are just off the hour (8:05 -> 8:00) or you can round to the nearest time unit but niether of these changes the data value, just the time associated with it. **common on seacats and other hourly datasets**\n",
    "    + I suggest if no change is needed... resample().mean() to the sample frequency just in case there is a small deviation from expected (<1min)\n",
    "    "
   ]
  },
  {
   "cell_type": "code",
   "execution_count": 16,
   "id": "04dcc3e3-55b5-412d-9200-89c1fdc8a88f",
   "metadata": {},
   "outputs": [
    {
     "data": {
      "text/html": [
       "<div>\n",
       "<style scoped>\n",
       "    .dataframe tbody tr th:only-of-type {\n",
       "        vertical-align: middle;\n",
       "    }\n",
       "\n",
       "    .dataframe tbody tr th {\n",
       "        vertical-align: top;\n",
       "    }\n",
       "\n",
       "    .dataframe thead th {\n",
       "        text-align: right;\n",
       "    }\n",
       "</style>\n",
       "<table border=\"1\" class=\"dataframe\">\n",
       "  <thead>\n",
       "    <tr style=\"text-align: right;\">\n",
       "      <th></th>\n",
       "      <th>temperature</th>\n",
       "    </tr>\n",
       "    <tr>\n",
       "      <th>date_time</th>\n",
       "      <th></th>\n",
       "    </tr>\n",
       "  </thead>\n",
       "  <tbody>\n",
       "    <tr>\n",
       "      <th>2021-05-02 16:00:00.000000000</th>\n",
       "      <td>4.912995</td>\n",
       "    </tr>\n",
       "    <tr>\n",
       "      <th>2021-05-02 16:10:00.000015934</th>\n",
       "      <td>5.142132</td>\n",
       "    </tr>\n",
       "    <tr>\n",
       "      <th>2021-05-02 16:20:00.000031868</th>\n",
       "      <td>4.905146</td>\n",
       "    </tr>\n",
       "    <tr>\n",
       "      <th>2021-05-02 16:30:00.000047802</th>\n",
       "      <td>4.882896</td>\n",
       "    </tr>\n",
       "    <tr>\n",
       "      <th>2021-05-02 16:40:00.000063736</th>\n",
       "      <td>4.868488</td>\n",
       "    </tr>\n",
       "    <tr>\n",
       "      <th>...</th>\n",
       "      <td>...</td>\n",
       "    </tr>\n",
       "    <tr>\n",
       "      <th>2022-07-12 11:10:00.999938170</th>\n",
       "      <td>0.000000</td>\n",
       "    </tr>\n",
       "    <tr>\n",
       "      <th>2022-07-12 11:20:00.999954104</th>\n",
       "      <td>0.000000</td>\n",
       "    </tr>\n",
       "    <tr>\n",
       "      <th>2022-07-12 11:30:00.999970038</th>\n",
       "      <td>0.000000</td>\n",
       "    </tr>\n",
       "    <tr>\n",
       "      <th>2022-07-12 11:40:00.999985972</th>\n",
       "      <td>0.000000</td>\n",
       "    </tr>\n",
       "    <tr>\n",
       "      <th>2022-07-12 11:50:01.000001906</th>\n",
       "      <td>0.000000</td>\n",
       "    </tr>\n",
       "  </tbody>\n",
       "</table>\n",
       "<p>62760 rows × 1 columns</p>\n",
       "</div>"
      ],
      "text/plain": [
       "                               temperature\n",
       "date_time                                 \n",
       "2021-05-02 16:00:00.000000000     4.912995\n",
       "2021-05-02 16:10:00.000015934     5.142132\n",
       "2021-05-02 16:20:00.000031868     4.905146\n",
       "2021-05-02 16:30:00.000047802     4.882896\n",
       "2021-05-02 16:40:00.000063736     4.868488\n",
       "...                                    ...\n",
       "2022-07-12 11:10:00.999938170     0.000000\n",
       "2022-07-12 11:20:00.999954104     0.000000\n",
       "2022-07-12 11:30:00.999970038     0.000000\n",
       "2022-07-12 11:40:00.999985972     0.000000\n",
       "2022-07-12 11:50:01.000001906     0.000000\n",
       "\n",
       "[62760 rows x 1 columns]"
      ]
     },
     "execution_count": 16,
     "metadata": {},
     "output_type": "execute_result"
    }
   ],
   "source": [
    "mtr_wop_df[0]"
   ]
  },
  {
   "cell_type": "code",
   "execution_count": 17,
   "id": "fourth-perspective",
   "metadata": {},
   "outputs": [
    {
     "data": {
      "text/html": [
       "<div>\n",
       "<style scoped>\n",
       "    .dataframe tbody tr th:only-of-type {\n",
       "        vertical-align: middle;\n",
       "    }\n",
       "\n",
       "    .dataframe tbody tr th {\n",
       "        vertical-align: top;\n",
       "    }\n",
       "\n",
       "    .dataframe thead th {\n",
       "        text-align: right;\n",
       "    }\n",
       "</style>\n",
       "<table border=\"1\" class=\"dataframe\">\n",
       "  <thead>\n",
       "    <tr style=\"text-align: right;\">\n",
       "      <th></th>\n",
       "      <th>temperature</th>\n",
       "    </tr>\n",
       "    <tr>\n",
       "      <th>date_time</th>\n",
       "      <th></th>\n",
       "    </tr>\n",
       "  </thead>\n",
       "  <tbody>\n",
       "    <tr>\n",
       "      <th>2021-05-02 16:00:00</th>\n",
       "      <td>5.119218</td>\n",
       "    </tr>\n",
       "    <tr>\n",
       "      <th>2021-05-02 16:10:00</th>\n",
       "      <td>4.928845</td>\n",
       "    </tr>\n",
       "    <tr>\n",
       "      <th>2021-05-02 16:20:00</th>\n",
       "      <td>4.885121</td>\n",
       "    </tr>\n",
       "    <tr>\n",
       "      <th>2021-05-02 16:30:00</th>\n",
       "      <td>4.869929</td>\n",
       "    </tr>\n",
       "    <tr>\n",
       "      <th>2021-05-02 16:40:00</th>\n",
       "      <td>4.870846</td>\n",
       "    </tr>\n",
       "    <tr>\n",
       "      <th>...</th>\n",
       "      <td>...</td>\n",
       "    </tr>\n",
       "    <tr>\n",
       "      <th>2022-07-12 11:10:00</th>\n",
       "      <td>0.000000</td>\n",
       "    </tr>\n",
       "    <tr>\n",
       "      <th>2022-07-12 11:20:00</th>\n",
       "      <td>0.000000</td>\n",
       "    </tr>\n",
       "    <tr>\n",
       "      <th>2022-07-12 11:30:00</th>\n",
       "      <td>0.000000</td>\n",
       "    </tr>\n",
       "    <tr>\n",
       "      <th>2022-07-12 11:40:00</th>\n",
       "      <td>0.000000</td>\n",
       "    </tr>\n",
       "    <tr>\n",
       "      <th>2022-07-12 11:50:00</th>\n",
       "      <td>0.000000</td>\n",
       "    </tr>\n",
       "  </tbody>\n",
       "</table>\n",
       "<p>62760 rows × 1 columns</p>\n",
       "</div>"
      ],
      "text/plain": [
       "                     temperature\n",
       "date_time                       \n",
       "2021-05-02 16:00:00     5.119218\n",
       "2021-05-02 16:10:00     4.928845\n",
       "2021-05-02 16:20:00     4.885121\n",
       "2021-05-02 16:30:00     4.869929\n",
       "2021-05-02 16:40:00     4.870846\n",
       "...                          ...\n",
       "2022-07-12 11:10:00     0.000000\n",
       "2022-07-12 11:20:00     0.000000\n",
       "2022-07-12 11:30:00     0.000000\n",
       "2022-07-12 11:40:00     0.000000\n",
       "2022-07-12 11:50:00     0.000000\n",
       "\n",
       "[62760 rows x 1 columns]"
      ]
     },
     "execution_count": 17,
     "metadata": {},
     "output_type": "execute_result"
    }
   ],
   "source": [
    "mtr_wop_df = mtr_wop_df[0].resample('1min').mean().interpolate().resample('10min').last() #this puts data on 1min then interpolates to it, then retrieves the data every 10min by subsetting\n",
    "mtr_wop_df"
   ]
  },
  {
   "cell_type": "code",
   "execution_count": 18,
   "id": "undefined-membrane",
   "metadata": {},
   "outputs": [
    {
     "data": {
      "text/plain": [
       "<Axes: xlabel='date_time'>"
      ]
     },
     "execution_count": 18,
     "metadata": {},
     "output_type": "execute_result"
    },
    {
     "data": {
      "image/png": "[encoded data removed]",
      "text/plain": [
       "<Figure size 1600x300 with 1 Axes>"
      ]
     },
     "metadata": {},
     "output_type": "display_data"
    }
   ],
   "source": [
    "fig, ax = plt.subplots(1,figsize=(16, 3))\n",
    "mtr_wop_df.temperature.plot(ax=ax,color='r')"
   ]
  },
  {
   "cell_type": "markdown",
   "id": "acknowledged-active",
   "metadata": {},
   "source": [
    "## Add Deployment meta information"
   ]
  },
  {
   "cell_type": "code",
   "execution_count": 19,
   "id": "freelance-fairy",
   "metadata": {},
   "outputs": [],
   "source": [
    "#just a dictionary of dictionaries - simple\n",
    "with open(mooring_meta_file) as file:\n",
    "    mooring_config = yaml.full_load(file)"
   ]
  },
  {
   "cell_type": "code",
   "execution_count": 20,
   "id": "israeli-begin",
   "metadata": {},
   "outputs": [
    {
     "data": {
      "text/plain": [
       "{'InstType': 'MTR',\n",
       " 'SerialNo': '4046',\n",
       " 'DesignedDepth': 50.0,\n",
       " 'ActualDepth': 48.0,\n",
       " 'PreDeploymentNotes': '',\n",
       " 'PostDeploymentNotes': '',\n",
       " 'Deployed': 'y',\n",
       " 'Recovered': 'y'}"
      ]
     },
     "execution_count": 20,
     "metadata": {},
     "output_type": "execute_result"
    }
   ],
   "source": [
    "mooring_config['Instrumentation'][instrument]"
   ]
  },
  {
   "cell_type": "markdown",
   "id": "mysterious-cornwall",
   "metadata": {},
   "source": [
    "## Add Instrument meta information\n",
    "\n",
    "Time, depth, lat, lon should be added regardless (always our coordinates) but for a mooring site its going to be a (1,1,1,t) dataset\n",
    "The variables of interest should be read from the data file and matched to a key for naming.  That key is in the inst_config file seen below and should represent common conversion names in the raw data"
   ]
  },
  {
   "cell_type": "code",
   "execution_count": 21,
   "id": "e47ef289",
   "metadata": {
    "tags": []
   },
   "outputs": [],
   "source": [
    "with open(inst_meta_file) as file:\n",
    "    inst_config = yaml.full_load(file)"
   ]
  },
  {
   "cell_type": "code",
   "execution_count": 22,
   "id": "8d8301e9-cd0a-4790-bc7a-b9e5aa1ae852",
   "metadata": {},
   "outputs": [],
   "source": [
    "#just a dictionary of dictionaries - simple\n",
    "with open(institution_meta_file) as file:\n",
    "    institution_config = yaml.full_load(file)"
   ]
  },
  {
   "cell_type": "code",
   "execution_count": 23,
   "id": "varied-popularity",
   "metadata": {},
   "outputs": [
    {
     "data": {
      "text/plain": [
       "<EcoFOCIpy.io.ncCFsave.EcoFOCI_CFnc at 0x12e6878f0>"
      ]
     },
     "execution_count": 23,
     "metadata": {},
     "output_type": "execute_result"
    }
   ],
   "source": [
    "# Add meta data and prelim processing based on meta data\n",
    "# Convert to xarray and add meta information - save as CF netcdf file\n",
    "# pass -> data, instmeta, depmeta\n",
    "mtr_wop_nc = ncCFsave.EcoFOCI_CFnc(df=mtr_wop_df, \n",
    "                                instrument_yaml=inst_config, \n",
    "                                operation_yaml=mooring_config, \n",
    "                                operation_type='mooring',\n",
    "                                instrument_id=instrument, \n",
    "                                inst_shortname=inst_shortname)\n",
    "mtr_wop_nc"
   ]
  },
  {
   "cell_type": "markdown",
   "id": "asian-chambers",
   "metadata": {},
   "source": [
    "At this point, you could save your file with the `.xarray2netcdf_save()` method and have a functioning dataset.... but it would be very simple with no additional qc, meta-data, or tuned parameters for optimizing software like ferret or erddap."
   ]
  },
  {
   "cell_type": "code",
   "execution_count": 24,
   "id": "practical-pennsylvania",
   "metadata": {},
   "outputs": [],
   "source": [
    "# expand the dimensions and coordinate variables\n",
    "# renames them appropriatley and prepares them for meta-filled values\n",
    "mtr_wop_nc.expand_dimensions()"
   ]
  },
  {
   "cell_type": "code",
   "execution_count": 25,
   "id": "floral-operations",
   "metadata": {},
   "outputs": [],
   "source": [
    "mtr_wop_nc.variable_meta_data(variable_keys=list(mtr_wop_df.columns.values),drop_missing=True)\n",
    "mtr_wop_nc.temporal_geospatioal_meta_data(depth='actual')\n",
    "#adding dimension meta needs to come after updating the dimension values... BUG?\n",
    "mtr_wop_nc.dimension_meta_data(variable_keys=['depth','latitude','longitude'])"
   ]
  },
  {
   "cell_type": "markdown",
   "id": "seventh-product",
   "metadata": {},
   "source": [
    "The following steps can happen in just about any order and are all meta-data driven.  Therefore, they are not required to have a functioning dataset, but they are required to have a well described dataset"
   ]
  },
  {
   "cell_type": "code",
   "execution_count": 26,
   "id": "auburn-diversity",
   "metadata": {},
   "outputs": [],
   "source": [
    "#add global attributes\n",
    "mtr_wop_nc.deployment_meta_add()\n",
    "mtr_wop_nc.get_xdf()\n",
    "\n",
    "#add instituitonal global attributes\n",
    "mtr_wop_nc.institution_meta_add(institution_yaml=institution_config)\n",
    "\n",
    "#add instrument global attributes\n",
    "mtr_wop_nc.instrument_meta_data()\n",
    "\n",
    "#add creation date/time - provenance data\n",
    "mtr_wop_nc.provinance_meta_add()\n",
    "\n",
    "#provide intial qc status field\n",
    "mtr_wop_nc.qc_status(qc_status='unknown')\n",
    "\n"
   ]
  },
  {
   "cell_type": "markdown",
   "id": "sustained-hughes",
   "metadata": {},
   "source": [
    "## Save CF Netcdf files\n",
    "\n",
    "Currently stick to netcdf3 classic... but migrating to netcdf4 (default) may be no problems for most modern purposes.  Its easy enough to pass the `format` kwargs through to the netcdf api of xarray."
   ]
  },
  {
   "cell_type": "code",
   "execution_count": 27,
   "id": "modular-volunteer",
   "metadata": {},
   "outputs": [
    {
     "name": "stderr",
     "output_type": "stream",
     "text": [
      "/Users/bell/src/ecofocipy/src/EcoFOCIpy/io/ncCFsave.py:320: UserWarning: Times can't be serialized faithfully to int64 with requested units 'days since 1900-01-01'. Resolution of 'minutes' needed. Serializing times to floating point instead. Set encoding['dtype'] to integer dtype to serialize to int64. Set encoding['dtype'] to floating point dtype to silence this warning.\n",
      "  xdf.to_netcdf(filename,format=kwargs['format'],encoding={'time':{'units':'days since 1900-01-01'}})\n"
     ]
    }
   ],
   "source": [
    "# combine trim (not mandatory) and filename together (saves to test.nc without name)\n",
    "\n",
    "depth = str(int(mooring_config['Instrumentation'][instrument]['ActualDepth'])).zfill(4)\n",
    "# mooring_yaml['Instrumentation'][self.instrument_id]['DesignedDepth'])).zfill(4) #<-- alternative\n",
    "filename = \"\".join(mooring_config['MooringID'].split('-')).lower()+'_'+inst_shortname+instrument.split(' ')[-1]+'_'+depth+'m.nc'\n",
    "mtr_wop_nc.xarray2netcdf_save(xdf = mtr_wop_nc.autotrim_time(),\n",
    "                           filename=filename,format=\"NETCDF3_CLASSIC\")\n",
    "\n",
    "# don't trim the data and pass your own filename\n",
    "# sbe39_wop_nc.xarray2netcdf_save(xdf = sbe39_wop_nc.get_xdf(),\n",
    "#                            filename=filename,format=\"NETCDF4_CLASSIC\")"
   ]
  },
  {
   "cell_type": "code",
   "execution_count": 28,
   "id": "unlike-breathing",
   "metadata": {},
   "outputs": [
    {
     "data": {
      "text/html": [
       "<div><svg style=\"position: absolute; width: 0; height: 0; overflow: hidden\">\n",
       "<defs>\n",
       "<symbol id=\"icon-database\" viewBox=\"0 0 32 32\">\n",
       "<path d=\"M16 0c-8.837 0-16 2.239-16 5v4c0 2.761 7.163 5 16 5s16-2.239 16-5v-4c0-2.761-7.163-5-16-5z\"></path>\n",
       "<path d=\"M16 17c-8.837 0-16-2.239-16-5v6c0 2.761 7.163 5 16 5s16-2.239 16-5v-6c0 2.761-7.163 5-16 5z\"></path>\n",
       "<path d=\"M16 26c-8.837 0-16-2.239-16-5v6c0 2.761 7.163 5 16 5s16-2.239 16-5v-6c0 2.761-7.163 5-16 5z\"></path>\n",
       "</symbol>\n",
       "<symbol id=\"icon-file-text2\" viewBox=\"0 0 32 32\">\n",
       "<path d=\"M28.681 7.159c-0.694-0.947-1.662-2.053-2.724-3.116s-2.169-2.030-3.116-2.724c-1.612-1.182-2.393-1.319-2.841-1.319h-15.5c-1.378 0-2.5 1.121-2.5 2.5v27c0 1.378 1.122 2.5 2.5 2.5h23c1.378 0 2.5-1.122 2.5-2.5v-19.5c0-0.448-0.137-1.23-1.319-2.841zM24.543 5.457c0.959 0.959 1.712 1.825 2.268 2.543h-4.811v-4.811c0.718 0.556 1.584 1.309 2.543 2.268zM28 29.5c0 0.271-0.229 0.5-0.5 0.5h-23c-0.271 0-0.5-0.229-0.5-0.5v-27c0-0.271 0.229-0.5 0.5-0.5 0 0 15.499-0 15.5 0v7c0 0.552 0.448 1 1 1h7v19.5z\"></path>\n",
       "<path d=\"M23 26h-14c-0.552 0-1-0.448-1-1s0.448-1 1-1h14c0.552 0 1 0.448 1 1s-0.448 1-1 1z\"></path>\n",
       "<path d=\"M23 22h-14c-0.552 0-1-0.448-1-1s0.448-1 1-1h14c0.552 0 1 0.448 1 1s-0.448 1-1 1z\"></path>\n",
       "<path d=\"M23 18h-14c-0.552 0-1-0.448-1-1s0.448-1 1-1h14c0.552 0 1 0.448 1 1s-0.448 1-1 1z\"></path>\n",
       "</symbol>\n",
       "</defs>\n",
       "</svg>\n",
       "<style>/* CSS stylesheet for displaying xarray objects in jupyterlab.\n",
       " *\n",
       " */\n",
       "\n",
       ":root {\n",
       "  --xr-font-color0: var(--jp-content-font-color0, rgba(0, 0, 0, 1));\n",
       "  --xr-font-color2: var(--jp-content-font-color2, rgba(0, 0, 0, 0.54));\n",
       "  --xr-font-color3: var(--jp-content-font-color3, rgba(0, 0, 0, 0.38));\n",
       "  --xr-border-color: var(--jp-border-color2, #e0e0e0);\n",
       "  --xr-disabled-color: var(--jp-layout-color3, #bdbdbd);\n",
       "  --xr-background-color: var(--jp-layout-color0, white);\n",
       "  --xr-background-color-row-even: var(--jp-layout-color1, white);\n",
       "  --xr-background-color-row-odd: var(--jp-layout-color2, #eeeeee);\n",
       "}\n",
       "\n",
       "html[theme=dark],\n",
       "body[data-theme=dark],\n",
       "body.vscode-dark {\n",
       "  --xr-font-color0: rgba(255, 255, 255, 1);\n",
       "  --xr-font-color2: rgba(255, 255, 255, 0.54);\n",
       "  --xr-font-color3: rgba(255, 255, 255, 0.38);\n",
       "  --xr-border-color: #1F1F1F;\n",
       "  --xr-disabled-color: #515151;\n",
       "  --xr-background-color: #111111;\n",
       "  --xr-background-color-row-even: #111111;\n",
       "  --xr-background-color-row-odd: #313131;\n",
       "}\n",
       "\n",
       ".xr-wrap {\n",
       "  display: block !important;\n",
       "  min-width: 300px;\n",
       "  max-width: 700px;\n",
       "}\n",
       "\n",
       ".xr-text-repr-fallback {\n",
       "  /* fallback to plain text repr when CSS is not injected (untrusted notebook) */\n",
       "  display: none;\n",
       "}\n",
       "\n",
       ".xr-header {\n",
       "  padding-top: 6px;\n",
       "  padding-bottom: 6px;\n",
       "  margin-bottom: 4px;\n",
       "  border-bottom: solid 1px var(--xr-border-color);\n",
       "}\n",
       "\n",
       ".xr-header > div,\n",
       ".xr-header > ul {\n",
       "  display: inline;\n",
       "  margin-top: 0;\n",
       "  margin-bottom: 0;\n",
       "}\n",
       "\n",
       ".xr-obj-type,\n",
       ".xr-array-name {\n",
       "  margin-left: 2px;\n",
       "  margin-right: 10px;\n",
       "}\n",
       "\n",
       ".xr-obj-type {\n",
       "  color: var(--xr-font-color2);\n",
       "}\n",
       "\n",
       ".xr-sections {\n",
       "  padding-left: 0 !important;\n",
       "  display: grid;\n",
       "  grid-template-columns: 150px auto auto 1fr 20px 20px;\n",
       "}\n",
       "\n",
       ".xr-section-item {\n",
       "  display: contents;\n",
       "}\n",
       "\n",
       ".xr-section-item input {\n",
       "  display: none;\n",
       "}\n",
       "\n",
       ".xr-section-item input + label {\n",
       "  color: var(--xr-disabled-color);\n",
       "}\n",
       "\n",
       ".xr-section-item input:enabled + label {\n",
       "  cursor: pointer;\n",
       "  color: var(--xr-font-color2);\n",
       "}\n",
       "\n",
       ".xr-section-item input:enabled + label:hover {\n",
       "  color: var(--xr-font-color0);\n",
       "}\n",
       "\n",
       ".xr-section-summary {\n",
       "  grid-column: 1;\n",
       "  color: var(--xr-font-color2);\n",
       "  font-weight: 500;\n",
       "}\n",
       "\n",
       ".xr-section-summary > span {\n",
       "  display: inline-block;\n",
       "  padding-left: 0.5em;\n",
       "}\n",
       "\n",
       ".xr-section-summary-in:disabled + label {\n",
       "  color: var(--xr-font-color2);\n",
       "}\n",
       "\n",
       ".xr-section-summary-in + label:before {\n",
       "  display: inline-block;\n",
       "  content: '►';\n",
       "  font-size: 11px;\n",
       "  width: 15px;\n",
       "  text-align: center;\n",
       "}\n",
       "\n",
       ".xr-section-summary-in:disabled + label:before {\n",
       "  color: var(--xr-disabled-color);\n",
       "}\n",
       "\n",
       ".xr-section-summary-in:checked + label:before {\n",
       "  content: '▼';\n",
       "}\n",
       "\n",
       ".xr-section-summary-in:checked + label > span {\n",
       "  display: none;\n",
       "}\n",
       "\n",
       ".xr-section-summary,\n",
       ".xr-section-inline-details {\n",
       "  padding-top: 4px;\n",
       "  padding-bottom: 4px;\n",
       "}\n",
       "\n",
       ".xr-section-inline-details {\n",
       "  grid-column: 2 / -1;\n",
       "}\n",
       "\n",
       ".xr-section-details {\n",
       "  display: none;\n",
       "  grid-column: 1 / -1;\n",
       "  margin-bottom: 5px;\n",
       "}\n",
       "\n",
       ".xr-section-summary-in:checked ~ .xr-section-details {\n",
       "  display: contents;\n",
       "}\n",
       "\n",
       ".xr-array-wrap {\n",
       "  grid-column: 1 / -1;\n",
       "  display: grid;\n",
       "  grid-template-columns: 20px auto;\n",
       "}\n",
       "\n",
       ".xr-array-wrap > label {\n",
       "  grid-column: 1;\n",
       "  vertical-align: top;\n",
       "}\n",
       "\n",
       ".xr-preview {\n",
       "  color: var(--xr-font-color3);\n",
       "}\n",
       "\n",
       ".xr-array-preview,\n",
       ".xr-array-data {\n",
       "  padding: 0 5px !important;\n",
       "  grid-column: 2;\n",
       "}\n",
       "\n",
       ".xr-array-data,\n",
       ".xr-array-in:checked ~ .xr-array-preview {\n",
       "  display: none;\n",
       "}\n",
       "\n",
       ".xr-array-in:checked ~ .xr-array-data,\n",
       ".xr-array-preview {\n",
       "  display: inline-block;\n",
       "}\n",
       "\n",
       ".xr-dim-list {\n",
       "  display: inline-block !important;\n",
       "  list-style: none;\n",
       "  padding: 0 !important;\n",
       "  margin: 0;\n",
       "}\n",
       "\n",
       ".xr-dim-list li {\n",
       "  display: inline-block;\n",
       "  padding: 0;\n",
       "  margin: 0;\n",
       "}\n",
       "\n",
       ".xr-dim-list:before {\n",
       "  content: '(';\n",
       "}\n",
       "\n",
       ".xr-dim-list:after {\n",
       "  content: ')';\n",
       "}\n",
       "\n",
       ".xr-dim-list li:not(:last-child):after {\n",
       "  content: ',';\n",
       "  padding-right: 5px;\n",
       "}\n",
       "\n",
       ".xr-has-index {\n",
       "  font-weight: bold;\n",
       "}\n",
       "\n",
       ".xr-var-list,\n",
       ".xr-var-item {\n",
       "  display: contents;\n",
       "}\n",
       "\n",
       ".xr-var-item > div,\n",
       ".xr-var-item label,\n",
       ".xr-var-item > .xr-var-name span {\n",
       "  background-color: var(--xr-background-color-row-even);\n",
       "  margin-bottom: 0;\n",
       "}\n",
       "\n",
       ".xr-var-item > .xr-var-name:hover span {\n",
       "  padding-right: 5px;\n",
       "}\n",
       "\n",
       ".xr-var-list > li:nth-child(odd) > div,\n",
       ".xr-var-list > li:nth-child(odd) > label,\n",
       ".xr-var-list > li:nth-child(odd) > .xr-var-name span {\n",
       "  background-color: var(--xr-background-color-row-odd);\n",
       "}\n",
       "\n",
       ".xr-var-name {\n",
       "  grid-column: 1;\n",
       "}\n",
       "\n",
       ".xr-var-dims {\n",
       "  grid-column: 2;\n",
       "}\n",
       "\n",
       ".xr-var-dtype {\n",
       "  grid-column: 3;\n",
       "  text-align: right;\n",
       "  color: var(--xr-font-color2);\n",
       "}\n",
       "\n",
       ".xr-var-preview {\n",
       "  grid-column: 4;\n",
       "}\n",
       "\n",
       ".xr-index-preview {\n",
       "  grid-column: 2 / 5;\n",
       "  color: var(--xr-font-color2);\n",
       "}\n",
       "\n",
       ".xr-var-name,\n",
       ".xr-var-dims,\n",
       ".xr-var-dtype,\n",
       ".xr-preview,\n",
       ".xr-attrs dt {\n",
       "  white-space: nowrap;\n",
       "  overflow: hidden;\n",
       "  text-overflow: ellipsis;\n",
       "  padding-right: 10px;\n",
       "}\n",
       "\n",
       ".xr-var-name:hover,\n",
       ".xr-var-dims:hover,\n",
       ".xr-var-dtype:hover,\n",
       ".xr-attrs dt:hover {\n",
       "  overflow: visible;\n",
       "  width: auto;\n",
       "  z-index: 1;\n",
       "}\n",
       "\n",
       ".xr-var-attrs,\n",
       ".xr-var-data,\n",
       ".xr-index-data {\n",
       "  display: none;\n",
       "  background-color: var(--xr-background-color) !important;\n",
       "  padding-bottom: 5px !important;\n",
       "}\n",
       "\n",
       ".xr-var-attrs-in:checked ~ .xr-var-attrs,\n",
       ".xr-var-data-in:checked ~ .xr-var-data,\n",
       ".xr-index-data-in:checked ~ .xr-index-data {\n",
       "  display: block;\n",
       "}\n",
       "\n",
       ".xr-var-data > table {\n",
       "  float: right;\n",
       "}\n",
       "\n",
       ".xr-var-name span,\n",
       ".xr-var-data,\n",
       ".xr-index-name div,\n",
       ".xr-index-data,\n",
       ".xr-attrs {\n",
       "  padding-left: 25px !important;\n",
       "}\n",
       "\n",
       ".xr-attrs,\n",
       ".xr-var-attrs,\n",
       ".xr-var-data,\n",
       ".xr-index-data {\n",
       "  grid-column: 1 / -1;\n",
       "}\n",
       "\n",
       "dl.xr-attrs {\n",
       "  padding: 0;\n",
       "  margin: 0;\n",
       "  display: grid;\n",
       "  grid-template-columns: 125px auto;\n",
       "}\n",
       "\n",
       ".xr-attrs dt,\n",
       ".xr-attrs dd {\n",
       "  padding: 0;\n",
       "  margin: 0;\n",
       "  float: left;\n",
       "  padding-right: 10px;\n",
       "  width: auto;\n",
       "}\n",
       "\n",
       ".xr-attrs dt {\n",
       "  font-weight: normal;\n",
       "  grid-column: 1;\n",
       "}\n",
       "\n",
       ".xr-attrs dt:hover span {\n",
       "  display: inline-block;\n",
       "  background: var(--xr-background-color);\n",
       "  padding-right: 10px;\n",
       "}\n",
       "\n",
       ".xr-attrs dd {\n",
       "  grid-column: 2;\n",
       "  white-space: pre-wrap;\n",
       "  word-break: break-all;\n",
       "}\n",
       "\n",
       ".xr-icon-database,\n",
       ".xr-icon-file-text2,\n",
       ".xr-no-icon {\n",
       "  display: inline-block;\n",
       "  vertical-align: middle;\n",
       "  width: 1em;\n",
       "  height: 1.5em !important;\n",
       "  stroke-width: 0;\n",
       "  stroke: currentColor;\n",
       "  fill: currentColor;\n",
       "}\n",
       "</style><pre class='xr-text-repr-fallback'>&lt;xarray.Dataset&gt;\n",
       "Dimensions:      (time: 61866, depth: 1, latitude: 1, longitude: 1)\n",
       "Coordinates:\n",
       "  * time         (time) datetime64[ns] 2021-05-08T21:00:00 ... 2022-07-12T11:...\n",
       "  * latitude     (latitude) float64 57.87\n",
       "  * longitude    (longitude) float64 -168.9\n",
       "  * depth        (depth) float64 48.0\n",
       "Data variables:\n",
       "    temperature  (time, depth, latitude, longitude) float64 1.363 1.364 ... 0.0\n",
       "Attributes: (12/33)\n",
       "    Latitude_DegMMddW:                      57 51.99 N\n",
       "    Longitude_DegMMddN:                     168 52.83 W\n",
       "    MooringID:                              21BS-4A\n",
       "    platform_deployment_date:               2021-05-08T20:53:00Z\n",
       "    platform_deployment_cruise_name:        DY2103\n",
       "    platform_recovery_date:                 2022-09-05T16:30:00Z\n",
       "    ...                                     ...\n",
       "    InstrumentSerialNumber:                 4046\n",
       "    InstrumentType:                         MTR\n",
       "    date_created:                           2024-09-25T07:35:40Z\n",
       "    date_modified:                          \n",
       "    QC_indicator:                           unknown\n",
       "    history:                                Trimmed to deployment.\\nTrimmed t...</pre><div class='xr-wrap' style='display:none'><div class='xr-header'><div class='xr-obj-type'>xarray.Dataset</div></div><ul class='xr-sections'><li class='xr-section-item'><input id='section-f8c3a9bf-65de-4111-8e5a-53efba41224e' class='xr-section-summary-in' type='checkbox' disabled ><label for='section-f8c3a9bf-65de-4111-8e5a-53efba41224e' class='xr-section-summary'  title='Expand/collapse section'>Dimensions:</label><div class='xr-section-inline-details'><ul class='xr-dim-list'><li><span class='xr-has-index'>time</span>: 61866</li><li><span class='xr-has-index'>depth</span>: 1</li><li><span class='xr-has-index'>latitude</span>: 1</li><li><span class='xr-has-index'>longitude</span>: 1</li></ul></div><div class='xr-section-details'></div></li><li class='xr-section-item'><input id='section-532f9241-2797-467e-8d45-f64dead0d973' class='xr-section-summary-in' type='checkbox'  checked><label for='section-532f9241-2797-467e-8d45-f64dead0d973' class='xr-section-summary' >Coordinates: <span>(4)</span></label><div class='xr-section-inline-details'></div><div class='xr-section-details'><ul class='xr-var-list'><li class='xr-var-item'><div class='xr-var-name'><span class='xr-has-index'>time</span></div><div class='xr-var-dims'>(time)</div><div class='xr-var-dtype'>datetime64[ns]</div><div class='xr-var-preview xr-preview'>2021-05-08T21:00:00 ... 2022-07-...</div><input id='attrs-a3408f65-b5bc-4d3c-967a-788ef088b4e2' class='xr-var-attrs-in' type='checkbox' disabled><label for='attrs-a3408f65-b5bc-4d3c-967a-788ef088b4e2' title='Show/Hide attributes'><svg class='icon xr-icon-file-text2'><use xlink:href='#icon-file-text2'></use></svg></label><input id='data-b9459743-b8bd-4141-8e72-15bf180c23d7' class='xr-var-data-in' type='checkbox'><label for='data-b9459743-b8bd-4141-8e72-15bf180c23d7' title='Show/Hide data repr'><svg class='icon xr-icon-database'><use xlink:href='#icon-database'></use></svg></label><div class='xr-var-attrs'><dl class='xr-attrs'></dl></div><div class='xr-var-data'><pre>array([&#x27;2021-05-08T21:00:00.000000000&#x27;, &#x27;2021-05-08T21:10:00.000000000&#x27;,\n",
       "       &#x27;2021-05-08T21:20:00.000000000&#x27;, ..., &#x27;2022-07-12T11:30:00.000000000&#x27;,\n",
       "       &#x27;2022-07-12T11:40:00.000000000&#x27;, &#x27;2022-07-12T11:50:00.000000000&#x27;],\n",
       "      dtype=&#x27;datetime64[ns]&#x27;)</pre></div></li><li class='xr-var-item'><div class='xr-var-name'><span class='xr-has-index'>latitude</span></div><div class='xr-var-dims'>(latitude)</div><div class='xr-var-dtype'>float64</div><div class='xr-var-preview xr-preview'>57.87</div><input id='attrs-d7584479-92b1-4e1d-b52a-8feecdf3341e' class='xr-var-attrs-in' type='checkbox' ><label for='attrs-d7584479-92b1-4e1d-b52a-8feecdf3341e' title='Show/Hide attributes'><svg class='icon xr-icon-file-text2'><use xlink:href='#icon-file-text2'></use></svg></label><input id='data-86902d24-e5ce-41e7-8f08-1c9782eaff2e' class='xr-var-data-in' type='checkbox'><label for='data-86902d24-e5ce-41e7-8f08-1c9782eaff2e' title='Show/Hide data repr'><svg class='icon xr-icon-database'><use xlink:href='#icon-database'></use></svg></label><div class='xr-var-attrs'><dl class='xr-attrs'><dt><span>epic_key :</span></dt><dd>LON_501</dd><dt><span>name :</span></dt><dd>latitude</dd><dt><span>generic_name :</span></dt><dd>latitude</dd><dt><span>units :</span></dt><dd>degrees_north</dd><dt><span>long_name :</span></dt><dd>latitude</dd><dt><span>standard_name :</span></dt><dd>latitude</dd></dl></div><div class='xr-var-data'><pre>array([57.8665])</pre></div></li><li class='xr-var-item'><div class='xr-var-name'><span class='xr-has-index'>longitude</span></div><div class='xr-var-dims'>(longitude)</div><div class='xr-var-dtype'>float64</div><div class='xr-var-preview xr-preview'>-168.9</div><input id='attrs-f5d8797d-42ac-4b5f-a1c8-30c2b428c7f9' class='xr-var-attrs-in' type='checkbox' ><label for='attrs-f5d8797d-42ac-4b5f-a1c8-30c2b428c7f9' title='Show/Hide attributes'><svg class='icon xr-icon-file-text2'><use xlink:href='#icon-file-text2'></use></svg></label><input id='data-e89f666e-b2ff-4ac4-9149-7387c90fd397' class='xr-var-data-in' type='checkbox'><label for='data-e89f666e-b2ff-4ac4-9149-7387c90fd397' title='Show/Hide data repr'><svg class='icon xr-icon-database'><use xlink:href='#icon-database'></use></svg></label><div class='xr-var-attrs'><dl class='xr-attrs'><dt><span>epic_key :</span></dt><dd>LAT_500</dd><dt><span>name :</span></dt><dd>longitude</dd><dt><span>generic_name :</span></dt><dd>longitude</dd><dt><span>units :</span></dt><dd>degrees_east</dd><dt><span>long_name :</span></dt><dd>longitude</dd><dt><span>standard_name :</span></dt><dd>longitude</dd></dl></div><div class='xr-var-data'><pre>array([-168.8805])</pre></div></li><li class='xr-var-item'><div class='xr-var-name'><span class='xr-has-index'>depth</span></div><div class='xr-var-dims'>(depth)</div><div class='xr-var-dtype'>float64</div><div class='xr-var-preview xr-preview'>48.0</div><input id='attrs-7b051d08-e7ff-44e6-a76a-ca3caf384ec7' class='xr-var-attrs-in' type='checkbox' ><label for='attrs-7b051d08-e7ff-44e6-a76a-ca3caf384ec7' title='Show/Hide attributes'><svg class='icon xr-icon-file-text2'><use xlink:href='#icon-file-text2'></use></svg></label><input id='data-00f267d4-1960-4fd1-a83f-49eec572266a' class='xr-var-data-in' type='checkbox'><label for='data-00f267d4-1960-4fd1-a83f-49eec572266a' title='Show/Hide data repr'><svg class='icon xr-icon-database'><use xlink:href='#icon-database'></use></svg></label><div class='xr-var-attrs'><dl class='xr-attrs'><dt><span>epic_key :</span></dt><dd>D_3</dd><dt><span>generic_name :</span></dt><dd>depth</dd><dt><span>units :</span></dt><dd>meter</dd><dt><span>long_name :</span></dt><dd>depth below surface (meters)</dd><dt><span>standard_name :</span></dt><dd>depth</dd><dt><span>positive :</span></dt><dd>down</dd></dl></div><div class='xr-var-data'><pre>array([48.])</pre></div></li></ul></div></li><li class='xr-section-item'><input id='section-5c0d1e55-35e5-4b48-9ac6-a4d81446343d' class='xr-section-summary-in' type='checkbox'  checked><label for='section-5c0d1e55-35e5-4b48-9ac6-a4d81446343d' class='xr-section-summary' >Data variables: <span>(1)</span></label><div class='xr-section-inline-details'></div><div class='xr-section-details'><ul class='xr-var-list'><li class='xr-var-item'><div class='xr-var-name'><span>temperature</span></div><div class='xr-var-dims'>(time, depth, latitude, longitude)</div><div class='xr-var-dtype'>float64</div><div class='xr-var-preview xr-preview'>1.363 1.364 1.36 ... 0.0 0.0 0.0</div><input id='attrs-53bc19ba-44d5-409d-a476-504b7bac3aa7' class='xr-var-attrs-in' type='checkbox' ><label for='attrs-53bc19ba-44d5-409d-a476-504b7bac3aa7' title='Show/Hide attributes'><svg class='icon xr-icon-file-text2'><use xlink:href='#icon-file-text2'></use></svg></label><input id='data-24bd74bf-c9ba-496d-823e-ab912bf52d4d' class='xr-var-data-in' type='checkbox'><label for='data-24bd74bf-c9ba-496d-823e-ab912bf52d4d' title='Show/Hide data repr'><svg class='icon xr-icon-database'><use xlink:href='#icon-database'></use></svg></label><div class='xr-var-attrs'><dl class='xr-attrs'><dt><span>epic_key :</span></dt><dd>T_20</dd><dt><span>generic_name :</span></dt><dd>temp</dd><dt><span>long_name :</span></dt><dd>Sea temperature in-situ ITS-90 scale</dd><dt><span>standard_name :</span></dt><dd>sea_water_temperature</dd><dt><span>units :</span></dt><dd>degree_C</dd></dl></div><div class='xr-var-data'><pre>array([[[[1.36272334]]],\n",
       "\n",
       "\n",
       "       [[[1.3642321 ]]],\n",
       "\n",
       "\n",
       "       [[[1.36030908]]],\n",
       "\n",
       "\n",
       "       ...,\n",
       "\n",
       "\n",
       "       [[[0.        ]]],\n",
       "\n",
       "\n",
       "       [[[0.        ]]],\n",
       "\n",
       "\n",
       "       [[[0.        ]]]])</pre></div></li></ul></div></li><li class='xr-section-item'><input id='section-064635bb-b776-444c-b3ac-a63fd4f13237' class='xr-section-summary-in' type='checkbox'  ><label for='section-064635bb-b776-444c-b3ac-a63fd4f13237' class='xr-section-summary' >Indexes: <span>(4)</span></label><div class='xr-section-inline-details'></div><div class='xr-section-details'><ul class='xr-var-list'><li class='xr-var-item'><div class='xr-index-name'><div>time</div></div><div class='xr-index-preview'>PandasIndex</div><div></div><input id='index-461f2414-8405-4cfc-add2-9f4870c5840d' class='xr-index-data-in' type='checkbox'/><label for='index-461f2414-8405-4cfc-add2-9f4870c5840d' title='Show/Hide index repr'><svg class='icon xr-icon-database'><use xlink:href='#icon-database'></use></svg></label><div class='xr-index-data'><pre>PandasIndex(DatetimeIndex([&#x27;2021-05-08 21:00:00&#x27;, &#x27;2021-05-08 21:10:00&#x27;,\n",
       "               &#x27;2021-05-08 21:20:00&#x27;, &#x27;2021-05-08 21:30:00&#x27;,\n",
       "               &#x27;2021-05-08 21:40:00&#x27;, &#x27;2021-05-08 21:50:00&#x27;,\n",
       "               &#x27;2021-05-08 22:00:00&#x27;, &#x27;2021-05-08 22:10:00&#x27;,\n",
       "               &#x27;2021-05-08 22:20:00&#x27;, &#x27;2021-05-08 22:30:00&#x27;,\n",
       "               ...\n",
       "               &#x27;2022-07-12 10:20:00&#x27;, &#x27;2022-07-12 10:30:00&#x27;,\n",
       "               &#x27;2022-07-12 10:40:00&#x27;, &#x27;2022-07-12 10:50:00&#x27;,\n",
       "               &#x27;2022-07-12 11:00:00&#x27;, &#x27;2022-07-12 11:10:00&#x27;,\n",
       "               &#x27;2022-07-12 11:20:00&#x27;, &#x27;2022-07-12 11:30:00&#x27;,\n",
       "               &#x27;2022-07-12 11:40:00&#x27;, &#x27;2022-07-12 11:50:00&#x27;],\n",
       "              dtype=&#x27;datetime64[ns]&#x27;, name=&#x27;time&#x27;, length=61866, freq=&#x27;10T&#x27;))</pre></div></li><li class='xr-var-item'><div class='xr-index-name'><div>latitude</div></div><div class='xr-index-preview'>PandasIndex</div><div></div><input id='index-def5b271-479a-4169-84dc-710453159559' class='xr-index-data-in' type='checkbox'/><label for='index-def5b271-479a-4169-84dc-710453159559' title='Show/Hide index repr'><svg class='icon xr-icon-database'><use xlink:href='#icon-database'></use></svg></label><div class='xr-index-data'><pre>PandasIndex(Index([57.8665], dtype=&#x27;float64&#x27;, name=&#x27;latitude&#x27;))</pre></div></li><li class='xr-var-item'><div class='xr-index-name'><div>longitude</div></div><div class='xr-index-preview'>PandasIndex</div><div></div><input id='index-4e5709dd-9b7c-4ea6-b7ed-cf0be5644b3c' class='xr-index-data-in' type='checkbox'/><label for='index-4e5709dd-9b7c-4ea6-b7ed-cf0be5644b3c' title='Show/Hide index repr'><svg class='icon xr-icon-database'><use xlink:href='#icon-database'></use></svg></label><div class='xr-index-data'><pre>PandasIndex(Index([-168.8805], dtype=&#x27;float64&#x27;, name=&#x27;longitude&#x27;))</pre></div></li><li class='xr-var-item'><div class='xr-index-name'><div>depth</div></div><div class='xr-index-preview'>PandasIndex</div><div></div><input id='index-525881dd-b764-4b8f-8591-2e48173f207d' class='xr-index-data-in' type='checkbox'/><label for='index-525881dd-b764-4b8f-8591-2e48173f207d' title='Show/Hide index repr'><svg class='icon xr-icon-database'><use xlink:href='#icon-database'></use></svg></label><div class='xr-index-data'><pre>PandasIndex(Index([48.0], dtype=&#x27;float64&#x27;, name=&#x27;depth&#x27;))</pre></div></li></ul></div></li><li class='xr-section-item'><input id='section-7c7e8977-f721-415f-a8fc-df5efc8cdfcf' class='xr-section-summary-in' type='checkbox'  ><label for='section-7c7e8977-f721-415f-a8fc-df5efc8cdfcf' class='xr-section-summary' >Attributes: <span>(33)</span></label><div class='xr-section-inline-details'></div><div class='xr-section-details'><dl class='xr-attrs'><dt><span>Latitude_DegMMddW :</span></dt><dd>57 51.99 N</dd><dt><span>Longitude_DegMMddN :</span></dt><dd>168 52.83 W</dd><dt><span>MooringID :</span></dt><dd>21BS-4A</dd><dt><span>platform_deployment_date :</span></dt><dd>2021-05-08T20:53:00Z</dd><dt><span>platform_deployment_cruise_name :</span></dt><dd>DY2103</dd><dt><span>platform_recovery_date :</span></dt><dd>2022-09-05T16:30:00Z</dd><dt><span>platform_recovery_cruise_name :</span></dt><dd>AQ2201</dd><dt><span>platform_deployment_recovery_comments :</span></dt><dd>BS-4 will from 2021 forward will be deployed in the spring.\r\n",
       "\r\n",
       "Pinged release on DY2206 - pinged ok; strong signal\r\n",
       "</dd><dt><span>WaterDepth :</span></dt><dd>71.0</dd><dt><span>source_documents :</span></dt><dd>http://www.oceansites.org/docs/oceansites_data_format_reference_manual.pdf</dd><dt><span>institution :</span></dt><dd>Pacific Marine Environmental Lab (PMEL)</dd><dt><span>project :</span></dt><dd>EcoFOCI</dd><dt><span>project_url :</span></dt><dd>https://www.ecofoci.noaa.gov</dd><dt><span>principal_investigator :</span></dt><dd>Phyllis Stabeno</dd><dt><span>principal_investigator_email :</span></dt><dd>phyllis.stabeno (at) noaa.gov</dd><dt><span>creator_name :</span></dt><dd>Shaun Bell</dd><dt><span>creator_email :</span></dt><dd>shaun.bell (at) noaa.gov</dd><dt><span>creator_institution :</span></dt><dd>PMEL</dd><dt><span>keywords :</span></dt><dd>Mooring, Oceanographic</dd><dt><span>comment :</span></dt><dd>Provisional data</dd><dt><span>sea_area :</span></dt><dd>Bering Sea (BS)</dd><dt><span>featureType :</span></dt><dd>timeSeries</dd><dt><span>conventions :</span></dt><dd>”CF-1.6, ~OceanSITES-1.5, ACDD-1.2”</dd><dt><span>license :</span></dt><dd></dd><dt><span>references :</span></dt><dd></dd><dt><span>citation :</span></dt><dd></dd><dt><span>acknowledgement :</span></dt><dd></dd><dt><span>InstrumentSerialNumber :</span></dt><dd>4046</dd><dt><span>InstrumentType :</span></dt><dd>MTR</dd><dt><span>date_created :</span></dt><dd>2024-09-25T07:35:40Z</dd><dt><span>date_modified :</span></dt><dd></dd><dt><span>QC_indicator :</span></dt><dd>unknown</dd><dt><span>history :</span></dt><dd>Trimmed to deployment.\n",
       "Trimmed to deployment.</dd></dl></div></li></ul></div></div>"
      ],
      "text/plain": [
       "<xarray.Dataset>\n",
       "Dimensions:      (time: 61866, depth: 1, latitude: 1, longitude: 1)\n",
       "Coordinates:\n",
       "  * time         (time) datetime64[ns] 2021-05-08T21:00:00 ... 2022-07-12T11:...\n",
       "  * latitude     (latitude) float64 57.87\n",
       "  * longitude    (longitude) float64 -168.9\n",
       "  * depth        (depth) float64 48.0\n",
       "Data variables:\n",
       "    temperature  (time, depth, latitude, longitude) float64 1.363 1.364 ... 0.0\n",
       "Attributes: (12/33)\n",
       "    Latitude_DegMMddW:                      57 51.99 N\n",
       "    Longitude_DegMMddN:                     168 52.83 W\n",
       "    MooringID:                              21BS-4A\n",
       "    platform_deployment_date:               2021-05-08T20:53:00Z\n",
       "    platform_deployment_cruise_name:        DY2103\n",
       "    platform_recovery_date:                 2022-09-05T16:30:00Z\n",
       "    ...                                     ...\n",
       "    InstrumentSerialNumber:                 4046\n",
       "    InstrumentType:                         MTR\n",
       "    date_created:                           2024-09-25T07:35:40Z\n",
       "    date_modified:                          \n",
       "    QC_indicator:                           unknown\n",
       "    history:                                Trimmed to deployment.\\nTrimmed t..."
      ]
     },
     "execution_count": 28,
     "metadata": {},
     "output_type": "execute_result"
    }
   ],
   "source": [
    "mtr_wop_nc.autotrim_time()"
   ]
  },
  {
   "cell_type": "code",
   "execution_count": 29,
   "id": "7ae033c6-016f-4ec2-bdbb-ed4a1aabdb6f",
   "metadata": {},
   "outputs": [
    {
     "data": {
      "text/plain": [
       "<Figure size 640x480 with 0 Axes>"
      ]
     },
     "metadata": {},
     "output_type": "display_data"
    },
    {
     "data": {
      "image/png": "[encoded data removed]",
      "text/plain": [
       "<Figure size 2400x300 with 1 Axes>"
      ]
     },
     "metadata": {},
     "output_type": "display_data"
    }
   ],
   "source": [
    "#wrap the plot in image settings for visual appeal\n",
    "# may be able to make this cleaner or just a preset\n",
    "%run '../../../settings/mpl_plot_settings.py'\n",
    "\n",
    "%matplotlib inline\n",
    "import matplotlib.dates as mdates\n",
    "from matplotlib.dates import YearLocator, WeekdayLocator, MonthLocator, DayLocator, HourLocator, DateFormatter\n",
    "import matplotlib.ticker as ticker\n",
    "\n",
    "fig, ax = plt.subplots(1,figsize=(24, 3), sharex=True)\n",
    "mtr_wop_nc.autotrim_time().temperature.plot(ax=ax,color='r')\n",
    "\n",
    "\n",
    "# xfmt = mdates.DateFormatter('%d-%b')\n",
    "ax.xaxis.set_major_locator(DayLocator(bymonthday=1))\n",
    "ax.xaxis.set_minor_locator(DayLocator(bymonthday=15))\n",
    "ax.xaxis.set_minor_formatter(DateFormatter('%b %Y'))\n",
    "ax.xaxis.set_major_formatter(DateFormatter(''))\n",
    "ax.xaxis.set_tick_params(which='major', pad=3)\n",
    "ax.xaxis.set_tick_params(which='minor', pad=5)"
   ]
  },
  {
   "cell_type": "code",
   "execution_count": 30,
   "id": "d753bc55-6427-4de6-bd87-6b5395d0519c",
   "metadata": {},
   "outputs": [],
   "source": [
    "#csvoutput if necessary\n",
    "(mtr_wop_nc.get_xdf().to_dataframe()).to_csv(filename.replace('nc','csv'))"
   ]
  },
  {
   "cell_type": "markdown",
   "id": "a0d3760b-b26f-4fdb-a6c6-af9f6ab9512c",
   "metadata": {},
   "source": [
    "## QC plotting against CTDs (here or in a seperate ipynb)"
   ]
  },
  {
   "cell_type": "code",
   "execution_count": 31,
   "id": "8eda0353-a4b1-4085-aebb-b3b9d458bf2c",
   "metadata": {
    "tags": []
   },
   "outputs": [],
   "source": [
    "import matplotlib.pyplot as plt\n",
    "import pandas as pd\n",
    "import EcoFOCIpy.io.erddap as erddap\n",
    "import datetime\n",
    "\n",
    "url = \"http://ecofoci-field.pmel.noaa.gov:8080/erddap\"\n",
    "\n",
    "erddap.test_erddap_connection(url=url) #basic test for connection to internal server, no response is a good thing"
   ]
  },
  {
   "cell_type": "code",
   "execution_count": 32,
   "id": "108bd6c4-99f3-4830-8ccc-106f75ee463e",
   "metadata": {
    "tags": []
   },
   "outputs": [],
   "source": [
    "depcast = erddap.erddapCTDretrieve(url=url,cruiseid='dy2103',qclevel='final',concastno='027')\n",
    "reccast = erddap.erddapCTDretrieve(url=url,cruiseid='dy2206',qclevel='final',concastno='022')"
   ]
  },
  {
   "cell_type": "code",
   "execution_count": 33,
   "id": "f7d76a2a-2d89-45f7-b091-023f6f13c8c5",
   "metadata": {},
   "outputs": [],
   "source": [
    "depcast.columns = [x.split()[0] for x in depcast.columns]\n",
    "reccast.columns = [x.split()[0] for x in reccast.columns]"
   ]
  },
  {
   "cell_type": "markdown",
   "id": "311a5b1d-59e4-4fba-920e-09b85a865065",
   "metadata": {},
   "source": [
    "some variable names switch between preliminary and final... this will eventually be resolved"
   ]
  },
  {
   "cell_type": "code",
   "execution_count": 34,
   "id": "190d2842-cf9b-4dfb-a345-74e1d4411cb5",
   "metadata": {},
   "outputs": [
    {
     "data": {
      "image/png": "[encoded data removed]",
      "text/plain": [
       "<Figure size 1600x800 with 2 Axes>"
      ]
     },
     "metadata": {},
     "output_type": "display_data"
    }
   ],
   "source": [
    "depth = int(mooring_config['Instrumentation'][instrument]['ActualDepth'])\n",
    "\n",
    "fig, ax = plt.subplots(2,figsize=(16, 8),sharex=True)\n",
    "mtr_wop_nc.autotrim_time().temperature.plot(ax=ax[0],color='r')\n",
    "ax[0].plot(pd.to_datetime(depcast[depcast['pressure'] == depth]['time']),\n",
    "        depcast[depcast['pressure'] == depth]['temperature_ch1'],\n",
    "        'o',markersize=20,markerfacecolor='none',markeredgecolor='black')\n",
    "ax[0].plot(pd.to_datetime(depcast[depcast['pressure'] == depth]['time']),\n",
    "        depcast[depcast['pressure'] == depth]['temperature_ch1'],\n",
    "        '+',markersize=10,markerfacecolor='none',markeredgecolor='black')\n",
    "ax[0].plot(pd.to_datetime(reccast[reccast['pressure'] == depth]['time']),\n",
    "        reccast[reccast['pressure'] == depth]['temperature_ch1'],\n",
    "        'o',markersize=20,markerfacecolor='none',markeredgecolor='black')\n",
    "ax[0].plot(pd.to_datetime(reccast[reccast['pressure'] == depth]['time']),\n",
    "        reccast[reccast['pressure'] == depth]['temperature_ch1'],\n",
    "        '+',markersize=10,markerfacecolor='none',markeredgecolor='black')\n",
    "\n",
    "\n",
    "# xfmt = mdates.DateFormatter('%d-%b')\n",
    "ax[1].xaxis.set_major_locator(DayLocator(bymonthday=1))\n",
    "ax[1].xaxis.set_minor_locator(DayLocator(bymonthday=15))\n",
    "ax[1].xaxis.set_minor_formatter(DateFormatter('%b %Y'))\n",
    "ax[1].xaxis.set_major_formatter(DateFormatter(''))\n",
    "ax[1].xaxis.set_tick_params(which='major', pad=3)\n",
    "ax[1].xaxis.set_tick_params(which='minor', pad=5)\n",
    "\n",
    "fig.savefig(f\"images/{filename.replace('nc','_tempCal.png')}\")"
   ]
  },
  {
   "cell_type": "code",
   "execution_count": 35,
   "id": "0f5d2b4e-1374-4a80-90d2-f0b56eb163f1",
   "metadata": {},
   "outputs": [
    {
     "name": "stdout",
     "output_type": "stream",
     "text": [
      "Deployment\n",
      "T0: [1.33131997] [1.3837]\n",
      "T1: [1.33131997] [1.3834]\n",
      "Recovery\n",
      "T0: [-0.15741277] [-0.1453]\n",
      "T1: [-0.15741277] [-0.1464]\n"
     ]
    }
   ],
   "source": [
    "#print collocated cast comparison\n",
    "mooring = mtr_wop_nc.autotrim_time().sel(time=datetime.datetime.strptime(depcast['time'].unique()[0],\n",
    "                                                                 '%Y-%m-%dT%H:%M:%SZ'),\n",
    "                                 method='nearest')\n",
    "print('Deployment')\n",
    "print('T0:',mooring.temperature.values[0][0],depcast[depcast['pressure'] == depth]['temperature_ch1'].values)\n",
    "print('T1:',mooring.temperature.values[0][0],depcast[depcast['pressure'] == depth]['temperature_ch2'].values)\n",
    "\n",
    "mooring = mtr_wop_nc.autotrim_time().sel(time=datetime.datetime.strptime(reccast['time'].unique()[0],\n",
    "                                                                 '%Y-%m-%dT%H:%M:%SZ'),\n",
    "                                 method='nearest')\n",
    "print('Recovery')\n",
    "print('T0:',mooring.temperature.values[0][0],reccast[reccast['pressure'] == depth]['temperature_ch1'].values)\n",
    "print('T1:',mooring.temperature.values[0][0],reccast[reccast['pressure'] == depth]['temperature_ch2'].values)\n"
   ]
  },
  {
   "cell_type": "markdown",
   "id": "individual-nature",
   "metadata": {},
   "source": [
    "## Next Steps\n",
    "\n",
    "QC of data (plot parameters with other instruments)\n",
    "- be sure to updated the qc_status and the history"
   ]
  }
 ],
 "metadata": {
  "kernelspec": {
   "display_name": "Python [conda env:p312]",
   "language": "python",
   "name": "conda-env-p312-py"
  },
  "language_info": {
   "codemirror_mode": {
    "name": "ipython",
    "version": 3
   },
   "file_extension": ".py",
   "mimetype": "text/x-python",
   "name": "python",
   "nbconvert_exporter": "python",
   "pygments_lexer": "ipython3",
   "version": "3.12.1"
  }
 },
 "nbformat": 4,
 "nbformat_minor": 5
}
