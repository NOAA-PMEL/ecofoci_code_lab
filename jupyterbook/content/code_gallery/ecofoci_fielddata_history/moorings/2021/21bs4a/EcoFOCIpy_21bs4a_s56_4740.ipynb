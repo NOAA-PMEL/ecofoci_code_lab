{
 "cells": [
  {
   "cell_type": "markdown",
   "id": "educational-chosen",
   "metadata": {},
   "source": [
    "# Using EcoFOCIpy to process raw field data\n",
    "\n",
    "## Mooring / Timeseries Data\n",
    "\n",
    "Basic workflow for each instrument grouping is *(initial archive level)*:\n",
    "- Parse data from raw files into pandas dataframe\n",
    "- output initial files (pandas->csv) **ERDDAP NRT** when no meta data is added\n",
    "\n",
    "Convert to xarray dataframe for all following work *(working or final data level):\n",
    "- TODO: Add metadata from instrument yaml files and/or header info\n",
    "- ingest metadata from deployment/recovery records or cast logs\n",
    "- process data beyond simple file translate\n",
    "- apply any calibrations or corrections\n",
    "    + field corrections\n",
    "    + offsets\n",
    "    + instrument compensations\n",
    "    + some QC were available... this would be old-school simple bounds mostly\n",
    "- adjust time bounds and sample frequency (xarray dataframe)\n",
    "- save as CF netcdf via xarray: so many of the steps above are optional\n",
    "    + **ERDDAP NRT** if no corrections, offsets or time bounds are applied but some meta data is\n",
    "    + **Working and awaiting QC** has no ERDDAP representation and is a holding spot\n",
    "    + **ERDDAP Final** fully calibrated, qc'd and populated with meta information\n",
    "\n",
    "Plot for preview and QC\n",
    "- preview images (indiv and/or collectively)\n",
    "- manual qc process\n",
    "- automated qc process ML/AI\n",
    "\n",
    "Further refinenments for ERDDAP hosting:\n"
   ]
  },
  {
   "cell_type": "markdown",
   "id": "allied-miniature",
   "metadata": {},
   "source": [
    "## Example below is for TDGP but the workflow is similar for all instruments.\n",
    "\n",
    "Future processing of this instrument can be a simplified (no markdown) process which can be archived so that the procedure can be traced or updated"
   ]
  },
  {
   "cell_type": "code",
   "execution_count": 1,
   "id": "studied-pollution",
   "metadata": {
    "tags": []
   },
   "outputs": [],
   "source": [
    "%matplotlib inline\n",
    "import matplotlib.pyplot as plt\n",
    "import yaml\n",
    "\n",
    "import EcoFOCIpy.io.sbe_parser as sbe_parser #<- instrument specific\n",
    "import EcoFOCIpy.io.ncCFsave as ncCFsave\n",
    "import EcoFOCIpy.metaconfig.load_config as load_config"
   ]
  },
  {
   "cell_type": "markdown",
   "id": "public-millennium",
   "metadata": {},
   "source": [
    "The sample_data_dir should be included in the github package but may not be included in the pip install of the package\n",
    "\n",
    "## Simple Processing - first step"
   ]
  },
  {
   "cell_type": "code",
   "execution_count": 2,
   "id": "offensive-level",
   "metadata": {
    "tags": []
   },
   "outputs": [],
   "source": [
    "sample_data_dir = '/Users/bell/Programs/EcoFOCIpy/'\n",
    "user_data_dir = '/Users/bell/ecoraid/2021/Moorings/21bs4a/'"
   ]
  },
  {
   "cell_type": "code",
   "execution_count": 3,
   "id": "third-yellow",
   "metadata": {
    "tags": []
   },
   "outputs": [],
   "source": [
    "###############################################################\n",
    "# edit to point to {instrument sepcific} raw datafile \n",
    "datafile = user_data_dir+'rawconverted/sbe56/SBE05604740_2022-11-09.cnv'\n",
    "instrument = 'SBE-56 4740'\n",
    "mooring_meta_file = user_data_dir+'logs/21BS-4A.yaml'\n",
    "inst_meta_file = sample_data_dir+'staticdata/instr_metaconfig/sbe56_cf.yaml'\n",
    "institution_meta_file = sample_data_dir+'staticdata/institutional_meta_example.yaml' #include uaf?\n",
    "inst_shortname = 's56'\n",
    "###############################################################\n",
    "\n",
    "#init and load data\n",
    "sbe56_wop = sbe_parser.sbe56()\n",
    "(sbe56_wop_data,sbe56_wop_header,starttime) = sbe56_wop.parse(filename=datafile,\n",
    "                                                    return_header=True,\n",
    "                                                    datetime_index=True) "
   ]
  },
  {
   "cell_type": "code",
   "execution_count": 4,
   "id": "fifteen-military",
   "metadata": {
    "tags": []
   },
   "outputs": [
    {
     "data": {
      "text/plain": [
       "['* <?xml version=\"1.0\"?>\\n',\n",
       " '* <!--DeviceManager-->\\n',\n",
       " '* <SBEDataUploadFile>\\n',\n",
       " '* <ApplicationData>\\n',\n",
       " '* <DeviceInterfaceAppData>\\n',\n",
       " '* <SoftwareVersion>1.8</SoftwareVersion>\\n',\n",
       " '* <BuildDate>11-Jan-2012 21:42:18 UTC</BuildDate>\\n',\n",
       " '* </DeviceInterfaceAppData>\\n',\n",
       " '* </ApplicationData>\\n',\n",
       " '* <InstrumentState>\\n',\n",
       " \"* <StatusData DeviceType='SBE56' SerialNumber='05604740'>\\n\",\n",
       " '*    <DateTime>2022-11-09T15:07:11</DateTime>\\n',\n",
       " '*    <DelayedStart>2000-01-01T00:00:00</DelayedStart>\\n',\n",
       " \"*    <EventSummary numEvents='0'/>\\n\",\n",
       " '*    <Power>\\n',\n",
       " '*       <MainSupplyVoltage>3.61</MainSupplyVoltage>\\n',\n",
       " '*       </Power>\\n',\n",
       " '*    <ADCRatio>\\n',\n",
       " '*       <Ratio>8943219</Ratio>\\n',\n",
       " '*       </ADCRatio>\\n',\n",
       " '*    <Battery>\\n',\n",
       " '*       <Installed>2000-01-01T00:00:00</Installed>\\n',\n",
       " '*       <Samples>1241044</Samples>\\n',\n",
       " '*       </Battery>\\n',\n",
       " '*    <MemorySummary>\\n',\n",
       " '*       <Samples>800087</Samples>\\n',\n",
       " '*       <Bytes>3331072</Bytes>\\n',\n",
       " '*       <BytesFree>63253504</BytesFree>\\n',\n",
       " '*       </MemorySummary>\\n',\n",
       " '*    </StatusData>\\n',\n",
       " '* \\n',\n",
       " \"* <HardwareData DeviceType='SBE56' SerialNumber='05604740'>\\n\",\n",
       " '*    <Manufacturer>Sea-Bird Electronics, Inc</Manufacturer>\\n',\n",
       " '*    <FirmwareVersion>SBE56 V0.96</FirmwareVersion>\\n',\n",
       " '*    <FirmwareDate>Feb 25 2011</FirmwareDate>\\n',\n",
       " \"*    <PCBAssembly PCBID='079865' AssemblyNum='41688E'/>\\n\",\n",
       " '*    <MfgDate>Feb 25 2011</MfgDate>\\n',\n",
       " '*    <PCBType>0</PCBType>\\n',\n",
       " '*    <InternalSensors>\\n',\n",
       " \"*       <Sensor id='Water Temperature'>\\n\",\n",
       " '*          <type>TEMP0</type>\\n',\n",
       " '*          <SerialNumber>05604740</SerialNumber>\\n',\n",
       " '*          </Sensor>\\n',\n",
       " '*       </InternalSensors>\\n',\n",
       " '*    </HardwareData>\\n',\n",
       " '* \\n',\n",
       " \"* <ConfigurationData DeviceType='SBE56' SerialNumber='05604740'>\\n\",\n",
       " '*    <Settings\\n',\n",
       " \"*       samplePeriod='60' format='1' />\\n\",\n",
       " '*    </ConfigurationData>\\n',\n",
       " '* \\n',\n",
       " \"* <CalibrationCoefficients DeviceType='SBE56' SerialNumber='05604740'>\\n\",\n",
       " \"*    <Calibration format='TEMP0' id='Water Temperature'>\\n\",\n",
       " '*       <CalDate>2014-08-09</CalDate>\\n',\n",
       " '*       <a0>-1.144229E-03</a0>\\n',\n",
       " '*       <a1>3.297887E-04</a1>\\n',\n",
       " '*       <a2>-5.654791E-06</a2>\\n',\n",
       " '*       <a3>1.825942E-07</a3>\\n',\n",
       " '*       <OFFSET>0.000000E+00</OFFSET>\\n',\n",
       " '*       </Calibration>\\n',\n",
       " '*    </CalibrationCoefficients>\\n',\n",
       " '* \\n',\n",
       " \"* <EventSummary DeviceType='SBE56' SerialNumber='05604740'>\\n\",\n",
       " \"*    <EventList numEvents='0' maxStack='-2'>\\n\",\n",
       " '*       </EventList>\\n',\n",
       " '*    </EventSummary>\\n',\n",
       " '* \\n',\n",
       " '* </InstrumentState>\\n',\n",
       " '# nquan = 4\\n',\n",
       " '# nvalues = 800087                                \\n',\n",
       " '# units = specified\\n',\n",
       " '# name 0 = scan: Scan Count\\n',\n",
       " '# name 1 = timeJ: Julian Days\\n',\n",
       " '# name 2 = t090C: Temperature [ITS-90, deg C\\n',\n",
       " '# name 3 = flag:   0.000e+00\\n',\n",
       " '# span 0 =          1,     800087                 \\n',\n",
       " '# span 1 = 123.000000, 678.620972                 \\n',\n",
       " '# span 2 =    -1.7270,    25.4375                 \\n',\n",
       " '# span 3 =  0.000e+00,  0.000e+00                 \\n',\n",
       " '# interval = seconds: 60                          \\n',\n",
       " '# start_time = May 03 2021 00:00:00               \\n',\n",
       " '# bad_flag =  -9.990e-29\\n',\n",
       " '# sensor 0 = RRatio temperature, 05604740         \\n',\n",
       " '# datcnv_date = Nov 09 2022 15:14:36, SeatermUSB v 1.8\\n',\n",
       " '# datcnv_in = C:\\\\Users\\\\foci\\\\Documents\\\\2022\\\\fall_dowloads\\\\SBE05604740_2022-11-09.xml\\n',\n",
       " '# datcnv_skipover = 0\\n',\n",
       " '# file_type = ascii\\n',\n",
       " '*END*\\n']"
      ]
     },
     "execution_count": 4,
     "metadata": {},
     "output_type": "execute_result"
    }
   ],
   "source": [
    "sbe56_wop_header"
   ]
  },
  {
   "cell_type": "code",
   "execution_count": 5,
   "id": "alive-bruce",
   "metadata": {
    "tags": []
   },
   "outputs": [
    {
     "data": {
      "text/html": [
       "<div>\n",
       "<style scoped>\n",
       "    .dataframe tbody tr th:only-of-type {\n",
       "        vertical-align: middle;\n",
       "    }\n",
       "\n",
       "    .dataframe tbody tr th {\n",
       "        vertical-align: top;\n",
       "    }\n",
       "\n",
       "    .dataframe thead th {\n",
       "        text-align: right;\n",
       "    }\n",
       "</style>\n",
       "<table border=\"1\" class=\"dataframe\">\n",
       "  <thead>\n",
       "    <tr style=\"text-align: right;\">\n",
       "      <th></th>\n",
       "      <th>scan</th>\n",
       "      <th>timeJ</th>\n",
       "      <th>t090C</th>\n",
       "      <th>flag</th>\n",
       "    </tr>\n",
       "    <tr>\n",
       "      <th>date_time</th>\n",
       "      <th></th>\n",
       "      <th></th>\n",
       "      <th></th>\n",
       "      <th></th>\n",
       "    </tr>\n",
       "  </thead>\n",
       "  <tbody>\n",
       "    <tr>\n",
       "      <th>2021-05-03 00:00:00.000000</th>\n",
       "      <td>1</td>\n",
       "      <td>123.000000</td>\n",
       "      <td>2.4668</td>\n",
       "      <td>0.0</td>\n",
       "    </tr>\n",
       "    <tr>\n",
       "      <th>2021-05-03 00:00:59.961600</th>\n",
       "      <td>2</td>\n",
       "      <td>123.000694</td>\n",
       "      <td>2.4105</td>\n",
       "      <td>0.0</td>\n",
       "    </tr>\n",
       "    <tr>\n",
       "      <th>2021-05-03 00:02:00.009600</th>\n",
       "      <td>3</td>\n",
       "      <td>123.001389</td>\n",
       "      <td>2.4283</td>\n",
       "      <td>0.0</td>\n",
       "    </tr>\n",
       "    <tr>\n",
       "      <th>2021-05-03 00:02:59.971200</th>\n",
       "      <td>4</td>\n",
       "      <td>123.002083</td>\n",
       "      <td>2.4250</td>\n",
       "      <td>0.0</td>\n",
       "    </tr>\n",
       "    <tr>\n",
       "      <th>2021-05-03 00:04:00.019200</th>\n",
       "      <td>5</td>\n",
       "      <td>123.002778</td>\n",
       "      <td>2.4312</td>\n",
       "      <td>0.0</td>\n",
       "    </tr>\n",
       "    <tr>\n",
       "      <th>...</th>\n",
       "      <td>...</td>\n",
       "      <td>...</td>\n",
       "      <td>...</td>\n",
       "      <td>...</td>\n",
       "    </tr>\n",
       "    <tr>\n",
       "      <th>2022-11-09 14:50:11.961600</th>\n",
       "      <td>800083</td>\n",
       "      <td>678.618194</td>\n",
       "      <td>17.1043</td>\n",
       "      <td>0.0</td>\n",
       "    </tr>\n",
       "    <tr>\n",
       "      <th>2022-11-09 14:51:12.009600</th>\n",
       "      <td>800084</td>\n",
       "      <td>678.618889</td>\n",
       "      <td>17.1057</td>\n",
       "      <td>0.0</td>\n",
       "    </tr>\n",
       "    <tr>\n",
       "      <th>2022-11-09 14:52:11.971200</th>\n",
       "      <td>800085</td>\n",
       "      <td>678.619583</td>\n",
       "      <td>17.1071</td>\n",
       "      <td>0.0</td>\n",
       "    </tr>\n",
       "    <tr>\n",
       "      <th>2022-11-09 14:53:12.019200</th>\n",
       "      <td>800086</td>\n",
       "      <td>678.620278</td>\n",
       "      <td>17.2426</td>\n",
       "      <td>0.0</td>\n",
       "    </tr>\n",
       "    <tr>\n",
       "      <th>2022-11-09 14:54:11.980800</th>\n",
       "      <td>800087</td>\n",
       "      <td>678.620972</td>\n",
       "      <td>17.4512</td>\n",
       "      <td>0.0</td>\n",
       "    </tr>\n",
       "  </tbody>\n",
       "</table>\n",
       "<p>800087 rows × 4 columns</p>\n",
       "</div>"
      ],
      "text/plain": [
       "                              scan       timeJ    t090C  flag\n",
       "date_time                                                    \n",
       "2021-05-03 00:00:00.000000       1  123.000000   2.4668   0.0\n",
       "2021-05-03 00:00:59.961600       2  123.000694   2.4105   0.0\n",
       "2021-05-03 00:02:00.009600       3  123.001389   2.4283   0.0\n",
       "2021-05-03 00:02:59.971200       4  123.002083   2.4250   0.0\n",
       "2021-05-03 00:04:00.019200       5  123.002778   2.4312   0.0\n",
       "...                            ...         ...      ...   ...\n",
       "2022-11-09 14:50:11.961600  800083  678.618194  17.1043   0.0\n",
       "2022-11-09 14:51:12.009600  800084  678.618889  17.1057   0.0\n",
       "2022-11-09 14:52:11.971200  800085  678.619583  17.1071   0.0\n",
       "2022-11-09 14:53:12.019200  800086  678.620278  17.2426   0.0\n",
       "2022-11-09 14:54:11.980800  800087  678.620972  17.4512   0.0\n",
       "\n",
       "[800087 rows x 4 columns]"
      ]
     },
     "execution_count": 5,
     "metadata": {},
     "output_type": "execute_result"
    }
   ],
   "source": [
    "sbe56_wop_data"
   ]
  },
  {
   "cell_type": "code",
   "execution_count": 6,
   "id": "3041a5e5-1806-41e9-8174-342525f64ed1",
   "metadata": {
    "tags": []
   },
   "outputs": [],
   "source": [
    "##rename variables\n",
    "\n",
    "sbe56_wop_data = sbe56_wop_data.rename(columns={'t090C':'temperature'})"
   ]
  },
  {
   "cell_type": "markdown",
   "id": "ready-audit",
   "metadata": {},
   "source": [
    "## Time properties\n",
    "\n",
    "Its unusual that our clocks drift to the point of concern for our instruments (if an instrument is off by 3 minutes but only sampling hourly... regridding that data will result in minimal changes).  However, there are a few time oriented modifications that may need to be made.\n",
    "\n",
    "The can be classified into two categories:\n",
    "+ interpolate: these change the parameter values in accordance with the time edits\n",
    "    - linear interpolation is most common\n",
    "    - averaging of data and rebinning/resampling is also common (this needs to have the \"time lable\" thought out...)\n",
    "    - decimating is less common but does not impact the max/min values\n",
    "+ shift: these do not alter the measurements, just the timestamps they are associated with\n",
    "    - the round function will work well to correct small time errors/drifts **common**\n",
    "    - dropping extra precision on time (if you want hourly measurements, just remove all minute/second info... could cause large errors if rounding would have been more appropriate)"
   ]
  },
  {
   "cell_type": "markdown",
   "id": "supposed-bankruptcy",
   "metadata": {},
   "source": [
    "It is very easy to use pandas interplation and resample methods on the dataframe as is.  A few steps are suggested below:\n",
    "- parse out on-deck (predeployment and recovery) data.  This can be done via pandas or xarray but requires the mooring metadata to have been read in.  See future steps below.\n",
    "- even if the sample frequency is set to the desired measurement frequency, it would be good to perform a quick regridding as an assurance task\n",
    "- FOCI data is usualy 1min, 10min, 1hr - and the 1min data is a fairly new (sbe56) data stream\n",
    "    + subsampling high frequency data to lower frequency is easy via df.resample().mean() but it will label the new datapoint per default instructions.  The default is to label it with the left boundary of the bin.\n",
    "    + you may want to take the median instead of the mean for noisy data (fluorometer) , occasionally decimating may be more appropriate if you want to downsize the dataset size but not smear features\n",
    "    + shifting times can be a bit more involved.  There are two primary ways to do it, interpolate or shift (round)\n",
    "        - to interpolate, you will need to upsample your data to a higher frequency which will generate missing values, then interpolate (with a maximum gap size), then decimate.  This always has the artifact of smoothing data and decreasing the min/max values. **common on microcats and other 10min datasets**\n",
    "        - shifting usually just involves droping extra time \"digits\", if you want hourly, you could just drop the trailing minutes assuming you are just off the hour (8:05 -> 8:00) or you can round to the nearest time unit but niether of these changes the data value, just the time associated with it. **common on seacats and other hourly datasets**\n",
    "        - you may also be able to *shift* using the pandas datetime round function and specifing the desired frequency.\n",
    "    + I suggest if no change is needed... df.index.round(freq=*'your native sample freq'*)\n",
    "    "
   ]
  },
  {
   "cell_type": "markdown",
   "id": "508c1c7d-3b82-4320-9c66-33ac95b48e42",
   "metadata": {},
   "source": [
    "<div class=\"alert alert-warning\">\n",
    "  <strong>Sample time for this instrument was set at 60 seconds.  No drift information is known.  This high a resolution is uncharacterstic:</strong>\n",
    "</div>"
   ]
  },
  {
   "cell_type": "code",
   "execution_count": 7,
   "id": "1bc80340",
   "metadata": {
    "tags": []
   },
   "outputs": [
    {
     "data": {
      "text/html": [
       "<div>\n",
       "<style scoped>\n",
       "    .dataframe tbody tr th:only-of-type {\n",
       "        vertical-align: middle;\n",
       "    }\n",
       "\n",
       "    .dataframe tbody tr th {\n",
       "        vertical-align: top;\n",
       "    }\n",
       "\n",
       "    .dataframe thead th {\n",
       "        text-align: right;\n",
       "    }\n",
       "</style>\n",
       "<table border=\"1\" class=\"dataframe\">\n",
       "  <thead>\n",
       "    <tr style=\"text-align: right;\">\n",
       "      <th></th>\n",
       "      <th>scan</th>\n",
       "      <th>timeJ</th>\n",
       "      <th>temperature</th>\n",
       "      <th>flag</th>\n",
       "    </tr>\n",
       "    <tr>\n",
       "      <th>date_time</th>\n",
       "      <th></th>\n",
       "      <th></th>\n",
       "      <th></th>\n",
       "      <th></th>\n",
       "    </tr>\n",
       "  </thead>\n",
       "  <tbody>\n",
       "    <tr>\n",
       "      <th>2021-05-03 00:00:00</th>\n",
       "      <td>1</td>\n",
       "      <td>123.000000</td>\n",
       "      <td>2.4668</td>\n",
       "      <td>0.0</td>\n",
       "    </tr>\n",
       "    <tr>\n",
       "      <th>2021-05-03 00:01:00</th>\n",
       "      <td>2</td>\n",
       "      <td>123.000694</td>\n",
       "      <td>2.4105</td>\n",
       "      <td>0.0</td>\n",
       "    </tr>\n",
       "    <tr>\n",
       "      <th>2021-05-03 00:02:00</th>\n",
       "      <td>3</td>\n",
       "      <td>123.001389</td>\n",
       "      <td>2.4283</td>\n",
       "      <td>0.0</td>\n",
       "    </tr>\n",
       "    <tr>\n",
       "      <th>2021-05-03 00:03:00</th>\n",
       "      <td>4</td>\n",
       "      <td>123.002083</td>\n",
       "      <td>2.4250</td>\n",
       "      <td>0.0</td>\n",
       "    </tr>\n",
       "    <tr>\n",
       "      <th>2021-05-03 00:04:00</th>\n",
       "      <td>5</td>\n",
       "      <td>123.002778</td>\n",
       "      <td>2.4312</td>\n",
       "      <td>0.0</td>\n",
       "    </tr>\n",
       "    <tr>\n",
       "      <th>...</th>\n",
       "      <td>...</td>\n",
       "      <td>...</td>\n",
       "      <td>...</td>\n",
       "      <td>...</td>\n",
       "    </tr>\n",
       "    <tr>\n",
       "      <th>2022-11-09 14:50:00</th>\n",
       "      <td>800083</td>\n",
       "      <td>678.618194</td>\n",
       "      <td>17.1043</td>\n",
       "      <td>0.0</td>\n",
       "    </tr>\n",
       "    <tr>\n",
       "      <th>2022-11-09 14:51:00</th>\n",
       "      <td>800084</td>\n",
       "      <td>678.618889</td>\n",
       "      <td>17.1057</td>\n",
       "      <td>0.0</td>\n",
       "    </tr>\n",
       "    <tr>\n",
       "      <th>2022-11-09 14:52:00</th>\n",
       "      <td>800085</td>\n",
       "      <td>678.619583</td>\n",
       "      <td>17.1071</td>\n",
       "      <td>0.0</td>\n",
       "    </tr>\n",
       "    <tr>\n",
       "      <th>2022-11-09 14:53:00</th>\n",
       "      <td>800086</td>\n",
       "      <td>678.620278</td>\n",
       "      <td>17.2426</td>\n",
       "      <td>0.0</td>\n",
       "    </tr>\n",
       "    <tr>\n",
       "      <th>2022-11-09 14:54:00</th>\n",
       "      <td>800087</td>\n",
       "      <td>678.620972</td>\n",
       "      <td>17.4512</td>\n",
       "      <td>0.0</td>\n",
       "    </tr>\n",
       "  </tbody>\n",
       "</table>\n",
       "<p>800087 rows × 4 columns</p>\n",
       "</div>"
      ],
      "text/plain": [
       "                       scan       timeJ  temperature  flag\n",
       "date_time                                                 \n",
       "2021-05-03 00:00:00       1  123.000000       2.4668   0.0\n",
       "2021-05-03 00:01:00       2  123.000694       2.4105   0.0\n",
       "2021-05-03 00:02:00       3  123.001389       2.4283   0.0\n",
       "2021-05-03 00:03:00       4  123.002083       2.4250   0.0\n",
       "2021-05-03 00:04:00       5  123.002778       2.4312   0.0\n",
       "...                     ...         ...          ...   ...\n",
       "2022-11-09 14:50:00  800083  678.618194      17.1043   0.0\n",
       "2022-11-09 14:51:00  800084  678.618889      17.1057   0.0\n",
       "2022-11-09 14:52:00  800085  678.619583      17.1071   0.0\n",
       "2022-11-09 14:53:00  800086  678.620278      17.2426   0.0\n",
       "2022-11-09 14:54:00  800087  678.620972      17.4512   0.0\n",
       "\n",
       "[800087 rows x 4 columns]"
      ]
     },
     "execution_count": 7,
     "metadata": {},
     "output_type": "execute_result"
    }
   ],
   "source": [
    "sbe56_wop_data.index = sbe56_wop_data.index.round(freq='1min')\n",
    "sbe56_wop_data"
   ]
  },
  {
   "cell_type": "code",
   "execution_count": 8,
   "id": "fourth-perspective",
   "metadata": {
    "tags": []
   },
   "outputs": [],
   "source": [
    "# because many of the values where just prior to the 5min label, resampling shifted them by default to 5min earlier\n",
    "#  changing the label to the end would resolve this this time, but it needs addressed each time\n",
    "# sbe56_wop_data = sbe56_wop_data.resample('1min').mean().interpolate(limit=5) #a 5min limit\n",
    "# sbe56_wop_data"
   ]
  },
  {
   "cell_type": "code",
   "execution_count": 9,
   "id": "undefined-membrane",
   "metadata": {
    "tags": []
   },
   "outputs": [
    {
     "data": {
      "text/plain": [
       "<Axes: xlabel='date_time'>"
      ]
     },
     "execution_count": 9,
     "metadata": {},
     "output_type": "execute_result"
    },
    {
     "data": {
      "image/png": "[encoded data removed]",
      "text/plain": [
       "<Figure size 640x480 with 1 Axes>"
      ]
     },
     "metadata": {},
     "output_type": "display_data"
    }
   ],
   "source": [
    "sbe56_wop_data[['temperature','flag']].plot()"
   ]
  },
  {
   "cell_type": "markdown",
   "id": "acknowledged-active",
   "metadata": {},
   "source": [
    "## Add Deployment meta information\n",
    "\n",
    "Two methods are available (if comming from python2 world - ordereddict was important... in py38 a dictionary is inherently ordered)"
   ]
  },
  {
   "cell_type": "code",
   "execution_count": 10,
   "id": "freelance-fairy",
   "metadata": {
    "tags": []
   },
   "outputs": [],
   "source": [
    "#just a dictionary of dictionaries - simple\n",
    "with open(mooring_meta_file) as file:\n",
    "    mooring_config = yaml.full_load(file)"
   ]
  },
  {
   "cell_type": "code",
   "execution_count": 11,
   "id": "israeli-begin",
   "metadata": {
    "tags": []
   },
   "outputs": [
    {
     "data": {
      "text/plain": [
       "{'InstType': 'SBE-56',\n",
       " 'SerialNo': '4740',\n",
       " 'DesignedDepth': 23.0,\n",
       " 'ActualDepth': 21.0,\n",
       " 'PreDeploymentNotes': 'Li Batt',\n",
       " 'PostDeploymentNotes': '',\n",
       " 'Deployed': 'y',\n",
       " 'Recovered': 'y'}"
      ]
     },
     "execution_count": 11,
     "metadata": {},
     "output_type": "execute_result"
    }
   ],
   "source": [
    "mooring_config['Instrumentation'][instrument]"
   ]
  },
  {
   "cell_type": "markdown",
   "id": "mysterious-cornwall",
   "metadata": {},
   "source": [
    "## Add Instrument meta information\n",
    "\n",
    "Time, depth, lat, lon should be added regardless (always our coordinates) but for a mooring site its going to be a (1,1,1,t) dataset\n",
    "The variables of interest should be read from the data file and matched to a key for naming.  That key is in the inst_config file seen below and should represent common conversion names in the raw data"
   ]
  },
  {
   "cell_type": "code",
   "execution_count": 12,
   "id": "eaf6684b-d431-48f4-aeb0-3835121f1a1d",
   "metadata": {
    "tags": []
   },
   "outputs": [],
   "source": [
    "#just a dictionary of dictionaries - simple\n",
    "with open(institution_meta_file) as file:\n",
    "    institution_config = yaml.full_load(file)"
   ]
  },
  {
   "cell_type": "code",
   "execution_count": 13,
   "id": "checked-raise",
   "metadata": {
    "tags": []
   },
   "outputs": [
    {
     "data": {
      "text/plain": [
       "{'time': {'epic_key': 'TIM_601',\n",
       "  'name': 'time',\n",
       "  'generic_name': 'time',\n",
       "  'standard_name': 'time',\n",
       "  'long_name': 'date and time since reference time'},\n",
       " 'depth': {'epic_key': 'D_3',\n",
       "  'generic_name': 'depth',\n",
       "  'units': 'meter',\n",
       "  'long_name': 'depth below surface (meters)',\n",
       "  'standard_name': 'depth',\n",
       "  'positive': 'down'},\n",
       " 'latitude': {'epic_key': 'LON_501',\n",
       "  'name': 'latitude',\n",
       "  'generic_name': 'latitude',\n",
       "  'units': 'degrees_north',\n",
       "  'long_name': 'latitude',\n",
       "  'standard_name': 'latitude'},\n",
       " 'longitude': {'epic_key': 'LAT_500',\n",
       "  'name': 'longitude',\n",
       "  'generic_name': 'longitude',\n",
       "  'units': 'degrees_east',\n",
       "  'long_name': 'longitude',\n",
       "  'standard_name': 'longitude'},\n",
       " 'temperature': {'epic_key': 'T_20',\n",
       "  'generic_name': 'temp',\n",
       "  'long_name': 'Sea temperature in-situ ITS-90 scale',\n",
       "  'standard_name': 'sea_water_temperature',\n",
       "  'units': 'degree_C'}}"
      ]
     },
     "execution_count": 13,
     "metadata": {},
     "output_type": "execute_result"
    }
   ],
   "source": [
    "with open(inst_meta_file) as file:\n",
    "    inst_config = yaml.full_load(file)\n",
    "inst_config"
   ]
  },
  {
   "cell_type": "code",
   "execution_count": 14,
   "id": "varied-popularity",
   "metadata": {
    "tags": []
   },
   "outputs": [
    {
     "data": {
      "text/plain": [
       "<EcoFOCIpy.io.ncCFsave.EcoFOCI_CFnc at 0x17b5bdc40>"
      ]
     },
     "execution_count": 14,
     "metadata": {},
     "output_type": "execute_result"
    }
   ],
   "source": [
    "# Add meta data and prelim processing based on meta data\n",
    "# Convert to xarray and add meta information - save as CF netcdf file\n",
    "# pass -> data, instmeta, depmeta\n",
    "sbe56_wop_nc = ncCFsave.EcoFOCI_CFnc(df=sbe56_wop_data, \n",
    "                                instrument_yaml=inst_config, \n",
    "                                operation_yaml=mooring_config,\n",
    "                                operation_type='mooring', \n",
    "                                instrument_id=instrument, \n",
    "                                inst_shortname=inst_shortname)\n",
    "sbe56_wop_nc"
   ]
  },
  {
   "cell_type": "markdown",
   "id": "asian-chambers",
   "metadata": {},
   "source": [
    "At this point, you could save your file with the `.xarray2netcdf_save()` method and have a functioning dataset.... but it would be very simple with no additional qc, meta-data, or tuned parameters for optimizing software like ferret or erddap."
   ]
  },
  {
   "cell_type": "code",
   "execution_count": 15,
   "id": "practical-pennsylvania",
   "metadata": {
    "tags": []
   },
   "outputs": [],
   "source": [
    "# expand the dimensions and coordinate variables\n",
    "# renames them appropriatley and prepares them for meta-filled values\n",
    "sbe56_wop_nc.expand_dimensions()"
   ]
  },
  {
   "cell_type": "code",
   "execution_count": 16,
   "id": "floral-operations",
   "metadata": {
    "tags": []
   },
   "outputs": [],
   "source": [
    "sbe56_wop_nc.variable_meta_data(variable_keys=list(sbe56_wop_data.columns.values),drop_missing=True)\n",
    "sbe56_wop_nc.temporal_geospatioal_meta_data(depth='actual')\n",
    "#adding dimension meta needs to come after updating the dimension values... BUG?\n",
    "sbe56_wop_nc.dimension_meta_data(variable_keys=['depth','latitude','longitude'])"
   ]
  },
  {
   "cell_type": "markdown",
   "id": "seventh-product",
   "metadata": {},
   "source": [
    "The following steps can happen in just about any order and are all meta-data driven.  Therefore, they are not required to have a functioning dataset, but they are required to have a well described dataset"
   ]
  },
  {
   "cell_type": "code",
   "execution_count": 17,
   "id": "auburn-diversity",
   "metadata": {
    "tags": []
   },
   "outputs": [],
   "source": [
    "#add global attributes\n",
    "sbe56_wop_nc.deployment_meta_add()\n",
    "sbe56_wop_nc.get_xdf()\n",
    "\n",
    "#add instituitonal global attributes\n",
    "sbe56_wop_nc.institution_meta_add(institution_yaml=institution_config)\n",
    "\n",
    "#add instrument global attributes\n",
    "sbe56_wop_nc.instrument_meta_data()\n",
    "\n",
    "#add creation date/time - provenance data\n",
    "sbe56_wop_nc.provinance_meta_add()\n",
    "\n",
    "#provide intial qc status field\n",
    "sbe56_wop_nc.qc_status(qc_status='unknown')\n"
   ]
  },
  {
   "cell_type": "markdown",
   "id": "sustained-hughes",
   "metadata": {},
   "source": [
    "## Save CF Netcdf files\n",
    "\n",
    "Currently stick to netcdf3 classic... but migrating to netcdf4 (default) may be no problems for most modern purposes.  Its easy enough to pass the `format` kwargs through to the netcdf api of xarray."
   ]
  },
  {
   "cell_type": "code",
   "execution_count": 18,
   "id": "modular-volunteer",
   "metadata": {
    "tags": []
   },
   "outputs": [
    {
     "name": "stderr",
     "output_type": "stream",
     "text": [
      "/Users/bell/src/ecofocipy/src/EcoFOCIpy/io/ncCFsave.py:320: UserWarning: Times can't be serialized faithfully to int64 with requested units 'days since 1900-01-01'. Resolution of 'minutes' needed. Serializing times to floating point instead. Set encoding['dtype'] to integer dtype to serialize to int64. Set encoding['dtype'] to floating point dtype to silence this warning.\n",
      "  xdf.to_netcdf(filename,format=kwargs['format'],encoding={'time':{'units':'days since 1900-01-01'}})\n"
     ]
    }
   ],
   "source": [
    "# combine trim (not mandatory) and filename together (saves to test.nc without name)\n",
    "\n",
    "depth = str(int(mooring_config['Instrumentation'][instrument]['ActualDepth'])).zfill(4)\n",
    "# mooring_yaml['Instrumentation'][self.instrument_id]['DesignedDepth'])).zfill(4) #<-- alternative\n",
    "filename = \"\".join(mooring_config['MooringID'].split('-')).lower()+'_'+inst_shortname+'_'+depth+'m.nc'\n",
    "sbe56_wop_nc.xarray2netcdf_save(xdf = sbe56_wop_nc.autotrim_time(),\n",
    "                           filename=filename,format=\"NETCDF3_CLASSIC\")\n",
    "\n",
    "# don't trim the data and pass your own filename\n",
    "# sbe56_wop_nc.xarray2netcdf_save(xdf = sbe56_wop_nc.get_xdf(),\n",
    "#                            filename=filename,format=\"NETCDF4_CLASSIC\")"
   ]
  },
  {
   "cell_type": "code",
   "execution_count": 19,
   "id": "unlike-breathing",
   "metadata": {
    "tags": []
   },
   "outputs": [
    {
     "data": {
      "text/html": [
       "<div><svg style=\"position: absolute; width: 0; height: 0; overflow: hidden\">\n",
       "<defs>\n",
       "<symbol id=\"icon-database\" viewBox=\"0 0 32 32\">\n",
       "<path d=\"M16 0c-8.837 0-16 2.239-16 5v4c0 2.761 7.163 5 16 5s16-2.239 16-5v-4c0-2.761-7.163-5-16-5z\"></path>\n",
       "<path d=\"M16 17c-8.837 0-16-2.239-16-5v6c0 2.761 7.163 5 16 5s16-2.239 16-5v-6c0 2.761-7.163 5-16 5z\"></path>\n",
       "<path d=\"M16 26c-8.837 0-16-2.239-16-5v6c0 2.761 7.163 5 16 5s16-2.239 16-5v-6c0 2.761-7.163 5-16 5z\"></path>\n",
       "</symbol>\n",
       "<symbol id=\"icon-file-text2\" viewBox=\"0 0 32 32\">\n",
       "<path d=\"M28.681 7.159c-0.694-0.947-1.662-2.053-2.724-3.116s-2.169-2.030-3.116-2.724c-1.612-1.182-2.393-1.319-2.841-1.319h-15.5c-1.378 0-2.5 1.121-2.5 2.5v27c0 1.378 1.122 2.5 2.5 2.5h23c1.378 0 2.5-1.122 2.5-2.5v-19.5c0-0.448-0.137-1.23-1.319-2.841zM24.543 5.457c0.959 0.959 1.712 1.825 2.268 2.543h-4.811v-4.811c0.718 0.556 1.584 1.309 2.543 2.268zM28 29.5c0 0.271-0.229 0.5-0.5 0.5h-23c-0.271 0-0.5-0.229-0.5-0.5v-27c0-0.271 0.229-0.5 0.5-0.5 0 0 15.499-0 15.5 0v7c0 0.552 0.448 1 1 1h7v19.5z\"></path>\n",
       "<path d=\"M23 26h-14c-0.552 0-1-0.448-1-1s0.448-1 1-1h14c0.552 0 1 0.448 1 1s-0.448 1-1 1z\"></path>\n",
       "<path d=\"M23 22h-14c-0.552 0-1-0.448-1-1s0.448-1 1-1h14c0.552 0 1 0.448 1 1s-0.448 1-1 1z\"></path>\n",
       "<path d=\"M23 18h-14c-0.552 0-1-0.448-1-1s0.448-1 1-1h14c0.552 0 1 0.448 1 1s-0.448 1-1 1z\"></path>\n",
       "</symbol>\n",
       "</defs>\n",
       "</svg>\n",
       "<style>/* CSS stylesheet for displaying xarray objects in jupyterlab.\n",
       " *\n",
       " */\n",
       "\n",
       ":root {\n",
       "  --xr-font-color0: var(--jp-content-font-color0, rgba(0, 0, 0, 1));\n",
       "  --xr-font-color2: var(--jp-content-font-color2, rgba(0, 0, 0, 0.54));\n",
       "  --xr-font-color3: var(--jp-content-font-color3, rgba(0, 0, 0, 0.38));\n",
       "  --xr-border-color: var(--jp-border-color2, #e0e0e0);\n",
       "  --xr-disabled-color: var(--jp-layout-color3, #bdbdbd);\n",
       "  --xr-background-color: var(--jp-layout-color0, white);\n",
       "  --xr-background-color-row-even: var(--jp-layout-color1, white);\n",
       "  --xr-background-color-row-odd: var(--jp-layout-color2, #eeeeee);\n",
       "}\n",
       "\n",
       "html[theme=dark],\n",
       "body[data-theme=dark],\n",
       "body.vscode-dark {\n",
       "  --xr-font-color0: rgba(255, 255, 255, 1);\n",
       "  --xr-font-color2: rgba(255, 255, 255, 0.54);\n",
       "  --xr-font-color3: rgba(255, 255, 255, 0.38);\n",
       "  --xr-border-color: #1F1F1F;\n",
       "  --xr-disabled-color: #515151;\n",
       "  --xr-background-color: #111111;\n",
       "  --xr-background-color-row-even: #111111;\n",
       "  --xr-background-color-row-odd: #313131;\n",
       "}\n",
       "\n",
       ".xr-wrap {\n",
       "  display: block !important;\n",
       "  min-width: 300px;\n",
       "  max-width: 700px;\n",
       "}\n",
       "\n",
       ".xr-text-repr-fallback {\n",
       "  /* fallback to plain text repr when CSS is not injected (untrusted notebook) */\n",
       "  display: none;\n",
       "}\n",
       "\n",
       ".xr-header {\n",
       "  padding-top: 6px;\n",
       "  padding-bottom: 6px;\n",
       "  margin-bottom: 4px;\n",
       "  border-bottom: solid 1px var(--xr-border-color);\n",
       "}\n",
       "\n",
       ".xr-header > div,\n",
       ".xr-header > ul {\n",
       "  display: inline;\n",
       "  margin-top: 0;\n",
       "  margin-bottom: 0;\n",
       "}\n",
       "\n",
       ".xr-obj-type,\n",
       ".xr-array-name {\n",
       "  margin-left: 2px;\n",
       "  margin-right: 10px;\n",
       "}\n",
       "\n",
       ".xr-obj-type {\n",
       "  color: var(--xr-font-color2);\n",
       "}\n",
       "\n",
       ".xr-sections {\n",
       "  padding-left: 0 !important;\n",
       "  display: grid;\n",
       "  grid-template-columns: 150px auto auto 1fr 20px 20px;\n",
       "}\n",
       "\n",
       ".xr-section-item {\n",
       "  display: contents;\n",
       "}\n",
       "\n",
       ".xr-section-item input {\n",
       "  display: none;\n",
       "}\n",
       "\n",
       ".xr-section-item input + label {\n",
       "  color: var(--xr-disabled-color);\n",
       "}\n",
       "\n",
       ".xr-section-item input:enabled + label {\n",
       "  cursor: pointer;\n",
       "  color: var(--xr-font-color2);\n",
       "}\n",
       "\n",
       ".xr-section-item input:enabled + label:hover {\n",
       "  color: var(--xr-font-color0);\n",
       "}\n",
       "\n",
       ".xr-section-summary {\n",
       "  grid-column: 1;\n",
       "  color: var(--xr-font-color2);\n",
       "  font-weight: 500;\n",
       "}\n",
       "\n",
       ".xr-section-summary > span {\n",
       "  display: inline-block;\n",
       "  padding-left: 0.5em;\n",
       "}\n",
       "\n",
       ".xr-section-summary-in:disabled + label {\n",
       "  color: var(--xr-font-color2);\n",
       "}\n",
       "\n",
       ".xr-section-summary-in + label:before {\n",
       "  display: inline-block;\n",
       "  content: '►';\n",
       "  font-size: 11px;\n",
       "  width: 15px;\n",
       "  text-align: center;\n",
       "}\n",
       "\n",
       ".xr-section-summary-in:disabled + label:before {\n",
       "  color: var(--xr-disabled-color);\n",
       "}\n",
       "\n",
       ".xr-section-summary-in:checked + label:before {\n",
       "  content: '▼';\n",
       "}\n",
       "\n",
       ".xr-section-summary-in:checked + label > span {\n",
       "  display: none;\n",
       "}\n",
       "\n",
       ".xr-section-summary,\n",
       ".xr-section-inline-details {\n",
       "  padding-top: 4px;\n",
       "  padding-bottom: 4px;\n",
       "}\n",
       "\n",
       ".xr-section-inline-details {\n",
       "  grid-column: 2 / -1;\n",
       "}\n",
       "\n",
       ".xr-section-details {\n",
       "  display: none;\n",
       "  grid-column: 1 / -1;\n",
       "  margin-bottom: 5px;\n",
       "}\n",
       "\n",
       ".xr-section-summary-in:checked ~ .xr-section-details {\n",
       "  display: contents;\n",
       "}\n",
       "\n",
       ".xr-array-wrap {\n",
       "  grid-column: 1 / -1;\n",
       "  display: grid;\n",
       "  grid-template-columns: 20px auto;\n",
       "}\n",
       "\n",
       ".xr-array-wrap > label {\n",
       "  grid-column: 1;\n",
       "  vertical-align: top;\n",
       "}\n",
       "\n",
       ".xr-preview {\n",
       "  color: var(--xr-font-color3);\n",
       "}\n",
       "\n",
       ".xr-array-preview,\n",
       ".xr-array-data {\n",
       "  padding: 0 5px !important;\n",
       "  grid-column: 2;\n",
       "}\n",
       "\n",
       ".xr-array-data,\n",
       ".xr-array-in:checked ~ .xr-array-preview {\n",
       "  display: none;\n",
       "}\n",
       "\n",
       ".xr-array-in:checked ~ .xr-array-data,\n",
       ".xr-array-preview {\n",
       "  display: inline-block;\n",
       "}\n",
       "\n",
       ".xr-dim-list {\n",
       "  display: inline-block !important;\n",
       "  list-style: none;\n",
       "  padding: 0 !important;\n",
       "  margin: 0;\n",
       "}\n",
       "\n",
       ".xr-dim-list li {\n",
       "  display: inline-block;\n",
       "  padding: 0;\n",
       "  margin: 0;\n",
       "}\n",
       "\n",
       ".xr-dim-list:before {\n",
       "  content: '(';\n",
       "}\n",
       "\n",
       ".xr-dim-list:after {\n",
       "  content: ')';\n",
       "}\n",
       "\n",
       ".xr-dim-list li:not(:last-child):after {\n",
       "  content: ',';\n",
       "  padding-right: 5px;\n",
       "}\n",
       "\n",
       ".xr-has-index {\n",
       "  font-weight: bold;\n",
       "}\n",
       "\n",
       ".xr-var-list,\n",
       ".xr-var-item {\n",
       "  display: contents;\n",
       "}\n",
       "\n",
       ".xr-var-item > div,\n",
       ".xr-var-item label,\n",
       ".xr-var-item > .xr-var-name span {\n",
       "  background-color: var(--xr-background-color-row-even);\n",
       "  margin-bottom: 0;\n",
       "}\n",
       "\n",
       ".xr-var-item > .xr-var-name:hover span {\n",
       "  padding-right: 5px;\n",
       "}\n",
       "\n",
       ".xr-var-list > li:nth-child(odd) > div,\n",
       ".xr-var-list > li:nth-child(odd) > label,\n",
       ".xr-var-list > li:nth-child(odd) > .xr-var-name span {\n",
       "  background-color: var(--xr-background-color-row-odd);\n",
       "}\n",
       "\n",
       ".xr-var-name {\n",
       "  grid-column: 1;\n",
       "}\n",
       "\n",
       ".xr-var-dims {\n",
       "  grid-column: 2;\n",
       "}\n",
       "\n",
       ".xr-var-dtype {\n",
       "  grid-column: 3;\n",
       "  text-align: right;\n",
       "  color: var(--xr-font-color2);\n",
       "}\n",
       "\n",
       ".xr-var-preview {\n",
       "  grid-column: 4;\n",
       "}\n",
       "\n",
       ".xr-index-preview {\n",
       "  grid-column: 2 / 5;\n",
       "  color: var(--xr-font-color2);\n",
       "}\n",
       "\n",
       ".xr-var-name,\n",
       ".xr-var-dims,\n",
       ".xr-var-dtype,\n",
       ".xr-preview,\n",
       ".xr-attrs dt {\n",
       "  white-space: nowrap;\n",
       "  overflow: hidden;\n",
       "  text-overflow: ellipsis;\n",
       "  padding-right: 10px;\n",
       "}\n",
       "\n",
       ".xr-var-name:hover,\n",
       ".xr-var-dims:hover,\n",
       ".xr-var-dtype:hover,\n",
       ".xr-attrs dt:hover {\n",
       "  overflow: visible;\n",
       "  width: auto;\n",
       "  z-index: 1;\n",
       "}\n",
       "\n",
       ".xr-var-attrs,\n",
       ".xr-var-data,\n",
       ".xr-index-data {\n",
       "  display: none;\n",
       "  background-color: var(--xr-background-color) !important;\n",
       "  padding-bottom: 5px !important;\n",
       "}\n",
       "\n",
       ".xr-var-attrs-in:checked ~ .xr-var-attrs,\n",
       ".xr-var-data-in:checked ~ .xr-var-data,\n",
       ".xr-index-data-in:checked ~ .xr-index-data {\n",
       "  display: block;\n",
       "}\n",
       "\n",
       ".xr-var-data > table {\n",
       "  float: right;\n",
       "}\n",
       "\n",
       ".xr-var-name span,\n",
       ".xr-var-data,\n",
       ".xr-index-name div,\n",
       ".xr-index-data,\n",
       ".xr-attrs {\n",
       "  padding-left: 25px !important;\n",
       "}\n",
       "\n",
       ".xr-attrs,\n",
       ".xr-var-attrs,\n",
       ".xr-var-data,\n",
       ".xr-index-data {\n",
       "  grid-column: 1 / -1;\n",
       "}\n",
       "\n",
       "dl.xr-attrs {\n",
       "  padding: 0;\n",
       "  margin: 0;\n",
       "  display: grid;\n",
       "  grid-template-columns: 125px auto;\n",
       "}\n",
       "\n",
       ".xr-attrs dt,\n",
       ".xr-attrs dd {\n",
       "  padding: 0;\n",
       "  margin: 0;\n",
       "  float: left;\n",
       "  padding-right: 10px;\n",
       "  width: auto;\n",
       "}\n",
       "\n",
       ".xr-attrs dt {\n",
       "  font-weight: normal;\n",
       "  grid-column: 1;\n",
       "}\n",
       "\n",
       ".xr-attrs dt:hover span {\n",
       "  display: inline-block;\n",
       "  background: var(--xr-background-color);\n",
       "  padding-right: 10px;\n",
       "}\n",
       "\n",
       ".xr-attrs dd {\n",
       "  grid-column: 2;\n",
       "  white-space: pre-wrap;\n",
       "  word-break: break-all;\n",
       "}\n",
       "\n",
       ".xr-icon-database,\n",
       ".xr-icon-file-text2,\n",
       ".xr-no-icon {\n",
       "  display: inline-block;\n",
       "  vertical-align: middle;\n",
       "  width: 1em;\n",
       "  height: 1.5em !important;\n",
       "  stroke-width: 0;\n",
       "  stroke: currentColor;\n",
       "  fill: currentColor;\n",
       "}\n",
       "</style><pre class='xr-text-repr-fallback'>&lt;xarray.Dataset&gt;\n",
       "Dimensions:      (time: 698138, depth: 1, latitude: 1, longitude: 1)\n",
       "Coordinates:\n",
       "  * time         (time) datetime64[ns] 2021-05-08T20:53:00 ... 2022-09-05T16:...\n",
       "  * latitude     (latitude) float64 57.87\n",
       "  * longitude    (longitude) float64 -168.9\n",
       "  * depth        (depth) float64 21.0\n",
       "Data variables:\n",
       "    temperature  (time, depth, latitude, longitude) float64 1.365 ... 8.004\n",
       "Attributes: (12/33)\n",
       "    Latitude_DegMMddW:                      57 51.99 N\n",
       "    Longitude_DegMMddN:                     168 52.83 W\n",
       "    MooringID:                              21BS-4A\n",
       "    platform_deployment_date:               2021-05-08T20:53:00Z\n",
       "    platform_deployment_cruise_name:        DY2103\n",
       "    platform_recovery_date:                 2022-09-05T16:30:00Z\n",
       "    ...                                     ...\n",
       "    InstrumentSerialNumber:                 4740\n",
       "    InstrumentType:                         SBE-56\n",
       "    date_created:                           2024-09-25T08:03:42Z\n",
       "    date_modified:                          \n",
       "    QC_indicator:                           unknown\n",
       "    history:                                Trimmed to deployment.\\nTrimmed t...</pre><div class='xr-wrap' style='display:none'><div class='xr-header'><div class='xr-obj-type'>xarray.Dataset</div></div><ul class='xr-sections'><li class='xr-section-item'><input id='section-907ab93c-7d23-4969-b31a-7ca6348bf894' class='xr-section-summary-in' type='checkbox' disabled ><label for='section-907ab93c-7d23-4969-b31a-7ca6348bf894' class='xr-section-summary'  title='Expand/collapse section'>Dimensions:</label><div class='xr-section-inline-details'><ul class='xr-dim-list'><li><span class='xr-has-index'>time</span>: 698138</li><li><span class='xr-has-index'>depth</span>: 1</li><li><span class='xr-has-index'>latitude</span>: 1</li><li><span class='xr-has-index'>longitude</span>: 1</li></ul></div><div class='xr-section-details'></div></li><li class='xr-section-item'><input id='section-6ca8423a-89b1-4611-8fb3-55da231cb91f' class='xr-section-summary-in' type='checkbox'  checked><label for='section-6ca8423a-89b1-4611-8fb3-55da231cb91f' class='xr-section-summary' >Coordinates: <span>(4)</span></label><div class='xr-section-inline-details'></div><div class='xr-section-details'><ul class='xr-var-list'><li class='xr-var-item'><div class='xr-var-name'><span class='xr-has-index'>time</span></div><div class='xr-var-dims'>(time)</div><div class='xr-var-dtype'>datetime64[ns]</div><div class='xr-var-preview xr-preview'>2021-05-08T20:53:00 ... 2022-09-...</div><input id='attrs-319e063a-8e27-4f2f-a5cc-ed622bff386b' class='xr-var-attrs-in' type='checkbox' disabled><label for='attrs-319e063a-8e27-4f2f-a5cc-ed622bff386b' title='Show/Hide attributes'><svg class='icon xr-icon-file-text2'><use xlink:href='#icon-file-text2'></use></svg></label><input id='data-86f492a0-7158-4547-8e3f-256388e6ecbf' class='xr-var-data-in' type='checkbox'><label for='data-86f492a0-7158-4547-8e3f-256388e6ecbf' title='Show/Hide data repr'><svg class='icon xr-icon-database'><use xlink:href='#icon-database'></use></svg></label><div class='xr-var-attrs'><dl class='xr-attrs'></dl></div><div class='xr-var-data'><pre>array([&#x27;2021-05-08T20:53:00.000000000&#x27;, &#x27;2021-05-08T20:54:00.000000000&#x27;,\n",
       "       &#x27;2021-05-08T20:55:00.000000000&#x27;, ..., &#x27;2022-09-05T16:28:00.000000000&#x27;,\n",
       "       &#x27;2022-09-05T16:29:00.000000000&#x27;, &#x27;2022-09-05T16:30:00.000000000&#x27;],\n",
       "      dtype=&#x27;datetime64[ns]&#x27;)</pre></div></li><li class='xr-var-item'><div class='xr-var-name'><span class='xr-has-index'>latitude</span></div><div class='xr-var-dims'>(latitude)</div><div class='xr-var-dtype'>float64</div><div class='xr-var-preview xr-preview'>57.87</div><input id='attrs-304e4c03-f8bf-4c5e-b701-0d7e2b26381a' class='xr-var-attrs-in' type='checkbox' ><label for='attrs-304e4c03-f8bf-4c5e-b701-0d7e2b26381a' title='Show/Hide attributes'><svg class='icon xr-icon-file-text2'><use xlink:href='#icon-file-text2'></use></svg></label><input id='data-02fb2b96-f4a9-44ee-a19d-6d344785cba3' class='xr-var-data-in' type='checkbox'><label for='data-02fb2b96-f4a9-44ee-a19d-6d344785cba3' title='Show/Hide data repr'><svg class='icon xr-icon-database'><use xlink:href='#icon-database'></use></svg></label><div class='xr-var-attrs'><dl class='xr-attrs'><dt><span>epic_key :</span></dt><dd>LON_501</dd><dt><span>name :</span></dt><dd>latitude</dd><dt><span>generic_name :</span></dt><dd>latitude</dd><dt><span>units :</span></dt><dd>degrees_north</dd><dt><span>long_name :</span></dt><dd>latitude</dd><dt><span>standard_name :</span></dt><dd>latitude</dd></dl></div><div class='xr-var-data'><pre>array([57.8665])</pre></div></li><li class='xr-var-item'><div class='xr-var-name'><span class='xr-has-index'>longitude</span></div><div class='xr-var-dims'>(longitude)</div><div class='xr-var-dtype'>float64</div><div class='xr-var-preview xr-preview'>-168.9</div><input id='attrs-b3268326-b0f1-4489-86da-0f2e1de8f46d' class='xr-var-attrs-in' type='checkbox' ><label for='attrs-b3268326-b0f1-4489-86da-0f2e1de8f46d' title='Show/Hide attributes'><svg class='icon xr-icon-file-text2'><use xlink:href='#icon-file-text2'></use></svg></label><input id='data-ea98bb93-0356-4f78-9239-a3759c798869' class='xr-var-data-in' type='checkbox'><label for='data-ea98bb93-0356-4f78-9239-a3759c798869' title='Show/Hide data repr'><svg class='icon xr-icon-database'><use xlink:href='#icon-database'></use></svg></label><div class='xr-var-attrs'><dl class='xr-attrs'><dt><span>epic_key :</span></dt><dd>LAT_500</dd><dt><span>name :</span></dt><dd>longitude</dd><dt><span>generic_name :</span></dt><dd>longitude</dd><dt><span>units :</span></dt><dd>degrees_east</dd><dt><span>long_name :</span></dt><dd>longitude</dd><dt><span>standard_name :</span></dt><dd>longitude</dd></dl></div><div class='xr-var-data'><pre>array([-168.8805])</pre></div></li><li class='xr-var-item'><div class='xr-var-name'><span class='xr-has-index'>depth</span></div><div class='xr-var-dims'>(depth)</div><div class='xr-var-dtype'>float64</div><div class='xr-var-preview xr-preview'>21.0</div><input id='attrs-4a9bb94c-6ab3-4b0d-88ba-7735721206ea' class='xr-var-attrs-in' type='checkbox' ><label for='attrs-4a9bb94c-6ab3-4b0d-88ba-7735721206ea' title='Show/Hide attributes'><svg class='icon xr-icon-file-text2'><use xlink:href='#icon-file-text2'></use></svg></label><input id='data-17f88ee4-3280-4ccd-bf59-8803ef0e873c' class='xr-var-data-in' type='checkbox'><label for='data-17f88ee4-3280-4ccd-bf59-8803ef0e873c' title='Show/Hide data repr'><svg class='icon xr-icon-database'><use xlink:href='#icon-database'></use></svg></label><div class='xr-var-attrs'><dl class='xr-attrs'><dt><span>epic_key :</span></dt><dd>D_3</dd><dt><span>generic_name :</span></dt><dd>depth</dd><dt><span>units :</span></dt><dd>meter</dd><dt><span>long_name :</span></dt><dd>depth below surface (meters)</dd><dt><span>standard_name :</span></dt><dd>depth</dd><dt><span>positive :</span></dt><dd>down</dd></dl></div><div class='xr-var-data'><pre>array([21.])</pre></div></li></ul></div></li><li class='xr-section-item'><input id='section-1468c42b-0240-41f5-967b-ee27be7edd7f' class='xr-section-summary-in' type='checkbox'  checked><label for='section-1468c42b-0240-41f5-967b-ee27be7edd7f' class='xr-section-summary' >Data variables: <span>(1)</span></label><div class='xr-section-inline-details'></div><div class='xr-section-details'><ul class='xr-var-list'><li class='xr-var-item'><div class='xr-var-name'><span>temperature</span></div><div class='xr-var-dims'>(time, depth, latitude, longitude)</div><div class='xr-var-dtype'>float64</div><div class='xr-var-preview xr-preview'>1.365 1.371 1.377 ... 8.005 8.004</div><input id='attrs-9b305a02-1a03-44c5-9639-fa8fb9650447' class='xr-var-attrs-in' type='checkbox' ><label for='attrs-9b305a02-1a03-44c5-9639-fa8fb9650447' title='Show/Hide attributes'><svg class='icon xr-icon-file-text2'><use xlink:href='#icon-file-text2'></use></svg></label><input id='data-74c4a23b-58bb-4e66-a432-6255a80af0c9' class='xr-var-data-in' type='checkbox'><label for='data-74c4a23b-58bb-4e66-a432-6255a80af0c9' title='Show/Hide data repr'><svg class='icon xr-icon-database'><use xlink:href='#icon-database'></use></svg></label><div class='xr-var-attrs'><dl class='xr-attrs'><dt><span>epic_key :</span></dt><dd>T_20</dd><dt><span>generic_name :</span></dt><dd>temp</dd><dt><span>long_name :</span></dt><dd>Sea temperature in-situ ITS-90 scale</dd><dt><span>standard_name :</span></dt><dd>sea_water_temperature</dd><dt><span>units :</span></dt><dd>degree_C</dd></dl></div><div class='xr-var-data'><pre>array([[[[1.3655]]],\n",
       "\n",
       "\n",
       "       [[[1.3715]]],\n",
       "\n",
       "\n",
       "       [[[1.3772]]],\n",
       "\n",
       "\n",
       "       ...,\n",
       "\n",
       "\n",
       "       [[[8.0054]]],\n",
       "\n",
       "\n",
       "       [[[8.0045]]],\n",
       "\n",
       "\n",
       "       [[[8.004 ]]]])</pre></div></li></ul></div></li><li class='xr-section-item'><input id='section-6b8d6687-a3a7-41ea-aba0-33a13b152f3e' class='xr-section-summary-in' type='checkbox'  ><label for='section-6b8d6687-a3a7-41ea-aba0-33a13b152f3e' class='xr-section-summary' >Indexes: <span>(4)</span></label><div class='xr-section-inline-details'></div><div class='xr-section-details'><ul class='xr-var-list'><li class='xr-var-item'><div class='xr-index-name'><div>time</div></div><div class='xr-index-preview'>PandasIndex</div><div></div><input id='index-d3a7f60c-b1b0-4308-ab20-5afbe2d4fc96' class='xr-index-data-in' type='checkbox'/><label for='index-d3a7f60c-b1b0-4308-ab20-5afbe2d4fc96' title='Show/Hide index repr'><svg class='icon xr-icon-database'><use xlink:href='#icon-database'></use></svg></label><div class='xr-index-data'><pre>PandasIndex(DatetimeIndex([&#x27;2021-05-08 20:53:00&#x27;, &#x27;2021-05-08 20:54:00&#x27;,\n",
       "               &#x27;2021-05-08 20:55:00&#x27;, &#x27;2021-05-08 20:56:00&#x27;,\n",
       "               &#x27;2021-05-08 20:57:00&#x27;, &#x27;2021-05-08 20:58:00&#x27;,\n",
       "               &#x27;2021-05-08 20:59:00&#x27;, &#x27;2021-05-08 21:00:00&#x27;,\n",
       "               &#x27;2021-05-08 21:01:00&#x27;, &#x27;2021-05-08 21:02:00&#x27;,\n",
       "               ...\n",
       "               &#x27;2022-09-05 16:21:00&#x27;, &#x27;2022-09-05 16:22:00&#x27;,\n",
       "               &#x27;2022-09-05 16:23:00&#x27;, &#x27;2022-09-05 16:24:00&#x27;,\n",
       "               &#x27;2022-09-05 16:25:00&#x27;, &#x27;2022-09-05 16:26:00&#x27;,\n",
       "               &#x27;2022-09-05 16:27:00&#x27;, &#x27;2022-09-05 16:28:00&#x27;,\n",
       "               &#x27;2022-09-05 16:29:00&#x27;, &#x27;2022-09-05 16:30:00&#x27;],\n",
       "              dtype=&#x27;datetime64[ns]&#x27;, name=&#x27;time&#x27;, length=698138, freq=None))</pre></div></li><li class='xr-var-item'><div class='xr-index-name'><div>latitude</div></div><div class='xr-index-preview'>PandasIndex</div><div></div><input id='index-e6af9ca0-e3f9-4bc2-b19a-1de3ad5ec8ef' class='xr-index-data-in' type='checkbox'/><label for='index-e6af9ca0-e3f9-4bc2-b19a-1de3ad5ec8ef' title='Show/Hide index repr'><svg class='icon xr-icon-database'><use xlink:href='#icon-database'></use></svg></label><div class='xr-index-data'><pre>PandasIndex(Index([57.8665], dtype=&#x27;float64&#x27;, name=&#x27;latitude&#x27;))</pre></div></li><li class='xr-var-item'><div class='xr-index-name'><div>longitude</div></div><div class='xr-index-preview'>PandasIndex</div><div></div><input id='index-a5d6d104-9b5b-4d06-9642-ea7cfe92591b' class='xr-index-data-in' type='checkbox'/><label for='index-a5d6d104-9b5b-4d06-9642-ea7cfe92591b' title='Show/Hide index repr'><svg class='icon xr-icon-database'><use xlink:href='#icon-database'></use></svg></label><div class='xr-index-data'><pre>PandasIndex(Index([-168.8805], dtype=&#x27;float64&#x27;, name=&#x27;longitude&#x27;))</pre></div></li><li class='xr-var-item'><div class='xr-index-name'><div>depth</div></div><div class='xr-index-preview'>PandasIndex</div><div></div><input id='index-e84d47dd-0bdf-4232-aa4d-dce595209da7' class='xr-index-data-in' type='checkbox'/><label for='index-e84d47dd-0bdf-4232-aa4d-dce595209da7' title='Show/Hide index repr'><svg class='icon xr-icon-database'><use xlink:href='#icon-database'></use></svg></label><div class='xr-index-data'><pre>PandasIndex(Index([21.0], dtype=&#x27;float64&#x27;, name=&#x27;depth&#x27;))</pre></div></li></ul></div></li><li class='xr-section-item'><input id='section-13a4da3a-aeb0-40e7-b4ef-314e808668ad' class='xr-section-summary-in' type='checkbox'  ><label for='section-13a4da3a-aeb0-40e7-b4ef-314e808668ad' class='xr-section-summary' >Attributes: <span>(33)</span></label><div class='xr-section-inline-details'></div><div class='xr-section-details'><dl class='xr-attrs'><dt><span>Latitude_DegMMddW :</span></dt><dd>57 51.99 N</dd><dt><span>Longitude_DegMMddN :</span></dt><dd>168 52.83 W</dd><dt><span>MooringID :</span></dt><dd>21BS-4A</dd><dt><span>platform_deployment_date :</span></dt><dd>2021-05-08T20:53:00Z</dd><dt><span>platform_deployment_cruise_name :</span></dt><dd>DY2103</dd><dt><span>platform_recovery_date :</span></dt><dd>2022-09-05T16:30:00Z</dd><dt><span>platform_recovery_cruise_name :</span></dt><dd>AQ2201</dd><dt><span>platform_deployment_recovery_comments :</span></dt><dd>BS-4 will from 2021 forward will be deployed in the spring.\r\n",
       "\r\n",
       "Pinged release on DY2206 - pinged ok; strong signal\r\n",
       "</dd><dt><span>WaterDepth :</span></dt><dd>71.0</dd><dt><span>source_documents :</span></dt><dd>http://www.oceansites.org/docs/oceansites_data_format_reference_manual.pdf</dd><dt><span>institution :</span></dt><dd>Pacific Marine Environmental Lab (PMEL)</dd><dt><span>project :</span></dt><dd>EcoFOCI</dd><dt><span>project_url :</span></dt><dd>https://www.ecofoci.noaa.gov</dd><dt><span>principal_investigator :</span></dt><dd>Phyllis Stabeno</dd><dt><span>principal_investigator_email :</span></dt><dd>phyllis.stabeno (at) noaa.gov</dd><dt><span>creator_name :</span></dt><dd>Shaun Bell</dd><dt><span>creator_email :</span></dt><dd>shaun.bell (at) noaa.gov</dd><dt><span>creator_institution :</span></dt><dd>PMEL</dd><dt><span>keywords :</span></dt><dd>Mooring, Oceanographic</dd><dt><span>comment :</span></dt><dd>Provisional data</dd><dt><span>sea_area :</span></dt><dd>Bering Sea (BS)</dd><dt><span>featureType :</span></dt><dd>timeSeries</dd><dt><span>conventions :</span></dt><dd>”CF-1.6, ~OceanSITES-1.5, ACDD-1.2”</dd><dt><span>license :</span></dt><dd></dd><dt><span>references :</span></dt><dd></dd><dt><span>citation :</span></dt><dd></dd><dt><span>acknowledgement :</span></dt><dd></dd><dt><span>InstrumentSerialNumber :</span></dt><dd>4740</dd><dt><span>InstrumentType :</span></dt><dd>SBE-56</dd><dt><span>date_created :</span></dt><dd>2024-09-25T08:03:42Z</dd><dt><span>date_modified :</span></dt><dd></dd><dt><span>QC_indicator :</span></dt><dd>unknown</dd><dt><span>history :</span></dt><dd>Trimmed to deployment.\n",
       "Trimmed to deployment.</dd></dl></div></li></ul></div></div>"
      ],
      "text/plain": [
       "<xarray.Dataset>\n",
       "Dimensions:      (time: 698138, depth: 1, latitude: 1, longitude: 1)\n",
       "Coordinates:\n",
       "  * time         (time) datetime64[ns] 2021-05-08T20:53:00 ... 2022-09-05T16:...\n",
       "  * latitude     (latitude) float64 57.87\n",
       "  * longitude    (longitude) float64 -168.9\n",
       "  * depth        (depth) float64 21.0\n",
       "Data variables:\n",
       "    temperature  (time, depth, latitude, longitude) float64 1.365 ... 8.004\n",
       "Attributes: (12/33)\n",
       "    Latitude_DegMMddW:                      57 51.99 N\n",
       "    Longitude_DegMMddN:                     168 52.83 W\n",
       "    MooringID:                              21BS-4A\n",
       "    platform_deployment_date:               2021-05-08T20:53:00Z\n",
       "    platform_deployment_cruise_name:        DY2103\n",
       "    platform_recovery_date:                 2022-09-05T16:30:00Z\n",
       "    ...                                     ...\n",
       "    InstrumentSerialNumber:                 4740\n",
       "    InstrumentType:                         SBE-56\n",
       "    date_created:                           2024-09-25T08:03:42Z\n",
       "    date_modified:                          \n",
       "    QC_indicator:                           unknown\n",
       "    history:                                Trimmed to deployment.\\nTrimmed t..."
      ]
     },
     "execution_count": 19,
     "metadata": {},
     "output_type": "execute_result"
    }
   ],
   "source": [
    "sbe56_wop_nc.autotrim_time()"
   ]
  },
  {
   "cell_type": "code",
   "execution_count": 21,
   "id": "44b59a12-c51b-41e2-ba48-13b5a904dbaf",
   "metadata": {
    "tags": []
   },
   "outputs": [
    {
     "data": {
      "text/plain": [
       "<Figure size 640x480 with 0 Axes>"
      ]
     },
     "metadata": {},
     "output_type": "display_data"
    },
    {
     "data": {
      "image/png": "[encoded data removed]",
      "text/plain": [
       "<Figure size 1600x200 with 1 Axes>"
      ]
     },
     "metadata": {},
     "output_type": "display_data"
    }
   ],
   "source": [
    "#wrap the plot in image settings for visual appeal\n",
    "# may be able to make this cleaner or just a preset\n",
    "# copy is in the notebook examples\n",
    "%run '../../../settings/mpl_plot_settings.py'\n",
    "\n",
    "%matplotlib inline\n",
    "import matplotlib.dates as mdates\n",
    "from matplotlib.dates import YearLocator, WeekdayLocator, MonthLocator, DayLocator, HourLocator, DateFormatter\n",
    "import matplotlib.ticker as ticker\n",
    "\n",
    "fig, ax = plt.subplots(1,figsize=(16, 2))\n",
    "sbe56_wop_nc.autotrim_time().temperature.plot(ax=ax,color='r')\n",
    "\n",
    "ax.xaxis.set_major_locator(DayLocator(bymonthday=1))\n",
    "ax.xaxis.set_minor_locator(DayLocator(bymonthday=15))\n",
    "ax.xaxis.set_minor_formatter(DateFormatter('%b %Y'))\n",
    "ax.xaxis.set_major_formatter(DateFormatter(''))\n",
    "ax.xaxis.set_tick_params(which='major', pad=3)\n",
    "ax.xaxis.set_tick_params(which='minor', pad=5)"
   ]
  },
  {
   "cell_type": "code",
   "execution_count": 22,
   "id": "751adb19-f35d-46da-acc6-940d804f3f26",
   "metadata": {
    "tags": []
   },
   "outputs": [],
   "source": [
    "#csvoutput if necessary\n",
    "(sbe56_wop_nc.get_xdf().to_dataframe()).to_csv(filename.replace('nc','csv'))"
   ]
  },
  {
   "cell_type": "markdown",
   "id": "individual-nature",
   "metadata": {},
   "source": [
    "## Next Steps\n",
    "\n",
    "QC of data (plot parameters with other instruments)\n",
    "- be sure to updated the qc_status and the history"
   ]
  },
  {
   "cell_type": "markdown",
   "id": "e1bca153-e4b7-40d2-b82c-baf60f0f14dc",
   "metadata": {},
   "source": [
    "## QC plotting against CTDs (here or in a seperate ipynb)"
   ]
  },
  {
   "cell_type": "code",
   "execution_count": 33,
   "id": "6c227676-d4bc-404c-a97f-76c04ba66a13",
   "metadata": {
    "tags": []
   },
   "outputs": [],
   "source": [
    "import matplotlib.pyplot as plt\n",
    "import pandas as pd\n",
    "import EcoFOCIpy.io.erddap as erddap\n",
    "import datetime\n",
    "\n",
    "url = \"http://ecofoci-field.pmel.noaa.gov:8080/erddap\"\n",
    "\n",
    "# erddap.test_erddap_connection(url=url) #basic test for connection to internal server, no response is a good thing"
   ]
  },
  {
   "cell_type": "code",
   "execution_count": 28,
   "id": "5278de98-5ffa-4506-a313-8154f3ab137f",
   "metadata": {
    "tags": []
   },
   "outputs": [],
   "source": [
    "depcast = erddap.erddapCTDretrieve(url=url,cruiseid='dy2103',qclevel='final',concastno='027')\n",
    "reccast = erddap.erddapCTDretrieve(url=url,cruiseid='dy2206',qclevel='final',concastno='022')"
   ]
  },
  {
   "cell_type": "markdown",
   "id": "b50b9c10-9deb-4c73-bbe9-f18dc9a29748",
   "metadata": {},
   "source": [
    "some variable names switch between preliminary and final... this will eventually be resolved"
   ]
  },
  {
   "cell_type": "code",
   "execution_count": 30,
   "id": "aa27329e-9e9c-4cb5-b2ae-ca18c3d83a78",
   "metadata": {},
   "outputs": [],
   "source": [
    "depcast.columns = [x.split()[0] for x in depcast.columns]\n",
    "reccast.columns = [x.split()[0] for x in reccast.columns]"
   ]
  },
  {
   "cell_type": "code",
   "execution_count": 31,
   "id": "5418d87c-2b69-4ed3-a9ba-d0f622fa2050",
   "metadata": {
    "tags": []
   },
   "outputs": [
    {
     "data": {
      "image/png": "[encoded data removed]",
      "text/plain": [
       "<Figure size 1600x200 with 1 Axes>"
      ]
     },
     "metadata": {},
     "output_type": "display_data"
    }
   ],
   "source": [
    "#plot ctd values with a small circular radius and zoom in on near their equivalent mooring time span, we are looking for visual discrepencies\n",
    "#cycle through each depth and plot respective plot\n",
    "depth = int(mooring_config['Instrumentation'][instrument]['ActualDepth'])\n",
    "\n",
    "fig, ax = plt.subplots(1,figsize=(16, 2))\n",
    "sbe56_wop_nc.autotrim_time().temperature.plot(x=\"time\",hue=\"depth\",ax=ax, add_legend=False);\n",
    "ax.plot(pd.to_datetime(reccast[reccast['pressure'] == depth]['time']),\n",
    "        reccast[reccast['pressure'] == depth]['temperature_ch1'],\n",
    "        'o',markersize=20,markerfacecolor='none',markeredgecolor='red')\n",
    "ax.plot(pd.to_datetime(reccast[reccast['pressure'] == depth]['time']),\n",
    "        reccast[reccast['pressure'] == depth]['temperature_ch1'],\n",
    "        '+',markersize=10,markerfacecolor='none',markeredgecolor='red')\n",
    "ax.plot(pd.to_datetime(depcast[depcast['pressure'] == depth]['time']),\n",
    "        depcast[depcast['pressure'] == depth]['temperature_ch1'],\n",
    "        'o',markersize=20,markerfacecolor='none',markeredgecolor='red')\n",
    "ax.plot(pd.to_datetime(depcast[depcast['pressure'] == depth]['time']),\n",
    "        depcast[depcast['pressure'] == depth]['temperature_ch1'],\n",
    "        '+',markersize=10,markerfacecolor='none',markeredgecolor='red')\n",
    "\n",
    "fig.savefig(f\"images/{filename.replace('nc','_tempCal.png')}\")"
   ]
  },
  {
   "cell_type": "code",
   "execution_count": 34,
   "id": "insured-vulnerability",
   "metadata": {},
   "outputs": [
    {
     "name": "stdout",
     "output_type": "stream",
     "text": [
      "Deployment\n",
      "T0: [1.3534] [1.3819]\n",
      "T1: [1.3534] [1.3821]\n",
      "Recovery\n",
      "T0: [-0.1062] [-0.0968]\n",
      "T1: [-0.1062] [-0.0973]\n"
     ]
    }
   ],
   "source": [
    "#print collocated cast comparison\n",
    "mooring = sbe56_wop_nc.autotrim_time().sel(time=datetime.datetime.strptime(depcast['time'].unique()[0],\n",
    "                                                                 '%Y-%m-%dT%H:%M:%SZ'),\n",
    "                                 method='nearest')\n",
    "print('Deployment')\n",
    "print('T0:',mooring.temperature.values[0][0],depcast[depcast['pressure'] == depth]['temperature_ch1'].values)\n",
    "print('T1:',mooring.temperature.values[0][0],depcast[depcast['pressure'] == depth]['temperature_ch2'].values)\n",
    "\n",
    "mooring = sbe56_wop_nc.autotrim_time().sel(time=datetime.datetime.strptime(reccast['time'].unique()[0],\n",
    "                                                                 '%Y-%m-%dT%H:%M:%SZ'),\n",
    "                                 method='nearest')\n",
    "print('Recovery')\n",
    "print('T0:',mooring.temperature.values[0][0],reccast[reccast['pressure'] == depth]['temperature_ch1'].values)\n",
    "print('T1:',mooring.temperature.values[0][0],reccast[reccast['pressure'] == depth]['temperature_ch2'].values)\n"
   ]
  },
  {
   "cell_type": "code",
   "execution_count": null,
   "id": "0dc1b2d1-db79-41f9-a8f9-3202b8855844",
   "metadata": {},
   "outputs": [],
   "source": []
  }
 ],
 "metadata": {
  "kernelspec": {
   "display_name": "Python [conda env:p312]",
   "language": "python",
   "name": "conda-env-p312-py"
  },
  "language_info": {
   "codemirror_mode": {
    "name": "ipython",
    "version": 3
   },
   "file_extension": ".py",
   "mimetype": "text/x-python",
   "name": "python",
   "nbconvert_exporter": "python",
   "pygments_lexer": "ipython3",
   "version": "3.12.1"
  }
 },
 "nbformat": 4,
 "nbformat_minor": 5
}
