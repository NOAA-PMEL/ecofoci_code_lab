{
 "cells": [
  {
   "cell_type": "markdown",
   "id": "educational-chosen",
   "metadata": {},
   "source": [
    "# Using EcoFOCIpy to process raw field data\n",
    "\n",
    "## Mooring / Timeseries Data\n",
    "\n",
    "Basic workflow for each instrument grouping is *(initial archive level)*:\n",
    "- Parse data from raw files into pandas dataframe\n",
    "- output initial files (pandas->csv) **ERDDAP NRT** when no meta data is added\n",
    "\n",
    "Convert to xarray dataframe for all following work *(working or final data level):\n",
    "- TODO: Add metadata from instrument yaml files and/or header info\n",
    "- ingest metadata from deployment/recovery records or cast logs\n",
    "- process data beyond simple file translate\n",
    "- apply any calibrations or corrections\n",
    "    + field corrections\n",
    "    + offsets\n",
    "    + instrument compensations\n",
    "    + some QC were available... this would be old-school simple bounds mostly\n",
    "- adjust time bounds and sample frequency (xarray dataframe)\n",
    "- save as CF netcdf via xarray: so many of the steps above are optional\n",
    "    + **ERDDAP NRT** if no corrections, offsets or time bounds are applied but some meta data is\n",
    "    + **Working and awaiting QC** has no ERDDAP representation and is a holding spot\n",
    "    + **ERDDAP Final** fully calibrated, qc'd and populated with meta information\n",
    "\n",
    "Plot for preview and QC\n",
    "- preview images (indiv and/or collectively)\n",
    "- manual qc process\n",
    "- automated qc process ML/AI\n",
    "\n",
    "Further refinenments for ERDDAP hosting:\n"
   ]
  },
  {
   "cell_type": "markdown",
   "id": "allied-miniature",
   "metadata": {},
   "source": [
    "## Example below is for SUNA but the workflow is similar for all instruments.\n",
    "\n",
    "Future processing of this instrument can be a simplified (no markdown) process which can be archived so that the procedure can be traced or updated"
   ]
  },
  {
   "cell_type": "code",
   "execution_count": 86,
   "id": "studied-pollution",
   "metadata": {},
   "outputs": [],
   "source": [
    "%matplotlib inline\n",
    "import matplotlib.pyplot as plt\n",
    "import yaml\n",
    "\n",
    "import ecofocipy.io.prooceanus_parser as prooceanus_parser #<- instrument specific\n",
    "import ecofocipy.io.ncCFsave as ncCFsave\n",
    "import ecofocipy.metaconfig.load_config as load_config"
   ]
  },
  {
   "cell_type": "markdown",
   "id": "public-millennium",
   "metadata": {},
   "source": [
    "The sample_data_dir should be included in the github package but may not be included in the pip install of the package\n",
    "\n",
    "## Simple Processing - first step"
   ]
  },
  {
   "cell_type": "code",
   "execution_count": 87,
   "id": "offensive-level",
   "metadata": {},
   "outputs": [],
   "source": [
    "sample_data_dir = '/Users/bell/Programs/EcoFOCIpy/'\n",
    "user_data_dir = '/Users/bell/ecoraid/2021/Moorings/21bsm2a/'"
   ]
  },
  {
   "cell_type": "code",
   "execution_count": 88,
   "id": "third-yellow",
   "metadata": {},
   "outputs": [
    {
     "name": "stderr",
     "output_type": "stream",
     "text": [
      "/Users/bell/Programs/EcoFOCIpy/src/ecofocipy/io/prooceanus_parser.py:52: ParserWarning: Falling back to the 'python' engine because the 'c' engine does not support skipfooter; you can avoid this warning by specifying engine='python'.\n",
      "  rawdata_df = pd.read_csv(filename,\n"
     ]
    }
   ],
   "source": [
    "###############################################################\n",
    "# edit to point to {instrument sepcific} raw datafile \n",
    "datafile = user_data_dir+'raw/tdgp/21bsm2a_tdgp_40-750-33_6m.txt'\n",
    "instrument = 'TDGP 40-750-33'\n",
    "mooring_meta_file = user_data_dir+'logs/21BSM-2A.yaml'\n",
    "inst_meta_file = sample_data_dir+'staticdata/instr_metaconfig/tdgp_cf.yaml'\n",
    "institution_meta_file = sample_data_dir+'staticdata/institutional_meta_example.yaml' #include uaf?\n",
    "inst_shortname = 'tdgp'\n",
    "###############################################################\n",
    "\n",
    "#init and load data\n",
    "(tdgp_wop_data,tdgp_wop_header) = prooceanus_parser.tdgp().parse(datafile, datetime_index=True)"
   ]
  },
  {
   "cell_type": "code",
   "execution_count": 89,
   "id": "alive-bruce",
   "metadata": {},
   "outputs": [
    {
     "data": {
      "text/plain": [
       "['TD Pro)*****************************************\\n',\n",
       " '                                  Oceanus Logger Main Menu\\n',\n",
       " '                                      FW Version 1.1.18\\n',\n",
       " '                                       Pro Oceanus Inc.\\n',\n",
       " '\\n',\n",
       " 'Date: 2022/02/14 Time: 17:59:46\\n',\n",
       " '\\n',\n",
       " 'System status:\\n',\n",
       " 'Detector ORT = 81.47 hours, Supply voltage = 6.3 volts, Mode = timed\\n',\n",
       " '***********************************************************************************************\\n',\n",
       " 'realtime: 214335\\n',\n",
       " 'instime: 214457\\n',\n",
       " '\\n',\n",
       " 'File Contents:\\n',\n",
       " 'Measurement type,Year,Month,Day,Hour,Minute,Second,Pressure sensor temperature,Pressure (mbar),Supply Voltage\\n']"
      ]
     },
     "execution_count": 89,
     "metadata": {},
     "output_type": "execute_result"
    }
   ],
   "source": [
    "tdgp_wop_header"
   ]
  },
  {
   "cell_type": "code",
   "execution_count": 90,
   "id": "fifteen-military",
   "metadata": {},
   "outputs": [
    {
     "data": {
      "text/html": [
       "<div>\n",
       "<style scoped>\n",
       "    .dataframe tbody tr th:only-of-type {\n",
       "        vertical-align: middle;\n",
       "    }\n",
       "\n",
       "    .dataframe tbody tr th {\n",
       "        vertical-align: top;\n",
       "    }\n",
       "\n",
       "    .dataframe thead th {\n",
       "        text-align: right;\n",
       "    }\n",
       "</style>\n",
       "<table border=\"1\" class=\"dataframe\">\n",
       "  <thead>\n",
       "    <tr style=\"text-align: right;\">\n",
       "      <th></th>\n",
       "      <th>Measurement type</th>\n",
       "      <th>Pressure sensor temperature</th>\n",
       "      <th>Pressure (mbar)</th>\n",
       "      <th>Supply Voltage</th>\n",
       "    </tr>\n",
       "    <tr>\n",
       "      <th>date_time</th>\n",
       "      <th></th>\n",
       "      <th></th>\n",
       "      <th></th>\n",
       "      <th></th>\n",
       "    </tr>\n",
       "  </thead>\n",
       "  <tbody>\n",
       "    <tr>\n",
       "      <th>2021-05-05 18:44:59</th>\n",
       "      <td>P</td>\n",
       "      <td>4.35</td>\n",
       "      <td>1017.76</td>\n",
       "      <td>6.7</td>\n",
       "    </tr>\n",
       "    <tr>\n",
       "      <th>2021-05-05 18:45:00</th>\n",
       "      <td>P</td>\n",
       "      <td>4.35</td>\n",
       "      <td>1017.65</td>\n",
       "      <td>6.7</td>\n",
       "    </tr>\n",
       "    <tr>\n",
       "      <th>2021-05-05 18:45:01</th>\n",
       "      <td>P</td>\n",
       "      <td>4.35</td>\n",
       "      <td>1017.70</td>\n",
       "      <td>6.7</td>\n",
       "    </tr>\n",
       "    <tr>\n",
       "      <th>2021-05-05 18:45:02</th>\n",
       "      <td>P</td>\n",
       "      <td>4.34</td>\n",
       "      <td>1017.69</td>\n",
       "      <td>6.7</td>\n",
       "    </tr>\n",
       "    <tr>\n",
       "      <th>2021-05-05 18:45:03</th>\n",
       "      <td>P</td>\n",
       "      <td>4.35</td>\n",
       "      <td>1017.73</td>\n",
       "      <td>6.7</td>\n",
       "    </tr>\n",
       "    <tr>\n",
       "      <th>...</th>\n",
       "      <td>...</td>\n",
       "      <td>...</td>\n",
       "      <td>...</td>\n",
       "      <td>...</td>\n",
       "    </tr>\n",
       "    <tr>\n",
       "      <th>2022-02-14 17:45:00</th>\n",
       "      <td>P</td>\n",
       "      <td>17.61</td>\n",
       "      <td>1013.26</td>\n",
       "      <td>6.3</td>\n",
       "    </tr>\n",
       "    <tr>\n",
       "      <th>2022-02-14 17:45:01</th>\n",
       "      <td>P</td>\n",
       "      <td>17.61</td>\n",
       "      <td>1013.27</td>\n",
       "      <td>6.3</td>\n",
       "    </tr>\n",
       "    <tr>\n",
       "      <th>2022-02-14 17:45:02</th>\n",
       "      <td>P</td>\n",
       "      <td>17.62</td>\n",
       "      <td>1013.30</td>\n",
       "      <td>6.3</td>\n",
       "    </tr>\n",
       "    <tr>\n",
       "      <th>2022-02-14 17:45:03</th>\n",
       "      <td>P</td>\n",
       "      <td>17.61</td>\n",
       "      <td>1013.27</td>\n",
       "      <td>6.2</td>\n",
       "    </tr>\n",
       "    <tr>\n",
       "      <th>2022-02-14 17:45:04</th>\n",
       "      <td>P</td>\n",
       "      <td>17.61</td>\n",
       "      <td>1013.25</td>\n",
       "      <td>6.2</td>\n",
       "    </tr>\n",
       "  </tbody>\n",
       "</table>\n",
       "<p>273566 rows × 4 columns</p>\n",
       "</div>"
      ],
      "text/plain": [
       "                    Measurement type  Pressure sensor temperature  \\\n",
       "date_time                                                           \n",
       "2021-05-05 18:44:59                P                         4.35   \n",
       "2021-05-05 18:45:00                P                         4.35   \n",
       "2021-05-05 18:45:01                P                         4.35   \n",
       "2021-05-05 18:45:02                P                         4.34   \n",
       "2021-05-05 18:45:03                P                         4.35   \n",
       "...                              ...                          ...   \n",
       "2022-02-14 17:45:00                P                        17.61   \n",
       "2022-02-14 17:45:01                P                        17.61   \n",
       "2022-02-14 17:45:02                P                        17.62   \n",
       "2022-02-14 17:45:03                P                        17.61   \n",
       "2022-02-14 17:45:04                P                        17.61   \n",
       "\n",
       "                     Pressure (mbar)  Supply Voltage  \n",
       "date_time                                             \n",
       "2021-05-05 18:44:59          1017.76             6.7  \n",
       "2021-05-05 18:45:00          1017.65             6.7  \n",
       "2021-05-05 18:45:01          1017.70             6.7  \n",
       "2021-05-05 18:45:02          1017.69             6.7  \n",
       "2021-05-05 18:45:03          1017.73             6.7  \n",
       "...                              ...             ...  \n",
       "2022-02-14 17:45:00          1013.26             6.3  \n",
       "2022-02-14 17:45:01          1013.27             6.3  \n",
       "2022-02-14 17:45:02          1013.30             6.3  \n",
       "2022-02-14 17:45:03          1013.27             6.2  \n",
       "2022-02-14 17:45:04          1013.25             6.2  \n",
       "\n",
       "[273566 rows x 4 columns]"
      ]
     },
     "execution_count": 90,
     "metadata": {},
     "output_type": "execute_result"
    }
   ],
   "source": [
    "tdgp_wop_data"
   ]
  },
  {
   "cell_type": "markdown",
   "id": "ready-audit",
   "metadata": {},
   "source": [
    "## Time properties\n",
    "\n",
    "Its unusual that our clocks drift to the point of concern for our instruments (if an instrument is off by 3 minutes but only sampling hourly... regridding that data will result in minimal changes).  However, there are a few time oriented modifications that may need to be made.\n",
    "\n",
    "The can be classified into two categories:\n",
    "+ interpolate: these change the parameter values in accordance with the time edits\n",
    "    - linear interpolation is most common\n",
    "    - averaging of data and rebinning/resampling is also common (this needs to have the \"time lable\" thought out...)\n",
    "    - decimating is less common but does not impact the max/min values\n",
    "+ shift: these do not alter the measurements, just the timestamps they are associated with\n",
    "    - the round function will work well to correct small time errors/drifts **common**\n",
    "    - dropping extra precision on time (if you want hourly measurements, just remove all minute/second info... could cause large errors if rounding would have been more appropriate)"
   ]
  },
  {
   "cell_type": "markdown",
   "id": "supposed-bankruptcy",
   "metadata": {},
   "source": [
    "It is very easy to use pandas interplation and resample methods on the dataframe as is.  A few steps are suggested below:\n",
    "- parse out on-deck (predeployment and recovery) data.  This can be done via pandas or xarray but requires the mooring metadata to have been read in.  See future steps below.\n",
    "- even if the sample frequency is set to the desired measurement frequency, it would be good to perform a quick regridding as an assurance task\n",
    "- FOCI data is usualy 1min, 10min, 1hr - and the 1min data is a fairly new (sbe56) data stream\n",
    "    + subsampling high frequency data to lower frequency is easy via df.resample().mean() but it will label the new datapoint per default instructions.  The default is to label it with the left boundary of the bin.\n",
    "    + you may want to take the median instead of the mean for noisy data (fluorometer) , occasionally decimating may be more appropriate if you want to downsize the dataset size but not smear features\n",
    "    + shifting times can be a bit more involved.  There are two primary ways to do it, interpolate or shift (round)\n",
    "        - to interpolate, you will need to upsample your data to a higher frequency which will generate missing values, then interpolate (with a maximum gap size), then decimate.  This always has the artifact of smoothing data and decreasing the min/max values. **common on microcats and other 10min datasets**\n",
    "        - shifting usually just involves droping extra time \"digits\", if you want hourly, you could just drop the trailing minutes assuming you are just off the hour (8:05 -> 8:00) or you can round to the nearest time unit but niether of these changes the data value, just the time associated with it. **common on seacats and other hourly datasets**\n",
    "        - you may also be able to *shift* using the pandas datetime round function and specifing the desired frequency.\n",
    "    + I suggest if no change is needed... df.index.round(freq=*'your native sample freq'*)\n",
    "    "
   ]
  },
  {
   "cell_type": "markdown",
   "id": "508c1c7d-3b82-4320-9c66-33ac95b48e42",
   "metadata": {},
   "source": [
    "<div class=\"alert alert-warning\">\n",
    "  <strong>Sample time for this instrument is burst style - like Eco's.</strong>\n",
    "</div>"
   ]
  },
  {
   "cell_type": "markdown",
   "id": "8a52179e-4190-4e41-8721-89bdb8432ea7",
   "metadata": {},
   "source": [
    "### Special note for TDGP times\n",
    "\n",
    "and we do burst measurements with them.  So take a median sample value with reported max/min or std_dev of each burst (to minimize variablity)"
   ]
  },
  {
   "cell_type": "code",
   "execution_count": 91,
   "id": "664a5728-f34c-43a1-995b-1a02a8f51389",
   "metadata": {},
   "outputs": [
    {
     "name": "stderr",
     "output_type": "stream",
     "text": [
      "/var/folders/vv/blq095kj0xj9nz1v0ffdwfch0000gp/T/ipykernel_60508/745843219.py:7: FutureWarning: The default value of numeric_only in DataFrameGroupBy.median is deprecated. In a future version, numeric_only will default to False. Either specify numeric_only or select only columns which should be valid for the function.\n",
      "  tdgp_wop_data = tdgp_wop_data.resample('2T').median().interpolate()\n"
     ]
    },
    {
     "data": {
      "text/html": [
       "<div>\n",
       "<style scoped>\n",
       "    .dataframe tbody tr th:only-of-type {\n",
       "        vertical-align: middle;\n",
       "    }\n",
       "\n",
       "    .dataframe tbody tr th {\n",
       "        vertical-align: top;\n",
       "    }\n",
       "\n",
       "    .dataframe thead th {\n",
       "        text-align: right;\n",
       "    }\n",
       "</style>\n",
       "<table border=\"1\" class=\"dataframe\">\n",
       "  <thead>\n",
       "    <tr style=\"text-align: right;\">\n",
       "      <th></th>\n",
       "      <th>Pressure sensor temperature</th>\n",
       "      <th>Pressure (mbar)</th>\n",
       "      <th>Supply Voltage</th>\n",
       "    </tr>\n",
       "    <tr>\n",
       "      <th>date_time</th>\n",
       "      <th></th>\n",
       "      <th></th>\n",
       "      <th></th>\n",
       "    </tr>\n",
       "  </thead>\n",
       "  <tbody>\n",
       "    <tr>\n",
       "      <th>2021-05-05 19:00:00</th>\n",
       "      <td>4.07</td>\n",
       "      <td>1018.30</td>\n",
       "      <td>6.7</td>\n",
       "    </tr>\n",
       "    <tr>\n",
       "      <th>2021-05-05 20:00:00</th>\n",
       "      <td>5.08</td>\n",
       "      <td>1018.79</td>\n",
       "      <td>6.7</td>\n",
       "    </tr>\n",
       "    <tr>\n",
       "      <th>2021-05-05 21:00:00</th>\n",
       "      <td>8.20</td>\n",
       "      <td>1016.51</td>\n",
       "      <td>6.7</td>\n",
       "    </tr>\n",
       "    <tr>\n",
       "      <th>2021-05-05 22:00:00</th>\n",
       "      <td>2.59</td>\n",
       "      <td>1061.84</td>\n",
       "      <td>6.7</td>\n",
       "    </tr>\n",
       "    <tr>\n",
       "      <th>2021-05-05 23:00:00</th>\n",
       "      <td>2.52</td>\n",
       "      <td>1032.50</td>\n",
       "      <td>6.7</td>\n",
       "    </tr>\n",
       "    <tr>\n",
       "      <th>...</th>\n",
       "      <td>...</td>\n",
       "      <td>...</td>\n",
       "      <td>...</td>\n",
       "    </tr>\n",
       "    <tr>\n",
       "      <th>2022-02-14 13:00:00</th>\n",
       "      <td>17.16</td>\n",
       "      <td>1014.03</td>\n",
       "      <td>6.3</td>\n",
       "    </tr>\n",
       "    <tr>\n",
       "      <th>2022-02-14 14:00:00</th>\n",
       "      <td>17.18</td>\n",
       "      <td>1013.45</td>\n",
       "      <td>6.2</td>\n",
       "    </tr>\n",
       "    <tr>\n",
       "      <th>2022-02-14 15:00:00</th>\n",
       "      <td>17.22</td>\n",
       "      <td>1012.65</td>\n",
       "      <td>6.3</td>\n",
       "    </tr>\n",
       "    <tr>\n",
       "      <th>2022-02-14 16:00:00</th>\n",
       "      <td>17.25</td>\n",
       "      <td>1012.03</td>\n",
       "      <td>6.2</td>\n",
       "    </tr>\n",
       "    <tr>\n",
       "      <th>2022-02-14 17:00:00</th>\n",
       "      <td>17.28</td>\n",
       "      <td>1012.44</td>\n",
       "      <td>6.3</td>\n",
       "    </tr>\n",
       "  </tbody>\n",
       "</table>\n",
       "<p>6839 rows × 3 columns</p>\n",
       "</div>"
      ],
      "text/plain": [
       "                     Pressure sensor temperature  Pressure (mbar)  \\\n",
       "date_time                                                           \n",
       "2021-05-05 19:00:00                         4.07          1018.30   \n",
       "2021-05-05 20:00:00                         5.08          1018.79   \n",
       "2021-05-05 21:00:00                         8.20          1016.51   \n",
       "2021-05-05 22:00:00                         2.59          1061.84   \n",
       "2021-05-05 23:00:00                         2.52          1032.50   \n",
       "...                                          ...              ...   \n",
       "2022-02-14 13:00:00                        17.16          1014.03   \n",
       "2022-02-14 14:00:00                        17.18          1013.45   \n",
       "2022-02-14 15:00:00                        17.22          1012.65   \n",
       "2022-02-14 16:00:00                        17.25          1012.03   \n",
       "2022-02-14 17:00:00                        17.28          1012.44   \n",
       "\n",
       "                     Supply Voltage  \n",
       "date_time                            \n",
       "2021-05-05 19:00:00             6.7  \n",
       "2021-05-05 20:00:00             6.7  \n",
       "2021-05-05 21:00:00             6.7  \n",
       "2021-05-05 22:00:00             6.7  \n",
       "2021-05-05 23:00:00             6.7  \n",
       "...                             ...  \n",
       "2022-02-14 13:00:00             6.3  \n",
       "2022-02-14 14:00:00             6.2  \n",
       "2022-02-14 15:00:00             6.3  \n",
       "2022-02-14 16:00:00             6.2  \n",
       "2022-02-14 17:00:00             6.3  \n",
       "\n",
       "[6839 rows x 3 columns]"
      ]
     },
     "execution_count": 91,
     "metadata": {},
     "output_type": "execute_result"
    }
   ],
   "source": [
    "#the smaller you resample, the closer to the \"minute\" you will be, data is taken over 10seconds every hour\n",
    "# so by resampling over a two minute period, you should get a single data point of relevance and linearly interpolated values in all other 2min bins\n",
    "# tehn you can determin if you round or interpolate or truncate\n",
    "\n",
    "# offset here is 2min... lets just decimate by choosing the hourly data (which has been somewhat linearly interpolated already)\n",
    "\n",
    "tdgp_wop_data = tdgp_wop_data.resample('2T').median().interpolate()\n",
    "tdgp_wop_data=tdgp_wop_data[tdgp_wop_data.index.minute==0]\n",
    "\n",
    "tdgp_wop_data"
   ]
  },
  {
   "cell_type": "code",
   "execution_count": 92,
   "id": "15fa515b-426c-4896-ae14-0d77e4eb6f2a",
   "metadata": {},
   "outputs": [
    {
     "data": {
      "text/html": [
       "<div>\n",
       "<style scoped>\n",
       "    .dataframe tbody tr th:only-of-type {\n",
       "        vertical-align: middle;\n",
       "    }\n",
       "\n",
       "    .dataframe tbody tr th {\n",
       "        vertical-align: top;\n",
       "    }\n",
       "\n",
       "    .dataframe thead th {\n",
       "        text-align: right;\n",
       "    }\n",
       "</style>\n",
       "<table border=\"1\" class=\"dataframe\">\n",
       "  <thead>\n",
       "    <tr style=\"text-align: right;\">\n",
       "      <th></th>\n",
       "      <th>Pressure sensor temperature</th>\n",
       "      <th>Pressure (mbar)</th>\n",
       "      <th>Supply Voltage</th>\n",
       "    </tr>\n",
       "    <tr>\n",
       "      <th>date_time</th>\n",
       "      <th></th>\n",
       "      <th></th>\n",
       "      <th></th>\n",
       "    </tr>\n",
       "  </thead>\n",
       "  <tbody>\n",
       "    <tr>\n",
       "      <th>2021-05-05 19:00:00</th>\n",
       "      <td>4.07</td>\n",
       "      <td>1018.30</td>\n",
       "      <td>6.7</td>\n",
       "    </tr>\n",
       "    <tr>\n",
       "      <th>2021-05-05 20:00:00</th>\n",
       "      <td>5.08</td>\n",
       "      <td>1018.79</td>\n",
       "      <td>6.7</td>\n",
       "    </tr>\n",
       "    <tr>\n",
       "      <th>2021-05-05 21:00:00</th>\n",
       "      <td>8.20</td>\n",
       "      <td>1016.51</td>\n",
       "      <td>6.7</td>\n",
       "    </tr>\n",
       "    <tr>\n",
       "      <th>2021-05-05 22:00:00</th>\n",
       "      <td>2.59</td>\n",
       "      <td>1061.84</td>\n",
       "      <td>6.7</td>\n",
       "    </tr>\n",
       "    <tr>\n",
       "      <th>2021-05-05 23:00:00</th>\n",
       "      <td>2.52</td>\n",
       "      <td>1032.50</td>\n",
       "      <td>6.7</td>\n",
       "    </tr>\n",
       "    <tr>\n",
       "      <th>...</th>\n",
       "      <td>...</td>\n",
       "      <td>...</td>\n",
       "      <td>...</td>\n",
       "    </tr>\n",
       "    <tr>\n",
       "      <th>2022-02-14 13:00:00</th>\n",
       "      <td>17.16</td>\n",
       "      <td>1014.03</td>\n",
       "      <td>6.3</td>\n",
       "    </tr>\n",
       "    <tr>\n",
       "      <th>2022-02-14 14:00:00</th>\n",
       "      <td>17.18</td>\n",
       "      <td>1013.45</td>\n",
       "      <td>6.2</td>\n",
       "    </tr>\n",
       "    <tr>\n",
       "      <th>2022-02-14 15:00:00</th>\n",
       "      <td>17.22</td>\n",
       "      <td>1012.65</td>\n",
       "      <td>6.3</td>\n",
       "    </tr>\n",
       "    <tr>\n",
       "      <th>2022-02-14 16:00:00</th>\n",
       "      <td>17.25</td>\n",
       "      <td>1012.03</td>\n",
       "      <td>6.2</td>\n",
       "    </tr>\n",
       "    <tr>\n",
       "      <th>2022-02-14 17:00:00</th>\n",
       "      <td>17.28</td>\n",
       "      <td>1012.44</td>\n",
       "      <td>6.3</td>\n",
       "    </tr>\n",
       "  </tbody>\n",
       "</table>\n",
       "<p>6839 rows × 3 columns</p>\n",
       "</div>"
      ],
      "text/plain": [
       "                     Pressure sensor temperature  Pressure (mbar)  \\\n",
       "date_time                                                           \n",
       "2021-05-05 19:00:00                         4.07          1018.30   \n",
       "2021-05-05 20:00:00                         5.08          1018.79   \n",
       "2021-05-05 21:00:00                         8.20          1016.51   \n",
       "2021-05-05 22:00:00                         2.59          1061.84   \n",
       "2021-05-05 23:00:00                         2.52          1032.50   \n",
       "...                                          ...              ...   \n",
       "2022-02-14 13:00:00                        17.16          1014.03   \n",
       "2022-02-14 14:00:00                        17.18          1013.45   \n",
       "2022-02-14 15:00:00                        17.22          1012.65   \n",
       "2022-02-14 16:00:00                        17.25          1012.03   \n",
       "2022-02-14 17:00:00                        17.28          1012.44   \n",
       "\n",
       "                     Supply Voltage  \n",
       "date_time                            \n",
       "2021-05-05 19:00:00             6.7  \n",
       "2021-05-05 20:00:00             6.7  \n",
       "2021-05-05 21:00:00             6.7  \n",
       "2021-05-05 22:00:00             6.7  \n",
       "2021-05-05 23:00:00             6.7  \n",
       "...                             ...  \n",
       "2022-02-14 13:00:00             6.3  \n",
       "2022-02-14 14:00:00             6.2  \n",
       "2022-02-14 15:00:00             6.3  \n",
       "2022-02-14 16:00:00             6.2  \n",
       "2022-02-14 17:00:00             6.3  \n",
       "\n",
       "[6839 rows x 3 columns]"
      ]
     },
     "execution_count": 92,
     "metadata": {},
     "output_type": "execute_result"
    }
   ],
   "source": [
    "tdgp_wop_data.index = tdgp_wop_data.index.round(freq='1H')\n",
    "tdgp_wop_data"
   ]
  },
  {
   "cell_type": "code",
   "execution_count": 93,
   "id": "1cbfdb66-3170-404f-ab77-38ca1f05bca7",
   "metadata": {},
   "outputs": [
    {
     "data": {
      "text/plain": [
       "<AxesSubplot: xlabel='date_time'>"
      ]
     },
     "execution_count": 93,
     "metadata": {},
     "output_type": "execute_result"
    },
    {
     "data": {
      "image/png": "[encoded data removed]",
      "text/plain": [
       "<Figure size 640x480 with 1 Axes>"
      ]
     },
     "metadata": {},
     "output_type": "display_data"
    }
   ],
   "source": [
    "tdgp_wop_data.plot()"
   ]
  },
  {
   "cell_type": "code",
   "execution_count": 98,
   "id": "undefined-membrane",
   "metadata": {},
   "outputs": [
    {
     "name": "stderr",
     "output_type": "stream",
     "text": [
      "/Users/bell/Programs/ECOFOCI_Processing_Archive/settings/mpl_plot_settings.py:10: MatplotlibDeprecationWarning: The seaborn styles shipped by Matplotlib are deprecated since 3.6, as they no longer correspond to the styles shipped by seaborn. However, they will remain available as 'seaborn-v0_8-<style>'. Alternatively, directly use the seaborn API instead.\n",
      "  plt.style.use('seaborn-ticks')\n"
     ]
    },
    {
     "data": {
      "text/plain": [
       "<AxesSubplot: xlabel='date_time'>"
      ]
     },
     "execution_count": 98,
     "metadata": {},
     "output_type": "execute_result"
    },
    {
     "data": {
      "image/png": "[encoded data removed]",
      "text/plain": [
       "<Figure size 1200x200 with 2 Axes>"
      ]
     },
     "metadata": {},
     "output_type": "display_data"
    }
   ],
   "source": [
    "#wrap the plot in image settings for visual appeal\n",
    "# may be able to make this cleaner or just a preset\n",
    "# copy is in the notebook examples\n",
    "%run '../../settings/mpl_plot_settings.py'\n",
    "\n",
    "%matplotlib inline\n",
    "import matplotlib.dates as mdates\n",
    "from matplotlib.dates import YearLocator, WeekdayLocator, MonthLocator, DayLocator, HourLocator, DateFormatter\n",
    "import matplotlib.ticker as ticker\n",
    "\n",
    "fig, ax = plt.subplots(2,figsize=(12, 2))\n",
    "tdgp_wop_data['Pressure sensor temperature'].plot(ax=ax[0])\n",
    "tdgp_wop_data['Pressure (mbar)'].plot(ax=ax[1])\n",
    "\n",
    "\n"
   ]
  },
  {
   "cell_type": "markdown",
   "id": "acknowledged-active",
   "metadata": {},
   "source": [
    "## Add Deployment meta information\n",
    "\n",
    "Two methods are available (if comming from python2 world - ordereddict was important... in py38 a dictionary is inherently ordered)"
   ]
  },
  {
   "cell_type": "code",
   "execution_count": 70,
   "id": "freelance-fairy",
   "metadata": {},
   "outputs": [],
   "source": [
    "#just a dictionary of dictionaries - simple\n",
    "with open(mooring_meta_file) as file:\n",
    "    mooring_config = yaml.full_load(file)"
   ]
  },
  {
   "cell_type": "code",
   "execution_count": 71,
   "id": "israeli-begin",
   "metadata": {},
   "outputs": [
    {
     "data": {
      "text/plain": [
       "{'InstType': 'TDGP',\n",
       " 'SerialNo': '40-750-33',\n",
       " 'DesignedDepth': 6.0,\n",
       " 'ActualDepth': 6.0,\n",
       " 'PreDeploymentNotes': 'Must Install Shorting Plug, Strapped to Seacat',\n",
       " 'PostDeploymentNotes': '',\n",
       " 'Deployed': 'y',\n",
       " 'Recovered': 'y'}"
      ]
     },
     "execution_count": 71,
     "metadata": {},
     "output_type": "execute_result"
    }
   ],
   "source": [
    "mooring_config['Instrumentation'][instrument]"
   ]
  },
  {
   "cell_type": "markdown",
   "id": "mysterious-cornwall",
   "metadata": {},
   "source": [
    "## Add Instrument meta information\n",
    "\n",
    "Time, depth, lat, lon should be added regardless (always our coordinates) but for a mooring site its going to be a (1,1,1,t) dataset\n",
    "The variables of interest should be read from the data file and matched to a key for naming.  That key is in the inst_config file seen below and should represent common conversion names in the raw data"
   ]
  },
  {
   "cell_type": "code",
   "execution_count": 72,
   "id": "eaf6684b-d431-48f4-aeb0-3835121f1a1d",
   "metadata": {},
   "outputs": [],
   "source": [
    "#just a dictionary of dictionaries - simple\n",
    "with open(institution_meta_file) as file:\n",
    "    institution_config = yaml.full_load(file)"
   ]
  },
  {
   "cell_type": "code",
   "execution_count": 73,
   "id": "checked-raise",
   "metadata": {
    "tags": []
   },
   "outputs": [
    {
     "data": {
      "text/plain": [
       "{'time': {'epic_key': 'TIM_601',\n",
       "  'name': 'time',\n",
       "  'generic_name': 'time',\n",
       "  'standard_name': 'time',\n",
       "  'long_name': 'date and time since reference time'},\n",
       " 'depth': {'epic_key': 'D_3',\n",
       "  'generic_name': 'depth',\n",
       "  'units': 'meter',\n",
       "  'long_name': 'depth below surface (meters)',\n",
       "  'standard_name': 'depth',\n",
       "  'positive': 'down'},\n",
       " 'latitude': {'epic_key': 'LON_501',\n",
       "  'name': 'latitude',\n",
       "  'generic_name': 'latitude',\n",
       "  'units': 'degrees_north',\n",
       "  'long_name': 'latitude',\n",
       "  'standard_name': 'latitude'},\n",
       " 'longitude': {'epic_key': 'LAT_500',\n",
       "  'name': 'longitude',\n",
       "  'generic_name': 'longitude',\n",
       "  'units': 'degrees_east',\n",
       "  'long_name': 'longitude',\n",
       "  'standard_name': 'longitude'},\n",
       " 'timeseries_id': {'cf_role': 'timeseries_id',\n",
       "  'long_name': 'timeseries id',\n",
       "  'standard_name': ''},\n",
       " 'temperature': {'epic_key': 'T_20',\n",
       "  'generic_name': 'sensor_temp',\n",
       "  'long_name': 'Sea temperature in-situ ITS-90 scale at pressure sensor',\n",
       "  'standard_name': 'sea_water_temperature',\n",
       "  'units': 'degree_C'},\n",
       " 'supply_voltage': {'epic_key': '',\n",
       "  'generic_name': 'supply_voltage',\n",
       "  'long_name': 'Instrument Supply Voltage',\n",
       "  'standard_name': '',\n",
       "  'units': 'Volts'},\n",
       " 'gas_pressure': {'epic_key': '',\n",
       "  'generic_name': 'gas_pressure',\n",
       "  'long_name': 'Total dissolved Gas Pressure',\n",
       "  'standard_name': 'total_dissolved_gas_pressure_in_sea_water',\n",
       "  'units': 'mbar'}}"
      ]
     },
     "execution_count": 73,
     "metadata": {},
     "output_type": "execute_result"
    }
   ],
   "source": [
    "with open(inst_meta_file) as file:\n",
    "    inst_config = yaml.full_load(file)\n",
    "inst_config"
   ]
  },
  {
   "cell_type": "code",
   "execution_count": 74,
   "id": "d7eae36b-18b3-461e-8612-517021402289",
   "metadata": {},
   "outputs": [
    {
     "data": {
      "text/html": [
       "<div>\n",
       "<style scoped>\n",
       "    .dataframe tbody tr th:only-of-type {\n",
       "        vertical-align: middle;\n",
       "    }\n",
       "\n",
       "    .dataframe tbody tr th {\n",
       "        vertical-align: top;\n",
       "    }\n",
       "\n",
       "    .dataframe thead th {\n",
       "        text-align: right;\n",
       "    }\n",
       "</style>\n",
       "<table border=\"1\" class=\"dataframe\">\n",
       "  <thead>\n",
       "    <tr style=\"text-align: right;\">\n",
       "      <th></th>\n",
       "      <th>temperature</th>\n",
       "      <th>gas_pressure</th>\n",
       "      <th>supply_voltage</th>\n",
       "    </tr>\n",
       "    <tr>\n",
       "      <th>date_time</th>\n",
       "      <th></th>\n",
       "      <th></th>\n",
       "      <th></th>\n",
       "    </tr>\n",
       "  </thead>\n",
       "  <tbody>\n",
       "    <tr>\n",
       "      <th>2022-01-17 08:00:00</th>\n",
       "      <td>0.74</td>\n",
       "      <td>1005.31</td>\n",
       "      <td>6.3</td>\n",
       "    </tr>\n",
       "  </tbody>\n",
       "</table>\n",
       "</div>"
      ],
      "text/plain": [
       "                     temperature  gas_pressure  supply_voltage\n",
       "date_time                                                     \n",
       "2022-01-17 08:00:00         0.74       1005.31             6.3"
      ]
     },
     "execution_count": 74,
     "metadata": {},
     "output_type": "execute_result"
    }
   ],
   "source": [
    "#sbe16 data uses header info to name variables... but we want standard names from the dictionary I've created, so we need to rename column variables appropriately\n",
    "#rename values to appropriate names, if a value isn't in the .yaml file, you can add it\n",
    "tdgp_wop_data = tdgp_wop_data.rename(columns={'Pressure sensor temperature':'temperature',\n",
    "                                              'Pressure (mbar)':'gas_pressure',\n",
    "                                              'Supply Voltage':'supply_voltage'\n",
    "                                             })\n",
    "tdgp_wop_data.sample()"
   ]
  },
  {
   "cell_type": "code",
   "execution_count": 75,
   "id": "varied-popularity",
   "metadata": {},
   "outputs": [
    {
     "data": {
      "text/plain": [
       "<ecofocipy.io.ncCFsave.EcoFOCI_CFnc at 0x10f2b44c0>"
      ]
     },
     "execution_count": 75,
     "metadata": {},
     "output_type": "execute_result"
    }
   ],
   "source": [
    "# Add meta data and prelim processing based on meta data\n",
    "# Convert to xarray and add meta information - save as CF netcdf file\n",
    "# pass -> data, instmeta, depmeta\n",
    "tdgp_wop_nc = ncCFsave.EcoFOCI_CFnc(df=tdgp_wop_data, \n",
    "                                instrument_yaml=inst_config, \n",
    "                                operation_yaml=mooring_config,\n",
    "                                operation_type='mooring', \n",
    "                                instrument_id=instrument, \n",
    "                                inst_shortname=inst_shortname)\n",
    "tdgp_wop_nc"
   ]
  },
  {
   "cell_type": "markdown",
   "id": "asian-chambers",
   "metadata": {},
   "source": [
    "At this point, you could save your file with the `.xarray2netcdf_save()` method and have a functioning dataset.... but it would be very simple with no additional qc, meta-data, or tuned parameters for optimizing software like ferret or erddap."
   ]
  },
  {
   "cell_type": "code",
   "execution_count": 76,
   "id": "practical-pennsylvania",
   "metadata": {},
   "outputs": [],
   "source": [
    "# expand the dimensions and coordinate variables\n",
    "# renames them appropriatley and prepares them for meta-filled values\n",
    "tdgp_wop_nc.expand_dimensions()"
   ]
  },
  {
   "cell_type": "code",
   "execution_count": 77,
   "id": "floral-operations",
   "metadata": {},
   "outputs": [],
   "source": [
    "tdgp_wop_nc.variable_meta_data(variable_keys=list(tdgp_wop_data.columns.values),drop_missing=True)\n",
    "tdgp_wop_nc.temporal_geospatioal_meta_data(depth='actual')\n",
    "#adding dimension meta needs to come after updating the dimension values... BUG?\n",
    "tdgp_wop_nc.dimension_meta_data(variable_keys=['depth','latitude','longitude'])"
   ]
  },
  {
   "cell_type": "markdown",
   "id": "seventh-product",
   "metadata": {},
   "source": [
    "The following steps can happen in just about any order and are all meta-data driven.  Therefore, they are not required to have a functioning dataset, but they are required to have a well described dataset"
   ]
  },
  {
   "cell_type": "code",
   "execution_count": 78,
   "id": "auburn-diversity",
   "metadata": {},
   "outputs": [],
   "source": [
    "#add global attributes\n",
    "tdgp_wop_nc.deployment_meta_add()\n",
    "tdgp_wop_nc.get_xdf()\n",
    "\n",
    "#add instituitonal global attributes\n",
    "tdgp_wop_nc.institution_meta_add(institution_yaml=institution_config)\n",
    "\n",
    "#add instrument global attributes\n",
    "tdgp_wop_nc.instrument_meta_data()\n",
    "\n",
    "#add creation date/time - provenance data\n",
    "tdgp_wop_nc.provinance_meta_add()\n",
    "\n",
    "#provide intial qc status field\n",
    "tdgp_wop_nc.qc_status(qc_status='unknown')\n"
   ]
  },
  {
   "cell_type": "markdown",
   "id": "sustained-hughes",
   "metadata": {},
   "source": [
    "## Save CF Netcdf files\n",
    "\n",
    "Currently stick to netcdf3 classic... but migrating to netcdf4 (default) may be no problems for most modern purposes.  Its easy enough to pass the `format` kwargs through to the netcdf api of xarray."
   ]
  },
  {
   "cell_type": "code",
   "execution_count": 79,
   "id": "modular-volunteer",
   "metadata": {},
   "outputs": [],
   "source": [
    "# combine trim (not mandatory) and filename together (saves to test.nc without name)\n",
    "\n",
    "depth = str(int(mooring_config['Instrumentation'][instrument]['ActualDepth'])).zfill(4)\n",
    "# mooring_yaml['Instrumentation'][self.instrument_id]['DesignedDepth'])).zfill(4) #<-- alternative\n",
    "filename = \"\".join(mooring_config['MooringID'].split('-')).lower()+'_'+inst_shortname+'_'+depth+'m.nc'\n",
    "tdgp_wop_nc.xarray2netcdf_save(xdf = tdgp_wop_nc.autotrim_time(),\n",
    "                           filename=filename,format=\"NETCDF3_CLASSIC\")\n",
    "\n",
    "# don't trim the data and pass your own filename\n",
    "# suna_wop_nc.xarray2netcdf_save(xdf = sbe56_wop_nc.get_xdf(),\n",
    "#                            filename=filename,format=\"NETCDF4_CLASSIC\")"
   ]
  },
  {
   "cell_type": "code",
   "execution_count": 80,
   "id": "44b59a12-c51b-41e2-ba48-13b5a904dbaf",
   "metadata": {},
   "outputs": [
    {
     "name": "stderr",
     "output_type": "stream",
     "text": [
      "/Users/bell/Programs/ECOFOCI_Processing_Archive/settings/mpl_plot_settings.py:10: MatplotlibDeprecationWarning: The seaborn styles shipped by Matplotlib are deprecated since 3.6, as they no longer correspond to the styles shipped by seaborn. However, they will remain available as 'seaborn-v0_8-<style>'. Alternatively, directly use the seaborn API instead.\n",
      "  plt.style.use('seaborn-ticks')\n"
     ]
    },
    {
     "data": {
      "image/png": "[encoded data removed]",
      "text/plain": [
       "<Figure size 1600x200 with 1 Axes>"
      ]
     },
     "metadata": {},
     "output_type": "display_data"
    }
   ],
   "source": [
    "#wrap the plot in image settings for visual appeal\n",
    "# may be able to make this cleaner or just a preset\n",
    "# copy is in the notebook examples\n",
    "%run '../../settings/mpl_plot_settings.py'\n",
    "\n",
    "%matplotlib inline\n",
    "import matplotlib.dates as mdates\n",
    "from matplotlib.dates import YearLocator, WeekdayLocator, MonthLocator, DayLocator, HourLocator, DateFormatter\n",
    "import matplotlib.ticker as ticker\n",
    "\n",
    "fig, ax = plt.subplots(1,figsize=(16, 2))\n",
    "tdgp_wop_nc.autotrim_time().gas_pressure.plot(ax=ax,color='r')\n",
    "\n",
    "ax.xaxis.set_major_locator(DayLocator(bymonthday=1))\n",
    "ax.xaxis.set_minor_locator(DayLocator(bymonthday=15))\n",
    "ax.xaxis.set_minor_formatter(DateFormatter('%b %Y'))\n",
    "ax.xaxis.set_major_formatter(DateFormatter(''))\n",
    "ax.xaxis.set_tick_params(which='major', pad=3)\n",
    "ax.xaxis.set_tick_params(which='minor', pad=5)"
   ]
  },
  {
   "cell_type": "code",
   "execution_count": 81,
   "id": "751adb19-f35d-46da-acc6-940d804f3f26",
   "metadata": {},
   "outputs": [],
   "source": [
    "#csvoutput if necessary\n",
    "(tdgp_wop_nc.get_xdf().to_dataframe()).to_csv(filename.replace('nc','csv'))"
   ]
  },
  {
   "cell_type": "markdown",
   "id": "individual-nature",
   "metadata": {},
   "source": [
    "## Next Steps\n",
    "\n",
    "QC of data (plot parameters with other instruments)\n",
    "- be sure to updated the qc_status and the history"
   ]
  },
  {
   "cell_type": "code",
   "execution_count": null,
   "id": "382eb635-d480-4257-85ac-42126692765f",
   "metadata": {},
   "outputs": [],
   "source": []
  }
 ],
 "metadata": {
  "kernelspec": {
   "display_name": "Python [conda env:miniconda3-py310]",
   "language": "python",
   "name": "conda-env-miniconda3-py310-py"
  },
  "language_info": {
   "codemirror_mode": {
    "name": "ipython",
    "version": 3
   },
   "file_extension": ".py",
   "mimetype": "text/x-python",
   "name": "python",
   "nbconvert_exporter": "python",
   "pygments_lexer": "ipython3",
   "version": "3.10.8"
  }
 },
 "nbformat": 4,
 "nbformat_minor": 5
}
