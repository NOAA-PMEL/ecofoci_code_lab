{
 "cells": [
  {
   "cell_type": "markdown",
   "id": "educational-chosen",
   "metadata": {},
   "source": [
    "# Using EcoFOCIpy to process raw field data\n",
    "\n",
    "## Modified Routines to Archive Manually QC'd SUNA data created by C. Mordy"
   ]
  },
  {
   "cell_type": "code",
   "execution_count": 41,
   "id": "studied-pollution",
   "metadata": {},
   "outputs": [],
   "source": [
    "%matplotlib inline\n",
    "import matplotlib.pyplot as plt\n",
    "import yaml\n",
    "import pandas as pd\n",
    "\n",
    "import EcoFOCIpy.io.ncCFsave as ncCFsave\n",
    "import EcoFOCIpy.metaconfig.load_config as load_config"
   ]
  },
  {
   "cell_type": "markdown",
   "id": "public-millennium",
   "metadata": {},
   "source": [
    "The sample_data_dir should be included in the github package but may not be included in the pip install of the package\n",
    "\n",
    "## Simple Processing - first step"
   ]
  },
  {
   "cell_type": "code",
   "execution_count": 42,
   "id": "offensive-level",
   "metadata": {},
   "outputs": [],
   "source": [
    "sample_data_dir = '/Users/bell/Programs/EcoFOCIpy/'\n",
    "user_data_dir = '/Users/bell/ecoraid/2021/Moorings/21bsm2a/'"
   ]
  },
  {
   "cell_type": "code",
   "execution_count": 43,
   "id": "third-yellow",
   "metadata": {},
   "outputs": [],
   "source": [
    "###############################################################\n",
    "# edit to point to {instrument sepcific} raw datafile \n",
    "datafile = user_data_dir+'working/Mordy_Working/21BSM2a_0024m Final SUNA.xlsx'\n",
    "instrument = 'SUNA 1471'\n",
    "mooring_meta_file = user_data_dir+'logs/21BSM-2A.yaml'\n",
    "inst_meta_file = sample_data_dir+'staticdata/instr_metaconfig/suna_cf.yaml'\n",
    "institution_meta_file = sample_data_dir+'staticdata/institutional_meta_example.yaml' #include uaf?\n",
    "inst_shortname = 'suna'\n",
    "###############################################################\n",
    "\n",
    "#init and load data\n",
    "suna_wop_data = pd.read_excel(datafile,index_col='Date Time')"
   ]
  },
  {
   "cell_type": "code",
   "execution_count": 44,
   "id": "alive-bruce",
   "metadata": {},
   "outputs": [
    {
     "data": {
      "text/html": [
       "<div>\n",
       "<style scoped>\n",
       "    .dataframe tbody tr th:only-of-type {\n",
       "        vertical-align: middle;\n",
       "    }\n",
       "\n",
       "    .dataframe tbody tr th {\n",
       "        vertical-align: top;\n",
       "    }\n",
       "\n",
       "    .dataframe thead th {\n",
       "        text-align: right;\n",
       "    }\n",
       "</style>\n",
       "<table border=\"1\" class=\"dataframe\">\n",
       "  <thead>\n",
       "    <tr style=\"text-align: right;\">\n",
       "      <th></th>\n",
       "      <th>Final SUNA NO3 (uM)</th>\n",
       "      <th>Preliminary Temperature - DO NOT SHARE</th>\n",
       "      <th>Preliminary Salinity - DO NOT SHARE</th>\n",
       "      <th>Chl Fl</th>\n",
       "      <th>Unnamed: 5</th>\n",
       "      <th>Unnamed: 6</th>\n",
       "      <th>Cruise</th>\n",
       "      <th>Station</th>\n",
       "      <th>Date Time.1</th>\n",
       "      <th>Depth</th>\n",
       "      <th>Nut ID</th>\n",
       "      <th>CTD NO3</th>\n",
       "      <th>Unnamed: 13</th>\n",
       "      <th>Unnamed: 14</th>\n",
       "      <th>Unnamed: 15</th>\n",
       "    </tr>\n",
       "    <tr>\n",
       "      <th>Date Time</th>\n",
       "      <th></th>\n",
       "      <th></th>\n",
       "      <th></th>\n",
       "      <th></th>\n",
       "      <th></th>\n",
       "      <th></th>\n",
       "      <th></th>\n",
       "      <th></th>\n",
       "      <th></th>\n",
       "      <th></th>\n",
       "      <th></th>\n",
       "      <th></th>\n",
       "      <th></th>\n",
       "      <th></th>\n",
       "      <th></th>\n",
       "    </tr>\n",
       "  </thead>\n",
       "  <tbody>\n",
       "    <tr>\n",
       "      <th>2021-05-05 22:00:00</th>\n",
       "      <td>13.559750</td>\n",
       "      <td>NaN</td>\n",
       "      <td>NaN</td>\n",
       "      <td>NaN</td>\n",
       "      <td>NaN</td>\n",
       "      <td>NaN</td>\n",
       "      <td>DY2103</td>\n",
       "      <td>6.0</td>\n",
       "      <td>2021-05-06 16:26:00</td>\n",
       "      <td>30.0</td>\n",
       "      <td>42.0</td>\n",
       "      <td>15.070</td>\n",
       "      <td>NaN</td>\n",
       "      <td>NaN</td>\n",
       "      <td></td>\n",
       "    </tr>\n",
       "    <tr>\n",
       "      <th>2021-05-05 23:00:00</th>\n",
       "      <td>13.930750</td>\n",
       "      <td>NaN</td>\n",
       "      <td>NaN</td>\n",
       "      <td>NaN</td>\n",
       "      <td>NaN</td>\n",
       "      <td>NaN</td>\n",
       "      <td>NaN</td>\n",
       "      <td>7.0</td>\n",
       "      <td>2021-05-07 04:03:00</td>\n",
       "      <td>20.0</td>\n",
       "      <td>51.0</td>\n",
       "      <td>14.895</td>\n",
       "      <td>NaN</td>\n",
       "      <td>NaN</td>\n",
       "      <td>NaN</td>\n",
       "    </tr>\n",
       "    <tr>\n",
       "      <th>2021-05-06 00:00:00</th>\n",
       "      <td>14.061750</td>\n",
       "      <td>NaN</td>\n",
       "      <td>NaN</td>\n",
       "      <td>NaN</td>\n",
       "      <td>NaN</td>\n",
       "      <td>NaN</td>\n",
       "      <td>NaN</td>\n",
       "      <td>7.0</td>\n",
       "      <td>2021-05-07 04:03:00</td>\n",
       "      <td>30.0</td>\n",
       "      <td>50.0</td>\n",
       "      <td>13.230</td>\n",
       "      <td>NaN</td>\n",
       "      <td>NaN</td>\n",
       "      <td>NaN</td>\n",
       "    </tr>\n",
       "    <tr>\n",
       "      <th>2021-05-06 01:00:00</th>\n",
       "      <td>14.346528</td>\n",
       "      <td>2.5667</td>\n",
       "      <td>32.1778</td>\n",
       "      <td>0.954615</td>\n",
       "      <td>NaN</td>\n",
       "      <td>NaN</td>\n",
       "      <td>NaN</td>\n",
       "      <td>NaN</td>\n",
       "      <td>NaT</td>\n",
       "      <td>NaN</td>\n",
       "      <td>NaN</td>\n",
       "      <td>NaN</td>\n",
       "      <td>NaN</td>\n",
       "      <td>NaN</td>\n",
       "      <td>NaN</td>\n",
       "    </tr>\n",
       "    <tr>\n",
       "      <th>2021-05-06 02:00:00</th>\n",
       "      <td>13.949750</td>\n",
       "      <td>2.5711</td>\n",
       "      <td>32.1765</td>\n",
       "      <td>0.945645</td>\n",
       "      <td>NaN</td>\n",
       "      <td>NaN</td>\n",
       "      <td>NaN</td>\n",
       "      <td>NaN</td>\n",
       "      <td>NaT</td>\n",
       "      <td>NaN</td>\n",
       "      <td>NaN</td>\n",
       "      <td>NaN</td>\n",
       "      <td>NaN</td>\n",
       "      <td>NaN</td>\n",
       "      <td>NaN</td>\n",
       "    </tr>\n",
       "    <tr>\n",
       "      <th>...</th>\n",
       "      <td>...</td>\n",
       "      <td>...</td>\n",
       "      <td>...</td>\n",
       "      <td>...</td>\n",
       "      <td>...</td>\n",
       "      <td>...</td>\n",
       "      <td>...</td>\n",
       "      <td>...</td>\n",
       "      <td>...</td>\n",
       "      <td>...</td>\n",
       "      <td>...</td>\n",
       "      <td>...</td>\n",
       "      <td>...</td>\n",
       "      <td>...</td>\n",
       "      <td>...</td>\n",
       "    </tr>\n",
       "    <tr>\n",
       "      <th>2021-10-23 11:00:00</th>\n",
       "      <td>11.262083</td>\n",
       "      <td>6.2602</td>\n",
       "      <td>31.8635</td>\n",
       "      <td>0.930465</td>\n",
       "      <td>NaN</td>\n",
       "      <td>NaN</td>\n",
       "      <td>NaN</td>\n",
       "      <td>NaN</td>\n",
       "      <td>NaT</td>\n",
       "      <td>NaN</td>\n",
       "      <td>NaN</td>\n",
       "      <td>NaN</td>\n",
       "      <td>NaN</td>\n",
       "      <td>NaN</td>\n",
       "      <td>NaN</td>\n",
       "    </tr>\n",
       "    <tr>\n",
       "      <th>2021-10-23 13:00:00</th>\n",
       "      <td>11.545893</td>\n",
       "      <td>6.2714</td>\n",
       "      <td>31.8613</td>\n",
       "      <td>0.920460</td>\n",
       "      <td>NaN</td>\n",
       "      <td>NaN</td>\n",
       "      <td>NaN</td>\n",
       "      <td>NaN</td>\n",
       "      <td>NaT</td>\n",
       "      <td>NaN</td>\n",
       "      <td>NaN</td>\n",
       "      <td>NaN</td>\n",
       "      <td>NaN</td>\n",
       "      <td>NaN</td>\n",
       "      <td>NaN</td>\n",
       "    </tr>\n",
       "    <tr>\n",
       "      <th>2021-10-23 14:00:00</th>\n",
       "      <td>11.390750</td>\n",
       "      <td>6.2921</td>\n",
       "      <td>31.8730</td>\n",
       "      <td>0.903210</td>\n",
       "      <td>NaN</td>\n",
       "      <td>NaN</td>\n",
       "      <td>NaN</td>\n",
       "      <td>NaN</td>\n",
       "      <td>NaT</td>\n",
       "      <td>NaN</td>\n",
       "      <td>NaN</td>\n",
       "      <td>NaN</td>\n",
       "      <td>NaN</td>\n",
       "      <td>NaN</td>\n",
       "      <td>NaN</td>\n",
       "    </tr>\n",
       "    <tr>\n",
       "      <th>2021-10-23 15:00:00</th>\n",
       "      <td>11.492500</td>\n",
       "      <td>6.2989</td>\n",
       "      <td>31.8783</td>\n",
       "      <td>0.832715</td>\n",
       "      <td>NaN</td>\n",
       "      <td>NaN</td>\n",
       "      <td>NaN</td>\n",
       "      <td>NaN</td>\n",
       "      <td>NaT</td>\n",
       "      <td>NaN</td>\n",
       "      <td>NaN</td>\n",
       "      <td>NaN</td>\n",
       "      <td>NaN</td>\n",
       "      <td>NaN</td>\n",
       "      <td>NaN</td>\n",
       "    </tr>\n",
       "    <tr>\n",
       "      <th>2021-10-23 16:00:00</th>\n",
       "      <td>11.867083</td>\n",
       "      <td>6.3089</td>\n",
       "      <td>31.8817</td>\n",
       "      <td>0.830070</td>\n",
       "      <td>NaN</td>\n",
       "      <td>NaN</td>\n",
       "      <td>NaN</td>\n",
       "      <td>NaN</td>\n",
       "      <td>NaT</td>\n",
       "      <td>NaN</td>\n",
       "      <td>NaN</td>\n",
       "      <td>NaN</td>\n",
       "      <td>NaN</td>\n",
       "      <td>NaN</td>\n",
       "      <td>NaN</td>\n",
       "    </tr>\n",
       "  </tbody>\n",
       "</table>\n",
       "<p>3916 rows × 15 columns</p>\n",
       "</div>"
      ],
      "text/plain": [
       "                     Final SUNA NO3 (uM)  \\\n",
       "Date Time                                  \n",
       "2021-05-05 22:00:00            13.559750   \n",
       "2021-05-05 23:00:00            13.930750   \n",
       "2021-05-06 00:00:00            14.061750   \n",
       "2021-05-06 01:00:00            14.346528   \n",
       "2021-05-06 02:00:00            13.949750   \n",
       "...                                  ...   \n",
       "2021-10-23 11:00:00            11.262083   \n",
       "2021-10-23 13:00:00            11.545893   \n",
       "2021-10-23 14:00:00            11.390750   \n",
       "2021-10-23 15:00:00            11.492500   \n",
       "2021-10-23 16:00:00            11.867083   \n",
       "\n",
       "                     Preliminary Temperature - DO NOT SHARE  \\\n",
       "Date Time                                                     \n",
       "2021-05-05 22:00:00                                     NaN   \n",
       "2021-05-05 23:00:00                                     NaN   \n",
       "2021-05-06 00:00:00                                     NaN   \n",
       "2021-05-06 01:00:00                                  2.5667   \n",
       "2021-05-06 02:00:00                                  2.5711   \n",
       "...                                                     ...   \n",
       "2021-10-23 11:00:00                                  6.2602   \n",
       "2021-10-23 13:00:00                                  6.2714   \n",
       "2021-10-23 14:00:00                                  6.2921   \n",
       "2021-10-23 15:00:00                                  6.2989   \n",
       "2021-10-23 16:00:00                                  6.3089   \n",
       "\n",
       "                     Preliminary Salinity - DO NOT SHARE    Chl Fl  \\\n",
       "Date Time                                                            \n",
       "2021-05-05 22:00:00                                  NaN       NaN   \n",
       "2021-05-05 23:00:00                                  NaN       NaN   \n",
       "2021-05-06 00:00:00                                  NaN       NaN   \n",
       "2021-05-06 01:00:00                              32.1778  0.954615   \n",
       "2021-05-06 02:00:00                              32.1765  0.945645   \n",
       "...                                                  ...       ...   \n",
       "2021-10-23 11:00:00                              31.8635  0.930465   \n",
       "2021-10-23 13:00:00                              31.8613  0.920460   \n",
       "2021-10-23 14:00:00                              31.8730  0.903210   \n",
       "2021-10-23 15:00:00                              31.8783  0.832715   \n",
       "2021-10-23 16:00:00                              31.8817  0.830070   \n",
       "\n",
       "                     Unnamed: 5  Unnamed: 6  Cruise  Station  \\\n",
       "Date Time                                                      \n",
       "2021-05-05 22:00:00         NaN         NaN  DY2103      6.0   \n",
       "2021-05-05 23:00:00         NaN         NaN     NaN      7.0   \n",
       "2021-05-06 00:00:00         NaN         NaN     NaN      7.0   \n",
       "2021-05-06 01:00:00         NaN         NaN     NaN      NaN   \n",
       "2021-05-06 02:00:00         NaN         NaN     NaN      NaN   \n",
       "...                         ...         ...     ...      ...   \n",
       "2021-10-23 11:00:00         NaN         NaN     NaN      NaN   \n",
       "2021-10-23 13:00:00         NaN         NaN     NaN      NaN   \n",
       "2021-10-23 14:00:00         NaN         NaN     NaN      NaN   \n",
       "2021-10-23 15:00:00         NaN         NaN     NaN      NaN   \n",
       "2021-10-23 16:00:00         NaN         NaN     NaN      NaN   \n",
       "\n",
       "                            Date Time.1  Depth  Nut ID  CTD NO3  Unnamed: 13  \\\n",
       "Date Time                                                                      \n",
       "2021-05-05 22:00:00 2021-05-06 16:26:00   30.0    42.0   15.070          NaN   \n",
       "2021-05-05 23:00:00 2021-05-07 04:03:00   20.0    51.0   14.895          NaN   \n",
       "2021-05-06 00:00:00 2021-05-07 04:03:00   30.0    50.0   13.230          NaN   \n",
       "2021-05-06 01:00:00                 NaT    NaN     NaN      NaN          NaN   \n",
       "2021-05-06 02:00:00                 NaT    NaN     NaN      NaN          NaN   \n",
       "...                                 ...    ...     ...      ...          ...   \n",
       "2021-10-23 11:00:00                 NaT    NaN     NaN      NaN          NaN   \n",
       "2021-10-23 13:00:00                 NaT    NaN     NaN      NaN          NaN   \n",
       "2021-10-23 14:00:00                 NaT    NaN     NaN      NaN          NaN   \n",
       "2021-10-23 15:00:00                 NaT    NaN     NaN      NaN          NaN   \n",
       "2021-10-23 16:00:00                 NaT    NaN     NaN      NaN          NaN   \n",
       "\n",
       "                     Unnamed: 14 Unnamed: 15  \n",
       "Date Time                                     \n",
       "2021-05-05 22:00:00          NaN              \n",
       "2021-05-05 23:00:00          NaN         NaN  \n",
       "2021-05-06 00:00:00          NaN         NaN  \n",
       "2021-05-06 01:00:00          NaN         NaN  \n",
       "2021-05-06 02:00:00          NaN         NaN  \n",
       "...                          ...         ...  \n",
       "2021-10-23 11:00:00          NaN         NaN  \n",
       "2021-10-23 13:00:00          NaN         NaN  \n",
       "2021-10-23 14:00:00          NaN         NaN  \n",
       "2021-10-23 15:00:00          NaN         NaN  \n",
       "2021-10-23 16:00:00          NaN         NaN  \n",
       "\n",
       "[3916 rows x 15 columns]"
      ]
     },
     "execution_count": 44,
     "metadata": {},
     "output_type": "execute_result"
    }
   ],
   "source": [
    "suna_wop_data"
   ]
  },
  {
   "cell_type": "code",
   "execution_count": 45,
   "id": "undefined-membrane",
   "metadata": {},
   "outputs": [
    {
     "data": {
      "text/plain": [
       "<Figure size 640x480 with 0 Axes>"
      ]
     },
     "metadata": {},
     "output_type": "display_data"
    },
    {
     "data": {
      "image/png": "[encoded data removed]",
      "text/plain": [
       "<Figure size 1600x200 with 1 Axes>"
      ]
     },
     "metadata": {},
     "output_type": "display_data"
    }
   ],
   "source": [
    "#wrap the plot in image settings for visual appeal\n",
    "# may be able to make this cleaner or just a preset\n",
    "# copy is in the notebook examples\n",
    "%run '../../../settings/mpl_plot_settings.py'\n",
    "\n",
    "%matplotlib inline\n",
    "import matplotlib.dates as mdates\n",
    "from matplotlib.dates import YearLocator, WeekdayLocator, MonthLocator, DayLocator, HourLocator, DateFormatter\n",
    "import matplotlib.ticker as ticker\n",
    "\n",
    "fig, ax = plt.subplots(1,figsize=(16, 2))\n",
    "suna_wop_data[['Final SUNA NO3 (uM)']].plot(ax=ax)\n",
    "\n",
    "ax.xaxis.set_major_locator(DayLocator(bymonthday=1))\n",
    "ax.xaxis.set_minor_locator(DayLocator(bymonthday=15))\n",
    "ax.xaxis.set_minor_formatter(DateFormatter('%b %Y'))\n",
    "ax.xaxis.set_major_formatter(DateFormatter(''))\n",
    "ax.xaxis.set_tick_params(which='major', pad=3)\n",
    "ax.xaxis.set_tick_params(which='minor', pad=5)\n",
    "\n"
   ]
  },
  {
   "cell_type": "markdown",
   "id": "acknowledged-active",
   "metadata": {},
   "source": [
    "## Add Deployment meta information\n",
    "\n",
    "Two methods are available (if comming from python2 world - ordereddict was important... in py38 a dictionary is inherently ordered)"
   ]
  },
  {
   "cell_type": "code",
   "execution_count": 46,
   "id": "freelance-fairy",
   "metadata": {},
   "outputs": [],
   "source": [
    "#just a dictionary of dictionaries - simple\n",
    "with open(mooring_meta_file) as file:\n",
    "    mooring_config = yaml.full_load(file)"
   ]
  },
  {
   "cell_type": "code",
   "execution_count": 47,
   "id": "israeli-begin",
   "metadata": {},
   "outputs": [
    {
     "data": {
      "text/plain": [
       "{'InstType': 'SUNA',\n",
       " 'SerialNo': '1471',\n",
       " 'DesignedDepth': 24.5,\n",
       " 'ActualDepth': 24.5,\n",
       " 'PreDeploymentNotes': 'Plug in b/f deployment',\n",
       " 'PostDeploymentNotes': '',\n",
       " 'Deployed': 'y',\n",
       " 'Recovered': 'y'}"
      ]
     },
     "execution_count": 47,
     "metadata": {},
     "output_type": "execute_result"
    }
   ],
   "source": [
    "mooring_config['Instrumentation'][instrument]"
   ]
  },
  {
   "cell_type": "markdown",
   "id": "mysterious-cornwall",
   "metadata": {},
   "source": [
    "## Add Instrument meta information\n",
    "\n",
    "Time, depth, lat, lon should be added regardless (always our coordinates) but for a mooring site its going to be a (1,1,1,t) dataset\n",
    "The variables of interest should be read from the data file and matched to a key for naming.  That key is in the inst_config file seen below and should represent common conversion names in the raw data"
   ]
  },
  {
   "cell_type": "code",
   "execution_count": 48,
   "id": "eaf6684b-d431-48f4-aeb0-3835121f1a1d",
   "metadata": {},
   "outputs": [],
   "source": [
    "#just a dictionary of dictionaries - simple\n",
    "with open(institution_meta_file) as file:\n",
    "    institution_config = yaml.full_load(file)"
   ]
  },
  {
   "cell_type": "code",
   "execution_count": 49,
   "id": "checked-raise",
   "metadata": {
    "tags": []
   },
   "outputs": [
    {
     "data": {
      "text/plain": [
       "{'time': {'epic_key': 'TIM_601',\n",
       "  'name': 'time',\n",
       "  'generic_name': 'time',\n",
       "  'standard_name': 'time',\n",
       "  'long_name': 'date and time since reference time'},\n",
       " 'depth': {'epic_key': 'D_3',\n",
       "  'generic_name': 'depth',\n",
       "  'units': 'meter',\n",
       "  'long_name': 'depth below surface (meters)',\n",
       "  'standard_name': 'depth',\n",
       "  'positive': 'down'},\n",
       " 'latitude': {'epic_key': 'LON_501',\n",
       "  'name': 'latitude',\n",
       "  'generic_name': 'latitude',\n",
       "  'units': 'degrees_north',\n",
       "  'long_name': 'latitude',\n",
       "  'standard_name': 'latitude'},\n",
       " 'longitude': {'epic_key': 'LAT_500',\n",
       "  'name': 'longitude',\n",
       "  'generic_name': 'longitude',\n",
       "  'units': 'degrees_east',\n",
       "  'long_name': 'longitude',\n",
       "  'standard_name': 'longitude'},\n",
       " 'timeseries_id': {'cf_role': 'timeseries_id',\n",
       "  'long_name': 'timeseries id',\n",
       "  'standard_name': ''},\n",
       " 'temperature': {'epic_key': 'T_20',\n",
       "  'generic_name': 'temp',\n",
       "  'long_name': 'Sea temperature in-situ ITS-90 scale',\n",
       "  'standard_name': 'sea_water_temperature',\n",
       "  'units': 'degree_C'},\n",
       " 'nitrate': {'epic_key': '',\n",
       "  'generic_name': 'no3',\n",
       "  'long_name': 'concentration of nitrate in seawater in micromoles',\n",
       "  'standard_name': 'mole_concentration_of_nitrate_in_sea_water',\n",
       "  'units': 'micromole'},\n",
       " 'bromide': {'epic_key': '',\n",
       "  'generic_name': 'bromide',\n",
       "  'long_name': 'bromide trace in seawater in micromoles',\n",
       "  'standard_name': 'mass_concentration_of_bromide_in_sea_water',\n",
       "  'units': 'mg/L'},\n",
       " 'absorbance_254nm': {'epic_key': '',\n",
       "  'generic_name': 'abs_254',\n",
       "  'long_name': 'absorbance at 254 nm in micromoles',\n",
       "  'standard_name': 'mole_concentration_of_nitrate_in_sea_water',\n",
       "  'units': 'micromole'},\n",
       " 'absorbance_350nm': {'epic_key': '',\n",
       "  'generic_name': 'abs_350',\n",
       "  'long_name': 'absorbance at 350 nm in micromoles',\n",
       "  'standard_name': 'mole_concentration_of_nitrate_in_sea_water',\n",
       "  'units': 'micromole'}}"
      ]
     },
     "execution_count": 49,
     "metadata": {},
     "output_type": "execute_result"
    }
   ],
   "source": [
    "with open(inst_meta_file) as file:\n",
    "    inst_config = yaml.full_load(file)\n",
    "inst_config"
   ]
  },
  {
   "cell_type": "code",
   "execution_count": 50,
   "id": "e3be4ace-ecc3-450f-aae4-2d92107f6b54",
   "metadata": {},
   "outputs": [],
   "source": [
    "suna_wop_data.index = suna_wop_data.index.rename('date_time')"
   ]
  },
  {
   "cell_type": "code",
   "execution_count": 51,
   "id": "d7eae36b-18b3-461e-8612-517021402289",
   "metadata": {},
   "outputs": [
    {
     "data": {
      "text/html": [
       "<div>\n",
       "<style scoped>\n",
       "    .dataframe tbody tr th:only-of-type {\n",
       "        vertical-align: middle;\n",
       "    }\n",
       "\n",
       "    .dataframe tbody tr th {\n",
       "        vertical-align: top;\n",
       "    }\n",
       "\n",
       "    .dataframe thead th {\n",
       "        text-align: right;\n",
       "    }\n",
       "</style>\n",
       "<table border=\"1\" class=\"dataframe\">\n",
       "  <thead>\n",
       "    <tr style=\"text-align: right;\">\n",
       "      <th></th>\n",
       "      <th>nitrate</th>\n",
       "      <th>Preliminary Temperature - DO NOT SHARE</th>\n",
       "      <th>Preliminary Salinity - DO NOT SHARE</th>\n",
       "      <th>Chl Fl</th>\n",
       "      <th>Unnamed: 5</th>\n",
       "      <th>Unnamed: 6</th>\n",
       "      <th>Cruise</th>\n",
       "      <th>Station</th>\n",
       "      <th>Date Time.1</th>\n",
       "      <th>Depth</th>\n",
       "      <th>Nut ID</th>\n",
       "      <th>CTD NO3</th>\n",
       "      <th>Unnamed: 13</th>\n",
       "      <th>Unnamed: 14</th>\n",
       "      <th>Unnamed: 15</th>\n",
       "    </tr>\n",
       "    <tr>\n",
       "      <th>date_time</th>\n",
       "      <th></th>\n",
       "      <th></th>\n",
       "      <th></th>\n",
       "      <th></th>\n",
       "      <th></th>\n",
       "      <th></th>\n",
       "      <th></th>\n",
       "      <th></th>\n",
       "      <th></th>\n",
       "      <th></th>\n",
       "      <th></th>\n",
       "      <th></th>\n",
       "      <th></th>\n",
       "      <th></th>\n",
       "      <th></th>\n",
       "    </tr>\n",
       "  </thead>\n",
       "  <tbody>\n",
       "    <tr>\n",
       "      <th>2021-10-19 03:00:00</th>\n",
       "      <td>9.43575</td>\n",
       "      <td>6.6039</td>\n",
       "      <td>31.891</td>\n",
       "      <td>1.114005</td>\n",
       "      <td>NaN</td>\n",
       "      <td>NaN</td>\n",
       "      <td>NaN</td>\n",
       "      <td>NaN</td>\n",
       "      <td>NaT</td>\n",
       "      <td>NaN</td>\n",
       "      <td>NaN</td>\n",
       "      <td>NaN</td>\n",
       "      <td>NaN</td>\n",
       "      <td>NaN</td>\n",
       "      <td>NaN</td>\n",
       "    </tr>\n",
       "  </tbody>\n",
       "</table>\n",
       "</div>"
      ],
      "text/plain": [
       "                     nitrate  Preliminary Temperature - DO NOT SHARE  \\\n",
       "date_time                                                              \n",
       "2021-10-19 03:00:00  9.43575                                  6.6039   \n",
       "\n",
       "                     Preliminary Salinity - DO NOT SHARE    Chl Fl  \\\n",
       "date_time                                                            \n",
       "2021-10-19 03:00:00                               31.891  1.114005   \n",
       "\n",
       "                     Unnamed: 5  Unnamed: 6 Cruise  Station Date Time.1  \\\n",
       "date_time                                                                 \n",
       "2021-10-19 03:00:00         NaN         NaN    NaN      NaN         NaT   \n",
       "\n",
       "                     Depth  Nut ID  CTD NO3  Unnamed: 13  Unnamed: 14  \\\n",
       "date_time                                                               \n",
       "2021-10-19 03:00:00    NaN     NaN      NaN          NaN          NaN   \n",
       "\n",
       "                    Unnamed: 15  \n",
       "date_time                        \n",
       "2021-10-19 03:00:00         NaN  "
      ]
     },
     "execution_count": 51,
     "metadata": {},
     "output_type": "execute_result"
    }
   ],
   "source": [
    "#sbe16 data uses header info to name variables... but we want standard names from the dictionary I've created, so we need to rename column variables appropriately\n",
    "#rename values to appropriate names, if a value isn't in the .yaml file, you can add it\n",
    "suna_wop_data = suna_wop_data.rename(columns={'Final SUNA NO3 (uM)':'nitrate'})\n",
    "suna_wop_data.sample()"
   ]
  },
  {
   "cell_type": "code",
   "execution_count": 52,
   "id": "varied-popularity",
   "metadata": {},
   "outputs": [
    {
     "data": {
      "text/plain": [
       "<EcoFOCIpy.io.ncCFsave.EcoFOCI_CFnc at 0x16c9c8590>"
      ]
     },
     "execution_count": 52,
     "metadata": {},
     "output_type": "execute_result"
    }
   ],
   "source": [
    "# Add meta data and prelim processing based on meta data\n",
    "# Convert to xarray and add meta information - save as CF netcdf file\n",
    "# pass -> data, instmeta, depmeta\n",
    "suna_wop_nc = ncCFsave.EcoFOCI_CFnc(df=suna_wop_data, \n",
    "                                instrument_yaml=inst_config, \n",
    "                                operation_yaml=mooring_config,\n",
    "                                operation_type='mooring', \n",
    "                                instrument_id=instrument, \n",
    "                                inst_shortname=inst_shortname)\n",
    "suna_wop_nc"
   ]
  },
  {
   "cell_type": "markdown",
   "id": "asian-chambers",
   "metadata": {},
   "source": [
    "At this point, you could save your file with the `.xarray2netcdf_save()` method and have a functioning dataset.... but it would be very simple with no additional qc, meta-data, or tuned parameters for optimizing software like ferret or erddap."
   ]
  },
  {
   "cell_type": "code",
   "execution_count": 53,
   "id": "practical-pennsylvania",
   "metadata": {},
   "outputs": [],
   "source": [
    "# expand the dimensions and coordinate variables\n",
    "# renames them appropriatley and prepares them for meta-filled values\n",
    "suna_wop_nc.expand_dimensions()"
   ]
  },
  {
   "cell_type": "code",
   "execution_count": 55,
   "id": "floral-operations",
   "metadata": {},
   "outputs": [],
   "source": [
    "suna_wop_nc.variable_meta_data(variable_keys=list(suna_wop_data.columns.values),drop_missing=True)\n",
    "suna_wop_nc.temporal_geospatioal_meta_data(depth='actual')\n",
    "#adding dimension meta needs to come after updating the dimension values... BUG?\n",
    "suna_wop_nc.dimension_meta_data(variable_keys=['depth','latitude','longitude'])"
   ]
  },
  {
   "cell_type": "markdown",
   "id": "seventh-product",
   "metadata": {},
   "source": [
    "The following steps can happen in just about any order and are all meta-data driven.  Therefore, they are not required to have a functioning dataset, but they are required to have a well described dataset"
   ]
  },
  {
   "cell_type": "code",
   "execution_count": 56,
   "id": "auburn-diversity",
   "metadata": {},
   "outputs": [],
   "source": [
    "#add global attributes\n",
    "suna_wop_nc.deployment_meta_add()\n",
    "suna_wop_nc.get_xdf()\n",
    "\n",
    "#add instituitonal global attributes\n",
    "suna_wop_nc.institution_meta_add(institution_yaml=institution_config)\n",
    "\n",
    "#add instrument global attributes\n",
    "suna_wop_nc.instrument_meta_data()\n",
    "\n",
    "#add creation date/time - provenance data\n",
    "suna_wop_nc.provinance_meta_add()\n",
    "\n",
    "#provide intial qc status field\n",
    "suna_wop_nc.qc_status(qc_status='unknown')\n"
   ]
  },
  {
   "cell_type": "markdown",
   "id": "sustained-hughes",
   "metadata": {},
   "source": [
    "## Save CF Netcdf files\n",
    "\n",
    "Currently stick to netcdf3 classic... but migrating to netcdf4 (default) may be no problems for most modern purposes.  Its easy enough to pass the `format` kwargs through to the netcdf api of xarray."
   ]
  },
  {
   "cell_type": "code",
   "execution_count": 57,
   "id": "modular-volunteer",
   "metadata": {},
   "outputs": [
    {
     "name": "stderr",
     "output_type": "stream",
     "text": [
      "/Users/bell/src/ecofocipy/src/EcoFOCIpy/io/ncCFsave.py:320: UserWarning: Times can't be serialized faithfully to int64 with requested units 'days since 1900-01-01'. Resolution of 'hours' needed. Serializing times to floating point instead. Set encoding['dtype'] to integer dtype to serialize to int64. Set encoding['dtype'] to floating point dtype to silence this warning.\n",
      "  xdf.to_netcdf(filename,format=kwargs['format'],encoding={'time':{'units':'days since 1900-01-01'}})\n"
     ]
    }
   ],
   "source": [
    "# combine trim (not mandatory) and filename together (saves to test.nc without name)\n",
    "\n",
    "depth = str(int(mooring_config['Instrumentation'][instrument]['ActualDepth'])).zfill(4)\n",
    "# mooring_yaml['Instrumentation'][self.instrument_id]['DesignedDepth'])).zfill(4) #<-- alternative\n",
    "filename = \"\".join(mooring_config['MooringID'].split('-')).lower()+'_'+inst_shortname+'_'+depth+'m.nc'\n",
    "suna_wop_nc.xarray2netcdf_save(xdf = suna_wop_nc.autotrim_time(),\n",
    "                           filename=filename,format=\"NETCDF3_CLASSIC\")\n",
    "\n",
    "# don't trim the data and pass your own filename\n",
    "# suna_wop_nc.xarray2netcdf_save(xdf = sbe56_wop_nc.get_xdf(),\n",
    "#                            filename=filename,format=\"NETCDF4_CLASSIC\")"
   ]
  },
  {
   "cell_type": "code",
   "execution_count": 58,
   "id": "44b59a12-c51b-41e2-ba48-13b5a904dbaf",
   "metadata": {},
   "outputs": [
    {
     "data": {
      "text/plain": [
       "<Figure size 640x480 with 0 Axes>"
      ]
     },
     "metadata": {},
     "output_type": "display_data"
    },
    {
     "data": {
      "image/png": "[encoded data removed]",
      "text/plain": [
       "<Figure size 1600x200 with 1 Axes>"
      ]
     },
     "metadata": {},
     "output_type": "display_data"
    }
   ],
   "source": [
    "#wrap the plot in image settings for visual appeal\n",
    "# may be able to make this cleaner or just a preset\n",
    "# copy is in the notebook examples\n",
    "%run '../../../settings/mpl_plot_settings.py'\n",
    "\n",
    "%matplotlib inline\n",
    "import matplotlib.dates as mdates\n",
    "from matplotlib.dates import YearLocator, WeekdayLocator, MonthLocator, DayLocator, HourLocator, DateFormatter\n",
    "import matplotlib.ticker as ticker\n",
    "\n",
    "fig, ax = plt.subplots(1,figsize=(16, 2))\n",
    "suna_wop_nc.autotrim_time().nitrate.plot(ax=ax,color='r')\n",
    "\n",
    "ax.xaxis.set_major_locator(DayLocator(bymonthday=1))\n",
    "ax.xaxis.set_minor_locator(DayLocator(bymonthday=15))\n",
    "ax.xaxis.set_minor_formatter(DateFormatter('%b %Y'))\n",
    "ax.xaxis.set_major_formatter(DateFormatter(''))\n",
    "ax.xaxis.set_tick_params(which='major', pad=3)\n",
    "ax.xaxis.set_tick_params(which='minor', pad=5)"
   ]
  },
  {
   "cell_type": "code",
   "execution_count": 59,
   "id": "751adb19-f35d-46da-acc6-940d804f3f26",
   "metadata": {},
   "outputs": [],
   "source": [
    "#csvoutput if necessary\n",
    "(suna_wop_nc.get_xdf().to_dataframe()).to_csv(filename.replace('nc','csv'))"
   ]
  },
  {
   "cell_type": "markdown",
   "id": "individual-nature",
   "metadata": {},
   "source": [
    "## Next Steps\n",
    "\n",
    "QC of data (plot parameters with other instruments)\n",
    "- be sure to updated the qc_status and the history"
   ]
  },
  {
   "cell_type": "code",
   "execution_count": null,
   "id": "insured-vulnerability",
   "metadata": {},
   "outputs": [],
   "source": []
  }
 ],
 "metadata": {
  "kernelspec": {
   "display_name": "Python [conda env:p312]",
   "language": "python",
   "name": "conda-env-p312-py"
  },
  "language_info": {
   "codemirror_mode": {
    "name": "ipython",
    "version": 3
   },
   "file_extension": ".py",
   "mimetype": "text/x-python",
   "name": "python",
   "nbconvert_exporter": "python",
   "pygments_lexer": "ipython3",
   "version": "3.12.1"
  }
 },
 "nbformat": 4,
 "nbformat_minor": 5
}
