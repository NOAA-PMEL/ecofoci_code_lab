{
 "cells": [
  {
   "cell_type": "markdown",
   "id": "educational-chosen",
   "metadata": {},
   "source": [
    "# Using EcoFOCIpy to process raw field data\n",
    "\n",
    "**Cruise DY2103 (Spring Mooring Cruise)\n",
    "\n",
    "**Processed by Shaun Bell**\n",
    "\n",
    "Follows the initial processing workbook [EcoFOCIpy_sbe_ctd_dy2103.ipynb](EcoFOCIpy_sbe_ctd_dy2103.ipynb) to apply manually corrected csv files to the netcdf files\n",
    "\n",
    "This will generate:  \n",
    "+ **ERDDAP Final** fully calibrated, qc'd and populated with meta information\n",
    "\n",
    "Plot for final preview and validation\n",
    "- TSSigma, TOXYChlor, TurbParTrans\n",
    "\n",
    "***TODO:***\n",
    "+ Update any meta data \n",
    "+ Apply Oxygen or Salinity Corrections determined after processing"
   ]
  },
  {
   "cell_type": "code",
   "execution_count": 39,
   "id": "studied-pollution",
   "metadata": {},
   "outputs": [],
   "source": [
    "import os\n",
    "import numpy as np\n",
    "import pandas as pd\n",
    "import xarray as xa\n",
    "import datetime\n",
    "\n",
    "import ecofocipy.plots.sbe_ctd_plots as sbe_ctd_plots"
   ]
  },
  {
   "cell_type": "markdown",
   "id": "allied-miniature",
   "metadata": {
    "tags": []
   },
   "source": [
    "## Post QC Oxygen / Salinity Processing"
   ]
  },
  {
   "cell_type": "code",
   "execution_count": 40,
   "id": "81067f42-0f51-4bc0-b842-16298cd76a4e",
   "metadata": {},
   "outputs": [],
   "source": [
    "oxy_chan1_multiplier = 1.03\n",
    "oxy_chan2_multiplier = 1.049"
   ]
  },
  {
   "cell_type": "code",
   "execution_count": 41,
   "id": "offensive-level",
   "metadata": {},
   "outputs": [],
   "source": [
    "ncfiles = '.nc'"
   ]
  },
  {
   "cell_type": "code",
   "execution_count": 42,
   "id": "third-yellow",
   "metadata": {},
   "outputs": [],
   "source": [
    "###############################################################\n",
    "# edit to point to {cruise sepcific} raw datafiles \n",
    "sample_data_dir = '/Users/bell/ecoraid/2021/CTDcasts/dy2103/working/' #root path to cruise directory\n",
    "cruise_name = 'DY2103' #no hyphens\n",
    "###############################################################"
   ]
  },
  {
   "cell_type": "code",
   "execution_count": 43,
   "id": "46261d78-024f-489c-8a1c-7cf050c9764e",
   "metadata": {},
   "outputs": [],
   "source": [
    "# Following routines will eventually get ported to ecofocipy as subroutines to be called\n",
    "\n",
    "import seawater as sw\n",
    "\n",
    "def sigmat_update(salinity=None,temperature=None):\n",
    "    '''\n",
    "    Changes to T or S (commonly to despike values or apply a salinity offset) will need corresponding changes in sigmat\n",
    "    '''\n",
    "    # calculate sigmaT at 0db gauge pressure (s, t, p=0)\n",
    "    sigt = (sw.eos80.dens0(s=salinity, t=temperature) - 1000)\n",
    "    \n",
    "    return sigt\n",
    "\n",
    "\n",
    "def oxyconc_update(salinity=None,temperature=None, oxygen_conc_umkg=None,pressure=None):\n",
    "    '''\n",
    "        Although PJS tends to look at %sat to QC, changes are usually applied on the concentration parameter. So %sat will need recalculation.\n",
    "        Changes to T/S also drive some small corrections.\n",
    "        \n",
    "        Watch the conc units (um/kg or um/l)\n",
    "\n",
    "        calculate oxygen saturation\n",
    "        Garcia and Gorden 1992 - from Seabird Derived Parameter Formulas\n",
    "    '''\n",
    "    GG_cont = { 'GG_A0':2.00907,\n",
    "                'GG_A1':3.22014,\n",
    "                'GG_A2':4.0501,\n",
    "                'GG_A3':4.94457,\n",
    "                'GG_A4':-0.256847,\n",
    "                'GG_A5':3.88767,\n",
    "                'GG_B0':-0.00624523,\n",
    "                'GG_B1':-0.00737614,\n",
    "                'GG_B2':-0.010341,\n",
    "                'GG_B3':-0.00817083,\n",
    "                'GG_C0':-0.000000488682}\n",
    "\n",
    "    Ts_pri = np.log((298.15 - temperature) / (273.15 + temperature))\n",
    "    Oxsol_pri = np.exp(\n",
    "    GG_cont['GG_A0']\n",
    "    + GG_cont['GG_A1'] * Ts_pri\n",
    "    + GG_cont['GG_A2'] * (Ts_pri) ** 2\n",
    "    + GG_cont['GG_A3'] * (Ts_pri) ** 3\n",
    "    + GG_cont['GG_A4'] * (Ts_pri) ** 4\n",
    "    + GG_cont['GG_A5'] * (Ts_pri) ** 5\n",
    "    + salinity\n",
    "    * (GG_cont['GG_B0'] + GG_cont['GG_B1'] * Ts_pri\n",
    "    + GG_cont['GG_B2'] * (Ts_pri) ** 2 \n",
    "    + GG_cont['GG_B3'] * (Ts_pri) ** 3)\n",
    "    + GG_cont['GG_C0'] * (salinity) ** 2\n",
    "    )\n",
    "\n",
    "    \n",
    "    # determine sigmatheta and convert Oxygen from micromoles/kg to ml/l\n",
    "    # calculate new oxygen saturation percent using derived oxsol\n",
    "    sigmatheta_pri = sw.eos80.pden(s=salinity, t=temperature, p=pressure)\n",
    "    oxygen_conc_mll = oxygen_conc_umkg * sigmatheta_pri / 44660\n",
    "    \n",
    "    return oxygen_conc_mll,((oxygen_conc_mll) / Oxsol_pri) * 100.0"
   ]
  },
  {
   "cell_type": "code",
   "execution_count": 53,
   "id": "a11505a2-6f36-454b-8f46-d5c54c479526",
   "metadata": {
    "tags": []
   },
   "outputs": [
    {
     "name": "stdout",
     "output_type": "stream",
     "text": [
      "Updated: DY2103c001_ctd.nc\n",
      "Updated: DY2103c002_ctd.nc\n",
      "Updated: DY2103c003_ctd.nc\n",
      "Updated: DY2103c004_ctd.nc\n",
      "Updated: DY2103c005_ctd.nc\n",
      "Updated: DY2103c006_ctd.nc\n",
      "Updated: DY2103c007_ctd.nc\n",
      "Updated: DY2103c008_ctd.nc\n",
      "Updated: DY2103c009_ctd.nc\n",
      "Updated: DY2103c010_ctd.nc\n",
      "Updated: DY2103c011_ctd.nc\n",
      "Updated: DY2103c012_ctd.nc\n",
      "Updated: DY2103c013_ctd.nc\n",
      "Updated: DY2103c014_ctd.nc\n",
      "Updated: DY2103c015_ctd.nc\n",
      "Updated: DY2103c016_ctd.nc\n",
      "Updated: DY2103c017_ctd.nc\n",
      "Updated: DY2103c018_ctd.nc\n",
      "Updated: DY2103c019_ctd.nc\n",
      "Updated: DY2103c020_ctd.nc\n",
      "Updated: DY2103c022_ctd.nc\n",
      "Updated: DY2103c023_ctd.nc\n",
      "Updated: DY2103c024_ctd.nc\n",
      "Updated: DY2103c025_ctd.nc\n",
      "Updated: DY2103c026_ctd.nc\n",
      "Updated: DY2103c027_ctd.nc\n",
      "Updated: DY2103c028_ctd.nc\n",
      "Updated: DY2103c029_ctd.nc\n",
      "Updated: DY2103c030_ctd.nc\n",
      "Updated: DY2103c031_ctd.nc\n",
      "Updated: DY2103c032_ctd.nc\n",
      "Updated: DY2103c033_ctd.nc\n",
      "Updated: DY2103c034_ctd.nc\n",
      "Updated: DY2103c035_ctd.nc\n",
      "Updated: DY2103c036_ctd.nc\n",
      "Updated: DY2103c037_ctd.nc\n",
      "Updated: DY2103c038_ctd.nc\n",
      "Updated: DY2103c039_ctd.nc\n",
      "Updated: DY2103c040_ctd.nc\n",
      "Updated: DY2103c041_ctd.nc\n",
      "Updated: DY2103c042_ctd.nc\n",
      "Updated: DY2103c043_ctd.nc\n",
      "Updated: DY2103c044_ctd.nc\n",
      "Updated: DY2103c045_ctd.nc\n",
      "Updated: DY2103c046_ctd.nc\n",
      "Updated: DY2103c047_ctd.nc\n",
      "Updated: DY2103c048_ctd.nc\n",
      "Updated: DY2103c049_ctd.nc\n",
      "Updated: DY2103c050_ctd.nc\n",
      "Updated: DY2103c051_ctd.nc\n",
      "Updated: DY2103c052_ctd.nc\n",
      "Updated: DY2103c053_ctd.nc\n",
      "Updated: DY2103c054_ctd.nc\n",
      "Updated: DY2103c055_ctd.nc\n",
      "Updated: DY2103c056_ctd.nc\n",
      "Updated: DY2103c057_ctd.nc\n",
      "Updated: DY2103c058_ctd.nc\n",
      "Updated: DY2103c059_ctd.nc\n",
      "Updated: DY2103c060_ctd.nc\n",
      "Updated: DY2103c061_ctd.nc\n",
      "Updated: DY2103c062_ctd.nc\n",
      "Updated: DY2103c063_ctd.nc\n",
      "Updated: DY2103c064_ctd.nc\n",
      "Updated: DY2103c065_ctd.nc\n",
      "Updated: DY2103c066_ctd.nc\n",
      "Updated: DY2103c067_ctd.nc\n",
      "Updated: DY2103c068_ctd.nc\n",
      "Updated: DY2103c069_ctd.nc\n",
      "Updated: DY2103c070_ctd.nc\n",
      "Updated: DY2103c071_ctd.nc\n",
      "Updated: DY2103c072_ctd.nc\n",
      "Updated: DY2103c073_ctd.nc\n",
      "Updated: DY2103c074_ctd.nc\n",
      "Updated: DY2103c075_ctd.nc\n",
      "Updated: DY2103c076_ctd.nc\n",
      "Updated: DY2103c077_ctd.nc\n",
      "Updated: DY2103c078_ctd.nc\n",
      "Updated: DY2103c080_ctd.nc\n",
      "Updated: DY2103c081_ctd.nc\n",
      "Updated: DY2103c082_ctd.nc\n",
      "Updated: DY2103c083_ctd.nc\n",
      "Updated: DY2103c084_ctd.nc\n",
      "Updated: DY2103c085_ctd.nc\n",
      "Updated: DY2103c086_ctd.nc\n",
      "Updated: DY2103c087_ctd.nc\n",
      "Updated: DY2103c088_ctd.nc\n"
     ]
    }
   ],
   "source": [
    "#match csv to netcdf and update\n",
    "for cast in sorted(os.listdir(sample_data_dir)):\n",
    "    if cast.endswith(ncfiles):\n",
    "        cruise_data_nc = xa.load_dataset(sample_data_dir+cast)\n",
    "        cruise_data_update = cruise_data_nc.copy()\n",
    "        try:\n",
    "            #apply cal correction\n",
    "            cruise_data_update['oxy_conc_ch1'].values = cruise_data_update['oxy_conc_ch1'] * oxy_chan1_multiplier\n",
    "            cruise_data_update['oxy_conc_ch2'].values = cruise_data_update['oxy_conc_ch2'] * oxy_chan2_multiplier\n",
    "                \n",
    "            #update \n",
    "            #need to update any other oxy conc units too\n",
    "            cruise_data_update['oxy_concM_ch1'].values,cruise_data_update['oxy_percentsat_ch1'].values = oxyconc_update(cruise_data_update.salinity_ch1,\n",
    "                                                                   cruise_data_update.temperature_ch1,\n",
    "                                                                   cruise_data_update.oxy_conc_ch1,\n",
    "                                                                   cruise_data_update.depth)\n",
    "            # try:\n",
    "            cruise_data_update['oxy_concM_ch2'].values, cruise_data_update['oxy_percentsat_ch2'].values = oxyconc_update(cruise_data_update.salinity_ch2,\n",
    "                                                               cruise_data_update.temperature_ch2,\n",
    "                                                               cruise_data_update.oxy_conc_ch2,\n",
    "                                                               cruise_data_update.depth)            \n",
    "            # except:\n",
    "            #     pass # no secondary oxy\n",
    "            \n",
    "            try:\n",
    "                cruise_data_update.attrs.update({'history':(cruise_data_update.history + f\"Oxy Chan 1 Winkler Slope Correction: {oxy_chan1_multiplier} - \"+ str(datetime.datetime.today()) + '\\n')})\n",
    "                cruise_data_update.attrs.update({'history':(cruise_data_update.history + f\"Oxy Chan 2 Winkler Slope Correction: {oxy_chan2_multiplier} - \"+ str(datetime.datetime.today()) + '\\n')})\n",
    "            except: #cause history isn't an attribute yet\n",
    "                cruise_data_update.attrs['history'] = f\"Oxy Chan 1 Winkler Slope Correction: {oxy_chan1_multiplier} - \"+ str(datetime.datetime.today()) + '\\n'\n",
    "                cruise_data_update.attrs.update({'history':(cruise_data_update.history + f\"Oxy Chan 2 Winkler Slope Correction: {oxy_chan2_multiplier} - \"+ str(datetime.datetime.today()) + '\\n')})\n",
    "                \n",
    "            cruise_data_update.to_netcdf(sample_data_dir+cast.replace(ncfiles,'.updated.nc'),format='NETCDF3_CLASSIC',encoding={'time':{'units':'days since 1900-01-01'}})\n",
    "            print(f'Updated: {cast}')\n",
    "        except FileNotFoundError:\n",
    "            print(f'No file to update: {cast}')"
   ]
  },
  {
   "cell_type": "markdown",
   "id": "76870c14-e33d-4bb3-a2ff-906dcc99b27a",
   "metadata": {},
   "source": [
    "## Generate Plots\n",
    "\n",
    "\n",
    "### Make General Plots\n",
    "- 1:1 plots for paired instruments for each cast (tells if a sensor failed)\n",
    "- TS_Sigmat, Chlor/Par/Turb, Oxy,Temp\n",
    "- T/S property property plot\n",
    "- upcast/downcast plt"
   ]
  },
  {
   "cell_type": "code",
   "execution_count": 59,
   "id": "f0977254-1e0d-4b7d-ae1a-5b4a6ad79ec0",
   "metadata": {
    "tags": []
   },
   "outputs": [
    {
     "name": "stderr",
     "output_type": "stream",
     "text": [
      "/Users/bell/Programs/EcoFOCIpy/src/ecofocipy/plots/sbe_ctd_plots.py:219: RuntimeWarning: All-NaN axis encountered\n",
      "  abmin=np.nanmin([np.nanmin(xdata[2]),np.nanmin(xdata[3])])\n",
      "/Users/bell/Programs/EcoFOCIpy/src/ecofocipy/plots/sbe_ctd_plots.py:220: RuntimeWarning: All-NaN axis encountered\n",
      "  abmax=np.nanmax([np.nanmax(xdata[2]),np.nanmax(xdata[3])])\n",
      "/Users/bell/Programs/EcoFOCIpy/src/ecofocipy/plots/sbe_ctd_plots.py:248: RuntimeWarning: All-NaN axis encountered\n",
      "  abmin=np.nanmin([np.nanmin(xdata[4]),np.nanmin(xdata[5])])\n",
      "/Users/bell/Programs/EcoFOCIpy/src/ecofocipy/plots/sbe_ctd_plots.py:249: RuntimeWarning: All-NaN axis encountered\n",
      "  abmax=np.nanmax([np.nanmax(xdata[4]),np.nanmax(xdata[5])])\n"
     ]
    }
   ],
   "source": [
    "for cast in sorted(os.listdir(sample_data_dir)):\n",
    "    if cast.endswith('updated.nc'):\n",
    "        cruise_data_nc = xa.load_dataset(sample_data_dir+cast)\n",
    "        ctd_df = cruise_data_nc.to_dataframe()\n",
    "        \n",
    "        sbe_p = sbe_ctd_plots.CTDProfilePlot()\n",
    "        plt,fig =sbe_p.plot3var(varname=['temperature_ch1','temperature_ch2','salinity_ch1','salinity_ch2','sigma_t_ch1','sigma_t_ch2'],\n",
    "                          xdata=[ctd_df.temperature_ch1,ctd_df.temperature_ch2,ctd_df.salinity_ch1,ctd_df.salinity_ch2,ctd_df.sigma_t_ch1,ctd_df.sigma_t_ch2],\n",
    "                          ydata=ctd_df.index.get_level_values('depth'),\n",
    "                          secondary=True,\n",
    "                          xlabel=['Temperature','Salinity','SigmaT'])\n",
    "\n",
    "        DefaultSize = fig.get_size_inches()\n",
    "        fig.set_size_inches( (DefaultSize[0], DefaultSize[1]*3) )\n",
    "        plt.savefig(sample_data_dir+cast.replace('.nc','_TempSalSigmaT.png'))\n",
    "        plt.close(fig)"
   ]
  },
  {
   "cell_type": "code",
   "execution_count": 60,
   "id": "d8f4a442-947e-47c7-bc46-517c42eec83a",
   "metadata": {
    "tags": []
   },
   "outputs": [
    {
     "name": "stderr",
     "output_type": "stream",
     "text": [
      "/Users/bell/Programs/EcoFOCIpy/src/ecofocipy/plots/sbe_ctd_plots.py:105: RuntimeWarning: All-NaN axis encountered\n",
      "  abmin=np.min([np.nanmin(xdata[2]),np.nanmin(xdata[3])])\n",
      "/Users/bell/Programs/EcoFOCIpy/src/ecofocipy/plots/sbe_ctd_plots.py:106: RuntimeWarning: All-NaN axis encountered\n",
      "  abmax=np.max([np.nanmax(xdata[2]),np.nanmax(xdata[3])])\n"
     ]
    }
   ],
   "source": [
    "for cast in sorted(os.listdir(sample_data_dir)):\n",
    "    if cast.endswith('updated.nc'):\n",
    "        cruise_data_nc = xa.load_dataset(sample_data_dir+cast)\n",
    "        ctd_df = cruise_data_nc.to_dataframe()\n",
    "        \n",
    "        sbe_p = sbe_ctd_plots.CTDProfilePlot()\n",
    "        plt,fig =sbe_p.plot2var(varname=['temperature_ch1','temperature_ch2','oxy_percentsat_ch1','oxy_percentsat_ch2'],\n",
    "                          xdata=[ctd_df.temperature_ch1,ctd_df.temperature_ch2,ctd_df.oxy_percentsat_ch1,ctd_df.oxy_percentsat_ch1],\n",
    "                          ydata=ctd_df.index.get_level_values('depth'),\n",
    "                          secondary=True,\n",
    "                          xlabel=['Temperature','Oxygen Saturation'])\n",
    "\n",
    "        DefaultSize = fig.get_size_inches()\n",
    "        fig.set_size_inches( (DefaultSize[0], DefaultSize[1]*3) )\n",
    "        plt.savefig(sample_data_dir+cast.replace('.nc','_TempOxy.png'))\n",
    "        plt.close(fig)"
   ]
  },
  {
   "cell_type": "code",
   "execution_count": 61,
   "id": "2f894628-4506-44da-9f6c-fefab9471ec7",
   "metadata": {
    "tags": []
   },
   "outputs": [],
   "source": [
    "for cast in sorted(os.listdir(sample_data_dir)):\n",
    "    if cast.endswith('updated.nc'):\n",
    "        cruise_data_nc = xa.load_dataset(sample_data_dir+cast)\n",
    "        ctd_df = cruise_data_nc.to_dataframe()\n",
    "        \n",
    "        sbe_p = sbe_ctd_plots.CTDProfilePlot()\n",
    "        plt,fig =sbe_p.plot3var(varname=['turbidity','','par','','chlor_fluorescence',''],\n",
    "                          xdata=[ctd_df.turbidity,np.array([]),ctd_df.par,np.array([]),ctd_df.chlor_fluorescence,np.array([])],\n",
    "                          ydata=ctd_df.index.get_level_values('depth'),\n",
    "                          secondary=False,\n",
    "                          xlabel=['Turbidity','PAR','Fluor'])\n",
    "\n",
    "        DefaultSize = fig.get_size_inches()\n",
    "        fig.set_size_inches( (DefaultSize[0], DefaultSize[1]*3) )\n",
    "        plt.savefig(sample_data_dir+cast.replace('.nc','_ParTurbFluor.png'))\n",
    "        plt.close(fig)"
   ]
  },
  {
   "cell_type": "code",
   "execution_count": null,
   "id": "be9b3b11-187c-4e2e-9db0-72de686f7fc0",
   "metadata": {},
   "outputs": [],
   "source": []
  }
 ],
 "metadata": {
  "interpreter": {
   "hash": "bc96f01bfc9d2c897ec898f99e5079e1d7ab4b93a6c269a5e00afdb6d52f3b37"
  },
  "kernelspec": {
   "display_name": "Python 3 (ipykernel)",
   "language": "python",
   "name": "python3"
  },
  "language_info": {
   "codemirror_mode": {
    "name": "ipython",
    "version": 3
   },
   "file_extension": ".py",
   "mimetype": "text/x-python",
   "name": "python",
   "nbconvert_exporter": "python",
   "pygments_lexer": "ipython3",
   "version": "3.8.13"
  }
 },
 "nbformat": 4,
 "nbformat_minor": 5
}
