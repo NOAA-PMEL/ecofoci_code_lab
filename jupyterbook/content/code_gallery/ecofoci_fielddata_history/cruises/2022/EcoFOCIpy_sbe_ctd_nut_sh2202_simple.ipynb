{
 "cells": [
  {
   "cell_type": "markdown",
   "id": "educational-chosen",
   "metadata": {},
   "source": [
    "# Using EcoFOCIpy to process raw field data\n",
    "\n",
    "## Cruise ID - SH2202L(1|2)\n",
    "\n",
    "## BTL Data + Nutrient Data\n",
    "\n",
    "This is a streamlined version of generation routines to merge bottle data and Mordy Nut. Lab Nutrient Data for long term archive"
   ]
  },
  {
   "cell_type": "code",
   "execution_count": 1,
   "id": "studied-pollution",
   "metadata": {},
   "outputs": [],
   "source": [
    "import yaml\n",
    "import glob\n",
    "import pandas as pd\n",
    "\n",
    "import EcoFOCIpy.io.sbe_ctd_parser as sbe_ctd_parser #<- instrument specific\n",
    "import EcoFOCIpy.io.ncCFsave as ncCFsave\n",
    "import EcoFOCIpy.metaconfig.load_config as load_config"
   ]
  },
  {
   "cell_type": "code",
   "execution_count": 11,
   "id": "offensive-level",
   "metadata": {},
   "outputs": [],
   "source": [
    "sample_data_dir = '/Users/bell/ecoraid/2022/CTDcasts/sh2202l2/' #root path to cruise directory\n",
    "ecofocipy_dir = '/Users/bell/Programs/EcoFOCIpy/'"
   ]
  },
  {
   "cell_type": "code",
   "execution_count": 12,
   "id": "third-yellow",
   "metadata": {},
   "outputs": [
    {
     "name": "stdout",
     "output_type": "stream",
     "text": [
      "Processing /Users/bell/ecoraid/2022/CTDcasts/sh2202l2/rawconverted/ctd018.btl\n",
      "Processing /Users/bell/ecoraid/2022/CTDcasts/sh2202l2/rawconverted/ctd019.btl\n",
      "Processing /Users/bell/ecoraid/2022/CTDcasts/sh2202l2/rawconverted/ctd020.btl\n",
      "Processing /Users/bell/ecoraid/2022/CTDcasts/sh2202l2/rawconverted/ctd021.btl\n",
      "Processing /Users/bell/ecoraid/2022/CTDcasts/sh2202l2/rawconverted/ctd022.btl\n",
      "Processing /Users/bell/ecoraid/2022/CTDcasts/sh2202l2/rawconverted/ctd023.btl\n",
      "Processing /Users/bell/ecoraid/2022/CTDcasts/sh2202l2/rawconverted/ctd024.btl\n",
      "Processing /Users/bell/ecoraid/2022/CTDcasts/sh2202l2/rawconverted/ctd025.btl\n",
      "Processing /Users/bell/ecoraid/2022/CTDcasts/sh2202l2/rawconverted/ctd026.btl\n",
      "Processing /Users/bell/ecoraid/2022/CTDcasts/sh2202l2/rawconverted/ctd027.btl\n",
      "Processing /Users/bell/ecoraid/2022/CTDcasts/sh2202l2/rawconverted/ctd028.btl\n",
      "Processing /Users/bell/ecoraid/2022/CTDcasts/sh2202l2/rawconverted/ctd029.btl\n",
      "Processing /Users/bell/ecoraid/2022/CTDcasts/sh2202l2/rawconverted/ctd030.btl\n",
      "Processing /Users/bell/ecoraid/2022/CTDcasts/sh2202l2/rawconverted/ctd031.btl\n",
      "Processing /Users/bell/ecoraid/2022/CTDcasts/sh2202l2/rawconverted/ctd032.btl\n",
      "Processing /Users/bell/ecoraid/2022/CTDcasts/sh2202l2/rawconverted/ctd033.btl\n",
      "Processing /Users/bell/ecoraid/2022/CTDcasts/sh2202l2/rawconverted/ctd034.btl\n",
      "Processing /Users/bell/ecoraid/2022/CTDcasts/sh2202l2/rawconverted/ctd035.btl\n",
      "Processing /Users/bell/ecoraid/2022/CTDcasts/sh2202l2/rawconverted/ctd036.btl\n",
      "Processing /Users/bell/ecoraid/2022/CTDcasts/sh2202l2/rawconverted/ctd037.btl\n",
      "Processing /Users/bell/ecoraid/2022/CTDcasts/sh2202l2/rawconverted/ctd038.btl\n",
      "Processing /Users/bell/ecoraid/2022/CTDcasts/sh2202l2/rawconverted/ctd039.btl\n",
      "Processing /Users/bell/ecoraid/2022/CTDcasts/sh2202l2/rawconverted/ctd040.btl\n",
      "Processing /Users/bell/ecoraid/2022/CTDcasts/sh2202l2/rawconverted/ctd041.btl\n",
      "Processing /Users/bell/ecoraid/2022/CTDcasts/sh2202l2/rawconverted/ctd042.btl\n",
      "Processing /Users/bell/ecoraid/2022/CTDcasts/sh2202l2/rawconverted/ctd043.btl\n",
      "Processing /Users/bell/ecoraid/2022/CTDcasts/sh2202l2/rawconverted/ctd044.btl\n",
      "Processing /Users/bell/ecoraid/2022/CTDcasts/sh2202l2/rawconverted/ctd045.btl\n",
      "Processing /Users/bell/ecoraid/2022/CTDcasts/sh2202l2/rawconverted/ctd046.btl\n",
      "Processing /Users/bell/ecoraid/2022/CTDcasts/sh2202l2/rawconverted/ctd047.btl\n",
      "Processing /Users/bell/ecoraid/2022/CTDcasts/sh2202l2/rawconverted/ctd048.btl\n",
      "Processing /Users/bell/ecoraid/2022/CTDcasts/sh2202l2/rawconverted/ctd049.btl\n",
      "Processing /Users/bell/ecoraid/2022/CTDcasts/sh2202l2/rawconverted/ctd050.btl\n",
      "Processing /Users/bell/ecoraid/2022/CTDcasts/sh2202l2/rawconverted/ctd051.btl\n"
     ]
    }
   ],
   "source": [
    "###############################################################\n",
    "# edit to point to {cruise sepcific} raw datafiles \n",
    "datafile = sample_data_dir+'rawconverted/' #<- point to cruise and process all files within\n",
    "nutdatafile = sample_data_dir+'working/DiscreteNutrients/SH2202 Nutrient Data.txt' #<- point to cruise and process all files within\n",
    "cruise_name = 'sh2202l2' #no hyphens\n",
    "cruise_meta_file = sample_data_dir+'logs/sh2202l2.yaml'\n",
    "inst_meta_file = sample_data_dir+'logs/FOCI_standard_CTDpNutsWOCE.yaml' #<- copy to each deployment for simplicity?\n",
    "group_meta_file = ecofocipy_dir+'staticdata/institutional_meta_example.yaml'\n",
    "###############################################################\n",
    "\n",
    "#init and load data\n",
    "cruise = sbe_ctd_parser.sbe_btl()\n",
    "filename_list = sorted(glob.glob(datafile + '*.btl'))\n",
    "\n",
    "cruise_data = cruise.manual_parse(filename_list)"
   ]
  },
  {
   "cell_type": "markdown",
   "id": "21b60694-2698-480d-98ba-4ea070b2e4b0",
   "metadata": {},
   "source": [
    "## Load csv Nutrient File"
   ]
  },
  {
   "cell_type": "code",
   "execution_count": 13,
   "id": "f0fb5c09-d76d-455c-89f4-3ba6a7954f00",
   "metadata": {},
   "outputs": [
    {
     "data": {
      "text/html": [
       "<div>\n",
       "<style scoped>\n",
       "    .dataframe tbody tr th:only-of-type {\n",
       "        vertical-align: middle;\n",
       "    }\n",
       "\n",
       "    .dataframe tbody tr th {\n",
       "        vertical-align: top;\n",
       "    }\n",
       "\n",
       "    .dataframe thead th {\n",
       "        text-align: right;\n",
       "    }\n",
       "</style>\n",
       "<table border=\"1\" class=\"dataframe\">\n",
       "  <thead>\n",
       "    <tr style=\"text-align: right;\">\n",
       "      <th></th>\n",
       "      <th>Cast</th>\n",
       "      <th>Niskin</th>\n",
       "      <th>PO4 (uM)</th>\n",
       "      <th>Sil (uM)</th>\n",
       "      <th>NO3 (uM)</th>\n",
       "      <th>NO2 (uM)</th>\n",
       "      <th>NH4 (uM)</th>\n",
       "    </tr>\n",
       "  </thead>\n",
       "  <tbody>\n",
       "    <tr>\n",
       "      <th>0</th>\n",
       "      <td>1</td>\n",
       "      <td>1</td>\n",
       "      <td>2.929</td>\n",
       "      <td>76.7400</td>\n",
       "      <td>31.1835</td>\n",
       "      <td>0.0165</td>\n",
       "      <td>0.4900</td>\n",
       "    </tr>\n",
       "    <tr>\n",
       "      <th>1</th>\n",
       "      <td>1</td>\n",
       "      <td>3</td>\n",
       "      <td>2.461</td>\n",
       "      <td>55.1560</td>\n",
       "      <td>27.1570</td>\n",
       "      <td>0.0160</td>\n",
       "      <td>0.4000</td>\n",
       "    </tr>\n",
       "    <tr>\n",
       "      <th>2</th>\n",
       "      <td>1</td>\n",
       "      <td>4</td>\n",
       "      <td>2.359</td>\n",
       "      <td>48.4730</td>\n",
       "      <td>28.2110</td>\n",
       "      <td>0.0170</td>\n",
       "      <td>0.4600</td>\n",
       "    </tr>\n",
       "    <tr>\n",
       "      <th>3</th>\n",
       "      <td>1</td>\n",
       "      <td>5</td>\n",
       "      <td>2.185</td>\n",
       "      <td>27.8350</td>\n",
       "      <td>19.7070</td>\n",
       "      <td>0.0290</td>\n",
       "      <td>0.3300</td>\n",
       "    </tr>\n",
       "    <tr>\n",
       "      <th>4</th>\n",
       "      <td>1</td>\n",
       "      <td>6</td>\n",
       "      <td>1.754</td>\n",
       "      <td>25.5880</td>\n",
       "      <td>18.5290</td>\n",
       "      <td>0.0180</td>\n",
       "      <td>0.4600</td>\n",
       "    </tr>\n",
       "    <tr>\n",
       "      <th>...</th>\n",
       "      <td>...</td>\n",
       "      <td>...</td>\n",
       "      <td>...</td>\n",
       "      <td>...</td>\n",
       "      <td>...</td>\n",
       "      <td>...</td>\n",
       "      <td>...</td>\n",
       "    </tr>\n",
       "    <tr>\n",
       "      <th>256</th>\n",
       "      <td>51</td>\n",
       "      <td>6</td>\n",
       "      <td>0.885</td>\n",
       "      <td>3.3780</td>\n",
       "      <td>5.6010</td>\n",
       "      <td>0.3250</td>\n",
       "      <td>0.2550</td>\n",
       "    </tr>\n",
       "    <tr>\n",
       "      <th>257</th>\n",
       "      <td>51</td>\n",
       "      <td>7</td>\n",
       "      <td>0.800</td>\n",
       "      <td>2.7770</td>\n",
       "      <td>4.3580</td>\n",
       "      <td>0.1940</td>\n",
       "      <td>0.2330</td>\n",
       "    </tr>\n",
       "    <tr>\n",
       "      <th>258</th>\n",
       "      <td>51</td>\n",
       "      <td>8</td>\n",
       "      <td>0.772</td>\n",
       "      <td>2.9005</td>\n",
       "      <td>3.9220</td>\n",
       "      <td>0.1780</td>\n",
       "      <td>0.2365</td>\n",
       "    </tr>\n",
       "    <tr>\n",
       "      <th>259</th>\n",
       "      <td>51</td>\n",
       "      <td>9</td>\n",
       "      <td>0.760</td>\n",
       "      <td>2.2250</td>\n",
       "      <td>3.3290</td>\n",
       "      <td>0.1565</td>\n",
       "      <td>0.2230</td>\n",
       "    </tr>\n",
       "    <tr>\n",
       "      <th>260</th>\n",
       "      <td>51</td>\n",
       "      <td>10</td>\n",
       "      <td>0.737</td>\n",
       "      <td>1.9510</td>\n",
       "      <td>2.9700</td>\n",
       "      <td>0.1460</td>\n",
       "      <td>0.2130</td>\n",
       "    </tr>\n",
       "  </tbody>\n",
       "</table>\n",
       "<p>261 rows × 7 columns</p>\n",
       "</div>"
      ],
      "text/plain": [
       "     Cast  Niskin  PO4 (uM)  Sil (uM)  NO3 (uM)  NO2 (uM)  NH4 (uM)\n",
       "0       1       1     2.929   76.7400   31.1835    0.0165    0.4900\n",
       "1       1       3     2.461   55.1560   27.1570    0.0160    0.4000\n",
       "2       1       4     2.359   48.4730   28.2110    0.0170    0.4600\n",
       "3       1       5     2.185   27.8350   19.7070    0.0290    0.3300\n",
       "4       1       6     1.754   25.5880   18.5290    0.0180    0.4600\n",
       "..    ...     ...       ...       ...       ...       ...       ...\n",
       "256    51       6     0.885    3.3780    5.6010    0.3250    0.2550\n",
       "257    51       7     0.800    2.7770    4.3580    0.1940    0.2330\n",
       "258    51       8     0.772    2.9005    3.9220    0.1780    0.2365\n",
       "259    51       9     0.760    2.2250    3.3290    0.1565    0.2230\n",
       "260    51      10     0.737    1.9510    2.9700    0.1460    0.2130\n",
       "\n",
       "[261 rows x 7 columns]"
      ]
     },
     "execution_count": 13,
     "metadata": {},
     "output_type": "execute_result"
    }
   ],
   "source": [
    "nut_data = pd.read_csv(nutdatafile,delimiter='\\t')\n",
    "nut_data"
   ]
  },
  {
   "cell_type": "markdown",
   "id": "75b5ed69-2eac-4a61-a597-1beac3cf628b",
   "metadata": {},
   "source": [
    "## Merge Bottle and Nutrient Data but drop non nutrient vars?"
   ]
  },
  {
   "cell_type": "code",
   "execution_count": 14,
   "id": "586c00a1-4b89-4488-927c-a9d84df24225",
   "metadata": {
    "tags": []
   },
   "outputs": [],
   "source": [
    "keep_param = ['bottle','prdm']\n",
    "# keep_param = ['bottle','prsm']\n",
    "\n",
    "for cast,cdata in cruise_data.items():\n",
    "    try:\n",
    "        matchcast = int((cast.split('.')[0]).lower().split('ctd')[-1])\n",
    "        cruise_data[cast] = pd.merge(nut_data[nut_data['Cast']==matchcast],cdata.reset_index()[keep_param],right_on='bottle',left_on='Niskin').set_index('bottle').drop(columns=['Cast'])\n",
    "    except:\n",
    "        continue"
   ]
  },
  {
   "cell_type": "markdown",
   "id": "acknowledged-active",
   "metadata": {},
   "source": [
    "## Add Deployment meta information"
   ]
  },
  {
   "cell_type": "code",
   "execution_count": 15,
   "id": "freelance-fairy",
   "metadata": {},
   "outputs": [],
   "source": [
    "#just a dictionary of dictionaries - simple\n",
    "with open(cruise_meta_file) as file:\n",
    "    cruise_config = yaml.full_load(file)"
   ]
  },
  {
   "cell_type": "markdown",
   "id": "mysterious-cornwall",
   "metadata": {},
   "source": [
    "## Add Instrument meta information\n",
    "\n",
    "Time, depth, lat, lon should be added regardless (always our coordinates) but for a mooring site its going to be a (1,1,1,t) dataset\n",
    "The variables of interest should be read from the data file and matched to a key for naming.  That key is in the inst_config file seen below and should represent common conversion names in the raw data"
   ]
  },
  {
   "cell_type": "code",
   "execution_count": 16,
   "id": "checked-raise",
   "metadata": {
    "tags": []
   },
   "outputs": [],
   "source": [
    "with open(inst_meta_file) as file:\n",
    "    inst_config = yaml.full_load(file)"
   ]
  },
  {
   "cell_type": "markdown",
   "id": "56119e2f",
   "metadata": {},
   "source": [
    "## Add institutional meta-information\n"
   ]
  },
  {
   "cell_type": "code",
   "execution_count": 17,
   "id": "24b2c8b0",
   "metadata": {},
   "outputs": [],
   "source": [
    "with open(group_meta_file) as file:\n",
    "    group_config = yaml.full_load(file)"
   ]
  },
  {
   "cell_type": "markdown",
   "id": "sustained-hughes",
   "metadata": {},
   "source": [
    "## Save CF Netcdf files\n",
    "\n",
    "Currently stick to netcdf3 classic... but migrating to netcdf4 (default) may be no problems for most modern purposes.  Its easy enough to pass the `format` kwargs through to the netcdf api of xarray."
   ]
  },
  {
   "cell_type": "code",
   "execution_count": 18,
   "id": "modular-volunteer",
   "metadata": {
    "tags": []
   },
   "outputs": [
    {
     "name": "stdout",
     "output_type": "stream",
     "text": [
      "Skipping 018\n",
      "Skipping 020\n",
      "Skipping 022\n",
      "Skipping 024\n",
      "Skipping 026\n",
      "Skipping 028\n",
      "Skipping 030\n",
      "Skipping 032\n",
      "Skipping 034\n",
      "Skipping 036\n",
      "Skipping 038\n",
      "Skipping 040\n",
      "Skipping 042\n",
      "Skipping 044\n",
      "Skipping 046\n",
      "Skipping 048\n",
      "Skipping 050\n"
     ]
    }
   ],
   "source": [
    "#loop over all casts and perform tasks shown above\n",
    "\n",
    "for cast in cruise_data.keys():\n",
    "    try:\n",
    "        cruise_data[cast] = cruise_data[cast].rename(columns={\n",
    "                            'Sil (uM)':'SI',\n",
    "                            'PO4 (uM)':'PO4',\n",
    "                            'NO2 (uM)':'NO2', \n",
    "                            'NO3 (uM)':'NO3',\n",
    "                            'NH4 (uM)':'NH4',\n",
    "                            'Sil Flag':'SI_WOCE_FLAG',\n",
    "                            'PO4 Flag':'PO4_WOCE_FLAG',\n",
    "                            'NO2 Flag':'NO2_WOCE_FLAG', \n",
    "                            'NO3 Flag':'NO3_WOCE_FLAG',\n",
    "                            'NH4 Flag':'NH4_WOCE_FLAG',\n",
    "                            'Niskin':'BTLID',\n",
    "                            'prdm':'pressure',\n",
    "                            'empty':'empty', #this will be ignored\n",
    "                            'flag':'flag'})\n",
    "\n",
    "        cruise_data_nc = ncCFsave.EcoFOCI_CFnc(df=cruise_data[cast], \n",
    "                                    instrument_yaml=inst_config, \n",
    "                                    operation_yaml=cruise_config,\n",
    "                                    operation_type='ctd')\n",
    "\n",
    "        cruise_data_nc.expand_dimensions(dim_names=['latitude','longitude','time'],geophys_sort=False)\n",
    "\n",
    "        cruise_data_nc.variable_meta_data(variable_keys=list(cruise_data[cast].columns.values),drop_missing=False)\n",
    "        #adding dimension meta needs to come after updating the dimension values... BUG?\n",
    "        cruise_data_nc.dimension_meta_data(variable_keys=['time','latitude','longitude'])\n",
    "        cruise_data_nc.temporal_geospatioal_meta_data_ctd(positiveE=False,conscastno=cast.split('.')[0])\n",
    "\n",
    "        #add global attributes\n",
    "        cruise_data_nc.deployment_meta_add(conscastno=cast.split('.')[0].upper())\n",
    "\n",
    "        #add instituitonal global attributes\n",
    "        cruise_data_nc.institution_meta_add(group_config)\n",
    "\n",
    "        #add creation date/time - provenance data\n",
    "        cruise_data_nc.provinance_meta_add()\n",
    "\n",
    "        #provide intial qc status field\n",
    "        cruise_data_nc.qc_status(qc_status='excellent') #<- options are unknown, excellent, probably good, mixed, unqcd\n",
    "\n",
    "        cast = cast.lower().split('d')[-1].split('.')[0]\n",
    "        cruise_data_nc.xarray2netcdf_save(xdf = cruise_data_nc.get_xdf(),\n",
    "                                   filename=cruise_name+'c'+cast.zfill(3)+'_nut.nc',format=\"NETCDF3_CLASSIC\")\n",
    "    except:\n",
    "        print(f'Skipping {cast}')"
   ]
  },
  {
   "cell_type": "markdown",
   "id": "individual-nature",
   "metadata": {},
   "source": [
    "## Next Steps\n",
    "\n",
    "QC of data (plot parameters with other instruments)\n",
    "- be sure to updated the qc_status and the history"
   ]
  },
  {
   "cell_type": "code",
   "execution_count": null,
   "id": "e1da9a83-a5b8-4847-ba47-ed34e7fae455",
   "metadata": {},
   "outputs": [],
   "source": []
  }
 ],
 "metadata": {
  "kernelspec": {
   "display_name": "Python [conda env:miniconda3-py310]",
   "language": "python",
   "name": "conda-env-miniconda3-py310-py"
  },
  "language_info": {
   "codemirror_mode": {
    "name": "ipython",
    "version": 3
   },
   "file_extension": ".py",
   "mimetype": "text/x-python",
   "name": "python",
   "nbconvert_exporter": "python",
   "pygments_lexer": "ipython3",
   "version": "3.10.8"
  }
 },
 "nbformat": 4,
 "nbformat_minor": 5
}
