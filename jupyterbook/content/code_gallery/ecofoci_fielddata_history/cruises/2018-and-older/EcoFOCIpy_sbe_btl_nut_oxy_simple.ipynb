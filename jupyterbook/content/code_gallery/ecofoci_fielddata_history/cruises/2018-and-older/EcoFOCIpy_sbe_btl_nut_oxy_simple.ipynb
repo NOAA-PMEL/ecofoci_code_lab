{
 "cells": [
  {
   "cell_type": "markdown",
   "id": "educational-chosen",
   "metadata": {},
   "source": [
    "# Using EcoFOCIpy to process Winkler/Nutrient field data\n",
    "\n",
    "## ____ Template for cruise (pre 2020)\n",
    "\n",
    "## BTL Data + Nutrient Data\n",
    "\n",
    "This is a streamlined version of generation routines to merge bottle data and Mordy Nut. Lab Nutrient Data for long term archive and Oxygen Winkler Data"
   ]
  },
  {
   "cell_type": "markdown",
   "id": "b7e82384-88f7-4353-8857-e818b40163d7",
   "metadata": {},
   "source": [
    "<div class=\"warning\" style='background-color:#E9D8FD; color: #69337A; border-left: solid #805AD5 4px; border-radius: 4px; padding:0.7em;'>\n",
    "<span>\n",
    "<p style='margin-top:1em; text-align:center'>\n",
    "<b>A template for Nutrient Lab and Oxygen Winkler ASCII files to NETCDF</b></p>\n",
    "<p style='margin-left:1em;'>\n",
    "Populate the necessary paths in the following cells.</p>\n",
    "<p style='margin-bottom:1em; margin-right:1em; text-align:right; font-family:Georgia'> <b>- Shaun Bell</b>\n",
    "</p></span>\n",
    "</div>\n"
   ]
  },
  {
   "cell_type": "code",
   "execution_count": 78,
   "id": "studied-pollution",
   "metadata": {},
   "outputs": [],
   "source": [
    "import yaml\n",
    "import glob\n",
    "import os\n",
    "import pandas as pd\n",
    "\n",
    "import ecofocipy.io.sbe_ctd_parser as sbe_ctd_parser #<- instrument specific\n",
    "import ecofocipy.io.ncCFsave as ncCFsave\n",
    "import ecofocipy.metaconfig.load_config as load_config"
   ]
  },
  {
   "cell_type": "code",
   "execution_count": 79,
   "id": "offensive-level",
   "metadata": {},
   "outputs": [],
   "source": [
    "sample_data_dir = '/Users/bell/ecoraid/2021/CTDcasts/dy2103/' #root path to cruise directory\n",
    "ecofocipy_dir = '/Users/bell/Programs/EcoFOCIpy/'"
   ]
  },
  {
   "cell_type": "code",
   "execution_count": 125,
   "id": "third-yellow",
   "metadata": {
    "tags": []
   },
   "outputs": [
    {
     "name": "stdout",
     "output_type": "stream",
     "text": [
      "Processing /Users/bell/ecoraid/2021/CTDcasts/dy2103/rawconverted/ctd001.btl\n",
      "Processing /Users/bell/ecoraid/2021/CTDcasts/dy2103/rawconverted/ctd002.btl\n",
      "Processing /Users/bell/ecoraid/2021/CTDcasts/dy2103/rawconverted/ctd003.btl\n",
      "Processing /Users/bell/ecoraid/2021/CTDcasts/dy2103/rawconverted/ctd004.btl\n",
      "Processing /Users/bell/ecoraid/2021/CTDcasts/dy2103/rawconverted/ctd005.btl\n",
      "Processing /Users/bell/ecoraid/2021/CTDcasts/dy2103/rawconverted/ctd006.btl\n",
      "Processing /Users/bell/ecoraid/2021/CTDcasts/dy2103/rawconverted/ctd007.btl\n",
      "Processing /Users/bell/ecoraid/2021/CTDcasts/dy2103/rawconverted/ctd008.btl\n",
      "Processing /Users/bell/ecoraid/2021/CTDcasts/dy2103/rawconverted/ctd009.btl\n",
      "Processing /Users/bell/ecoraid/2021/CTDcasts/dy2103/rawconverted/ctd010.btl\n",
      "Processing /Users/bell/ecoraid/2021/CTDcasts/dy2103/rawconverted/ctd011.btl\n",
      "Processing /Users/bell/ecoraid/2021/CTDcasts/dy2103/rawconverted/ctd012.btl\n",
      "Processing /Users/bell/ecoraid/2021/CTDcasts/dy2103/rawconverted/ctd013.btl\n",
      "Processing /Users/bell/ecoraid/2021/CTDcasts/dy2103/rawconverted/ctd014.btl\n",
      "Processing /Users/bell/ecoraid/2021/CTDcasts/dy2103/rawconverted/ctd015.btl\n",
      "Processing /Users/bell/ecoraid/2021/CTDcasts/dy2103/rawconverted/ctd016.btl\n",
      "Processing /Users/bell/ecoraid/2021/CTDcasts/dy2103/rawconverted/ctd017.btl\n",
      "Processing /Users/bell/ecoraid/2021/CTDcasts/dy2103/rawconverted/ctd018.btl\n",
      "Processing /Users/bell/ecoraid/2021/CTDcasts/dy2103/rawconverted/ctd019.btl\n",
      "Processing /Users/bell/ecoraid/2021/CTDcasts/dy2103/rawconverted/ctd020.btl\n",
      "Processing /Users/bell/ecoraid/2021/CTDcasts/dy2103/rawconverted/ctd021.btl\n",
      "Processing /Users/bell/ecoraid/2021/CTDcasts/dy2103/rawconverted/ctd022.btl\n",
      "Processing /Users/bell/ecoraid/2021/CTDcasts/dy2103/rawconverted/ctd023.btl\n",
      "Processing /Users/bell/ecoraid/2021/CTDcasts/dy2103/rawconverted/ctd024.btl\n",
      "Processing /Users/bell/ecoraid/2021/CTDcasts/dy2103/rawconverted/ctd025.btl\n",
      "Processing /Users/bell/ecoraid/2021/CTDcasts/dy2103/rawconverted/ctd026.btl\n",
      "Processing /Users/bell/ecoraid/2021/CTDcasts/dy2103/rawconverted/ctd027.btl\n",
      "Processing /Users/bell/ecoraid/2021/CTDcasts/dy2103/rawconverted/ctd028.btl\n",
      "Processing /Users/bell/ecoraid/2021/CTDcasts/dy2103/rawconverted/ctd029.btl\n",
      "Processing /Users/bell/ecoraid/2021/CTDcasts/dy2103/rawconverted/ctd030.btl\n",
      "Processing /Users/bell/ecoraid/2021/CTDcasts/dy2103/rawconverted/ctd031.btl\n",
      "Processing /Users/bell/ecoraid/2021/CTDcasts/dy2103/rawconverted/ctd032.btl\n",
      "Processing /Users/bell/ecoraid/2021/CTDcasts/dy2103/rawconverted/ctd033.btl\n",
      "Processing /Users/bell/ecoraid/2021/CTDcasts/dy2103/rawconverted/ctd034.btl\n",
      "Processing /Users/bell/ecoraid/2021/CTDcasts/dy2103/rawconverted/ctd035.btl\n",
      "Processing /Users/bell/ecoraid/2021/CTDcasts/dy2103/rawconverted/ctd036.btl\n",
      "Processing /Users/bell/ecoraid/2021/CTDcasts/dy2103/rawconverted/ctd037.btl\n",
      "Processing /Users/bell/ecoraid/2021/CTDcasts/dy2103/rawconverted/ctd038.btl\n",
      "Processing /Users/bell/ecoraid/2021/CTDcasts/dy2103/rawconverted/ctd039.btl\n",
      "Processing /Users/bell/ecoraid/2021/CTDcasts/dy2103/rawconverted/ctd040.btl\n",
      "Processing /Users/bell/ecoraid/2021/CTDcasts/dy2103/rawconverted/ctd041.btl\n",
      "Processing /Users/bell/ecoraid/2021/CTDcasts/dy2103/rawconverted/ctd042.btl\n",
      "Processing /Users/bell/ecoraid/2021/CTDcasts/dy2103/rawconverted/ctd043.btl\n",
      "Processing /Users/bell/ecoraid/2021/CTDcasts/dy2103/rawconverted/ctd044.btl\n",
      "Processing /Users/bell/ecoraid/2021/CTDcasts/dy2103/rawconverted/ctd045.btl\n",
      "Processing /Users/bell/ecoraid/2021/CTDcasts/dy2103/rawconverted/ctd046.btl\n",
      "Processing /Users/bell/ecoraid/2021/CTDcasts/dy2103/rawconverted/ctd047.btl\n",
      "Processing /Users/bell/ecoraid/2021/CTDcasts/dy2103/rawconverted/ctd048.btl\n",
      "Processing /Users/bell/ecoraid/2021/CTDcasts/dy2103/rawconverted/ctd049.btl\n",
      "Processing /Users/bell/ecoraid/2021/CTDcasts/dy2103/rawconverted/ctd050.btl\n",
      "Processing /Users/bell/ecoraid/2021/CTDcasts/dy2103/rawconverted/ctd051.btl\n",
      "Processing /Users/bell/ecoraid/2021/CTDcasts/dy2103/rawconverted/ctd052.btl\n",
      "Processing /Users/bell/ecoraid/2021/CTDcasts/dy2103/rawconverted/ctd053.btl\n",
      "Processing /Users/bell/ecoraid/2021/CTDcasts/dy2103/rawconverted/ctd054.btl\n",
      "Processing /Users/bell/ecoraid/2021/CTDcasts/dy2103/rawconverted/ctd056.btl\n",
      "Processing /Users/bell/ecoraid/2021/CTDcasts/dy2103/rawconverted/ctd058.btl\n",
      "Processing /Users/bell/ecoraid/2021/CTDcasts/dy2103/rawconverted/ctd059.btl\n",
      "Processing /Users/bell/ecoraid/2021/CTDcasts/dy2103/rawconverted/ctd060.btl\n",
      "Processing /Users/bell/ecoraid/2021/CTDcasts/dy2103/rawconverted/ctd061.btl\n",
      "Processing /Users/bell/ecoraid/2021/CTDcasts/dy2103/rawconverted/ctd062.btl\n",
      "Processing /Users/bell/ecoraid/2021/CTDcasts/dy2103/rawconverted/ctd063.btl\n",
      "Processing /Users/bell/ecoraid/2021/CTDcasts/dy2103/rawconverted/ctd064.btl\n",
      "Processing /Users/bell/ecoraid/2021/CTDcasts/dy2103/rawconverted/ctd065.btl\n",
      "Processing /Users/bell/ecoraid/2021/CTDcasts/dy2103/rawconverted/ctd066.btl\n",
      "Processing /Users/bell/ecoraid/2021/CTDcasts/dy2103/rawconverted/ctd067.btl\n",
      "Processing /Users/bell/ecoraid/2021/CTDcasts/dy2103/rawconverted/ctd068.btl\n",
      "Processing /Users/bell/ecoraid/2021/CTDcasts/dy2103/rawconverted/ctd069.btl\n",
      "Processing /Users/bell/ecoraid/2021/CTDcasts/dy2103/rawconverted/ctd070.btl\n",
      "Processing /Users/bell/ecoraid/2021/CTDcasts/dy2103/rawconverted/ctd071.btl\n",
      "Processing /Users/bell/ecoraid/2021/CTDcasts/dy2103/rawconverted/ctd072.btl\n",
      "Processing /Users/bell/ecoraid/2021/CTDcasts/dy2103/rawconverted/ctd073.btl\n",
      "Processing /Users/bell/ecoraid/2021/CTDcasts/dy2103/rawconverted/ctd074.btl\n",
      "Processing /Users/bell/ecoraid/2021/CTDcasts/dy2103/rawconverted/ctd075.btl\n",
      "Processing /Users/bell/ecoraid/2021/CTDcasts/dy2103/rawconverted/ctd076.btl\n",
      "Processing /Users/bell/ecoraid/2021/CTDcasts/dy2103/rawconverted/ctd077.btl\n",
      "Processing /Users/bell/ecoraid/2021/CTDcasts/dy2103/rawconverted/ctd078.btl\n",
      "Processing /Users/bell/ecoraid/2021/CTDcasts/dy2103/rawconverted/ctd079.btl\n",
      "Processing /Users/bell/ecoraid/2021/CTDcasts/dy2103/rawconverted/ctd080.btl\n",
      "Processing /Users/bell/ecoraid/2021/CTDcasts/dy2103/rawconverted/ctd081.btl\n",
      "Processing /Users/bell/ecoraid/2021/CTDcasts/dy2103/rawconverted/ctd082.btl\n",
      "Processing /Users/bell/ecoraid/2021/CTDcasts/dy2103/rawconverted/ctd083.btl\n",
      "Processing /Users/bell/ecoraid/2021/CTDcasts/dy2103/rawconverted/ctd085.btl\n",
      "Processing /Users/bell/ecoraid/2021/CTDcasts/dy2103/rawconverted/ctd086.btl\n",
      "Processing /Users/bell/ecoraid/2021/CTDcasts/dy2103/rawconverted/ctd087.btl\n",
      "Processing /Users/bell/ecoraid/2021/CTDcasts/dy2103/rawconverted/ctd088.btl\n"
     ]
    }
   ],
   "source": [
    "###############################################################\n",
    "# edit to point to {cruise sepcific} raw datafiles \n",
    "datafile = sample_data_dir+'rawconverted/' #<- point to cruise and process all files within\n",
    "nutdatafile = sample_data_dir+'working/Discrete_Nutrients/DY2103 Nutrient Data.txt' #<- point to cruise and process all files within\n",
    "oxydatafile = sample_data_dir+'working/Discrete_Oxygens/DY2103 Oxygen Data.txt' #<- point to cruise and process all files within\n",
    "cruise_name = 'dy2103' #no hyphens\n",
    "cruise_meta_file = sample_data_dir+'logs/DY2103.yaml'\n",
    "inst_nut_meta_file = sample_data_dir+'logs/FOCI_standard_CTDpNuts.yaml' #<- copy to each deployment for simplicity?\n",
    "inst_oxy_meta_file = sample_data_dir+'logs/FOCI_standard_CTDpOxy.yaml' #<- copy to each deployment for simplicity?\n",
    "group_meta_file = ecofocipy_dir+'staticdata/institutional_meta_example.yaml'\n",
    "###############################################################\n",
    "\n",
    "# Process Nutrients and Oxygen Flags\n",
    "nut_proc = False\n",
    "oxy_proc = True\n",
    "\n",
    "#init and load data\n",
    "cruise = sbe_ctd_parser.sbe_btl()\n",
    "filename_list = sorted(glob.glob(datafile + '*.btl'))\n",
    "\n",
    "cruise_btl_data = cruise.manual_parse(filename_list)"
   ]
  },
  {
   "cell_type": "markdown",
   "id": "21b60694-2698-480d-98ba-4ea070b2e4b0",
   "metadata": {},
   "source": [
    "## Load csv Nutrient File"
   ]
  },
  {
   "cell_type": "code",
   "execution_count": 129,
   "id": "f0fb5c09-d76d-455c-89f4-3ba6a7954f00",
   "metadata": {},
   "outputs": [
    {
     "ename": "NameError",
     "evalue": "name 'nut_data' is not defined",
     "output_type": "error",
     "traceback": [
      "\u001b[0;31m---------------------------------------------------------------------------\u001b[0m",
      "\u001b[0;31mNameError\u001b[0m                                 Traceback (most recent call last)",
      "Input \u001b[0;32mIn [129]\u001b[0m, in \u001b[0;36m<cell line: 3>\u001b[0;34m()\u001b[0m\n\u001b[1;32m      1\u001b[0m \u001b[38;5;28;01mif\u001b[39;00m nut_proc:\n\u001b[1;32m      2\u001b[0m     nut_data \u001b[38;5;241m=\u001b[39m pd\u001b[38;5;241m.\u001b[39mread_csv(nutdatafile,delimiter\u001b[38;5;241m=\u001b[39m\u001b[38;5;124m'\u001b[39m\u001b[38;5;130;01m\\t\u001b[39;00m\u001b[38;5;124m'\u001b[39m)\n\u001b[0;32m----> 3\u001b[0m \u001b[43mnut_data\u001b[49m\n",
      "\u001b[0;31mNameError\u001b[0m: name 'nut_data' is not defined"
     ]
    }
   ],
   "source": [
    "if nut_proc:\n",
    "    nut_data = pd.read_csv(nutdatafile,delimiter='\\t')\n",
    "nut_data"
   ]
  },
  {
   "cell_type": "markdown",
   "id": "55971506-dfe2-4b05-8958-3d5781220fd7",
   "metadata": {},
   "source": [
    "## Load csv Oxygen File"
   ]
  },
  {
   "cell_type": "code",
   "execution_count": 128,
   "id": "cec53d63-2b4f-46f2-b115-85f585fd170d",
   "metadata": {},
   "outputs": [
    {
     "data": {
      "text/html": [
       "<div>\n",
       "<style scoped>\n",
       "    .dataframe tbody tr th:only-of-type {\n",
       "        vertical-align: middle;\n",
       "    }\n",
       "\n",
       "    .dataframe tbody tr th {\n",
       "        vertical-align: top;\n",
       "    }\n",
       "\n",
       "    .dataframe thead th {\n",
       "        text-align: right;\n",
       "    }\n",
       "</style>\n",
       "<table border=\"1\" class=\"dataframe\">\n",
       "  <thead>\n",
       "    <tr style=\"text-align: right;\">\n",
       "      <th></th>\n",
       "      <th>Cast</th>\n",
       "      <th>Niskin</th>\n",
       "      <th>O2 (uM)</th>\n",
       "    </tr>\n",
       "  </thead>\n",
       "  <tbody>\n",
       "    <tr>\n",
       "      <th>0</th>\n",
       "      <td>12</td>\n",
       "      <td>7</td>\n",
       "      <td>347.72</td>\n",
       "    </tr>\n",
       "    <tr>\n",
       "      <th>1</th>\n",
       "      <td>13</td>\n",
       "      <td>1</td>\n",
       "      <td>350.40</td>\n",
       "    </tr>\n",
       "    <tr>\n",
       "      <th>2</th>\n",
       "      <td>16</td>\n",
       "      <td>7</td>\n",
       "      <td>361.20</td>\n",
       "    </tr>\n",
       "    <tr>\n",
       "      <th>3</th>\n",
       "      <td>17</td>\n",
       "      <td>1</td>\n",
       "      <td>370.48</td>\n",
       "    </tr>\n",
       "    <tr>\n",
       "      <th>4</th>\n",
       "      <td>18</td>\n",
       "      <td>7</td>\n",
       "      <td>374.27</td>\n",
       "    </tr>\n",
       "    <tr>\n",
       "      <th>...</th>\n",
       "      <td>...</td>\n",
       "      <td>...</td>\n",
       "      <td>...</td>\n",
       "    </tr>\n",
       "    <tr>\n",
       "      <th>88</th>\n",
       "      <td>71</td>\n",
       "      <td>8</td>\n",
       "      <td>62.81</td>\n",
       "    </tr>\n",
       "    <tr>\n",
       "      <th>89</th>\n",
       "      <td>69</td>\n",
       "      <td>6</td>\n",
       "      <td>308.33</td>\n",
       "    </tr>\n",
       "    <tr>\n",
       "      <th>90</th>\n",
       "      <td>69</td>\n",
       "      <td>5</td>\n",
       "      <td>302.70</td>\n",
       "    </tr>\n",
       "    <tr>\n",
       "      <th>91</th>\n",
       "      <td>69</td>\n",
       "      <td>4</td>\n",
       "      <td>281.86</td>\n",
       "    </tr>\n",
       "    <tr>\n",
       "      <th>92</th>\n",
       "      <td>69</td>\n",
       "      <td>3</td>\n",
       "      <td>264.90</td>\n",
       "    </tr>\n",
       "  </tbody>\n",
       "</table>\n",
       "<p>93 rows × 3 columns</p>\n",
       "</div>"
      ],
      "text/plain": [
       "    Cast  Niskin  O2 (uM)\n",
       "0     12       7   347.72\n",
       "1     13       1   350.40\n",
       "2     16       7   361.20\n",
       "3     17       1   370.48\n",
       "4     18       7   374.27\n",
       "..   ...     ...      ...\n",
       "88    71       8    62.81\n",
       "89    69       6   308.33\n",
       "90    69       5   302.70\n",
       "91    69       4   281.86\n",
       "92    69       3   264.90\n",
       "\n",
       "[93 rows x 3 columns]"
      ]
     },
     "execution_count": 128,
     "metadata": {},
     "output_type": "execute_result"
    }
   ],
   "source": [
    "if oxy_proc:\n",
    "    oxy_data = pd.read_csv(oxydatafile,delimiter='\\t')\n",
    "oxy_data"
   ]
  },
  {
   "cell_type": "markdown",
   "id": "75b5ed69-2eac-4a61-a597-1beac3cf628b",
   "metadata": {},
   "source": [
    "## Merge Bottle and Nutrient Data but drop non nutrient vars?"
   ]
  },
  {
   "cell_type": "code",
   "execution_count": 88,
   "id": "586c00a1-4b89-4488-927c-a9d84df24225",
   "metadata": {
    "tags": []
   },
   "outputs": [],
   "source": [
    "keep_param = ['bottle','prdm']\n",
    "\n",
    "for cast,cdata in cruise_btl_data.items():\n",
    "    try:\n",
    "        matchcast = int((cast.split('.')[0]).lower().split('ctd')[-1])\n",
    "        cruise_data[cast] = pd.merge(nut_data[nut_data['Cast']==matchcast],cdata.reset_index()[keep_param],right_on='bottle',left_on='Niskin').set_index('bottle').drop(columns=['Cast'])\n",
    "    except:\n",
    "            continue"
   ]
  },
  {
   "cell_type": "markdown",
   "id": "acknowledged-active",
   "metadata": {},
   "source": [
    "## Add Deployment meta information"
   ]
  },
  {
   "cell_type": "code",
   "execution_count": 89,
   "id": "freelance-fairy",
   "metadata": {},
   "outputs": [],
   "source": [
    "#just a dictionary of dictionaries - simple\n",
    "with open(cruise_meta_file) as file:\n",
    "    cruise_config = yaml.full_load(file)"
   ]
  },
  {
   "cell_type": "markdown",
   "id": "mysterious-cornwall",
   "metadata": {},
   "source": [
    "## Add Instrument meta information\n",
    "\n",
    "Time, depth, lat, lon should be added regardless (always our coordinates) but for a mooring site its going to be a (1,1,1,t) dataset\n",
    "The variables of interest should be read from the data file and matched to a key for naming.  That key is in the inst_config file seen below and should represent common conversion names in the raw data"
   ]
  },
  {
   "cell_type": "code",
   "execution_count": 90,
   "id": "checked-raise",
   "metadata": {
    "tags": []
   },
   "outputs": [],
   "source": [
    "with open(inst_nut_meta_file) as file:\n",
    "    inst_nut_config = yaml.full_load(file)"
   ]
  },
  {
   "cell_type": "markdown",
   "id": "56119e2f",
   "metadata": {},
   "source": [
    "## Add institutional meta-information\n"
   ]
  },
  {
   "cell_type": "code",
   "execution_count": 91,
   "id": "24b2c8b0",
   "metadata": {},
   "outputs": [],
   "source": [
    "with open(group_meta_file) as file:\n",
    "    group_config = yaml.full_load(file)"
   ]
  },
  {
   "cell_type": "markdown",
   "id": "sustained-hughes",
   "metadata": {},
   "source": [
    "## Save CF Netcdf files\n",
    "\n",
    "Currently stick to netcdf3 classic... but migrating to netcdf4 (default) may be no problems for most modern purposes.  Its easy enough to pass the `format` kwargs through to the netcdf api of xarray."
   ]
  },
  {
   "cell_type": "code",
   "execution_count": 92,
   "id": "modular-volunteer",
   "metadata": {
    "tags": []
   },
   "outputs": [
    {
     "name": "stdout",
     "output_type": "stream",
     "text": [
      "Skipping & Removing ctd001.btl\n"
     ]
    },
    {
     "ename": "FileNotFoundError",
     "evalue": "[Errno 2] No such file or directory: 'dy2103cctd001.btl_nut.nc'",
     "output_type": "error",
     "traceback": [
      "\u001b[0;31m---------------------------------------------------------------------------\u001b[0m",
      "\u001b[0;31mNameError\u001b[0m                                 Traceback (most recent call last)",
      "Input \u001b[0;32mIn [92]\u001b[0m, in \u001b[0;36m<cell line: 3>\u001b[0;34m()\u001b[0m\n\u001b[1;32m      5\u001b[0m cruise_data[cast] \u001b[38;5;241m=\u001b[39m cruise_data[cast]\u001b[38;5;241m.\u001b[39mrename(columns\u001b[38;5;241m=\u001b[39m{\n\u001b[1;32m      6\u001b[0m                     \u001b[38;5;124m'\u001b[39m\u001b[38;5;124mSil (uM)\u001b[39m\u001b[38;5;124m'\u001b[39m:\u001b[38;5;124m'\u001b[39m\u001b[38;5;124mSI\u001b[39m\u001b[38;5;124m'\u001b[39m,\n\u001b[1;32m      7\u001b[0m                     \u001b[38;5;124m'\u001b[39m\u001b[38;5;124mPO4 (uM)\u001b[39m\u001b[38;5;124m'\u001b[39m:\u001b[38;5;124m'\u001b[39m\u001b[38;5;124mPO4\u001b[39m\u001b[38;5;124m'\u001b[39m,\n\u001b[0;32m   (...)\u001b[0m\n\u001b[1;32m     13\u001b[0m                     \u001b[38;5;124m'\u001b[39m\u001b[38;5;124mempty\u001b[39m\u001b[38;5;124m'\u001b[39m:\u001b[38;5;124m'\u001b[39m\u001b[38;5;124mempty\u001b[39m\u001b[38;5;124m'\u001b[39m, \u001b[38;5;66;03m#this will be ignored\u001b[39;00m\n\u001b[1;32m     14\u001b[0m                     \u001b[38;5;124m'\u001b[39m\u001b[38;5;124mflag\u001b[39m\u001b[38;5;124m'\u001b[39m:\u001b[38;5;124m'\u001b[39m\u001b[38;5;124mflag\u001b[39m\u001b[38;5;124m'\u001b[39m})\n\u001b[1;32m     16\u001b[0m cruise_data_nc \u001b[38;5;241m=\u001b[39m ncCFsave\u001b[38;5;241m.\u001b[39mEcoFOCI_CFnc(df\u001b[38;5;241m=\u001b[39mcruise_data[cast], \n\u001b[0;32m---> 17\u001b[0m                             instrument_yaml\u001b[38;5;241m=\u001b[39m\u001b[43minst_config\u001b[49m, \n\u001b[1;32m     18\u001b[0m                             operation_yaml\u001b[38;5;241m=\u001b[39mcruise_config,\n\u001b[1;32m     19\u001b[0m                             operation_type\u001b[38;5;241m=\u001b[39m\u001b[38;5;124m'\u001b[39m\u001b[38;5;124mctd\u001b[39m\u001b[38;5;124m'\u001b[39m)\n\u001b[1;32m     21\u001b[0m cruise_data_nc\u001b[38;5;241m.\u001b[39mexpand_dimensions(dim_names\u001b[38;5;241m=\u001b[39m[\u001b[38;5;124m'\u001b[39m\u001b[38;5;124mlatitude\u001b[39m\u001b[38;5;124m'\u001b[39m,\u001b[38;5;124m'\u001b[39m\u001b[38;5;124mlongitude\u001b[39m\u001b[38;5;124m'\u001b[39m,\u001b[38;5;124m'\u001b[39m\u001b[38;5;124mtime\u001b[39m\u001b[38;5;124m'\u001b[39m],geophys_sort\u001b[38;5;241m=\u001b[39m\u001b[38;5;28;01mFalse\u001b[39;00m)\n",
      "\u001b[0;31mNameError\u001b[0m: name 'inst_config' is not defined",
      "\nDuring handling of the above exception, another exception occurred:\n",
      "\u001b[0;31mFileNotFoundError\u001b[0m                         Traceback (most recent call last)",
      "Input \u001b[0;32mIn [92]\u001b[0m, in \u001b[0;36m<cell line: 3>\u001b[0;34m()\u001b[0m\n\u001b[1;32m     43\u001b[0m \u001b[38;5;28;01mexcept\u001b[39;00m:\n\u001b[1;32m     44\u001b[0m     \u001b[38;5;28mprint\u001b[39m(\u001b[38;5;124mf\u001b[39m\u001b[38;5;124m'\u001b[39m\u001b[38;5;124mSkipping & Removing \u001b[39m\u001b[38;5;132;01m{\u001b[39;00mcast\u001b[38;5;132;01m}\u001b[39;00m\u001b[38;5;124m'\u001b[39m)\n\u001b[0;32m---> 45\u001b[0m     \u001b[43mos\u001b[49m\u001b[38;5;241;43m.\u001b[39;49m\u001b[43mremove\u001b[49m\u001b[43m(\u001b[49m\u001b[43mpath\u001b[49m\u001b[38;5;241;43m=\u001b[39;49m\u001b[43mcruise_name\u001b[49m\u001b[38;5;241;43m+\u001b[39;49m\u001b[38;5;124;43m'\u001b[39;49m\u001b[38;5;124;43mc\u001b[39;49m\u001b[38;5;124;43m'\u001b[39;49m\u001b[38;5;241;43m+\u001b[39;49m\u001b[43mcast\u001b[49m\u001b[38;5;241;43m.\u001b[39;49m\u001b[43mzfill\u001b[49m\u001b[43m(\u001b[49m\u001b[38;5;241;43m3\u001b[39;49m\u001b[43m)\u001b[49m\u001b[38;5;241;43m+\u001b[39;49m\u001b[38;5;124;43m'\u001b[39;49m\u001b[38;5;124;43m_nut.nc\u001b[39;49m\u001b[38;5;124;43m'\u001b[39;49m\u001b[43m)\u001b[49m\n",
      "\u001b[0;31mFileNotFoundError\u001b[0m: [Errno 2] No such file or directory: 'dy2103cctd001.btl_nut.nc'"
     ]
    }
   ],
   "source": [
    "#loop over all casts and perform tasks shown above\n",
    "\n",
    "for cast in cruise_data.keys():\n",
    "    try:\n",
    "        cruise_data[cast] = cruise_data[cast].rename(columns={\n",
    "                            'Sil (uM)':'SI',\n",
    "                            'PO4 (uM)':'PO4',\n",
    "                            'NO2 (uM)':'NO2', \n",
    "                            'NO3 (uM)':'NO3',\n",
    "                            'NH4 (uM)':'NH4',\n",
    "                            'Niskin':'BTLID',\n",
    "                            'prdm':'pressure',\n",
    "                            'empty':'empty', #this will be ignored\n",
    "                            'flag':'flag'})\n",
    "\n",
    "        cruise_data_nc = ncCFsave.EcoFOCI_CFnc(df=cruise_data[cast], \n",
    "                                    instrument_yaml=inst_config, \n",
    "                                    operation_yaml=cruise_config,\n",
    "                                    operation_type='ctd')\n",
    "\n",
    "        cruise_data_nc.expand_dimensions(dim_names=['latitude','longitude','time'],geophys_sort=False)\n",
    "\n",
    "        cruise_data_nc.variable_meta_data(variable_keys=list(cruise_data[cast].columns.values),drop_missing=False)\n",
    "        #adding dimension meta needs to come after updating the dimension values... BUG?\n",
    "        cruise_data_nc.dimension_meta_data(variable_keys=['time','latitude','longitude'])\n",
    "        cruise_data_nc.temporal_geospatioal_meta_data_ctd(positiveE=False,conscastno=cast.split('.')[0])\n",
    "\n",
    "        #add global attributes\n",
    "        cruise_data_nc.deployment_meta_add(conscastno=cast.split('.')[0].upper())\n",
    "\n",
    "        #add instituitonal global attributes\n",
    "        cruise_data_nc.institution_meta_add(group_config)\n",
    "\n",
    "        #add creation date/time - provenance data\n",
    "        cruise_data_nc.provinance_meta_add()\n",
    "\n",
    "        #provide intial qc status field\n",
    "        cruise_data_nc.qc_status(qc_status='excellent') #<- options are unknown, excellent, probably good, mixed, unqcd\n",
    "\n",
    "        cruise_data_nc.xarray2netcdf_save(xdf = cruise_data_nc.get_xdf(),\n",
    "                                   filename=cruise_name+'c'+cast.lower().split('d')[-1].split('.')[0].zfill(3)+'_nut.nc',format=\"NETCDF3_CLASSIC\")\n",
    "    except:\n",
    "        print(f'Skipping & Removing {cast}')\n",
    "        os.remove(path=cruise_name+'c'+cast.lower().split('d')[-1].split('.')[0].zfill(3)+'_nut.nc')"
   ]
  },
  {
   "cell_type": "markdown",
   "id": "6b2abefa-a6f8-477d-b8eb-275475ff6e1b",
   "metadata": {},
   "source": [
    "## Merge Bottle and Oxygen Winkler Data but drop non oxygen vars?"
   ]
  },
  {
   "cell_type": "code",
   "execution_count": 116,
   "id": "9bc1713e-9498-4c9a-8876-2d417d7f37d6",
   "metadata": {
    "tags": []
   },
   "outputs": [],
   "source": [
    "keep_param = ['bottle','prdm']\n",
    "\n",
    "for cast,cdata in cruise_btl_data.items():\n",
    "    # try:\n",
    "    matchcast = int((cast.split('.')[0]).lower().split('ctd')[-1])\n",
    "    cruise_data[cast] = pd.merge(oxy_data[oxy_data['Cast']==matchcast],cdata.reset_index()[keep_param],right_on='bottle',left_on='Niskin').set_index('bottle').drop(columns=['Cast'])\n",
    "    # except:\n",
    "    #         continue"
   ]
  },
  {
   "cell_type": "markdown",
   "id": "9a6331c0-ef47-43bb-b828-cf39caa028f2",
   "metadata": {},
   "source": [
    "## Add Deployment meta information"
   ]
  },
  {
   "cell_type": "code",
   "execution_count": 117,
   "id": "a8869342-2f23-416a-b56e-09021cb1e6ac",
   "metadata": {},
   "outputs": [],
   "source": [
    "#just a dictionary of dictionaries - simple\n",
    "with open(cruise_meta_file) as file:\n",
    "    cruise_config = yaml.full_load(file)"
   ]
  },
  {
   "cell_type": "markdown",
   "id": "5a6f39b8-9722-4539-9143-33ca2f11323b",
   "metadata": {},
   "source": [
    "## Add Instrument meta information\n",
    "\n",
    "Time, depth, lat, lon should be added regardless (always our coordinates) but for a mooring site its going to be a (1,1,1,t) dataset\n",
    "The variables of interest should be read from the data file and matched to a key for naming.  That key is in the inst_config file seen below and should represent common conversion names in the raw data"
   ]
  },
  {
   "cell_type": "code",
   "execution_count": 118,
   "id": "b1aa61f6-e0ab-4133-b203-5b422368debd",
   "metadata": {
    "tags": []
   },
   "outputs": [],
   "source": [
    "with open(inst_oxy_meta_file) as file:\n",
    "    inst_oxy_config = yaml.full_load(file)"
   ]
  },
  {
   "cell_type": "markdown",
   "id": "ad82bb65-ff73-4d92-9da5-2df2bff501ad",
   "metadata": {},
   "source": [
    "## Add institutional meta-information\n"
   ]
  },
  {
   "cell_type": "code",
   "execution_count": 119,
   "id": "93e6755f-d9de-4a40-a41a-d7016586fbd4",
   "metadata": {},
   "outputs": [],
   "source": [
    "with open(group_meta_file) as file:\n",
    "    group_config = yaml.full_load(file)"
   ]
  },
  {
   "cell_type": "markdown",
   "id": "2b246379-48d7-48da-9f18-14935b17ab44",
   "metadata": {},
   "source": [
    "## Save CF Netcdf files\n",
    "\n",
    "Currently stick to netcdf3 classic... but migrating to netcdf4 (default) may be no problems for most modern purposes.  Its easy enough to pass the `format` kwargs through to the netcdf api of xarray."
   ]
  },
  {
   "cell_type": "code",
   "execution_count": 123,
   "id": "67c1a6c3-c835-453c-842a-7e1ee81b193b",
   "metadata": {
    "tags": []
   },
   "outputs": [
    {
     "name": "stdout",
     "output_type": "stream",
     "text": [
      "Skipping & Removing ctd001.btl\n",
      "Skipping & Removing ctd014.btl\n",
      "Skipping & Removing ctd015.btl\n",
      "Skipping ctd021.btl\n",
      "Skipping & Removing ctd030.btl\n",
      "Skipping & Removing ctd060.btl\n",
      "Skipping ctd079.btl\n",
      "Skipping & Removing ctd081.btl\n",
      "Skipping & Removing ctd082.btl\n",
      "Skipping & Removing ctd085.btl\n",
      "Skipping & Removing ctd086.btl\n",
      "Skipping & Removing ctd087.btl\n",
      "Skipping & Removing ctd088.btl\n"
     ]
    }
   ],
   "source": [
    "#loop over all casts and perform tasks shown above\n",
    "\n",
    "for cast in cruise_data.keys():\n",
    "    try:\n",
    "        cruise_data[cast] = cruise_data[cast].rename(columns={\n",
    "                            'O2 (uM)':'O2',\n",
    "                            'Niskin':'BTLID',\n",
    "                            'prdm':'pressure',\n",
    "                            'empty':'empty', #this will be ignored\n",
    "                            'flag':'flag'})\n",
    "\n",
    "        cruise_data_nc = ncCFsave.EcoFOCI_CFnc(df=cruise_data[cast], \n",
    "                                    instrument_yaml=inst_oxy_config, \n",
    "                                    operation_yaml=cruise_config,\n",
    "                                    operation_type='ctd')\n",
    "\n",
    "        cruise_data_nc.expand_dimensions(dim_names=['latitude','longitude','time'],geophys_sort=False)\n",
    "\n",
    "        cruise_data_nc.variable_meta_data(variable_keys=list(cruise_data[cast].columns.values),drop_missing=False)\n",
    "        #adding dimension meta needs to come after updating the dimension values... BUG?\n",
    "        cruise_data_nc.dimension_meta_data(variable_keys=['time','latitude','longitude'])\n",
    "        cruise_data_nc.temporal_geospatioal_meta_data_ctd(positiveE=False,conscastno=cast.split('.')[0])\n",
    "\n",
    "        #add global attributes\n",
    "        cruise_data_nc.deployment_meta_add(conscastno=cast.split('.')[0].upper())\n",
    "\n",
    "        #add instituitonal global attributes\n",
    "        cruise_data_nc.institution_meta_add(group_config)\n",
    "\n",
    "        #add creation date/time - provenance data\n",
    "        cruise_data_nc.provinance_meta_add()\n",
    "\n",
    "        #provide intial qc status field\n",
    "        cruise_data_nc.qc_status(qc_status='excellent') #<- options are unknown, excellent, probably good, mixed, unqcd\n",
    "\n",
    "        cruise_data_nc.xarray2netcdf_save(xdf = cruise_data_nc.get_xdf(),\n",
    "                                   filename=cruise_name+'c'+cast.lower().split('d')[-1].split('.')[0].zfill(3)+'_oxy.nc',format=\"NETCDF3_CLASSIC\")\n",
    "    except KeyError:\n",
    "        print(f'Skipping {cast}')\n",
    "    except RuntimeError:\n",
    "        print(f'Skipping & Removing {cast}')\n",
    "        os.remove(path=cruise_name+'c'+cast.lower().split('d')[-1].split('.')[0].zfill(3)+'_oxy.nc')"
   ]
  },
  {
   "cell_type": "code",
   "execution_count": null,
   "id": "b283bd15-c266-460f-9780-2e0696318d39",
   "metadata": {},
   "outputs": [],
   "source": []
  }
 ],
 "metadata": {
  "kernelspec": {
   "display_name": "Python [conda env:py38] *",
   "language": "python",
   "name": "conda-env-py38-py"
  },
  "language_info": {
   "codemirror_mode": {
    "name": "ipython",
    "version": 3
   },
   "file_extension": ".py",
   "mimetype": "text/x-python",
   "name": "python",
   "nbconvert_exporter": "python",
   "pygments_lexer": "ipython3",
   "version": "3.8.13"
  }
 },
 "nbformat": 4,
 "nbformat_minor": 5
}
