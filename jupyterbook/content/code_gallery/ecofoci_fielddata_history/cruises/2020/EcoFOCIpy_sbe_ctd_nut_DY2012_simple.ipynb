{
 "cells": [
  {
   "cell_type": "markdown",
   "id": "educational-chosen",
   "metadata": {},
   "source": [
    "# Using EcoFOCIpy to process raw field data\n",
    "\n",
    "## DY2012 (Spring Mooring Cruise - Oscar Dyson)\n",
    "\n",
    "## BTL Data + Nutrient Data\n",
    "\n",
    "This is a streamlined version of generation routines to merge bottle data and Mordy Nut. Lab Nutrient Data for long term archive"
   ]
  },
  {
   "cell_type": "code",
   "execution_count": 1,
   "id": "studied-pollution",
   "metadata": {},
   "outputs": [],
   "source": [
    "import yaml\n",
    "import glob\n",
    "import pandas as pd\n",
    "\n",
    "import EcoFOCIpy.io.sbe_ctd_parser as sbe_ctd_parser #<- instrument specific\n",
    "import EcoFOCIpy.io.ncCFsave as ncCFsave\n",
    "import EcoFOCIpy.metaconfig.load_config as load_config"
   ]
  },
  {
   "cell_type": "code",
   "execution_count": 2,
   "id": "offensive-level",
   "metadata": {},
   "outputs": [],
   "source": [
    "sample_data_dir = '/Users/bell/ecoraid/2020/CTDcasts/dy2012/' #root path to cruise directory\n",
    "ecofocipy_dir = '/Users/bell/Programs/EcoFOCIpy/'"
   ]
  },
  {
   "cell_type": "code",
   "execution_count": 10,
   "id": "third-yellow",
   "metadata": {},
   "outputs": [],
   "source": [
    "###############################################################\n",
    "# edit to point to {cruise sepcific} raw datafiles \n",
    "datafile = sample_data_dir+'rawconverted/' #<- point to cruise and process all files within\n",
    "nutdatafile = sample_data_dir+'working/DiscreteNutrients/DY2012 Nutrient Data.txt' #<- point to cruise and process all files within\n",
    "cruise_name = 'dy2012' #no hyphens\n",
    "cruise_meta_file = sample_data_dir+'logs/DY2012.yaml'\n",
    "inst_meta_file = sample_data_dir+'logs/FOCI_standard_CTDpNuts.yaml' #<- copy to each deployment for simplicity?\n",
    "group_meta_file = ecofocipy_dir+'staticdata/institutional_meta_example.yaml'\n",
    "###############################################################\n",
    "\n",
    "#init and load data\n",
    "cruise = sbe_ctd_parser.sbe_btl()\n",
    "filename_list = sorted(glob.glob(datafile + '*.btl'))\n",
    "\n",
    "cruise_data = cruise.manual_parse(filename_list)"
   ]
  },
  {
   "cell_type": "markdown",
   "id": "21b60694-2698-480d-98ba-4ea070b2e4b0",
   "metadata": {},
   "source": [
    "## Load csv Nutrient File"
   ]
  },
  {
   "cell_type": "code",
   "execution_count": 11,
   "id": "f0fb5c09-d76d-455c-89f4-3ba6a7954f00",
   "metadata": {},
   "outputs": [
    {
     "data": {
      "text/html": [
       "<div>\n",
       "<style scoped>\n",
       "    .dataframe tbody tr th:only-of-type {\n",
       "        vertical-align: middle;\n",
       "    }\n",
       "\n",
       "    .dataframe tbody tr th {\n",
       "        vertical-align: top;\n",
       "    }\n",
       "\n",
       "    .dataframe thead th {\n",
       "        text-align: right;\n",
       "    }\n",
       "</style>\n",
       "<table border=\"1\" class=\"dataframe\">\n",
       "  <thead>\n",
       "    <tr style=\"text-align: right;\">\n",
       "      <th></th>\n",
       "      <th>Cast</th>\n",
       "      <th>Niskin</th>\n",
       "      <th>Sil (uM)</th>\n",
       "      <th>PO4 (uM)</th>\n",
       "      <th>NO2 (uM)</th>\n",
       "      <th>NO3 (uM)</th>\n",
       "      <th>NH4 (uM)</th>\n",
       "    </tr>\n",
       "  </thead>\n",
       "  <tbody>\n",
       "    <tr>\n",
       "      <th>0</th>\n",
       "      <td>2</td>\n",
       "      <td>1</td>\n",
       "      <td>24.3</td>\n",
       "      <td>1.696</td>\n",
       "      <td>0.17</td>\n",
       "      <td>6.3</td>\n",
       "      <td>7.08</td>\n",
       "    </tr>\n",
       "    <tr>\n",
       "      <th>1</th>\n",
       "      <td>2</td>\n",
       "      <td>3</td>\n",
       "      <td>23.5</td>\n",
       "      <td>1.610</td>\n",
       "      <td>0.15</td>\n",
       "      <td>5.7</td>\n",
       "      <td>6.50</td>\n",
       "    </tr>\n",
       "    <tr>\n",
       "      <th>2</th>\n",
       "      <td>2</td>\n",
       "      <td>5</td>\n",
       "      <td>24.2</td>\n",
       "      <td>1.667</td>\n",
       "      <td>0.16</td>\n",
       "      <td>6.3</td>\n",
       "      <td>6.95</td>\n",
       "    </tr>\n",
       "    <tr>\n",
       "      <th>3</th>\n",
       "      <td>2</td>\n",
       "      <td>7</td>\n",
       "      <td>6.3</td>\n",
       "      <td>0.260</td>\n",
       "      <td>0.00</td>\n",
       "      <td>0.1</td>\n",
       "      <td>0.18</td>\n",
       "    </tr>\n",
       "    <tr>\n",
       "      <th>4</th>\n",
       "      <td>2</td>\n",
       "      <td>9</td>\n",
       "      <td>5.5</td>\n",
       "      <td>0.201</td>\n",
       "      <td>0.01</td>\n",
       "      <td>0.0</td>\n",
       "      <td>0.01</td>\n",
       "    </tr>\n",
       "    <tr>\n",
       "      <th>...</th>\n",
       "      <td>...</td>\n",
       "      <td>...</td>\n",
       "      <td>...</td>\n",
       "      <td>...</td>\n",
       "      <td>...</td>\n",
       "      <td>...</td>\n",
       "      <td>...</td>\n",
       "    </tr>\n",
       "    <tr>\n",
       "      <th>269</th>\n",
       "      <td>72</td>\n",
       "      <td>1</td>\n",
       "      <td>24.2</td>\n",
       "      <td>1.614</td>\n",
       "      <td>0.06</td>\n",
       "      <td>16.7</td>\n",
       "      <td>0.08</td>\n",
       "    </tr>\n",
       "    <tr>\n",
       "      <th>270</th>\n",
       "      <td>72</td>\n",
       "      <td>3</td>\n",
       "      <td>23.2</td>\n",
       "      <td>1.549</td>\n",
       "      <td>0.08</td>\n",
       "      <td>15.6</td>\n",
       "      <td>0.01</td>\n",
       "    </tr>\n",
       "    <tr>\n",
       "      <th>271</th>\n",
       "      <td>72</td>\n",
       "      <td>5</td>\n",
       "      <td>12.2</td>\n",
       "      <td>0.774</td>\n",
       "      <td>0.21</td>\n",
       "      <td>4.1</td>\n",
       "      <td>0.23</td>\n",
       "    </tr>\n",
       "    <tr>\n",
       "      <th>272</th>\n",
       "      <td>72</td>\n",
       "      <td>7</td>\n",
       "      <td>11.1</td>\n",
       "      <td>0.711</td>\n",
       "      <td>0.17</td>\n",
       "      <td>2.8</td>\n",
       "      <td>0.15</td>\n",
       "    </tr>\n",
       "    <tr>\n",
       "      <th>273</th>\n",
       "      <td>72</td>\n",
       "      <td>9</td>\n",
       "      <td>11.0</td>\n",
       "      <td>0.681</td>\n",
       "      <td>0.17</td>\n",
       "      <td>2.8</td>\n",
       "      <td>0.17</td>\n",
       "    </tr>\n",
       "  </tbody>\n",
       "</table>\n",
       "<p>274 rows × 7 columns</p>\n",
       "</div>"
      ],
      "text/plain": [
       "     Cast  Niskin  Sil (uM)  PO4 (uM)  NO2 (uM)  NO3 (uM)  NH4 (uM)\n",
       "0       2       1      24.3     1.696      0.17       6.3      7.08\n",
       "1       2       3      23.5     1.610      0.15       5.7      6.50\n",
       "2       2       5      24.2     1.667      0.16       6.3      6.95\n",
       "3       2       7       6.3     0.260      0.00       0.1      0.18\n",
       "4       2       9       5.5     0.201      0.01       0.0      0.01\n",
       "..    ...     ...       ...       ...       ...       ...       ...\n",
       "269    72       1      24.2     1.614      0.06      16.7      0.08\n",
       "270    72       3      23.2     1.549      0.08      15.6      0.01\n",
       "271    72       5      12.2     0.774      0.21       4.1      0.23\n",
       "272    72       7      11.1     0.711      0.17       2.8      0.15\n",
       "273    72       9      11.0     0.681      0.17       2.8      0.17\n",
       "\n",
       "[274 rows x 7 columns]"
      ]
     },
     "execution_count": 11,
     "metadata": {},
     "output_type": "execute_result"
    }
   ],
   "source": [
    "nut_data = pd.read_csv(nutdatafile,delimiter='\\t')\n",
    "nut_data"
   ]
  },
  {
   "cell_type": "markdown",
   "id": "75b5ed69-2eac-4a61-a597-1beac3cf628b",
   "metadata": {},
   "source": [
    "## Merge Bottle and Nutrient Data but drop non nutrient vars?"
   ]
  },
  {
   "cell_type": "code",
   "execution_count": 12,
   "id": "586c00a1-4b89-4488-927c-a9d84df24225",
   "metadata": {
    "tags": []
   },
   "outputs": [],
   "source": [
    "keep_param = ['bottle','prdm']\n",
    "\n",
    "for cast,cdata in cruise_data.items():\n",
    "    try:\n",
    "        matchcast = int((cast.split('.')[0]).lower().split('ctd')[-1])\n",
    "        cruise_data[cast] = pd.merge(nut_data[nut_data['Cast']==matchcast],cdata.reset_index()[keep_param],right_on='bottle',left_on='Niskin').set_index('bottle').drop(columns=['Cast'])\n",
    "    except:\n",
    "        continue"
   ]
  },
  {
   "cell_type": "markdown",
   "id": "acknowledged-active",
   "metadata": {},
   "source": [
    "## Add Deployment meta information"
   ]
  },
  {
   "cell_type": "code",
   "execution_count": 13,
   "id": "freelance-fairy",
   "metadata": {},
   "outputs": [],
   "source": [
    "#just a dictionary of dictionaries - simple\n",
    "with open(cruise_meta_file) as file:\n",
    "    cruise_config = yaml.full_load(file)"
   ]
  },
  {
   "cell_type": "markdown",
   "id": "mysterious-cornwall",
   "metadata": {},
   "source": [
    "## Add Instrument meta information\n",
    "\n",
    "Time, depth, lat, lon should be added regardless (always our coordinates) but for a mooring site its going to be a (1,1,1,t) dataset\n",
    "The variables of interest should be read from the data file and matched to a key for naming.  That key is in the inst_config file seen below and should represent common conversion names in the raw data"
   ]
  },
  {
   "cell_type": "code",
   "execution_count": 14,
   "id": "checked-raise",
   "metadata": {
    "tags": []
   },
   "outputs": [],
   "source": [
    "with open(inst_meta_file) as file:\n",
    "    inst_config = yaml.full_load(file)"
   ]
  },
  {
   "cell_type": "markdown",
   "id": "56119e2f",
   "metadata": {},
   "source": [
    "## Add institutional meta-information\n"
   ]
  },
  {
   "cell_type": "code",
   "execution_count": 15,
   "id": "24b2c8b0",
   "metadata": {},
   "outputs": [],
   "source": [
    "with open(group_meta_file) as file:\n",
    "    group_config = yaml.full_load(file)"
   ]
  },
  {
   "cell_type": "markdown",
   "id": "sustained-hughes",
   "metadata": {},
   "source": [
    "## Save CF Netcdf files\n",
    "\n",
    "Currently stick to netcdf3 classic... but migrating to netcdf4 (default) may be no problems for most modern purposes.  Its easy enough to pass the `format` kwargs through to the netcdf api of xarray."
   ]
  },
  {
   "cell_type": "code",
   "execution_count": 16,
   "id": "modular-volunteer",
   "metadata": {
    "tags": []
   },
   "outputs": [
    {
     "name": "stdout",
     "output_type": "stream",
     "text": [
      "Skipping 001\n",
      "Skipping 007\n",
      "Skipping 014\n",
      "Skipping ctd031a.btl\n",
      "Skipping ctd051a.btl\n",
      "Skipping 057\n"
     ]
    }
   ],
   "source": [
    "#loop over all casts and perform tasks shown above\n",
    "\n",
    "for cast in cruise_data.keys():\n",
    "    try:\n",
    "        cruise_data[cast] = cruise_data[cast].rename(columns={\n",
    "                            'Sil (uM)':'SI',\n",
    "                            'PO4 (uM)':'PO4',\n",
    "                            'NO2 (uM)':'NO2', \n",
    "                            'NO3 (uM)':'NO3',\n",
    "                            'NH4 (uM)':'NH4',\n",
    "                            'Niskin':'BTLID',\n",
    "                            'prdm':'pressure',\n",
    "                            'empty':'empty', #this will be ignored\n",
    "                            'flag':'flag'})\n",
    "\n",
    "        cruise_data_nc = ncCFsave.EcoFOCI_CFnc(df=cruise_data[cast], \n",
    "                                    instrument_yaml=inst_config, \n",
    "                                    operation_yaml=cruise_config,\n",
    "                                    operation_type='ctd')\n",
    "\n",
    "        cruise_data_nc.expand_dimensions(dim_names=['latitude','longitude','time'],geophys_sort=False)\n",
    "\n",
    "        cruise_data_nc.variable_meta_data(variable_keys=list(cruise_data[cast].columns.values),drop_missing=False)\n",
    "        #adding dimension meta needs to come after updating the dimension values... BUG?\n",
    "        cruise_data_nc.dimension_meta_data(variable_keys=['time','latitude','longitude'])\n",
    "        cruise_data_nc.temporal_geospatioal_meta_data_ctd(positiveE=False,conscastno=cast.split('.')[0])\n",
    "\n",
    "        #add global attributes\n",
    "        cruise_data_nc.deployment_meta_add(conscastno=cast.split('.')[0].upper())\n",
    "\n",
    "        #add instituitonal global attributes\n",
    "        cruise_data_nc.institution_meta_add(group_config)\n",
    "\n",
    "        #add creation date/time - provenance data\n",
    "        cruise_data_nc.provinance_meta_add()\n",
    "\n",
    "        #provide intial qc status field\n",
    "        cruise_data_nc.qc_status(qc_status='excellent') #<- options are unknown, excellent, probably good, mixed, unqcd\n",
    "\n",
    "        cast = cast.lower().split('d')[-1].split('.')[0]\n",
    "        cruise_data_nc.xarray2netcdf_save(xdf = cruise_data_nc.get_xdf(),\n",
    "                                   filename=cruise_name+'c'+cast.zfill(3)+'_nut.nc',format=\"NETCDF3_CLASSIC\")\n",
    "    except:\n",
    "        print(f'Skipping {cast}')"
   ]
  },
  {
   "cell_type": "markdown",
   "id": "individual-nature",
   "metadata": {},
   "source": [
    "## Next Steps\n",
    "\n",
    "QC of data (plot parameters with other instruments)\n",
    "- be sure to updated the qc_status and the history"
   ]
  },
  {
   "cell_type": "code",
   "execution_count": null,
   "id": "e1da9a83-a5b8-4847-ba47-ed34e7fae455",
   "metadata": {},
   "outputs": [],
   "source": []
  }
 ],
 "metadata": {
  "kernelspec": {
   "display_name": "Python [conda env:py38] *",
   "language": "python",
   "name": "conda-env-py38-py"
  },
  "language_info": {
   "codemirror_mode": {
    "name": "ipython",
    "version": 3
   },
   "file_extension": ".py",
   "mimetype": "text/x-python",
   "name": "python",
   "nbconvert_exporter": "python",
   "pygments_lexer": "ipython3",
   "version": "3.8.13"
  }
 },
 "nbformat": 4,
 "nbformat_minor": 5
}
