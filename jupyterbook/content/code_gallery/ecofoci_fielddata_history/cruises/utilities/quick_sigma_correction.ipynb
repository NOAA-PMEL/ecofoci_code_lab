{
 "cells": [
  {
   "cell_type": "code",
   "execution_count": 8,
   "id": "03316342-7a2b-4ee8-8f62-01f8922f55cd",
   "metadata": {
    "tags": []
   },
   "outputs": [],
   "source": [
    "# Update a variable\n",
    "\n",
    "import pandas as pd\n",
    "import seawater as sw\n",
    "\n",
    "df = pd.read_csv('~/Downloads/CTD_dy2208l1_final_b00c_9613_0248.csv',skiprows=[1])\n",
    "\n",
    "df\n",
    "\n",
    "def sigmat_update(salinity=None,temperature=None):\n",
    "    '''\n",
    "    Changes to T or S (commonly to despike values or apply a salinity offset) will need corresponding changes in sigmat\n",
    "    '''\n",
    "    # calculate sigmaT at 0db gauge pressure (s, t, p=0)\n",
    "    sigt = (sw.eos80.dens0(s=salinity, t=temperature) - 1000)\n",
    "    \n",
    "    return sigt\n",
    "\n",
    "df['sigma_t_ch1'] = sigmat_update(df.salinity_ch1, df.temperature_ch1)\n",
    "df['sigma_t_ch2'] = sigmat_update(df.salinity_ch2, df.temperature_ch2)\n",
    "\n",
    "df.to_csv('~/Downloads/CTD_dy2208l1_final_b00c_9613_0248.updated.csv')\n",
    "\n"
   ]
  },
  {
   "cell_type": "code",
   "execution_count": null,
   "id": "3ff1d3f0-db6f-4d0f-a6cc-815b43acaee6",
   "metadata": {},
   "outputs": [],
   "source": []
  }
 ],
 "metadata": {
  "kernelspec": {
   "display_name": "Python [conda env:miniconda3-py310]",
   "language": "python",
   "name": "conda-env-miniconda3-py310-py"
  },
  "language_info": {
   "codemirror_mode": {
    "name": "ipython",
    "version": 3
   },
   "file_extension": ".py",
   "mimetype": "text/x-python",
   "name": "python",
   "nbconvert_exporter": "python",
   "pygments_lexer": "ipython3",
   "version": "3.10.12"
  }
 },
 "nbformat": 4,
 "nbformat_minor": 5
}
