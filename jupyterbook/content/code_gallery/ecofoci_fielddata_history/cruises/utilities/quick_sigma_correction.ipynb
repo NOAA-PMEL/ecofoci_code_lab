{
 "cells": [
  {
   "cell_type": "code",
   "execution_count": null,
   "id": "03316342-7a2b-4ee8-8f62-01f8922f55cd",
   "metadata": {},
   "outputs": [],
   "source": [
    "# Update a variable\n",
    "\n",
    "import pandas as pd\n",
    "import seawater as sw\n",
    "\n",
    "df = pd.read_csv('original_data/CTD_sh2202l1_final_a1a5_1d93_e1c7.csv')\n",
    "\n",
    "df\n",
    "\n",
    "def sigmat_update(salinity=None,temperature=None):\n",
    "    '''\n",
    "    Changes to T or S (commonly to despike values or apply a salinity offset) will need corresponding changes in sigmat\n",
    "    '''\n",
    "    # calculate sigmaT at 0db gauge pressure (s, t, p=0)\n",
    "    sigt = (sw.eos80.dens0(s=salinity, t=temperature) - 1000)\n",
    "    \n",
    "    return sigt\n",
    "\n",
    "df['sigma_t_ch1'] = sigmat_update(df.sea_water_salinity_ch1, df.sea_water_temperature_ch1)\n",
    "df['sigma_t_ch2'] = sigmat_update(df.sea_water_salinity_ch2, df.sea_water_temperature_ch2)\n",
    "\n",
    "df.to_csv('original_data/CTD_sh2202l1_final_a1a5_1d93_e1c7.updated.csv')\n",
    "\n"
   ]
  }
 ],
 "metadata": {
  "kernelspec": {
   "display_name": "Python [conda env:py38] *",
   "language": "python",
   "name": "conda-env-py38-py"
  },
  "language_info": {
   "codemirror_mode": {
    "name": "ipython",
    "version": 3
   },
   "file_extension": ".py",
   "mimetype": "text/x-python",
   "name": "python",
   "nbconvert_exporter": "python",
   "pygments_lexer": "ipython3",
   "version": "3.8.13"
  }
 },
 "nbformat": 4,
 "nbformat_minor": 5
}
