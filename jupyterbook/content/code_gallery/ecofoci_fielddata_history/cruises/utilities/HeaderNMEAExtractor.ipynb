{
 "cells": [
  {
   "cell_type": "markdown",
   "id": "25736491-605a-48fb-9794-bcecf3eefab5",
   "metadata": {},
   "source": [
    "# Seabird CNV Location NMEA Extracter"
   ]
  },
  {
   "cell_type": "code",
   "execution_count": 1,
   "id": "9566d5fd-538c-4ff5-8167-91c144ce59b1",
   "metadata": {},
   "outputs": [],
   "source": [
    "import yaml\n",
    "import glob\n",
    "\n",
    "import EcoFOCIpy.io.sbe_ctd_parser as sbe_ctd_parser #<- instrument specific\n",
    "import EcoFOCIpy.io.ncCFsave as ncCFsave\n",
    "import EcoFOCIpy.metaconfig.load_config as load_config\n",
    "import EcoFOCIpy.math.geotools as geotools"
   ]
  },
  {
   "cell_type": "code",
   "execution_count": 2,
   "id": "6f2a982b-6745-4493-b6ea-aabb08ad3441",
   "metadata": {},
   "outputs": [],
   "source": [
    "sample_data_dir = '/Users/bell/ecoraid/2024/CTDcasts/skq202412s/' #root path to cruise directory\n",
    "ecofocipy_dir = '/Users/bell/Programs/EcoFOCIpy/'"
   ]
  },
  {
   "cell_type": "code",
   "execution_count": 3,
   "id": "a4d1474e-3336-41f8-8b21-735ed757a9ae",
   "metadata": {
    "tags": []
   },
   "outputs": [],
   "source": [
    "###############################################################\n",
    "# edit to point to {cruise sepcific} raw datafiles \n",
    "datafile = sample_data_dir+'rawconverted/1mave/' #<- point to cruise and process all files within\n",
    "cruise_name = 'SKQ202412S' #no hyphens\n",
    "inst_meta_file = sample_data_dir+'logs/FOCI_standard_CTD.yaml'\n",
    "###############################################################\n",
    "\n",
    "#init and load data\n",
    "cruise = sbe_ctd_parser.sbe9_11p()\n",
    "filename_list = sorted(glob.glob(datafile + '*.cnv'))\n",
    "\n",
    "(cruise_data,cruise_header) = cruise.parse(filename_list)"
   ]
  },
  {
   "cell_type": "code",
   "execution_count": 5,
   "id": "62c4d65e-5821-4e38-8370-500aa0de5ebc",
   "metadata": {
    "tags": []
   },
   "outputs": [
    {
     "name": "stdout",
     "output_type": "stream",
     "text": [
      "Aug 07 2024  17:12:55 62.1955 174.67366666666666\n",
      "Aug 08 2024  06:02:25 62.0095 175.06033333333335\n",
      "Aug 08 2024  11:17:45 62.049166666666665 175.208\n",
      "Aug 09 2024  00:57:57 62.219 174.8765\n",
      "Aug 09 2024  03:01:34 62.39 174.57133333333334\n",
      "Aug 09 2024  07:35:32 62.46816666666667 174.08333333333334\n",
      "Aug 09 2024  09:50:16 62.559666666666665 173.549\n",
      "Aug 09 2024  14:34:36 62.78616666666667 173.49933333333334\n",
      "Aug 09 2024  14:52:26 62.786 173.49966666666666\n",
      "Aug 09 2024  16:54:57 63.029666666666664 173.46066666666667\n",
      "Aug 09 2024  21:23:37 63.2805 173.28116666666668\n",
      "Aug 10 2024  00:49:25 63.603833333333334 172.59183333333334\n",
      "Aug 10 2024  14:42:06 63.98683333333334 168.05183333333332\n",
      "Aug 10 2024  16:35:03 64.00333333333333 167.92566666666667\n",
      "Aug 10 2024  23:49:04 64.856 168.45116666666667\n",
      "Aug 11 2024  02:33:10 64.67016666666666 168.2375\n",
      "Aug 11 2024  05:28:54 64.67666666666666 168.593\n",
      "Aug 11 2024  07:15:40 64.68 169.09783333333334\n",
      "Aug 11 2024  10:45:20 64.675 169.47366666666667\n",
      "Aug 11 2024  12:29:43 64.669 169.92\n",
      "Aug 11 2024  15:22:49 64.6715 170.26033333333334\n",
      "Aug 11 2024  16:51:39 64.6705 170.64116666666666\n",
      "Aug 11 2024  20:03:40 64.96216666666666 169.88633333333334\n",
      "Aug 11 2024  23:46:52 64.97383333333333 169.49066666666667\n",
      "Aug 12 2024  01:09:17 64.99183333333333 169.13966666666667\n",
      "Aug 12 2024  04:40:26 65.00066666666666 168.65366666666668\n",
      "Aug 12 2024  06:11:52 64.99983333333333 168.22383333333335\n",
      "Aug 12 2024  21:30:51 66.71183333333333 168.49483333333333\n",
      "Aug 13 2024  05:57:30 67.6765 168.94266666666667\n",
      "Aug 13 2024  10:13:46 67.785 168.59783333333334\n",
      "Aug 13 2024  13:36:04 67.898 168.23516666666666\n",
      "Aug 13 2024  18:04:21 67.9095 168.183\n",
      "Aug 13 2024  22:08:24 68.01333333333334 167.87433333333334\n",
      "Aug 14 2024  01:26:26 68.132 167.48366666666666\n",
      "Aug 14 2024  04:24:24 68.18533333333333 167.30066666666667\n",
      "Aug 14 2024  06:35:44 68.24716666666667 167.1195\n",
      "Aug 14 2024  09:58:30 68.30266666666667 166.93333333333334\n",
      "Aug 15 2024  05:29:44 70.58016666666667 162.48633333333333\n",
      "Aug 15 2024  09:35:38 70.7165 162.8505\n",
      "Aug 15 2024  17:03:43 70.8485 163.18716666666666\n",
      "Aug 16 2024  02:48:26 71.21966666666667 164.24933333333334\n",
      "Aug 16 2024  06:55:02 70.97316666666667 163.56433333333334\n",
      "Aug 16 2024  08:40:19 71.085 163.79816666666667\n",
      "Aug 16 2024  12:51:14 71.19583333333334 164.2025\n",
      "Aug 16 2024  14:38:25 71.3365 164.612\n",
      "Aug 16 2024  18:14:36 71.44666666666667 164.91583333333332\n",
      "Aug 16 2024  20:10:25 71.6005 165.30333333333334\n",
      "Aug 16 2024  23:21:16 71.70483333333334 165.601\n",
      "Aug 17 2024  04:34:01 72.30883333333334 167.25683333333333\n",
      "Aug 17 2024  07:03:22 72.20566666666667 166.96\n",
      "Aug 17 2024  08:24:13 72.094 166.64566666666667\n",
      "Aug 17 2024  09:56:07 71.96516666666666 166.32\n",
      "Aug 17 2024  11:32:09 71.83016666666667 165.96683333333334\n",
      "Aug 18 2024  02:21:42 71.60016666666667 161.44883333333334\n",
      "Aug 18 2024  07:51:31 71.58633333333333 161.4015\n",
      "Aug 18 2024  11:25:33 71.65366666666667 161.59066666666666\n",
      "Aug 18 2024  12:31:51 71.71916666666667 161.77566666666667\n",
      "Aug 18 2024  15:14:56 71.7845 161.973\n",
      "Aug 18 2024  16:12:09 71.85033333333334 162.16216666666668\n",
      "Aug 18 2024  23:12:26 71.52066666666667 161.23466666666667\n",
      "Aug 19 2024  00:18:24 71.45466666666667 161.04016666666666\n",
      "Aug 19 2024  02:42:57 71.38133333333333 160.843\n",
      "Aug 19 2024  22:04:07 71.19483333333334 160.27133333333333\n",
      "Aug 20 2024  01:14:12 71.04183333333333 160.4855\n",
      "Aug 20 2024  04:24:33 71.2565 160.4635\n",
      "Aug 20 2024  05:27:59 71.32233333333333 160.64983333333333\n",
      "Aug 20 2024  16:05:18 71.20816666666667 157.99\n",
      "Aug 20 2024  20:52:06 71.25 157.1595\n",
      "Aug 20 2024  22:47:46 71.288 157.247\n",
      "Aug 20 2024  23:27:26 71.32883333333334 157.33133333333333\n",
      "Aug 21 2024  02:21:43 71.37083333333334 157.41966666666667\n",
      "Aug 21 2024  03:13:48 71.40866666666666 157.49716666666666\n",
      "Aug 21 2024  05:50:33 71.45433333333334 157.59566666666666\n",
      "Aug 21 2024  06:41:17 71.50016666666667 157.67583333333334\n",
      "Aug 21 2024  09:23:15 71.537 157.75333333333333\n",
      "Aug 21 2024  10:11:45 71.57816666666666 157.83883333333333\n",
      "Aug 21 2024  12:31:16 71.61966666666666 157.92766666666665\n",
      "Aug 21 2024  19:57:20 71.75666666666666 154.47933333333333\n",
      "Aug 22 2024  03:42:43 72.47316666666667 156.57183333333333\n"
     ]
    }
   ],
   "source": [
    "#this line adds available NMEA data to csv files for NRT/Preliminary erddap hosting... if there isn't an NMEA string, you will have to pull the locations\n",
    "#  from the cast logs and output either a .nc or a more elaborate csv file furthur in to this process\n",
    "NMEA_location = True\n",
    "verbose = True\n",
    "\n",
    "if NMEA_location:\n",
    "    \n",
    "    for cast in cruise_header.keys():\n",
    "        cruise_data[cast][['time','latitude','longitude','profileid']] = ('0',0,0,'0')\n",
    "        cruise_data[cast][['time','latitude','longitude','profileid']] = (cruise_header[cast]['NMEAtime'],\n",
    "              geotools.latlon_convert(cruise_header[cast]['NMEALat'],cruise_header[cast]['NMEALon'])[0],\n",
    "              geotools.latlon_convert(cruise_header[cast]['NMEALat'],cruise_header[cast]['NMEALon'])[1],\n",
    "              cast.split('.')[0])\n",
    "        if verbose:\n",
    "            print(cruise_header[cast]['NMEAtime'],\n",
    "                  geotools.latlon_convert(cruise_header[cast]['NMEALat'],cruise_header[cast]['NMEALon'])[0],\n",
    "                  geotools.latlon_convert(cruise_header[cast]['NMEALat'],cruise_header[cast]['NMEALon'])[1])"
   ]
  },
  {
   "cell_type": "code",
   "execution_count": null,
   "id": "1c460287-5989-4e7f-ad88-49e68973dc33",
   "metadata": {},
   "outputs": [],
   "source": []
  }
 ],
 "metadata": {
  "kernelspec": {
   "display_name": "Python [conda env:p312]",
   "language": "python",
   "name": "conda-env-p312-py"
  },
  "language_info": {
   "codemirror_mode": {
    "name": "ipython",
    "version": 3
   },
   "file_extension": ".py",
   "mimetype": "text/x-python",
   "name": "python",
   "nbconvert_exporter": "python",
   "pygments_lexer": "ipython3",
   "version": "3.12.1"
  }
 },
 "nbformat": 4,
 "nbformat_minor": 5
}
