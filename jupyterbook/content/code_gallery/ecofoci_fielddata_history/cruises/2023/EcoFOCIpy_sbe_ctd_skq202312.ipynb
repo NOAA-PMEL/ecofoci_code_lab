{
 "cells": [
  {
   "cell_type": "markdown",
   "id": "educational-chosen",
   "metadata": {},
   "source": [
    "# Using EcoFOCIpy to process raw field data - skq202312\n",
    "\n",
    "*SKQ202312 - Ecofoci Fall Mooring Cruise*\n",
    "\n",
    "**Processed by Shaun Bell / UAF has final QC (Seth Danielson)**\n",
    "\n",
    "A duplicate column of Fluorescence shows up \n",
    "## CTD / Profile Data\n",
    "\n",
    "Basic workflow for each instrument grouping is *(initial archive level)*:\n",
    "- SBE workflow must happen first **done (performed on seperate windows system to convert to cnv)**\n",
    "- output initial files (pandas->csv) **ERDDAP NRT** when no meta data is added.  Good for quick analysis\n",
    "\n",
    "Other than hosting on an erddap server, the above can be done at sea\n",
    "\n",
    "For furthur processing, QC and archiving, the following tasks are to be done *(working or final data level)*:\n",
    "- Add metadata from cruise yaml files created from cast logs\n",
    "- apply any calibrations or corrections\n",
    "    + field corrections\n",
    "    + offsets\n",
    "    + spike analysis\n",
    "    + some QC were available... this would be old-school simple bounds mostly\n",
    "- save as CF netcdf via xarray or potentially csv file: so many of the steps above are optional\n",
    "    + **ERDDAP NRT** if no corrections, offsets or time bounds are applied but some meta data is (can be csv as this is useful at sea)\n",
    "    + **Working and awaiting QC** has no ERDDAP representation and is a holding spot\n",
    "    + **ERDDAP Final** fully calibrated, qc'd and populated with meta information\n",
    "\n",
    "Plot for preview and QC\n",
    "- TSSigma, TOXYChlor, TurbParTrans\n"
   ]
  },
  {
   "cell_type": "code",
   "execution_count": 1,
   "id": "studied-pollution",
   "metadata": {},
   "outputs": [],
   "source": [
    "import yaml\n",
    "import glob\n",
    "\n",
    "import EcoFOCIpy.io.sbe_ctd_parser as sbe_ctd_parser #<- instrument specific\n",
    "import EcoFOCIpy.io.ncCFsave as ncCFsave\n",
    "import EcoFOCIpy.metaconfig.load_config as load_config\n",
    "import EcoFOCIpy.math.geotools as geotools"
   ]
  },
  {
   "cell_type": "markdown",
   "id": "allied-miniature",
   "metadata": {},
   "source": [
    "## At Sea NRT Processing"
   ]
  },
  {
   "cell_type": "code",
   "execution_count": 2,
   "id": "offensive-level",
   "metadata": {},
   "outputs": [],
   "source": [
    "sample_data_dir = '/Users/bell/ecoraid/2023/CTDcasts/skq202312s/' #root path to cruise directory\n",
    "ecofocipy_dir = '/Users/bell/Programs/EcoFOCIpy/'"
   ]
  },
  {
   "cell_type": "code",
   "execution_count": 3,
   "id": "7705c0f1-a4cc-41c4-9d27-2a5809264638",
   "metadata": {
    "tags": []
   },
   "outputs": [],
   "source": [
    "###############################################################\n",
    "# edit to point to {cruise sepcific} raw datafiles \n",
    "datafile = sample_data_dir+'rawconverted/' #<- point to cruise and process all files within\n",
    "cruise_name = 'SKQ202312' #no hyphens\n",
    "inst_meta_file = sample_data_dir+'logs/UAF_standard_CTD.yaml'\n",
    "###############################################################\n",
    "\n",
    "#init and load data\n",
    "cruise = sbe_ctd_parser.sbe9_11p()\n",
    "filename_list = sorted(glob.glob(datafile + '*.cnv'))\n",
    "\n",
    "(cruise_data,cruise_header) = cruise.parse(filename_list)"
   ]
  },
  {
   "cell_type": "code",
   "execution_count": 5,
   "id": "bed8131e-215d-4dcd-a27e-9445d6fc1a0e",
   "metadata": {},
   "outputs": [
    {
     "data": {
      "text/plain": [
       "'CTD001.cnv'"
      ]
     },
     "execution_count": 5,
     "metadata": {},
     "output_type": "execute_result"
    }
   ],
   "source": [
    "cast"
   ]
  },
  {
   "cell_type": "code",
   "execution_count": 7,
   "id": "52b036fa-4a09-4298-ae34-a59dff8e01ec",
   "metadata": {
    "scrolled": true,
    "tags": []
   },
   "outputs": [],
   "source": [
    "#this line adds available NMEA data to csv files for NRT/Preliminary erddap hosting... if there isn't an NMEA string, you will have to pull the locations\n",
    "#  from the cast logs and output either a .nc or a more elaborate csv file furthur in to this process\n",
    "NMEA_location = True\n",
    "verbose = False\n",
    "\n",
    "if NMEA_location:\n",
    "    \n",
    "    for cast in cruise_header.keys():\n",
    "        cruise_data[cast][['time','latitude','longitude','profileid']] = ('0',0,0,'0')\n",
    "        cruise_data[cast][['time','latitude','longitude','profileid']] = (cruise_header[cast]['NMEAtime'],\n",
    "              geotools.latlon_convert(cruise_header[cast]['NMEALat'],cruise_header[cast]['NMEALon'])[0],\n",
    "              geotools.latlon_convert(cruise_header[cast]['NMEALat'],cruise_header[cast]['NMEALon'])[1],\n",
    "              cast.split('.')[0])\n",
    "        if verbose:\n",
    "            print(f\"CTD{cast.split('_')[1].split('.')[0]}\",cruise_header[cast]['NMEAtime'],\n",
    "                  geotools.latlon_convert(cruise_header[cast]['NMEALat'],cruise_header[cast]['NMEALon'])[0],\n",
    "                  geotools.latlon_convert(cruise_header[cast]['NMEALat'],cruise_header[cast]['NMEALon'])[1])"
   ]
  },
  {
   "cell_type": "code",
   "execution_count": 8,
   "id": "6b5fd7a6-2de8-41c4-840a-20a5953da6bd",
   "metadata": {
    "tags": []
   },
   "outputs": [],
   "source": [
    "import pandas as pd\n",
    "for cast in cruise_data.keys():\n",
    "    cruise_header[cast]['NMEALat']"
   ]
  },
  {
   "cell_type": "code",
   "execution_count": 9,
   "id": "84b99d86-fd86-49dd-8d5e-64badd56fb5e",
   "metadata": {
    "scrolled": true,
    "tags": []
   },
   "outputs": [
    {
     "name": "stdout",
     "output_type": "stream",
     "text": [
      "Processing Cast CTD001.cnv\n",
      "Processing Cast CTD002.cnv\n",
      "Processing Cast CTD003.cnv\n",
      "Processing Cast CTD004.cnv\n",
      "Processing Cast CTD005.cnv\n",
      "Processing Cast CTD006.cnv\n",
      "Processing Cast CTD007.cnv\n",
      "Processing Cast CTD008.cnv\n",
      "Processing Cast CTD009.cnv\n",
      "Processing Cast CTD010.cnv\n",
      "Processing Cast CTD011.cnv\n",
      "Processing Cast CTD012.cnv\n",
      "Processing Cast CTD013.cnv\n",
      "Processing Cast CTD014.cnv\n",
      "Processing Cast CTD015.cnv\n",
      "Processing Cast CTD016.cnv\n",
      "Processing Cast CTD017.cnv\n",
      "Processing Cast CTD018.cnv\n",
      "Processing Cast CTD019.cnv\n",
      "Processing Cast CTD020.cnv\n",
      "Processing Cast CTD021.cnv\n",
      "Processing Cast CTD022.cnv\n",
      "Processing Cast CTD023.cnv\n",
      "Processing Cast CTD024.cnv\n",
      "Processing Cast CTD025.cnv\n",
      "Processing Cast CTD026.cnv\n",
      "Processing Cast CTD027.cnv\n",
      "Processing Cast CTD028.cnv\n",
      "Processing Cast CTD029.cnv\n",
      "Processing Cast CTD030.cnv\n",
      "Processing Cast CTD031.cnv\n",
      "Processing Cast CTD032.cnv\n",
      "Processing Cast CTD033.cnv\n",
      "Processing Cast CTD034.cnv\n",
      "Processing Cast CTD035.cnv\n",
      "Processing Cast CTD036.cnv\n",
      "Processing Cast CTD037.cnv\n",
      "Processing Cast CTD038.cnv\n",
      "Processing Cast CTD039.cnv\n",
      "Processing Cast CTD040.cnv\n",
      "Processing Cast CTD041.cnv\n",
      "Processing Cast CTD042.cnv\n",
      "Processing Cast CTD043.cnv\n",
      "Processing Cast CTD044.cnv\n",
      "Processing Cast CTD045.cnv\n",
      "Processing Cast CTD046.cnv\n",
      "Processing Cast CTD047.cnv\n",
      "Processing Cast CTD048.cnv\n",
      "Processing Cast CTD049.cnv\n",
      "Processing Cast CTD050.cnv\n",
      "Processing Cast CTD051.cnv\n",
      "Processing Cast CTD052.cnv\n",
      "Processing Cast CTD053.cnv\n",
      "Processing Cast CTD054.cnv\n",
      "Processing Cast CTD055.cnv\n",
      "Processing Cast CTD056.cnv\n",
      "Processing Cast CTD057.cnv\n",
      "Processing Cast CTD058.cnv\n",
      "Processing Cast CTD059.cnv\n",
      "Processing Cast CTD060.cnv\n",
      "Processing Cast CTD061.cnv\n",
      "Processing Cast CTD062.cnv\n",
      "Processing Cast CTD063.cnv\n",
      "Processing Cast CTD064.cnv\n",
      "Processing Cast CTD065.cnv\n",
      "Processing Cast CTD066.cnv\n",
      "Processing Cast CTD067.cnv\n",
      "Processing Cast CTD068.cnv\n",
      "Processing Cast CTD069.cnv\n",
      "Processing Cast CTD070.cnv\n",
      "Processing Cast CTD071.cnv\n",
      "Processing Cast CTD072.cnv\n",
      "Processing Cast CTD073.cnv\n",
      "Processing Cast CTD074.cnv\n",
      "Processing Cast CTD075.cnv\n",
      "Processing Cast CTD076.cnv\n",
      "Processing Cast CTD077.cnv\n",
      "Processing Cast CTD078.cnv\n",
      "Processing Cast CTD079.cnv\n",
      "Processing Cast CTD080.cnv\n",
      "Processing Cast CTD081.cnv\n",
      "Processing Cast CTD082.cnv\n",
      "Processing Cast CTD083.cnv\n",
      "Processing Cast CTD084.cnv\n",
      "Processing Cast CTD085.cnv\n",
      "Processing Cast CTD086.cnv\n"
     ]
    }
   ],
   "source": [
    "#save downcast csv to file for viewing - really this is just a cleaned up cnv file\n",
    "import pandas as pd\n",
    "for cast in cruise_data.keys():\n",
    "    print(f'Processing Cast {cast}')\n",
    "    cruise_data[cast]['time'] = pd.to_datetime(cruise_data[cast]['time'])\n",
    "    cruise_data[cast].to_csv(sample_data_dir+cast.replace('cnv','csv'))"
   ]
  },
  {
   "cell_type": "markdown",
   "id": "b37a7008-b911-47bd-ad1a-24fa1d231a51",
   "metadata": {},
   "source": [
    "## Post Cruise Processing with additional meta information"
   ]
  },
  {
   "cell_type": "code",
   "execution_count": 21,
   "id": "a1a4f3cc-ffda-4f7d-9166-b9452aacf755",
   "metadata": {},
   "outputs": [],
   "source": [
    "sample_data_dir = '/Users/bell/ecoraid/2023/CTDcasts/skq202312s/' #root path to cruise directory"
   ]
  },
  {
   "cell_type": "code",
   "execution_count": 22,
   "id": "third-yellow",
   "metadata": {},
   "outputs": [],
   "source": [
    "###############################################################\n",
    "# edit to point to {cruise sepcific} raw datafiles \n",
    "datafile = sample_data_dir+'rawconverted/' #<- point to cruise and process all files within\n",
    "cruise_name = 'SKQ202312' #no hyphens\n",
    "cruise_meta_file = sample_data_dir+'logs/SKQ202312S.yaml'\n",
    "inst_meta_file = sample_data_dir+'logs/UAF_standard_CTD.yaml'\n",
    "group_meta_file = ecofocipy_dir+'staticdata/institutional_meta_example_ctd.yaml'\n",
    "inst_shortname = '' #keep as placeholder for now\n",
    "###############################################################\n",
    "\n",
    "#init and load data\n",
    "cruise = sbe_ctd_parser.sbe9_11p()\n",
    "filename_list = sorted(glob.glob(datafile + '*.cnv'))\n",
    "\n",
    "(cruise_data,cruise_header) = cruise.parse(filename_list)"
   ]
  },
  {
   "cell_type": "markdown",
   "id": "ready-audit",
   "metadata": {},
   "source": [
    "## Time Properties\n",
    "\n",
    "Not traditionally dealt with for CTD files as they are likely dynamically updated via GPS feed.  However, FOCI tends to label the date/time with the ***at depth*** time-stamp\n",
    "\n",
    "## Depth Properties and other assumptions\n",
    "\n",
    "- currently, all processing and binning (1m for FOCI) is done via seabird routines and the windows software.  This may change with the python ctd package for a few tasks"
   ]
  },
  {
   "cell_type": "markdown",
   "id": "acknowledged-active",
   "metadata": {},
   "source": [
    "## Load all external meta information"
   ]
  },
  {
   "cell_type": "code",
   "execution_count": 23,
   "id": "freelance-fairy",
   "metadata": {},
   "outputs": [],
   "source": [
    "#cruise info\n",
    "with open(cruise_meta_file) as file:\n",
    "    cruise_config = yaml.full_load(file)\n",
    "\n",
    "#instrument info\n",
    "with open(inst_meta_file) as file:\n",
    "    inst_config = yaml.full_load(file)\n",
    "\n",
    "#institutional info\n",
    "with open(group_meta_file) as file:\n",
    "    group_config = yaml.full_load(file)"
   ]
  },
  {
   "cell_type": "code",
   "execution_count": 24,
   "id": "b3c3fd4d-4309-4337-8cc1-8812996a8875",
   "metadata": {},
   "outputs": [
    {
     "data": {
      "text/plain": [
       "{'time': {'epic_key': 'TIM_601',\n",
       "  'name': 'time',\n",
       "  'generic_name': 'time',\n",
       "  'standard_name': 'time',\n",
       "  'long_name': 'date and time since reference time'},\n",
       " 'depth': {'epic_key': 'D_3',\n",
       "  'generic_name': 'depth',\n",
       "  'units': 'meter',\n",
       "  'long_name': 'depth below surface (meters)',\n",
       "  'standard_name': 'depth',\n",
       "  'positive': 'down'},\n",
       " 'latitude': {'epic_key': 'LON_501',\n",
       "  'name': 'latitude',\n",
       "  'generic_name': 'latitude',\n",
       "  'units': 'degrees_north',\n",
       "  'long_name': 'latitude',\n",
       "  'standard_name': 'latitude'},\n",
       " 'longitude': {'epic_key': 'LAT_500',\n",
       "  'name': 'longitude',\n",
       "  'generic_name': 'longitude',\n",
       "  'units': 'degrees_east',\n",
       "  'long_name': 'longitude',\n",
       "  'standard_name': 'longitude'},\n",
       " 'temperature_ch1': {'epic_key': 'T_28',\n",
       "  'generic_name': 'temp channel 1',\n",
       "  'long_name': 'Sea temperature in-situ ITS-90 scale',\n",
       "  'standard_name': 'sea_water_temperature',\n",
       "  'units': 'degree_C'},\n",
       " 'temperature_ch2': {'epic_key': 'T2_35',\n",
       "  'generic_name': 'temp channel 2',\n",
       "  'long_name': 'Sea temperature in-situ ITS-90 scale',\n",
       "  'standard_name': 'sea_water_temperature',\n",
       "  'units': 'degree_C'},\n",
       " 'pressure': {'epic_key': 'P_1',\n",
       "  'generic_name': 'pres',\n",
       "  'units': 'decibar',\n",
       "  'long_name': 'Sea water pressure, equals 0 at sea-level',\n",
       "  'standard_name': 'sea_water_pressure_due_to_sea_water'},\n",
       " 'salinity_ch1': {'epic_key': 'S_41',\n",
       "  'generic_name': 'psal channel 1',\n",
       "  'units': 'PSU',\n",
       "  'long_name': 'Practical salinity in-situ PSS-78 scale',\n",
       "  'standard_name': 'sea_water_practical_salinity'},\n",
       " 'salinity_ch2': {'epic_key': 'S_42',\n",
       "  'generic_name': 'psal channel 2',\n",
       "  'units': 'PSU',\n",
       "  'long_name': 'Practical salinity in-situ PSS-78 scale',\n",
       "  'standard_name': 'sea_water_practical_salinity'},\n",
       " 'chlor_fluorescence': {'epic_key': 'F_903',\n",
       "  'generic_name': 'chlor_fluorescence',\n",
       "  'long_name': 'Mass Concdentration of chlorophyll from chlorophyll fluorescence',\n",
       "  'standard_name': 'mass_concentration_of_chlorophyll_in_sea_water',\n",
       "  'units': 'ugrams/l'},\n",
       " 'turbidity': {'epic_key': 'Trb_980',\n",
       "  'generic_name': 'Turbidity',\n",
       "  'long_name': 'Turbidity of ocean water in Nephlometric Turbidity Units',\n",
       "  'standard_name': 'sea_water_turbidity',\n",
       "  'units': 'NTU'},\n",
       " 'par': {'generic_name': 'par',\n",
       "  'epic_key': 'PAR_905',\n",
       "  'long_name': 'Photosynthetic Active Radiation',\n",
       "  'standard_name': 'omnidirectional_photosynthetic_photon_spherical_irradiance_in_sea_water',\n",
       "  'units': 'uEin cm-2 s-1'},\n",
       " 'oxy_conc_ch1': {'generic_name': 'oxy_conc channel 1',\n",
       "  'epic_key': 'O_65',\n",
       "  'long_name': 'concentration of oxygen in seawater',\n",
       "  'standard_name': 'mole_concentration_of_dissolved_molecular_oxygen_in_sea_water',\n",
       "  'units': 'micromole/kg'},\n",
       " 'oxy_conc_ch2': {'generic_name': 'oxy_conc channel 2',\n",
       "  'epic_key': 'CTDOXY_4221',\n",
       "  'long_name': 'concentration of oxygen in seawater',\n",
       "  'standard_name': 'mole_concentration_of_dissolved_molecular_oxygen_in_sea_water',\n",
       "  'units': 'micromole/kg'},\n",
       " 'oxy_concM_ch1': {'generic_name': 'oxy_concM channel 1',\n",
       "  'epic_key': 'O_65',\n",
       "  'long_name': 'concentration of oxygen in seawater',\n",
       "  'standard_name': 'mole_concentration_of_dissolved_molecular_oxygen_in_sea_water',\n",
       "  'units': 'ml/l'},\n",
       " 'oxy_concM_ch2': {'generic_name': 'oxy_concM channel 2',\n",
       "  'epic_key': 'O_2060',\n",
       "  'long_name': 'concentration of oxygen in seawater',\n",
       "  'standard_name': 'mole_concentration_of_dissolved_molecular_oxygen_in_sea_water',\n",
       "  'units': 'ml/l'},\n",
       " 'oxy_percentsat_ch1': {'generic_name': 'oxy_psat channel 1',\n",
       "  'epic_key': 'OST_62',\n",
       "  'units': 'percent',\n",
       "  'long_name': 'Percent Saturation of oxygen over air',\n",
       "  'standard_name': 'fractional_saturation_of_oxygen_in_sea_water'},\n",
       " 'oxy_percentsat_ch2': {'generic_name': 'oxy_psat channel 2',\n",
       "  'epic_key': 'CTDOST_4220',\n",
       "  'units': 'percent',\n",
       "  'long_name': 'Percent Saturation of oxygen over air',\n",
       "  'standard_name': 'fractional_saturation_of_oxygen_in_sea_water'},\n",
       " 'transmittance': {'generic_name': 'cstar transmittance',\n",
       "  'units': 'percent',\n",
       "  'long_name': 'horizontal transmittance in sea water',\n",
       "  'standard_name': 'optical_transmission_ratio_in_sea_water',\n",
       "  'instrument': 'CStar'},\n",
       " 'attenuation': {'generic_name': 'cstar beam attenuation',\n",
       "  'units': 'm-1',\n",
       "  'long_name': 'horizontal beam attenuation in sea water',\n",
       "  'standard_name': 'volume_beam_attenuation_coefficient_in_sea_water',\n",
       "  'instrument': 'CStar'}}"
      ]
     },
     "execution_count": 24,
     "metadata": {},
     "output_type": "execute_result"
    }
   ],
   "source": [
    "inst_config"
   ]
  },
  {
   "cell_type": "code",
   "execution_count": 25,
   "id": "f5aedec2-dc99-4446-9f28-9127ec805049",
   "metadata": {},
   "outputs": [
    {
     "data": {
      "text/plain": [
       "{'id': 54636,\n",
       " 'Vessel': 'R/V Sikuliaq',\n",
       " 'CruiseID': 'SKQ202312S',\n",
       " 'Project_Leg': '',\n",
       " 'UniqueCruiseID': 'SKQ202312S',\n",
       " 'Project': '',\n",
       " 'StationNo_altname': '',\n",
       " 'ConsecutiveCastNo': 'CTD001',\n",
       " 'LatitudeDeg': 62,\n",
       " 'LatitudeMin': 11.69,\n",
       " 'LongitudeDeg': 174,\n",
       " 'LongitudeMin': 40.42,\n",
       " 'GMTDay': 14,\n",
       " 'GMTMonth': 'Sep',\n",
       " 'GMTYear': 2023,\n",
       " 'GMTTime': 47989,\n",
       " 'DryBulb': -99.9,\n",
       " 'RelativeHumidity': -999,\n",
       " 'WetBulb': -99.9,\n",
       " 'Pressure': '',\n",
       " 'SeaState': '',\n",
       " 'Visibility': '',\n",
       " 'WindDir': -999,\n",
       " 'WindSpd': -99.9,\n",
       " 'CloudAmt': '',\n",
       " 'CloudType': '',\n",
       " 'Weather': '',\n",
       " 'SurfaceTemp': -99.9,\n",
       " 'BottomDepth': -9999,\n",
       " 'StationNameID': '',\n",
       " 'MaxDepth': -9999,\n",
       " 'InstrumentSerialNos': '',\n",
       " 'Notes': '',\n",
       " 'NutrientBtlNiskinNo': '',\n",
       " 'NutrientBtlNumbers': '',\n",
       " 'OxygenBtlNiskinNo': '',\n",
       " 'OxygenBtlNumbers': '',\n",
       " 'SalinityBtlNiskinNo': '',\n",
       " 'SalinityBtlNumbers': '',\n",
       " 'ChlorophyllBtlNiskinNo': '',\n",
       " 'ChlorophyllBtlVolumes': '',\n",
       " 'InstrumentType': 'SBE911plus',\n",
       " 'WaterMassCode': '',\n",
       " 'isMooringProfileCast': 'n',\n",
       " 'MooringID': '',\n",
       " 'QualityControlled': 'n',\n",
       " 'FileName': \"''\\r\"}"
      ]
     },
     "execution_count": 25,
     "metadata": {},
     "output_type": "execute_result"
    }
   ],
   "source": [
    "cruise_config['CTDCasts']['CTD001']"
   ]
  },
  {
   "cell_type": "code",
   "execution_count": 26,
   "id": "c16aef5f-bf0a-4e78-86b7-95745cddbef8",
   "metadata": {},
   "outputs": [
    {
     "data": {
      "text/plain": [
       "Index(['c0mS/cm', 'c1mS/cm', 'flECO-AFL', 'sbeox0V', 't090C', 't190C', 'timeS',\n",
       "       'v6', 'sbeox1V', 'CStarAt0', 'CStarTr0', 'par', 'sbox0Mm/Kg',\n",
       "       'sbox1Mm/Kg', 'sal00', 'sal11', 'sigma-t00', 'sigma-t11', 'sbeox0ML/L',\n",
       "       'sbox0Mm/Kg_', 'sbeox0PS', 'sbox1Mm/Kg_', 'sbeox1PS', 'sbeox1ML/L',\n",
       "       'nbin', 'flag'],\n",
       "      dtype='object')"
      ]
     },
     "execution_count": 26,
     "metadata": {},
     "output_type": "execute_result"
    }
   ],
   "source": [
    "cruise_data['CTD001.cnv'].columns"
   ]
  },
  {
   "cell_type": "code",
   "execution_count": 27,
   "id": "31643660",
   "metadata": {
    "scrolled": true,
    "tags": []
   },
   "outputs": [
    {
     "name": "stdout",
     "output_type": "stream",
     "text": [
      "Processing Cast CTD001.cnv\n",
      "Processing Cast CTD002.cnv\n",
      "Processing Cast CTD003.cnv\n",
      "Processing Cast CTD004.cnv\n"
     ]
    },
    {
     "name": "stderr",
     "output_type": "stream",
     "text": [
      "/Users/bell/src/ecofocipy/src/EcoFOCIpy/io/ncCFsave.py:320: UserWarning: Times can't be serialized faithfully to int64 with requested units 'days since 1900-01-01'. Resolution of 'seconds' needed. Serializing times to floating point instead. Set encoding['dtype'] to integer dtype to serialize to int64. Set encoding['dtype'] to floating point dtype to silence this warning.\n",
      "  xdf.to_netcdf(filename,format=kwargs['format'],encoding={'time':{'units':'days since 1900-01-01'}})\n",
      "/Users/bell/src/ecofocipy/src/EcoFOCIpy/io/ncCFsave.py:320: UserWarning: Times can't be serialized faithfully to int64 with requested units 'days since 1900-01-01'. Resolution of 'seconds' needed. Serializing times to floating point instead. Set encoding['dtype'] to integer dtype to serialize to int64. Set encoding['dtype'] to floating point dtype to silence this warning.\n",
      "  xdf.to_netcdf(filename,format=kwargs['format'],encoding={'time':{'units':'days since 1900-01-01'}})\n",
      "/Users/bell/src/ecofocipy/src/EcoFOCIpy/io/ncCFsave.py:320: UserWarning: Times can't be serialized faithfully to int64 with requested units 'days since 1900-01-01'. Resolution of 'seconds' needed. Serializing times to floating point instead. Set encoding['dtype'] to integer dtype to serialize to int64. Set encoding['dtype'] to floating point dtype to silence this warning.\n",
      "  xdf.to_netcdf(filename,format=kwargs['format'],encoding={'time':{'units':'days since 1900-01-01'}})\n",
      "/Users/bell/src/ecofocipy/src/EcoFOCIpy/io/ncCFsave.py:320: UserWarning: Times can't be serialized faithfully to int64 with requested units 'days since 1900-01-01'. Resolution of 'seconds' needed. Serializing times to floating point instead. Set encoding['dtype'] to integer dtype to serialize to int64. Set encoding['dtype'] to floating point dtype to silence this warning.\n",
      "  xdf.to_netcdf(filename,format=kwargs['format'],encoding={'time':{'units':'days since 1900-01-01'}})\n"
     ]
    },
    {
     "name": "stdout",
     "output_type": "stream",
     "text": [
      "Processing Cast CTD005.cnv\n",
      "Processing Cast CTD006.cnv\n",
      "Processing Cast CTD007.cnv\n",
      "Processing Cast CTD008.cnv\n"
     ]
    },
    {
     "name": "stderr",
     "output_type": "stream",
     "text": [
      "/Users/bell/src/ecofocipy/src/EcoFOCIpy/io/ncCFsave.py:320: UserWarning: Times can't be serialized faithfully to int64 with requested units 'days since 1900-01-01'. Resolution of 'seconds' needed. Serializing times to floating point instead. Set encoding['dtype'] to integer dtype to serialize to int64. Set encoding['dtype'] to floating point dtype to silence this warning.\n",
      "  xdf.to_netcdf(filename,format=kwargs['format'],encoding={'time':{'units':'days since 1900-01-01'}})\n",
      "/Users/bell/src/ecofocipy/src/EcoFOCIpy/io/ncCFsave.py:320: UserWarning: Times can't be serialized faithfully to int64 with requested units 'days since 1900-01-01'. Resolution of 'seconds' needed. Serializing times to floating point instead. Set encoding['dtype'] to integer dtype to serialize to int64. Set encoding['dtype'] to floating point dtype to silence this warning.\n",
      "  xdf.to_netcdf(filename,format=kwargs['format'],encoding={'time':{'units':'days since 1900-01-01'}})\n",
      "/Users/bell/src/ecofocipy/src/EcoFOCIpy/io/ncCFsave.py:320: UserWarning: Times can't be serialized faithfully to int64 with requested units 'days since 1900-01-01'. Resolution of 'seconds' needed. Serializing times to floating point instead. Set encoding['dtype'] to integer dtype to serialize to int64. Set encoding['dtype'] to floating point dtype to silence this warning.\n",
      "  xdf.to_netcdf(filename,format=kwargs['format'],encoding={'time':{'units':'days since 1900-01-01'}})\n",
      "/Users/bell/src/ecofocipy/src/EcoFOCIpy/io/ncCFsave.py:320: UserWarning: Times can't be serialized faithfully to int64 with requested units 'days since 1900-01-01'. Resolution of 'seconds' needed. Serializing times to floating point instead. Set encoding['dtype'] to integer dtype to serialize to int64. Set encoding['dtype'] to floating point dtype to silence this warning.\n",
      "  xdf.to_netcdf(filename,format=kwargs['format'],encoding={'time':{'units':'days since 1900-01-01'}})\n"
     ]
    },
    {
     "name": "stdout",
     "output_type": "stream",
     "text": [
      "Processing Cast CTD009.cnv\n",
      "Processing Cast CTD010.cnv\n",
      "Processing Cast CTD011.cnv\n",
      "Processing Cast CTD012.cnv\n"
     ]
    },
    {
     "name": "stderr",
     "output_type": "stream",
     "text": [
      "/Users/bell/src/ecofocipy/src/EcoFOCIpy/io/ncCFsave.py:320: UserWarning: Times can't be serialized faithfully to int64 with requested units 'days since 1900-01-01'. Resolution of 'seconds' needed. Serializing times to floating point instead. Set encoding['dtype'] to integer dtype to serialize to int64. Set encoding['dtype'] to floating point dtype to silence this warning.\n",
      "  xdf.to_netcdf(filename,format=kwargs['format'],encoding={'time':{'units':'days since 1900-01-01'}})\n",
      "/Users/bell/src/ecofocipy/src/EcoFOCIpy/io/ncCFsave.py:320: UserWarning: Times can't be serialized faithfully to int64 with requested units 'days since 1900-01-01'. Resolution of 'seconds' needed. Serializing times to floating point instead. Set encoding['dtype'] to integer dtype to serialize to int64. Set encoding['dtype'] to floating point dtype to silence this warning.\n",
      "  xdf.to_netcdf(filename,format=kwargs['format'],encoding={'time':{'units':'days since 1900-01-01'}})\n",
      "/Users/bell/src/ecofocipy/src/EcoFOCIpy/io/ncCFsave.py:320: UserWarning: Times can't be serialized faithfully to int64 with requested units 'days since 1900-01-01'. Resolution of 'seconds' needed. Serializing times to floating point instead. Set encoding['dtype'] to integer dtype to serialize to int64. Set encoding['dtype'] to floating point dtype to silence this warning.\n",
      "  xdf.to_netcdf(filename,format=kwargs['format'],encoding={'time':{'units':'days since 1900-01-01'}})\n",
      "/Users/bell/src/ecofocipy/src/EcoFOCIpy/io/ncCFsave.py:320: UserWarning: Times can't be serialized faithfully to int64 with requested units 'days since 1900-01-01'. Resolution of 'seconds' needed. Serializing times to floating point instead. Set encoding['dtype'] to integer dtype to serialize to int64. Set encoding['dtype'] to floating point dtype to silence this warning.\n",
      "  xdf.to_netcdf(filename,format=kwargs['format'],encoding={'time':{'units':'days since 1900-01-01'}})\n"
     ]
    },
    {
     "name": "stdout",
     "output_type": "stream",
     "text": [
      "Processing Cast CTD013.cnv\n",
      "Processing Cast CTD014.cnv\n",
      "Processing Cast CTD015.cnv\n",
      "Processing Cast CTD016.cnv\n"
     ]
    },
    {
     "name": "stderr",
     "output_type": "stream",
     "text": [
      "/Users/bell/src/ecofocipy/src/EcoFOCIpy/io/ncCFsave.py:320: UserWarning: Times can't be serialized faithfully to int64 with requested units 'days since 1900-01-01'. Resolution of 'seconds' needed. Serializing times to floating point instead. Set encoding['dtype'] to integer dtype to serialize to int64. Set encoding['dtype'] to floating point dtype to silence this warning.\n",
      "  xdf.to_netcdf(filename,format=kwargs['format'],encoding={'time':{'units':'days since 1900-01-01'}})\n",
      "/Users/bell/src/ecofocipy/src/EcoFOCIpy/io/ncCFsave.py:320: UserWarning: Times can't be serialized faithfully to int64 with requested units 'days since 1900-01-01'. Resolution of 'seconds' needed. Serializing times to floating point instead. Set encoding['dtype'] to integer dtype to serialize to int64. Set encoding['dtype'] to floating point dtype to silence this warning.\n",
      "  xdf.to_netcdf(filename,format=kwargs['format'],encoding={'time':{'units':'days since 1900-01-01'}})\n",
      "/Users/bell/src/ecofocipy/src/EcoFOCIpy/io/ncCFsave.py:320: UserWarning: Times can't be serialized faithfully to int64 with requested units 'days since 1900-01-01'. Resolution of 'seconds' needed. Serializing times to floating point instead. Set encoding['dtype'] to integer dtype to serialize to int64. Set encoding['dtype'] to floating point dtype to silence this warning.\n",
      "  xdf.to_netcdf(filename,format=kwargs['format'],encoding={'time':{'units':'days since 1900-01-01'}})\n",
      "/Users/bell/src/ecofocipy/src/EcoFOCIpy/io/ncCFsave.py:320: UserWarning: Times can't be serialized faithfully to int64 with requested units 'days since 1900-01-01'. Resolution of 'seconds' needed. Serializing times to floating point instead. Set encoding['dtype'] to integer dtype to serialize to int64. Set encoding['dtype'] to floating point dtype to silence this warning.\n",
      "  xdf.to_netcdf(filename,format=kwargs['format'],encoding={'time':{'units':'days since 1900-01-01'}})\n"
     ]
    },
    {
     "name": "stdout",
     "output_type": "stream",
     "text": [
      "Processing Cast CTD017.cnv\n",
      "Processing Cast CTD018.cnv\n",
      "Processing Cast CTD019.cnv\n",
      "Processing Cast CTD020.cnv\n"
     ]
    },
    {
     "name": "stderr",
     "output_type": "stream",
     "text": [
      "/Users/bell/src/ecofocipy/src/EcoFOCIpy/io/ncCFsave.py:320: UserWarning: Times can't be serialized faithfully to int64 with requested units 'days since 1900-01-01'. Resolution of 'seconds' needed. Serializing times to floating point instead. Set encoding['dtype'] to integer dtype to serialize to int64. Set encoding['dtype'] to floating point dtype to silence this warning.\n",
      "  xdf.to_netcdf(filename,format=kwargs['format'],encoding={'time':{'units':'days since 1900-01-01'}})\n",
      "/Users/bell/src/ecofocipy/src/EcoFOCIpy/io/ncCFsave.py:320: UserWarning: Times can't be serialized faithfully to int64 with requested units 'days since 1900-01-01'. Resolution of 'seconds' needed. Serializing times to floating point instead. Set encoding['dtype'] to integer dtype to serialize to int64. Set encoding['dtype'] to floating point dtype to silence this warning.\n",
      "  xdf.to_netcdf(filename,format=kwargs['format'],encoding={'time':{'units':'days since 1900-01-01'}})\n",
      "/Users/bell/src/ecofocipy/src/EcoFOCIpy/io/ncCFsave.py:320: UserWarning: Times can't be serialized faithfully to int64 with requested units 'days since 1900-01-01'. Resolution of 'seconds' needed. Serializing times to floating point instead. Set encoding['dtype'] to integer dtype to serialize to int64. Set encoding['dtype'] to floating point dtype to silence this warning.\n",
      "  xdf.to_netcdf(filename,format=kwargs['format'],encoding={'time':{'units':'days since 1900-01-01'}})\n",
      "/Users/bell/src/ecofocipy/src/EcoFOCIpy/io/ncCFsave.py:320: UserWarning: Times can't be serialized faithfully to int64 with requested units 'days since 1900-01-01'. Resolution of 'seconds' needed. Serializing times to floating point instead. Set encoding['dtype'] to integer dtype to serialize to int64. Set encoding['dtype'] to floating point dtype to silence this warning.\n",
      "  xdf.to_netcdf(filename,format=kwargs['format'],encoding={'time':{'units':'days since 1900-01-01'}})\n"
     ]
    },
    {
     "name": "stdout",
     "output_type": "stream",
     "text": [
      "Processing Cast CTD021.cnv\n",
      "Processing Cast CTD022.cnv\n",
      "Processing Cast CTD023.cnv\n",
      "Processing Cast CTD024.cnv\n"
     ]
    },
    {
     "name": "stderr",
     "output_type": "stream",
     "text": [
      "/Users/bell/src/ecofocipy/src/EcoFOCIpy/io/ncCFsave.py:320: UserWarning: Times can't be serialized faithfully to int64 with requested units 'days since 1900-01-01'. Resolution of 'seconds' needed. Serializing times to floating point instead. Set encoding['dtype'] to integer dtype to serialize to int64. Set encoding['dtype'] to floating point dtype to silence this warning.\n",
      "  xdf.to_netcdf(filename,format=kwargs['format'],encoding={'time':{'units':'days since 1900-01-01'}})\n",
      "/Users/bell/src/ecofocipy/src/EcoFOCIpy/io/ncCFsave.py:320: UserWarning: Times can't be serialized faithfully to int64 with requested units 'days since 1900-01-01'. Resolution of 'seconds' needed. Serializing times to floating point instead. Set encoding['dtype'] to integer dtype to serialize to int64. Set encoding['dtype'] to floating point dtype to silence this warning.\n",
      "  xdf.to_netcdf(filename,format=kwargs['format'],encoding={'time':{'units':'days since 1900-01-01'}})\n",
      "/Users/bell/src/ecofocipy/src/EcoFOCIpy/io/ncCFsave.py:320: UserWarning: Times can't be serialized faithfully to int64 with requested units 'days since 1900-01-01'. Resolution of 'seconds' needed. Serializing times to floating point instead. Set encoding['dtype'] to integer dtype to serialize to int64. Set encoding['dtype'] to floating point dtype to silence this warning.\n",
      "  xdf.to_netcdf(filename,format=kwargs['format'],encoding={'time':{'units':'days since 1900-01-01'}})\n",
      "/Users/bell/src/ecofocipy/src/EcoFOCIpy/io/ncCFsave.py:320: UserWarning: Times can't be serialized faithfully to int64 with requested units 'days since 1900-01-01'. Resolution of 'seconds' needed. Serializing times to floating point instead. Set encoding['dtype'] to integer dtype to serialize to int64. Set encoding['dtype'] to floating point dtype to silence this warning.\n",
      "  xdf.to_netcdf(filename,format=kwargs['format'],encoding={'time':{'units':'days since 1900-01-01'}})\n"
     ]
    },
    {
     "name": "stdout",
     "output_type": "stream",
     "text": [
      "Processing Cast CTD025.cnv\n",
      "Processing Cast CTD026.cnv\n",
      "Processing Cast CTD027.cnv\n",
      "Processing Cast CTD028.cnv\n",
      "Processing Cast CTD029.cnv\n"
     ]
    },
    {
     "name": "stderr",
     "output_type": "stream",
     "text": [
      "/Users/bell/src/ecofocipy/src/EcoFOCIpy/io/ncCFsave.py:320: UserWarning: Times can't be serialized faithfully to int64 with requested units 'days since 1900-01-01'. Resolution of 'seconds' needed. Serializing times to floating point instead. Set encoding['dtype'] to integer dtype to serialize to int64. Set encoding['dtype'] to floating point dtype to silence this warning.\n",
      "  xdf.to_netcdf(filename,format=kwargs['format'],encoding={'time':{'units':'days since 1900-01-01'}})\n",
      "/Users/bell/src/ecofocipy/src/EcoFOCIpy/io/ncCFsave.py:320: UserWarning: Times can't be serialized faithfully to int64 with requested units 'days since 1900-01-01'. Resolution of 'seconds' needed. Serializing times to floating point instead. Set encoding['dtype'] to integer dtype to serialize to int64. Set encoding['dtype'] to floating point dtype to silence this warning.\n",
      "  xdf.to_netcdf(filename,format=kwargs['format'],encoding={'time':{'units':'days since 1900-01-01'}})\n",
      "/Users/bell/src/ecofocipy/src/EcoFOCIpy/io/ncCFsave.py:320: UserWarning: Times can't be serialized faithfully to int64 with requested units 'days since 1900-01-01'. Resolution of 'seconds' needed. Serializing times to floating point instead. Set encoding['dtype'] to integer dtype to serialize to int64. Set encoding['dtype'] to floating point dtype to silence this warning.\n",
      "  xdf.to_netcdf(filename,format=kwargs['format'],encoding={'time':{'units':'days since 1900-01-01'}})\n",
      "/Users/bell/src/ecofocipy/src/EcoFOCIpy/io/ncCFsave.py:320: UserWarning: Times can't be serialized faithfully to int64 with requested units 'days since 1900-01-01'. Resolution of 'seconds' needed. Serializing times to floating point instead. Set encoding['dtype'] to integer dtype to serialize to int64. Set encoding['dtype'] to floating point dtype to silence this warning.\n",
      "  xdf.to_netcdf(filename,format=kwargs['format'],encoding={'time':{'units':'days since 1900-01-01'}})\n",
      "/Users/bell/src/ecofocipy/src/EcoFOCIpy/io/ncCFsave.py:320: UserWarning: Times can't be serialized faithfully to int64 with requested units 'days since 1900-01-01'. Resolution of 'seconds' needed. Serializing times to floating point instead. Set encoding['dtype'] to integer dtype to serialize to int64. Set encoding['dtype'] to floating point dtype to silence this warning.\n",
      "  xdf.to_netcdf(filename,format=kwargs['format'],encoding={'time':{'units':'days since 1900-01-01'}})\n"
     ]
    },
    {
     "name": "stdout",
     "output_type": "stream",
     "text": [
      "Processing Cast CTD030.cnv\n",
      "Processing Cast CTD031.cnv\n",
      "Processing Cast CTD032.cnv\n",
      "Processing Cast CTD033.cnv\n"
     ]
    },
    {
     "name": "stderr",
     "output_type": "stream",
     "text": [
      "/Users/bell/src/ecofocipy/src/EcoFOCIpy/io/ncCFsave.py:320: UserWarning: Times can't be serialized faithfully to int64 with requested units 'days since 1900-01-01'. Resolution of 'seconds' needed. Serializing times to floating point instead. Set encoding['dtype'] to integer dtype to serialize to int64. Set encoding['dtype'] to floating point dtype to silence this warning.\n",
      "  xdf.to_netcdf(filename,format=kwargs['format'],encoding={'time':{'units':'days since 1900-01-01'}})\n",
      "/Users/bell/src/ecofocipy/src/EcoFOCIpy/io/ncCFsave.py:320: UserWarning: Times can't be serialized faithfully to int64 with requested units 'days since 1900-01-01'. Resolution of 'seconds' needed. Serializing times to floating point instead. Set encoding['dtype'] to integer dtype to serialize to int64. Set encoding['dtype'] to floating point dtype to silence this warning.\n",
      "  xdf.to_netcdf(filename,format=kwargs['format'],encoding={'time':{'units':'days since 1900-01-01'}})\n",
      "/Users/bell/src/ecofocipy/src/EcoFOCIpy/io/ncCFsave.py:320: UserWarning: Times can't be serialized faithfully to int64 with requested units 'days since 1900-01-01'. Resolution of 'seconds' needed. Serializing times to floating point instead. Set encoding['dtype'] to integer dtype to serialize to int64. Set encoding['dtype'] to floating point dtype to silence this warning.\n",
      "  xdf.to_netcdf(filename,format=kwargs['format'],encoding={'time':{'units':'days since 1900-01-01'}})\n",
      "/Users/bell/src/ecofocipy/src/EcoFOCIpy/io/ncCFsave.py:320: UserWarning: Times can't be serialized faithfully to int64 with requested units 'days since 1900-01-01'. Resolution of 'seconds' needed. Serializing times to floating point instead. Set encoding['dtype'] to integer dtype to serialize to int64. Set encoding['dtype'] to floating point dtype to silence this warning.\n",
      "  xdf.to_netcdf(filename,format=kwargs['format'],encoding={'time':{'units':'days since 1900-01-01'}})\n"
     ]
    },
    {
     "name": "stdout",
     "output_type": "stream",
     "text": [
      "Processing Cast CTD034.cnv\n",
      "Processing Cast CTD035.cnv\n",
      "Processing Cast CTD036.cnv\n",
      "Processing Cast CTD037.cnv\n"
     ]
    },
    {
     "name": "stderr",
     "output_type": "stream",
     "text": [
      "/Users/bell/src/ecofocipy/src/EcoFOCIpy/io/ncCFsave.py:320: UserWarning: Times can't be serialized faithfully to int64 with requested units 'days since 1900-01-01'. Resolution of 'seconds' needed. Serializing times to floating point instead. Set encoding['dtype'] to integer dtype to serialize to int64. Set encoding['dtype'] to floating point dtype to silence this warning.\n",
      "  xdf.to_netcdf(filename,format=kwargs['format'],encoding={'time':{'units':'days since 1900-01-01'}})\n",
      "/Users/bell/src/ecofocipy/src/EcoFOCIpy/io/ncCFsave.py:320: UserWarning: Times can't be serialized faithfully to int64 with requested units 'days since 1900-01-01'. Resolution of 'seconds' needed. Serializing times to floating point instead. Set encoding['dtype'] to integer dtype to serialize to int64. Set encoding['dtype'] to floating point dtype to silence this warning.\n",
      "  xdf.to_netcdf(filename,format=kwargs['format'],encoding={'time':{'units':'days since 1900-01-01'}})\n",
      "/Users/bell/src/ecofocipy/src/EcoFOCIpy/io/ncCFsave.py:320: UserWarning: Times can't be serialized faithfully to int64 with requested units 'days since 1900-01-01'. Resolution of 'minutes' needed. Serializing times to floating point instead. Set encoding['dtype'] to integer dtype to serialize to int64. Set encoding['dtype'] to floating point dtype to silence this warning.\n",
      "  xdf.to_netcdf(filename,format=kwargs['format'],encoding={'time':{'units':'days since 1900-01-01'}})\n",
      "/Users/bell/src/ecofocipy/src/EcoFOCIpy/io/ncCFsave.py:320: UserWarning: Times can't be serialized faithfully to int64 with requested units 'days since 1900-01-01'. Resolution of 'seconds' needed. Serializing times to floating point instead. Set encoding['dtype'] to integer dtype to serialize to int64. Set encoding['dtype'] to floating point dtype to silence this warning.\n",
      "  xdf.to_netcdf(filename,format=kwargs['format'],encoding={'time':{'units':'days since 1900-01-01'}})\n"
     ]
    },
    {
     "name": "stdout",
     "output_type": "stream",
     "text": [
      "Processing Cast CTD038.cnv\n",
      "Processing Cast CTD039.cnv\n",
      "Processing Cast CTD040.cnv\n",
      "Conversion Failed\n",
      "Processing Cast CTD041.cnv\n",
      "Processing Cast CTD042.cnv\n"
     ]
    },
    {
     "name": "stderr",
     "output_type": "stream",
     "text": [
      "/Users/bell/src/ecofocipy/src/EcoFOCIpy/io/ncCFsave.py:320: UserWarning: Times can't be serialized faithfully to int64 with requested units 'days since 1900-01-01'. Resolution of 'seconds' needed. Serializing times to floating point instead. Set encoding['dtype'] to integer dtype to serialize to int64. Set encoding['dtype'] to floating point dtype to silence this warning.\n",
      "  xdf.to_netcdf(filename,format=kwargs['format'],encoding={'time':{'units':'days since 1900-01-01'}})\n",
      "/Users/bell/src/ecofocipy/src/EcoFOCIpy/io/ncCFsave.py:320: UserWarning: Times can't be serialized faithfully to int64 with requested units 'days since 1900-01-01'. Resolution of 'seconds' needed. Serializing times to floating point instead. Set encoding['dtype'] to integer dtype to serialize to int64. Set encoding['dtype'] to floating point dtype to silence this warning.\n",
      "  xdf.to_netcdf(filename,format=kwargs['format'],encoding={'time':{'units':'days since 1900-01-01'}})\n",
      "/Users/bell/src/ecofocipy/src/EcoFOCIpy/io/ncCFsave.py:320: UserWarning: Times can't be serialized faithfully to int64 with requested units 'days since 1900-01-01'. Resolution of 'seconds' needed. Serializing times to floating point instead. Set encoding['dtype'] to integer dtype to serialize to int64. Set encoding['dtype'] to floating point dtype to silence this warning.\n",
      "  xdf.to_netcdf(filename,format=kwargs['format'],encoding={'time':{'units':'days since 1900-01-01'}})\n",
      "/Users/bell/src/ecofocipy/src/EcoFOCIpy/io/ncCFsave.py:320: UserWarning: Times can't be serialized faithfully to int64 with requested units 'days since 1900-01-01'. Resolution of 'seconds' needed. Serializing times to floating point instead. Set encoding['dtype'] to integer dtype to serialize to int64. Set encoding['dtype'] to floating point dtype to silence this warning.\n",
      "  xdf.to_netcdf(filename,format=kwargs['format'],encoding={'time':{'units':'days since 1900-01-01'}})\n"
     ]
    },
    {
     "name": "stdout",
     "output_type": "stream",
     "text": [
      "Processing Cast CTD043.cnv\n",
      "Processing Cast CTD044.cnv\n",
      "Processing Cast CTD045.cnv\n",
      "Processing Cast CTD046.cnv\n"
     ]
    },
    {
     "name": "stderr",
     "output_type": "stream",
     "text": [
      "/Users/bell/src/ecofocipy/src/EcoFOCIpy/io/ncCFsave.py:320: UserWarning: Times can't be serialized faithfully to int64 with requested units 'days since 1900-01-01'. Resolution of 'seconds' needed. Serializing times to floating point instead. Set encoding['dtype'] to integer dtype to serialize to int64. Set encoding['dtype'] to floating point dtype to silence this warning.\n",
      "  xdf.to_netcdf(filename,format=kwargs['format'],encoding={'time':{'units':'days since 1900-01-01'}})\n",
      "/Users/bell/src/ecofocipy/src/EcoFOCIpy/io/ncCFsave.py:320: UserWarning: Times can't be serialized faithfully to int64 with requested units 'days since 1900-01-01'. Resolution of 'seconds' needed. Serializing times to floating point instead. Set encoding['dtype'] to integer dtype to serialize to int64. Set encoding['dtype'] to floating point dtype to silence this warning.\n",
      "  xdf.to_netcdf(filename,format=kwargs['format'],encoding={'time':{'units':'days since 1900-01-01'}})\n",
      "/Users/bell/src/ecofocipy/src/EcoFOCIpy/io/ncCFsave.py:320: UserWarning: Times can't be serialized faithfully to int64 with requested units 'days since 1900-01-01'. Resolution of 'seconds' needed. Serializing times to floating point instead. Set encoding['dtype'] to integer dtype to serialize to int64. Set encoding['dtype'] to floating point dtype to silence this warning.\n",
      "  xdf.to_netcdf(filename,format=kwargs['format'],encoding={'time':{'units':'days since 1900-01-01'}})\n",
      "/Users/bell/src/ecofocipy/src/EcoFOCIpy/io/ncCFsave.py:320: UserWarning: Times can't be serialized faithfully to int64 with requested units 'days since 1900-01-01'. Resolution of 'seconds' needed. Serializing times to floating point instead. Set encoding['dtype'] to integer dtype to serialize to int64. Set encoding['dtype'] to floating point dtype to silence this warning.\n",
      "  xdf.to_netcdf(filename,format=kwargs['format'],encoding={'time':{'units':'days since 1900-01-01'}})\n"
     ]
    },
    {
     "name": "stdout",
     "output_type": "stream",
     "text": [
      "Processing Cast CTD047.cnv\n",
      "Processing Cast CTD048.cnv\n",
      "Processing Cast CTD049.cnv\n",
      "Processing Cast CTD050.cnv\n"
     ]
    },
    {
     "name": "stderr",
     "output_type": "stream",
     "text": [
      "/Users/bell/src/ecofocipy/src/EcoFOCIpy/io/ncCFsave.py:320: UserWarning: Times can't be serialized faithfully to int64 with requested units 'days since 1900-01-01'. Resolution of 'seconds' needed. Serializing times to floating point instead. Set encoding['dtype'] to integer dtype to serialize to int64. Set encoding['dtype'] to floating point dtype to silence this warning.\n",
      "  xdf.to_netcdf(filename,format=kwargs['format'],encoding={'time':{'units':'days since 1900-01-01'}})\n",
      "/Users/bell/src/ecofocipy/src/EcoFOCIpy/io/ncCFsave.py:320: UserWarning: Times can't be serialized faithfully to int64 with requested units 'days since 1900-01-01'. Resolution of 'seconds' needed. Serializing times to floating point instead. Set encoding['dtype'] to integer dtype to serialize to int64. Set encoding['dtype'] to floating point dtype to silence this warning.\n",
      "  xdf.to_netcdf(filename,format=kwargs['format'],encoding={'time':{'units':'days since 1900-01-01'}})\n",
      "/Users/bell/src/ecofocipy/src/EcoFOCIpy/io/ncCFsave.py:320: UserWarning: Times can't be serialized faithfully to int64 with requested units 'days since 1900-01-01'. Resolution of 'seconds' needed. Serializing times to floating point instead. Set encoding['dtype'] to integer dtype to serialize to int64. Set encoding['dtype'] to floating point dtype to silence this warning.\n",
      "  xdf.to_netcdf(filename,format=kwargs['format'],encoding={'time':{'units':'days since 1900-01-01'}})\n",
      "/Users/bell/src/ecofocipy/src/EcoFOCIpy/io/ncCFsave.py:320: UserWarning: Times can't be serialized faithfully to int64 with requested units 'days since 1900-01-01'. Resolution of 'seconds' needed. Serializing times to floating point instead. Set encoding['dtype'] to integer dtype to serialize to int64. Set encoding['dtype'] to floating point dtype to silence this warning.\n",
      "  xdf.to_netcdf(filename,format=kwargs['format'],encoding={'time':{'units':'days since 1900-01-01'}})\n"
     ]
    },
    {
     "name": "stdout",
     "output_type": "stream",
     "text": [
      "Processing Cast CTD051.cnv\n",
      "Processing Cast CTD052.cnv\n",
      "Processing Cast CTD053.cnv\n",
      "Processing Cast CTD054.cnv\n"
     ]
    },
    {
     "name": "stderr",
     "output_type": "stream",
     "text": [
      "/Users/bell/src/ecofocipy/src/EcoFOCIpy/io/ncCFsave.py:320: UserWarning: Times can't be serialized faithfully to int64 with requested units 'days since 1900-01-01'. Resolution of 'seconds' needed. Serializing times to floating point instead. Set encoding['dtype'] to integer dtype to serialize to int64. Set encoding['dtype'] to floating point dtype to silence this warning.\n",
      "  xdf.to_netcdf(filename,format=kwargs['format'],encoding={'time':{'units':'days since 1900-01-01'}})\n",
      "/Users/bell/src/ecofocipy/src/EcoFOCIpy/io/ncCFsave.py:320: UserWarning: Times can't be serialized faithfully to int64 with requested units 'days since 1900-01-01'. Resolution of 'seconds' needed. Serializing times to floating point instead. Set encoding['dtype'] to integer dtype to serialize to int64. Set encoding['dtype'] to floating point dtype to silence this warning.\n",
      "  xdf.to_netcdf(filename,format=kwargs['format'],encoding={'time':{'units':'days since 1900-01-01'}})\n",
      "/Users/bell/src/ecofocipy/src/EcoFOCIpy/io/ncCFsave.py:320: UserWarning: Times can't be serialized faithfully to int64 with requested units 'days since 1900-01-01'. Resolution of 'seconds' needed. Serializing times to floating point instead. Set encoding['dtype'] to integer dtype to serialize to int64. Set encoding['dtype'] to floating point dtype to silence this warning.\n",
      "  xdf.to_netcdf(filename,format=kwargs['format'],encoding={'time':{'units':'days since 1900-01-01'}})\n",
      "/Users/bell/src/ecofocipy/src/EcoFOCIpy/io/ncCFsave.py:320: UserWarning: Times can't be serialized faithfully to int64 with requested units 'days since 1900-01-01'. Resolution of 'seconds' needed. Serializing times to floating point instead. Set encoding['dtype'] to integer dtype to serialize to int64. Set encoding['dtype'] to floating point dtype to silence this warning.\n",
      "  xdf.to_netcdf(filename,format=kwargs['format'],encoding={'time':{'units':'days since 1900-01-01'}})\n"
     ]
    },
    {
     "name": "stdout",
     "output_type": "stream",
     "text": [
      "Processing Cast CTD055.cnv\n",
      "Processing Cast CTD056.cnv\n",
      "Processing Cast CTD057.cnv\n",
      "Processing Cast CTD058.cnv\n"
     ]
    },
    {
     "name": "stderr",
     "output_type": "stream",
     "text": [
      "/Users/bell/src/ecofocipy/src/EcoFOCIpy/io/ncCFsave.py:320: UserWarning: Times can't be serialized faithfully to int64 with requested units 'days since 1900-01-01'. Resolution of 'seconds' needed. Serializing times to floating point instead. Set encoding['dtype'] to integer dtype to serialize to int64. Set encoding['dtype'] to floating point dtype to silence this warning.\n",
      "  xdf.to_netcdf(filename,format=kwargs['format'],encoding={'time':{'units':'days since 1900-01-01'}})\n",
      "/Users/bell/src/ecofocipy/src/EcoFOCIpy/io/ncCFsave.py:320: UserWarning: Times can't be serialized faithfully to int64 with requested units 'days since 1900-01-01'. Resolution of 'seconds' needed. Serializing times to floating point instead. Set encoding['dtype'] to integer dtype to serialize to int64. Set encoding['dtype'] to floating point dtype to silence this warning.\n",
      "  xdf.to_netcdf(filename,format=kwargs['format'],encoding={'time':{'units':'days since 1900-01-01'}})\n",
      "/Users/bell/src/ecofocipy/src/EcoFOCIpy/io/ncCFsave.py:320: UserWarning: Times can't be serialized faithfully to int64 with requested units 'days since 1900-01-01'. Resolution of 'seconds' needed. Serializing times to floating point instead. Set encoding['dtype'] to integer dtype to serialize to int64. Set encoding['dtype'] to floating point dtype to silence this warning.\n",
      "  xdf.to_netcdf(filename,format=kwargs['format'],encoding={'time':{'units':'days since 1900-01-01'}})\n",
      "/Users/bell/src/ecofocipy/src/EcoFOCIpy/io/ncCFsave.py:320: UserWarning: Times can't be serialized faithfully to int64 with requested units 'days since 1900-01-01'. Resolution of 'seconds' needed. Serializing times to floating point instead. Set encoding['dtype'] to integer dtype to serialize to int64. Set encoding['dtype'] to floating point dtype to silence this warning.\n",
      "  xdf.to_netcdf(filename,format=kwargs['format'],encoding={'time':{'units':'days since 1900-01-01'}})\n"
     ]
    },
    {
     "name": "stdout",
     "output_type": "stream",
     "text": [
      "Processing Cast CTD059.cnv\n",
      "Processing Cast CTD060.cnv\n",
      "Processing Cast CTD061.cnv\n",
      "Processing Cast CTD062.cnv\n",
      "Conversion Failed\n",
      "Processing Cast CTD063.cnv\n"
     ]
    },
    {
     "name": "stderr",
     "output_type": "stream",
     "text": [
      "/Users/bell/src/ecofocipy/src/EcoFOCIpy/io/ncCFsave.py:320: UserWarning: Times can't be serialized faithfully to int64 with requested units 'days since 1900-01-01'. Resolution of 'seconds' needed. Serializing times to floating point instead. Set encoding['dtype'] to integer dtype to serialize to int64. Set encoding['dtype'] to floating point dtype to silence this warning.\n",
      "  xdf.to_netcdf(filename,format=kwargs['format'],encoding={'time':{'units':'days since 1900-01-01'}})\n",
      "/Users/bell/src/ecofocipy/src/EcoFOCIpy/io/ncCFsave.py:320: UserWarning: Times can't be serialized faithfully to int64 with requested units 'days since 1900-01-01'. Resolution of 'seconds' needed. Serializing times to floating point instead. Set encoding['dtype'] to integer dtype to serialize to int64. Set encoding['dtype'] to floating point dtype to silence this warning.\n",
      "  xdf.to_netcdf(filename,format=kwargs['format'],encoding={'time':{'units':'days since 1900-01-01'}})\n",
      "/Users/bell/src/ecofocipy/src/EcoFOCIpy/io/ncCFsave.py:320: UserWarning: Times can't be serialized faithfully to int64 with requested units 'days since 1900-01-01'. Resolution of 'seconds' needed. Serializing times to floating point instead. Set encoding['dtype'] to integer dtype to serialize to int64. Set encoding['dtype'] to floating point dtype to silence this warning.\n",
      "  xdf.to_netcdf(filename,format=kwargs['format'],encoding={'time':{'units':'days since 1900-01-01'}})\n",
      "/Users/bell/src/ecofocipy/src/EcoFOCIpy/io/ncCFsave.py:320: UserWarning: Times can't be serialized faithfully to int64 with requested units 'days since 1900-01-01'. Resolution of 'seconds' needed. Serializing times to floating point instead. Set encoding['dtype'] to integer dtype to serialize to int64. Set encoding['dtype'] to floating point dtype to silence this warning.\n",
      "  xdf.to_netcdf(filename,format=kwargs['format'],encoding={'time':{'units':'days since 1900-01-01'}})\n"
     ]
    },
    {
     "name": "stdout",
     "output_type": "stream",
     "text": [
      "Processing Cast CTD064.cnv\n",
      "Processing Cast CTD065.cnv\n",
      "Processing Cast CTD066.cnv\n",
      "Processing Cast CTD067.cnv\n"
     ]
    },
    {
     "name": "stderr",
     "output_type": "stream",
     "text": [
      "/Users/bell/src/ecofocipy/src/EcoFOCIpy/io/ncCFsave.py:320: UserWarning: Times can't be serialized faithfully to int64 with requested units 'days since 1900-01-01'. Resolution of 'seconds' needed. Serializing times to floating point instead. Set encoding['dtype'] to integer dtype to serialize to int64. Set encoding['dtype'] to floating point dtype to silence this warning.\n",
      "  xdf.to_netcdf(filename,format=kwargs['format'],encoding={'time':{'units':'days since 1900-01-01'}})\n",
      "/Users/bell/src/ecofocipy/src/EcoFOCIpy/io/ncCFsave.py:320: UserWarning: Times can't be serialized faithfully to int64 with requested units 'days since 1900-01-01'. Resolution of 'seconds' needed. Serializing times to floating point instead. Set encoding['dtype'] to integer dtype to serialize to int64. Set encoding['dtype'] to floating point dtype to silence this warning.\n",
      "  xdf.to_netcdf(filename,format=kwargs['format'],encoding={'time':{'units':'days since 1900-01-01'}})\n",
      "/Users/bell/src/ecofocipy/src/EcoFOCIpy/io/ncCFsave.py:320: UserWarning: Times can't be serialized faithfully to int64 with requested units 'days since 1900-01-01'. Resolution of 'seconds' needed. Serializing times to floating point instead. Set encoding['dtype'] to integer dtype to serialize to int64. Set encoding['dtype'] to floating point dtype to silence this warning.\n",
      "  xdf.to_netcdf(filename,format=kwargs['format'],encoding={'time':{'units':'days since 1900-01-01'}})\n",
      "/Users/bell/src/ecofocipy/src/EcoFOCIpy/io/ncCFsave.py:320: UserWarning: Times can't be serialized faithfully to int64 with requested units 'days since 1900-01-01'. Resolution of 'seconds' needed. Serializing times to floating point instead. Set encoding['dtype'] to integer dtype to serialize to int64. Set encoding['dtype'] to floating point dtype to silence this warning.\n",
      "  xdf.to_netcdf(filename,format=kwargs['format'],encoding={'time':{'units':'days since 1900-01-01'}})\n"
     ]
    },
    {
     "name": "stdout",
     "output_type": "stream",
     "text": [
      "Processing Cast CTD068.cnv\n",
      "Processing Cast CTD069.cnv\n",
      "Processing Cast CTD070.cnv\n",
      "Processing Cast CTD071.cnv\n"
     ]
    },
    {
     "name": "stderr",
     "output_type": "stream",
     "text": [
      "/Users/bell/src/ecofocipy/src/EcoFOCIpy/io/ncCFsave.py:320: UserWarning: Times can't be serialized faithfully to int64 with requested units 'days since 1900-01-01'. Resolution of 'seconds' needed. Serializing times to floating point instead. Set encoding['dtype'] to integer dtype to serialize to int64. Set encoding['dtype'] to floating point dtype to silence this warning.\n",
      "  xdf.to_netcdf(filename,format=kwargs['format'],encoding={'time':{'units':'days since 1900-01-01'}})\n",
      "/Users/bell/src/ecofocipy/src/EcoFOCIpy/io/ncCFsave.py:320: UserWarning: Times can't be serialized faithfully to int64 with requested units 'days since 1900-01-01'. Resolution of 'seconds' needed. Serializing times to floating point instead. Set encoding['dtype'] to integer dtype to serialize to int64. Set encoding['dtype'] to floating point dtype to silence this warning.\n",
      "  xdf.to_netcdf(filename,format=kwargs['format'],encoding={'time':{'units':'days since 1900-01-01'}})\n",
      "/Users/bell/src/ecofocipy/src/EcoFOCIpy/io/ncCFsave.py:320: UserWarning: Times can't be serialized faithfully to int64 with requested units 'days since 1900-01-01'. Resolution of 'seconds' needed. Serializing times to floating point instead. Set encoding['dtype'] to integer dtype to serialize to int64. Set encoding['dtype'] to floating point dtype to silence this warning.\n",
      "  xdf.to_netcdf(filename,format=kwargs['format'],encoding={'time':{'units':'days since 1900-01-01'}})\n",
      "/Users/bell/src/ecofocipy/src/EcoFOCIpy/io/ncCFsave.py:320: UserWarning: Times can't be serialized faithfully to int64 with requested units 'days since 1900-01-01'. Resolution of 'seconds' needed. Serializing times to floating point instead. Set encoding['dtype'] to integer dtype to serialize to int64. Set encoding['dtype'] to floating point dtype to silence this warning.\n",
      "  xdf.to_netcdf(filename,format=kwargs['format'],encoding={'time':{'units':'days since 1900-01-01'}})\n"
     ]
    },
    {
     "name": "stdout",
     "output_type": "stream",
     "text": [
      "Processing Cast CTD072.cnv\n",
      "Processing Cast CTD073.cnv\n",
      "Processing Cast CTD074.cnv\n",
      "Processing Cast CTD075.cnv\n",
      "Processing Cast CTD076.cnv\n"
     ]
    },
    {
     "name": "stderr",
     "output_type": "stream",
     "text": [
      "/Users/bell/src/ecofocipy/src/EcoFOCIpy/io/ncCFsave.py:320: UserWarning: Times can't be serialized faithfully to int64 with requested units 'days since 1900-01-01'. Resolution of 'seconds' needed. Serializing times to floating point instead. Set encoding['dtype'] to integer dtype to serialize to int64. Set encoding['dtype'] to floating point dtype to silence this warning.\n",
      "  xdf.to_netcdf(filename,format=kwargs['format'],encoding={'time':{'units':'days since 1900-01-01'}})\n",
      "/Users/bell/src/ecofocipy/src/EcoFOCIpy/io/ncCFsave.py:320: UserWarning: Times can't be serialized faithfully to int64 with requested units 'days since 1900-01-01'. Resolution of 'seconds' needed. Serializing times to floating point instead. Set encoding['dtype'] to integer dtype to serialize to int64. Set encoding['dtype'] to floating point dtype to silence this warning.\n",
      "  xdf.to_netcdf(filename,format=kwargs['format'],encoding={'time':{'units':'days since 1900-01-01'}})\n",
      "/Users/bell/src/ecofocipy/src/EcoFOCIpy/io/ncCFsave.py:320: UserWarning: Times can't be serialized faithfully to int64 with requested units 'days since 1900-01-01'. Resolution of 'seconds' needed. Serializing times to floating point instead. Set encoding['dtype'] to integer dtype to serialize to int64. Set encoding['dtype'] to floating point dtype to silence this warning.\n",
      "  xdf.to_netcdf(filename,format=kwargs['format'],encoding={'time':{'units':'days since 1900-01-01'}})\n",
      "/Users/bell/src/ecofocipy/src/EcoFOCIpy/io/ncCFsave.py:320: UserWarning: Times can't be serialized faithfully to int64 with requested units 'days since 1900-01-01'. Resolution of 'seconds' needed. Serializing times to floating point instead. Set encoding['dtype'] to integer dtype to serialize to int64. Set encoding['dtype'] to floating point dtype to silence this warning.\n",
      "  xdf.to_netcdf(filename,format=kwargs['format'],encoding={'time':{'units':'days since 1900-01-01'}})\n",
      "/Users/bell/src/ecofocipy/src/EcoFOCIpy/io/ncCFsave.py:320: UserWarning: Times can't be serialized faithfully to int64 with requested units 'days since 1900-01-01'. Resolution of 'seconds' needed. Serializing times to floating point instead. Set encoding['dtype'] to integer dtype to serialize to int64. Set encoding['dtype'] to floating point dtype to silence this warning.\n",
      "  xdf.to_netcdf(filename,format=kwargs['format'],encoding={'time':{'units':'days since 1900-01-01'}})\n"
     ]
    },
    {
     "name": "stdout",
     "output_type": "stream",
     "text": [
      "Processing Cast CTD077.cnv\n",
      "Processing Cast CTD078.cnv\n",
      "Processing Cast CTD079.cnv\n",
      "Processing Cast CTD080.cnv\n"
     ]
    },
    {
     "name": "stderr",
     "output_type": "stream",
     "text": [
      "/Users/bell/src/ecofocipy/src/EcoFOCIpy/io/ncCFsave.py:320: UserWarning: Times can't be serialized faithfully to int64 with requested units 'days since 1900-01-01'. Resolution of 'seconds' needed. Serializing times to floating point instead. Set encoding['dtype'] to integer dtype to serialize to int64. Set encoding['dtype'] to floating point dtype to silence this warning.\n",
      "  xdf.to_netcdf(filename,format=kwargs['format'],encoding={'time':{'units':'days since 1900-01-01'}})\n",
      "/Users/bell/src/ecofocipy/src/EcoFOCIpy/io/ncCFsave.py:320: UserWarning: Times can't be serialized faithfully to int64 with requested units 'days since 1900-01-01'. Resolution of 'seconds' needed. Serializing times to floating point instead. Set encoding['dtype'] to integer dtype to serialize to int64. Set encoding['dtype'] to floating point dtype to silence this warning.\n",
      "  xdf.to_netcdf(filename,format=kwargs['format'],encoding={'time':{'units':'days since 1900-01-01'}})\n",
      "/Users/bell/src/ecofocipy/src/EcoFOCIpy/io/ncCFsave.py:320: UserWarning: Times can't be serialized faithfully to int64 with requested units 'days since 1900-01-01'. Resolution of 'seconds' needed. Serializing times to floating point instead. Set encoding['dtype'] to integer dtype to serialize to int64. Set encoding['dtype'] to floating point dtype to silence this warning.\n",
      "  xdf.to_netcdf(filename,format=kwargs['format'],encoding={'time':{'units':'days since 1900-01-01'}})\n",
      "/Users/bell/src/ecofocipy/src/EcoFOCIpy/io/ncCFsave.py:320: UserWarning: Times can't be serialized faithfully to int64 with requested units 'days since 1900-01-01'. Resolution of 'seconds' needed. Serializing times to floating point instead. Set encoding['dtype'] to integer dtype to serialize to int64. Set encoding['dtype'] to floating point dtype to silence this warning.\n",
      "  xdf.to_netcdf(filename,format=kwargs['format'],encoding={'time':{'units':'days since 1900-01-01'}})\n"
     ]
    },
    {
     "name": "stdout",
     "output_type": "stream",
     "text": [
      "Processing Cast CTD081.cnv\n",
      "Processing Cast CTD082.cnv\n",
      "Processing Cast CTD083.cnv\n",
      "Processing Cast CTD084.cnv\n",
      "Processing Cast CTD085.cnv\n",
      "Conversion Failed\n",
      "Processing Cast CTD086.cnv\n",
      "Conversion Failed\n"
     ]
    },
    {
     "name": "stderr",
     "output_type": "stream",
     "text": [
      "/Users/bell/src/ecofocipy/src/EcoFOCIpy/io/ncCFsave.py:320: UserWarning: Times can't be serialized faithfully to int64 with requested units 'days since 1900-01-01'. Resolution of 'seconds' needed. Serializing times to floating point instead. Set encoding['dtype'] to integer dtype to serialize to int64. Set encoding['dtype'] to floating point dtype to silence this warning.\n",
      "  xdf.to_netcdf(filename,format=kwargs['format'],encoding={'time':{'units':'days since 1900-01-01'}})\n",
      "/Users/bell/src/ecofocipy/src/EcoFOCIpy/io/ncCFsave.py:320: UserWarning: Times can't be serialized faithfully to int64 with requested units 'days since 1900-01-01'. Resolution of 'seconds' needed. Serializing times to floating point instead. Set encoding['dtype'] to integer dtype to serialize to int64. Set encoding['dtype'] to floating point dtype to silence this warning.\n",
      "  xdf.to_netcdf(filename,format=kwargs['format'],encoding={'time':{'units':'days since 1900-01-01'}})\n",
      "/Users/bell/src/ecofocipy/src/EcoFOCIpy/io/ncCFsave.py:320: UserWarning: Times can't be serialized faithfully to int64 with requested units 'days since 1900-01-01'. Resolution of 'seconds' needed. Serializing times to floating point instead. Set encoding['dtype'] to integer dtype to serialize to int64. Set encoding['dtype'] to floating point dtype to silence this warning.\n",
      "  xdf.to_netcdf(filename,format=kwargs['format'],encoding={'time':{'units':'days since 1900-01-01'}})\n",
      "/Users/bell/src/ecofocipy/src/EcoFOCIpy/io/ncCFsave.py:320: UserWarning: Times can't be serialized faithfully to int64 with requested units 'days since 1900-01-01'. Resolution of 'seconds' needed. Serializing times to floating point instead. Set encoding['dtype'] to integer dtype to serialize to int64. Set encoding['dtype'] to floating point dtype to silence this warning.\n",
      "  xdf.to_netcdf(filename,format=kwargs['format'],encoding={'time':{'units':'days since 1900-01-01'}})\n",
      "/Users/bell/src/ecofocipy/src/EcoFOCIpy/io/ncCFsave.py:320: UserWarning: Times can't be serialized faithfully to int64 with requested units 'days since 1900-01-01'. Resolution of 'seconds' needed. Serializing times to floating point instead. Set encoding['dtype'] to integer dtype to serialize to int64. Set encoding['dtype'] to floating point dtype to silence this warning.\n",
      "  xdf.to_netcdf(filename,format=kwargs['format'],encoding={'time':{'units':'days since 1900-01-01'}})\n"
     ]
    }
   ],
   "source": [
    "for cast in cruise_data.keys():\n",
    "    print(f'Processing Cast {cast}')\n",
    "    try:\n",
    "        #output cruise cast stats here\n",
    "        #cruise_data[cast].describe()\n",
    "        #cruise_data['ctd001.cnv'].hist() - seaborn may have a better summary plot than just a bunch of histograms\n",
    "        #sns.pairplot(cruise_data[cast])\n",
    "\n",
    "        cruise_data[cast] = cruise_data[cast].rename(columns={\n",
    "                            't090C':'temperature_ch1',\n",
    "                            't190C':'temperature_ch2',\n",
    "                            'sal00':'salinity_ch1',\n",
    "                            'sal11':'salinity_ch2',\n",
    "                            'sbox0Mm/Kg_':'oxy_conc_ch1',\n",
    "                            'sbox0Mm/Kg':'oxy_conc_ch1_unshifted', #calculated not via derived\n",
    "                            'sbeox0ML/L':'oxy_concM_ch1',\n",
    "                            'sbeox0PS':'oxy_percentsat_ch1',\n",
    "                            'sbox1Mm/Kg_':'oxy_conc_ch2',\n",
    "                            'sbox1Mm/Kg':'oxy_conc_ch2_unshifted', #calculated not via derived\n",
    "                            'sbeox1ML/L':'oxy_concM_ch2',\n",
    "                            'sbeox1PS':'oxy_percentsat_ch2',\n",
    "                            'sigma-t00':'sigma_t_ch1',\n",
    "                            'sigma-t11':'sigma_t_ch2',\n",
    "                            'flECO-AFL':'chlor_fluorescence',\n",
    "                            'turbWETntu0':'turbidity',\n",
    "                            'CStarAt0':'attenuation',\n",
    "                            'cstarat0':'attenuation',\n",
    "                            'CStarTr0':'transmittance',\n",
    "                            'cstartr0':'transmittance',\n",
    "                            'par':'par',\n",
    "                            'empty':'empty', #this will be ignored\n",
    "                            'flag':'flag'})\n",
    "\n",
    "        cruise_data[cast].index.rename('depth',inplace=True)\n",
    "        #cruise_data[cast].sample()\n",
    "\n",
    "        cruise_data_nc = ncCFsave.EcoFOCI_CFnc(df=cruise_data[cast], \n",
    "                                    instrument_yaml=inst_config, \n",
    "                                    operation_yaml=cruise_config,\n",
    "                                    operation_type='ctd')\n",
    "        cruise_data_nc.expand_dimensions(dim_names=['latitude','longitude','time'],geophys_sort=False)\n",
    "        cruise_data_nc.variable_meta_data(variable_keys=list(cruise_data[cast].columns.values),drop_missing=True)\n",
    "        cruise_data_nc.dimension_meta_data(variable_keys=['depth','latitude','longitude'])\n",
    "        cruise_data_nc.temporal_geospatioal_meta_data_ctd(positiveE=False,conscastno=cast.split('.')[0])\n",
    "\n",
    "        cruise_data_nc.var_qcflag_init(dim_names=['depth','latitude','longitude','time'])\n",
    "\n",
    "        #interp to sfc for list of vars\n",
    "        try:\n",
    "            cruise_data_nc.interp2sfc(novars=['par'])\n",
    "        except:\n",
    "            pass\n",
    "\n",
    "        #add global attributes\n",
    "        cruise_data_nc.deployment_meta_add(conscastno=cast.upper().split('.')[0])\n",
    "        cruise_data_nc.get_xdf()\n",
    "\n",
    "        #add instituitonal global attributes\n",
    "        cruise_data_nc.institution_meta_add(group_config)\n",
    "\n",
    "        #add creation date/time - provenance data\n",
    "        cruise_data_nc.provinance_meta_add()\n",
    "\n",
    "        #provide intial qc status field\n",
    "        cruise_data_nc.qc_status(qc_status='unknown')\n",
    "\n",
    "        cast_label = cast.split('.')[0].split('d')[-1]\n",
    "        cruise_data_nc.xarray2netcdf_save(xdf = cruise_data_nc.get_xdf(),\n",
    "                                filename=sample_data_dir+cruise_name+'c'+cast_label.zfill(3)+'_ctd.nc',format=\"NETCDF3_CLASSIC\")\n",
    "        #generate editable csv files\n",
    "        to_edit = True\n",
    "        if to_edit:\n",
    "            if not cast[0] in ['d','u']: #dont save editable up and downcast files, just nc files for plotting... all u/d files can be removed after final data\n",
    "                cruise_data_nc.get_xdf().to_dataframe().to_csv(sample_data_dir+cruise_name+'c'+cast_label.zfill(3)+'_ctd.to_edit.csv')  \n",
    "        \n",
    "    except:\n",
    "       print('Conversion Failed')"
   ]
  },
  {
   "cell_type": "markdown",
   "id": "f2e76212-3a03-443a-b304-6618fa9420e7",
   "metadata": {},
   "source": [
    "## QC Next Steps"
   ]
  },
  {
   "cell_type": "code",
   "execution_count": 163,
   "id": "insured-vulnerability",
   "metadata": {},
   "outputs": [],
   "source": [
    "import EcoFOCIpy.plots.sbe_ctd_plots as sbe_ctd_plots\n",
    "import os\n",
    "import xarray as xa\n",
    "import seaborn as sns\n",
    "import numpy as np"
   ]
  },
  {
   "cell_type": "code",
   "execution_count": 164,
   "id": "fa6090ac-ea00-40f4-b668-c72832287995",
   "metadata": {},
   "outputs": [],
   "source": [
    "sample_data_dir = '/Users/bell/ecoraid/2023/CTDcasts/skq202312s/working/' #root path to cruise directory working repo"
   ]
  },
  {
   "cell_type": "markdown",
   "id": "76f45f1a-2c70-4708-a449-0351e3d4086c",
   "metadata": {},
   "source": [
    "### QC of data (plot parameters with other instruments)\n",
    "- be sure to updated the qc_status for the file and the history for future steps\n",
    "- from NRT csv files... make edits then use that to modify netcdf?\n",
    "- **Better Yet** export netcdf files with variable flags to csv and edit then reingest and modify\n",
    "    - modify netcdf in place and provide a qcflag?\n",
    "\n",
    "\n",
    "### Likely first edits\n",
    "- research issues noted in cruise logs\n",
    "- remove failed instrument (clogs, or other challenges that arent correctable)\n",
    "- extrapolate to sfc (not par though)\n",
    "- despike depths (interpolate between depths)\n",
    "- check for common issues\n",
    "    - lags in salinity when going through interface"
   ]
  },
  {
   "cell_type": "code",
   "execution_count": 165,
   "id": "a11505a2-6f36-454b-8f46-d5c54c479526",
   "metadata": {},
   "outputs": [
    {
     "name": "stdout",
     "output_type": "stream",
     "text": [
      "SKQ202312Sc001.nc: Profile Averaged Salinity Difference,STD (chan1-chan2)-0.01809565217391278,0.02165402151479209\n",
      "SKQ202312Sc002.nc: Profile Averaged Salinity Difference,STD (chan1-chan2)-0.016258666666666432,0.010463614332002907\n",
      "SKQ202312Sc003.nc: Profile Averaged Salinity Difference,STD (chan1-chan2)-0.02575584415584379,0.006462026812167486\n",
      "SKQ202312Sc004.nc: Profile Averaged Salinity Difference,STD (chan1-chan2)-0.01738749999999984,0.012262657151558507\n",
      "SKQ202312Sc005.nc: Profile Averaged Salinity Difference,STD (chan1-chan2)-0.01692500000000021,0.014870978200745776\n",
      "SKQ202312Sc006.nc: Profile Averaged Salinity Difference,STD (chan1-chan2)-0.017184375000000307,0.014609053472397916\n",
      "SKQ202312Sc007.nc: Profile Averaged Salinity Difference,STD (chan1-chan2)-0.017599999999999696,0.014708943397573063\n",
      "SKQ202312Sc008.nc: Profile Averaged Salinity Difference,STD (chan1-chan2)-0.015441538461538876,0.007705899684062194\n",
      "SKQ202312Sc009.nc: Profile Averaged Salinity Difference,STD (chan1-chan2)-0.01354264705882368,0.014638640608862195\n",
      "SKQ202312Sc010.nc: Profile Averaged Salinity Difference,STD (chan1-chan2)-0.01477878787878751,0.008244805805668788\n",
      "SKQ202312Sc011.nc: Profile Averaged Salinity Difference,STD (chan1-chan2)-0.014048000000000086,0.009119742101616582\n",
      "SKQ202312Sc012.nc: Profile Averaged Salinity Difference,STD (chan1-chan2)-0.01084651162790665,0.0008882564152123217\n",
      "SKQ202312Sc013.nc: Profile Averaged Salinity Difference,STD (chan1-chan2)-0.009840909090909894,0.0024804983170376937\n",
      "SKQ202312Sc014.nc: Profile Averaged Salinity Difference,STD (chan1-chan2)-0.008773809523809123,0.0024913239474904114\n",
      "SKQ202312Sc015.nc: Profile Averaged Salinity Difference,STD (chan1-chan2)-0.011734146341463449,0.003335954155098734\n",
      "SKQ202312Sc016.nc: Profile Averaged Salinity Difference,STD (chan1-chan2)-0.008941463414633238,0.0020705808787605797\n",
      "SKQ202312Sc017.nc: Profile Averaged Salinity Difference,STD (chan1-chan2)-0.010351282051281338,0.0043415034495559515\n",
      "SKQ202312Sc018.nc: Profile Averaged Salinity Difference,STD (chan1-chan2)-0.008870588235294134,0.0016614184959498606\n",
      "SKQ202312Sc019.nc: Profile Averaged Salinity Difference,STD (chan1-chan2)-0.07252619047619062,0.14129095455077245\n",
      "SKQ202312Sc020.nc: Profile Averaged Salinity Difference,STD (chan1-chan2)-0.03933863636363681,0.0015991781851211829\n",
      "SKQ202312Sc021.nc: Profile Averaged Salinity Difference,STD (chan1-chan2)-0.009291111111111326,0.005963102183789961\n",
      "SKQ202312Sc022.nc: Profile Averaged Salinity Difference,STD (chan1-chan2)-0.011466666666666311,0.0006729701991091504\n",
      "SKQ202312Sc023.nc: Profile Averaged Salinity Difference,STD (chan1-chan2)-0.009402272727273503,0.006500261835158751\n",
      "SKQ202312Sc024.nc: Profile Averaged Salinity Difference,STD (chan1-chan2)-0.015911111111111372,0.008073116490955884\n",
      "SKQ202312Sc025.nc: Profile Averaged Salinity Difference,STD (chan1-chan2)-0.02035581395348786,0.019249286333197935\n",
      "SKQ202312Sc026.nc: Profile Averaged Salinity Difference,STD (chan1-chan2)-0.013769811320755136,0.00444668988212583\n",
      "SKQ202312Sc027.nc: Profile Averaged Salinity Difference,STD (chan1-chan2)-0.028383908045976892,0.00820048882147216\n",
      "SKQ202312Sc028.nc: Profile Averaged Salinity Difference,STD (chan1-chan2)-0.013862037037037166,0.016385103428694335\n",
      "SKQ202312Sc029.nc: Profile Averaged Salinity Difference,STD (chan1-chan2)-0.012338524590164211,0.007224871054738013\n",
      "SKQ202312Sc030.nc: Profile Averaged Salinity Difference,STD (chan1-chan2)-0.010223584905660213,0.003141792298444547\n",
      "SKQ202312Sc031.nc: Profile Averaged Salinity Difference,STD (chan1-chan2)-0.013447435897436258,0.017004974568991183\n",
      "SKQ202312Sc032.nc: Profile Averaged Salinity Difference,STD (chan1-chan2)-0.008762686567164437,0.01450455240755657\n",
      "SKQ202312Sc033.nc: Profile Averaged Salinity Difference,STD (chan1-chan2)-0.011454098360655076,0.004268050338883147\n",
      "SKQ202312Sc034.nc: Profile Averaged Salinity Difference,STD (chan1-chan2)-0.012646551724137797,0.020854100857916592\n",
      "SKQ202312Sc035.nc: Profile Averaged Salinity Difference,STD (chan1-chan2)-0.01514567901234604,0.005304739306209331\n",
      "SKQ202312Sc036.nc: Profile Averaged Salinity Difference,STD (chan1-chan2)-0.010140804020100496,0.004589890941083429\n",
      "SKQ202312Sc037.nc: Profile Averaged Salinity Difference,STD (chan1-chan2)-0.013747058823529348,0.009615272837608073\n",
      "SKQ202312Sc038.nc: Profile Averaged Salinity Difference,STD (chan1-chan2)-0.01103125000000101,0.016957731229073462\n",
      "SKQ202312Sc039.nc: Profile Averaged Salinity Difference,STD (chan1-chan2)-0.014902272727272231,0.009232070796866188\n",
      "SKQ202312Sc041.nc: Profile Averaged Salinity Difference,STD (chan1-chan2)-0.01558837209302328,0.008853831368851673\n",
      "SKQ202312Sc042.nc: Profile Averaged Salinity Difference,STD (chan1-chan2)-0.01815813953488387,0.023260788770226686\n",
      "SKQ202312Sc043.nc: Profile Averaged Salinity Difference,STD (chan1-chan2)-0.015220930232557698,0.008239258211686902\n",
      "SKQ202312Sc044.nc: Profile Averaged Salinity Difference,STD (chan1-chan2)-0.01635348837209283,0.010464032502020963\n",
      "SKQ202312Sc045.nc: Profile Averaged Salinity Difference,STD (chan1-chan2)-0.013234146341463592,0.009614334058748812\n",
      "SKQ202312Sc046.nc: Profile Averaged Salinity Difference,STD (chan1-chan2)-0.01694418604651196,0.007972694748124756\n",
      "SKQ202312Sc047.nc: Profile Averaged Salinity Difference,STD (chan1-chan2)-0.017738461538461554,0.015385184604853797\n",
      "SKQ202312Sc048.nc: Profile Averaged Salinity Difference,STD (chan1-chan2)-0.01649210526315826,0.017779591813130668\n",
      "SKQ202312Sc049.nc: Profile Averaged Salinity Difference,STD (chan1-chan2)-0.016045945945946095,0.010713557831201087\n",
      "SKQ202312Sc050.nc: Profile Averaged Salinity Difference,STD (chan1-chan2)-0.011534285714286137,0.013446804035736743\n",
      "SKQ202312Sc051.nc: Profile Averaged Salinity Difference,STD (chan1-chan2)-0.012105263157894666,0.008921173729965527\n",
      "SKQ202312Sc052.nc: Profile Averaged Salinity Difference,STD (chan1-chan2)-0.01737999999999982,0.044915516249955385\n",
      "SKQ202312Sc053.nc: Profile Averaged Salinity Difference,STD (chan1-chan2)-0.012359999999999881,0.013964164851505066\n",
      "SKQ202312Sc054.nc: Profile Averaged Salinity Difference,STD (chan1-chan2)-0.015214634146341792,0.008068171763036704\n",
      "SKQ202312Sc055.nc: Profile Averaged Salinity Difference,STD (chan1-chan2)-0.01614358974358974,0.013906570940345715\n",
      "SKQ202312Sc056.nc: Profile Averaged Salinity Difference,STD (chan1-chan2)-0.02032249999999971,0.02474455988192152\n",
      "SKQ202312Sc057.nc: Profile Averaged Salinity Difference,STD (chan1-chan2)-0.018737500000000296,0.019269427696483127\n",
      "SKQ202312Sc058.nc: Profile Averaged Salinity Difference,STD (chan1-chan2)-0.015118421052631684,0.01454962208341134\n",
      "SKQ202312Sc059.nc: Profile Averaged Salinity Difference,STD (chan1-chan2)-0.02291500000000024,0.03108193647442169\n",
      "SKQ202312Sc060.nc: Profile Averaged Salinity Difference,STD (chan1-chan2)-0.020847368421051914,0.021856213579259324\n",
      "SKQ202312Sc061.nc: Profile Averaged Salinity Difference,STD (chan1-chan2)-0.021356410256409858,0.019569492150057443\n",
      "SKQ202312Sc063.nc: Profile Averaged Salinity Difference,STD (chan1-chan2)-0.019682500000000047,0.01792075455303198\n",
      "SKQ202312Sc064.nc: Profile Averaged Salinity Difference,STD (chan1-chan2)-0.017019047619047795,0.01644816154287691\n",
      "SKQ202312Sc065.nc: Profile Averaged Salinity Difference,STD (chan1-chan2)-0.021576190476190266,0.03140626878221708\n",
      "SKQ202312Sc066.nc: Profile Averaged Salinity Difference,STD (chan1-chan2)-0.01866818181818264,0.026900403619203653\n",
      "SKQ202312Sc067.nc: Profile Averaged Salinity Difference,STD (chan1-chan2)-0.01451777777777797,0.020085354408831885\n",
      "SKQ202312Sc068.nc: Profile Averaged Salinity Difference,STD (chan1-chan2)-0.011131914893616854,0.019567777533735762\n",
      "SKQ202312Sc069.nc: Profile Averaged Salinity Difference,STD (chan1-chan2)-0.010584782608695853,0.024514839936794524\n",
      "SKQ202312Sc070.nc: Profile Averaged Salinity Difference,STD (chan1-chan2)-0.013090909090908683,0.015653164335654262\n",
      "SKQ202312Sc071.nc: Profile Averaged Salinity Difference,STD (chan1-chan2)0.0056108695652172125,0.08524569408546975\n",
      "SKQ202312Sc072.nc: Profile Averaged Salinity Difference,STD (chan1-chan2)-0.013302040816326199,0.02011014050018303\n",
      "SKQ202312Sc073.nc: Profile Averaged Salinity Difference,STD (chan1-chan2)-0.011681818181818087,0.026557136283930964\n",
      "SKQ202312Sc074.nc: Profile Averaged Salinity Difference,STD (chan1-chan2)-0.010206818181817567,0.03179281220744508\n",
      "SKQ202312Sc075.nc: Profile Averaged Salinity Difference,STD (chan1-chan2)0.0011099999999999,0.07853377235304598\n",
      "SKQ202312Sc076.nc: Profile Averaged Salinity Difference,STD (chan1-chan2)-0.016206451612903846,0.019115420822346366\n",
      "SKQ202312Sc077.nc: Profile Averaged Salinity Difference,STD (chan1-chan2)0.007064444444444639,0.05963183398732011\n",
      "SKQ202312Sc078.nc: Profile Averaged Salinity Difference,STD (chan1-chan2)-0.0071469387755098614,0.03436362042911459\n",
      "SKQ202312Sc079.nc: Profile Averaged Salinity Difference,STD (chan1-chan2)-0.42638749999999986,0.042291279760135136\n",
      "SKQ202312Sc080.nc: Profile Averaged Salinity Difference,STD (chan1-chan2)-0.015836734693877547,0.01837059200358752\n",
      "SKQ202312Sc081.nc: Profile Averaged Salinity Difference,STD (chan1-chan2)-0.015809803921568423,0.030238160897636316\n",
      "SKQ202312Sc082.nc: Profile Averaged Salinity Difference,STD (chan1-chan2)-0.015867346938775218,0.014952597040895656\n",
      "SKQ202312Sc083.nc: Profile Averaged Salinity Difference,STD (chan1-chan2)-0.013400000000000321,0.02580804599529483\n",
      "SKQ202312Sc084.nc: Profile Averaged Salinity Difference,STD (chan1-chan2)0.02623199999999997,0.07346939346421788\n",
      "SKQ202312cCTD001_ctd.nc: Profile Averaged Salinity Difference,STD (chan1-chan2)-0.01809565217391278,0.02165402151479209\n",
      "SKQ202312cCTD002_ctd.nc: Profile Averaged Salinity Difference,STD (chan1-chan2)-0.016258666666666432,0.010463614332002907\n",
      "SKQ202312cCTD003_ctd.nc: Profile Averaged Salinity Difference,STD (chan1-chan2)-0.02575584415584379,0.006462026812167486\n",
      "SKQ202312cCTD004_ctd.nc: Profile Averaged Salinity Difference,STD (chan1-chan2)-0.01738749999999984,0.012262657151558507\n",
      "SKQ202312cCTD005_ctd.nc: Profile Averaged Salinity Difference,STD (chan1-chan2)-0.01692500000000021,0.014870978200745776\n",
      "SKQ202312cCTD006_ctd.nc: Profile Averaged Salinity Difference,STD (chan1-chan2)-0.017184375000000307,0.014609053472397916\n",
      "SKQ202312cCTD007_ctd.nc: Profile Averaged Salinity Difference,STD (chan1-chan2)-0.017599999999999696,0.014708943397573063\n",
      "SKQ202312cCTD008_ctd.nc: Profile Averaged Salinity Difference,STD (chan1-chan2)-0.015441538461538876,0.007705899684062194\n",
      "SKQ202312cCTD009_ctd.nc: Profile Averaged Salinity Difference,STD (chan1-chan2)-0.01354264705882368,0.014638640608862195\n",
      "SKQ202312cCTD010_ctd.nc: Profile Averaged Salinity Difference,STD (chan1-chan2)-0.01477878787878751,0.008244805805668788\n",
      "SKQ202312cCTD011_ctd.nc: Profile Averaged Salinity Difference,STD (chan1-chan2)-0.014048000000000086,0.009119742101616582\n",
      "SKQ202312cCTD012_ctd.nc: Profile Averaged Salinity Difference,STD (chan1-chan2)-0.01084651162790665,0.0008882564152123217\n",
      "SKQ202312cCTD013_ctd.nc: Profile Averaged Salinity Difference,STD (chan1-chan2)-0.009840909090909894,0.0024804983170376937\n",
      "SKQ202312cCTD014_ctd.nc: Profile Averaged Salinity Difference,STD (chan1-chan2)-0.008773809523809123,0.0024913239474904114\n",
      "SKQ202312cCTD015_ctd.nc: Profile Averaged Salinity Difference,STD (chan1-chan2)-0.011734146341463449,0.003335954155098734\n",
      "SKQ202312cCTD016_ctd.nc: Profile Averaged Salinity Difference,STD (chan1-chan2)-0.008941463414633238,0.0020705808787605797\n",
      "SKQ202312cCTD017_ctd.nc: Profile Averaged Salinity Difference,STD (chan1-chan2)-0.010351282051281338,0.0043415034495559515\n",
      "SKQ202312cCTD018_ctd.nc: Profile Averaged Salinity Difference,STD (chan1-chan2)-0.008870588235294134,0.0016614184959498606\n",
      "SKQ202312cCTD019_ctd.nc: Profile Averaged Salinity Difference,STD (chan1-chan2)-0.07252619047619062,0.14129095455077245\n",
      "SKQ202312cCTD020_ctd.nc: Profile Averaged Salinity Difference,STD (chan1-chan2)-0.03933863636363681,0.0015991781851211829\n",
      "SKQ202312cCTD021_ctd.nc: Profile Averaged Salinity Difference,STD (chan1-chan2)-0.009291111111111326,0.005963102183789961\n",
      "SKQ202312cCTD022_ctd.nc: Profile Averaged Salinity Difference,STD (chan1-chan2)-0.011466666666666311,0.0006729701991091504\n",
      "SKQ202312cCTD023_ctd.nc: Profile Averaged Salinity Difference,STD (chan1-chan2)-0.009402272727273503,0.006500261835158751\n",
      "SKQ202312cCTD024_ctd.nc: Profile Averaged Salinity Difference,STD (chan1-chan2)-0.015911111111111372,0.008073116490955884\n",
      "SKQ202312cCTD025_ctd.nc: Profile Averaged Salinity Difference,STD (chan1-chan2)-0.02035581395348786,0.019249286333197935\n",
      "SKQ202312cCTD026_ctd.nc: Profile Averaged Salinity Difference,STD (chan1-chan2)-0.013769811320755136,0.00444668988212583\n",
      "SKQ202312cCTD027_ctd.nc: Profile Averaged Salinity Difference,STD (chan1-chan2)-0.028383908045976892,0.00820048882147216\n",
      "SKQ202312cCTD028_ctd.nc: Profile Averaged Salinity Difference,STD (chan1-chan2)-0.013862037037037166,0.016385103428694335\n",
      "SKQ202312cCTD029_ctd.nc: Profile Averaged Salinity Difference,STD (chan1-chan2)-0.012338524590164211,0.007224871054738013\n",
      "SKQ202312cCTD030_ctd.nc: Profile Averaged Salinity Difference,STD (chan1-chan2)-0.010223584905660213,0.003141792298444547\n",
      "SKQ202312cCTD031_ctd.nc: Profile Averaged Salinity Difference,STD (chan1-chan2)-0.013447435897436258,0.017004974568991183\n",
      "SKQ202312cCTD032_ctd.nc: Profile Averaged Salinity Difference,STD (chan1-chan2)-0.008762686567164437,0.01450455240755657\n",
      "SKQ202312cCTD033_ctd.nc: Profile Averaged Salinity Difference,STD (chan1-chan2)-0.011454098360655076,0.004268050338883147\n",
      "SKQ202312cCTD034_ctd.nc: Profile Averaged Salinity Difference,STD (chan1-chan2)-0.012646551724137797,0.020854100857916592\n",
      "SKQ202312cCTD035_ctd.nc: Profile Averaged Salinity Difference,STD (chan1-chan2)-0.01514567901234604,0.005304739306209331\n",
      "SKQ202312cCTD036_ctd.nc: Profile Averaged Salinity Difference,STD (chan1-chan2)-0.010140804020100496,0.004589890941083429\n",
      "SKQ202312cCTD037_ctd.nc: Profile Averaged Salinity Difference,STD (chan1-chan2)-0.013747058823529348,0.009615272837608073\n",
      "SKQ202312cCTD038_ctd.nc: Profile Averaged Salinity Difference,STD (chan1-chan2)-0.01103125000000101,0.016957731229073462\n",
      "SKQ202312cCTD039_ctd.nc: Profile Averaged Salinity Difference,STD (chan1-chan2)-0.014902272727272231,0.009232070796866188\n",
      "SKQ202312cCTD041_ctd.nc: Profile Averaged Salinity Difference,STD (chan1-chan2)-0.01558837209302328,0.008853831368851673\n",
      "SKQ202312cCTD042_ctd.nc: Profile Averaged Salinity Difference,STD (chan1-chan2)-0.01815813953488387,0.023260788770226686\n",
      "SKQ202312cCTD043_ctd.nc: Profile Averaged Salinity Difference,STD (chan1-chan2)-0.015220930232557698,0.008239258211686902\n",
      "SKQ202312cCTD044_ctd.nc: Profile Averaged Salinity Difference,STD (chan1-chan2)-0.01635348837209283,0.010464032502020963\n",
      "SKQ202312cCTD045_ctd.nc: Profile Averaged Salinity Difference,STD (chan1-chan2)-0.013234146341463592,0.009614334058748812\n",
      "SKQ202312cCTD046_ctd.nc: Profile Averaged Salinity Difference,STD (chan1-chan2)-0.01694418604651196,0.007972694748124756\n",
      "SKQ202312cCTD047_ctd.nc: Profile Averaged Salinity Difference,STD (chan1-chan2)-0.017738461538461554,0.015385184604853797\n",
      "SKQ202312cCTD048_ctd.nc: Profile Averaged Salinity Difference,STD (chan1-chan2)-0.01649210526315826,0.017779591813130668\n",
      "SKQ202312cCTD049_ctd.nc: Profile Averaged Salinity Difference,STD (chan1-chan2)-0.016045945945946095,0.010713557831201087\n",
      "SKQ202312cCTD050_ctd.nc: Profile Averaged Salinity Difference,STD (chan1-chan2)-0.011534285714286137,0.013446804035736743\n",
      "SKQ202312cCTD051_ctd.nc: Profile Averaged Salinity Difference,STD (chan1-chan2)-0.012105263157894666,0.008921173729965527\n",
      "SKQ202312cCTD052_ctd.nc: Profile Averaged Salinity Difference,STD (chan1-chan2)-0.01737999999999982,0.044915516249955385\n",
      "SKQ202312cCTD053_ctd.nc: Profile Averaged Salinity Difference,STD (chan1-chan2)-0.012359999999999881,0.013964164851505066\n",
      "SKQ202312cCTD054_ctd.nc: Profile Averaged Salinity Difference,STD (chan1-chan2)-0.015214634146341792,0.008068171763036704\n",
      "SKQ202312cCTD055_ctd.nc: Profile Averaged Salinity Difference,STD (chan1-chan2)-0.01614358974358974,0.013906570940345715\n",
      "SKQ202312cCTD056_ctd.nc: Profile Averaged Salinity Difference,STD (chan1-chan2)-0.02032249999999971,0.02474455988192152\n",
      "SKQ202312cCTD057_ctd.nc: Profile Averaged Salinity Difference,STD (chan1-chan2)-0.018737500000000296,0.019269427696483127\n",
      "SKQ202312cCTD058_ctd.nc: Profile Averaged Salinity Difference,STD (chan1-chan2)-0.015118421052631684,0.01454962208341134\n",
      "SKQ202312cCTD059_ctd.nc: Profile Averaged Salinity Difference,STD (chan1-chan2)-0.02291500000000024,0.03108193647442169\n",
      "SKQ202312cCTD060_ctd.nc: Profile Averaged Salinity Difference,STD (chan1-chan2)-0.020847368421051914,0.021856213579259324\n",
      "SKQ202312cCTD061_ctd.nc: Profile Averaged Salinity Difference,STD (chan1-chan2)-0.021356410256409858,0.019569492150057443\n",
      "SKQ202312cCTD063_ctd.nc: Profile Averaged Salinity Difference,STD (chan1-chan2)-0.019682500000000047,0.01792075455303198\n",
      "SKQ202312cCTD064_ctd.nc: Profile Averaged Salinity Difference,STD (chan1-chan2)-0.017019047619047795,0.01644816154287691\n",
      "SKQ202312cCTD065_ctd.nc: Profile Averaged Salinity Difference,STD (chan1-chan2)-0.021576190476190266,0.03140626878221708\n",
      "SKQ202312cCTD066_ctd.nc: Profile Averaged Salinity Difference,STD (chan1-chan2)-0.01866818181818264,0.026900403619203653\n",
      "SKQ202312cCTD067_ctd.nc: Profile Averaged Salinity Difference,STD (chan1-chan2)-0.01451777777777797,0.020085354408831885\n",
      "SKQ202312cCTD068_ctd.nc: Profile Averaged Salinity Difference,STD (chan1-chan2)-0.011131914893616854,0.019567777533735762\n",
      "SKQ202312cCTD069_ctd.nc: Profile Averaged Salinity Difference,STD (chan1-chan2)-0.010584782608695853,0.024514839936794524\n",
      "SKQ202312cCTD070_ctd.nc: Profile Averaged Salinity Difference,STD (chan1-chan2)-0.013090909090908683,0.015653164335654262\n",
      "SKQ202312cCTD071_ctd.nc: Profile Averaged Salinity Difference,STD (chan1-chan2)0.0056108695652172125,0.08524569408546975\n",
      "SKQ202312cCTD072_ctd.nc: Profile Averaged Salinity Difference,STD (chan1-chan2)-0.013302040816326199,0.02011014050018303\n",
      "SKQ202312cCTD073_ctd.nc: Profile Averaged Salinity Difference,STD (chan1-chan2)-0.011681818181818087,0.026557136283930964\n",
      "SKQ202312cCTD074_ctd.nc: Profile Averaged Salinity Difference,STD (chan1-chan2)-0.010206818181817567,0.03179281220744508\n",
      "SKQ202312cCTD075_ctd.nc: Profile Averaged Salinity Difference,STD (chan1-chan2)0.0011099999999999,0.07853377235304598\n",
      "SKQ202312cCTD076_ctd.nc: Profile Averaged Salinity Difference,STD (chan1-chan2)-0.016206451612903846,0.019115420822346366\n",
      "SKQ202312cCTD077_ctd.nc: Profile Averaged Salinity Difference,STD (chan1-chan2)0.007064444444444639,0.05963183398732011\n",
      "SKQ202312cCTD078_ctd.nc: Profile Averaged Salinity Difference,STD (chan1-chan2)-0.0071469387755098614,0.03436362042911459\n",
      "SKQ202312cCTD079_ctd.nc: Profile Averaged Salinity Difference,STD (chan1-chan2)-0.42638749999999986,0.042291279760135136\n",
      "SKQ202312cCTD080_ctd.nc: Profile Averaged Salinity Difference,STD (chan1-chan2)-0.015836734693877547,0.01837059200358752\n",
      "SKQ202312cCTD081_ctd.nc: Profile Averaged Salinity Difference,STD (chan1-chan2)-0.015809803921568423,0.030238160897636316\n",
      "SKQ202312cCTD082_ctd.nc: Profile Averaged Salinity Difference,STD (chan1-chan2)-0.015867346938775218,0.014952597040895656\n",
      "SKQ202312cCTD083_ctd.nc: Profile Averaged Salinity Difference,STD (chan1-chan2)-0.013400000000000321,0.02580804599529483\n",
      "SKQ202312cCTD084_ctd.nc: Profile Averaged Salinity Difference,STD (chan1-chan2)0.02623199999999997,0.07346939346421788\n",
      "SKQ202312cCTD086_ctd.nc: less than two salinity channels\n"
     ]
    },
    {
     "data": {
      "image/png": "[encoded data removed]",
      "text/plain": [
       "<Figure size 640x480 with 1 Axes>"
      ]
     },
     "metadata": {},
     "output_type": "display_data"
    }
   ],
   "source": [
    "#test for salinity bottle run needs\n",
    "for cast in sorted(os.listdir(sample_data_dir)):\n",
    "    if cast.endswith('.nc'):\n",
    "        try:\n",
    "            cruise_data_nc = xa.load_dataset(sample_data_dir+cast)\n",
    "            saldiff = cruise_data_nc.salinity_ch1 - cruise_data_nc.salinity_ch2\n",
    "            print(f\"{cast}: Profile Averaged Salinity Difference,STD (chan1-chan2){saldiff.mean().values},{saldiff.std().values}\")        \n",
    "            saldiff.plot.hist(bins=50,xlim=[-.05,.05])\n",
    "        except:\n",
    "            print(f\"{cast}: less than two salinity channels\")"
   ]
  },
  {
   "cell_type": "code",
   "execution_count": 167,
   "id": "b3266f71-f329-4905-b500-562534dad766",
   "metadata": {},
   "outputs": [],
   "source": [
    "# Following routines will eventually get ported to ecofocipy as subroutines to be called\n",
    "\n",
    "import seawater as sw\n",
    "\n",
    "def sigmat_update(salinity=None,temperature=None):\n",
    "    '''\n",
    "    Changes to T or S (commonly to despike values or apply a salinity offset) will need corresponding changes in sigmat\n",
    "    '''\n",
    "    # calculate sigmaT at 0db gauge pressure (s, t, p=0)\n",
    "    sigt = (sw.eos80.dens0(s=salinity, t=temperature) - 1000)\n",
    "    \n",
    "    return sigt\n"
   ]
  },
  {
   "cell_type": "markdown",
   "id": "76870c14-e33d-4bb3-a2ff-906dcc99b27a",
   "metadata": {},
   "source": [
    "## Generate Plots\n",
    "\n",
    "\n",
    "### Make General Plots\n",
    "- 1:1 plots for paired instruments for each cast (tells if a sensor failed)\n",
    "- TS_Sigmat, Chlor/Par/Turb, Oxy,Temp\n",
    "- T/S property property plot\n",
    "- upcast/downcast plt"
   ]
  },
  {
   "cell_type": "code",
   "execution_count": 170,
   "id": "f0977254-1e0d-4b7d-ae1a-5b4a6ad79ec0",
   "metadata": {
    "scrolled": true,
    "tags": []
   },
   "outputs": [],
   "source": [
    "calc_sigmat = True\n",
    "\n",
    "for cast in sorted(os.listdir(sample_data_dir)):\n",
    "    if cast.endswith('.nc'):\n",
    "        cruise_data_nc = xa.load_dataset(sample_data_dir+cast)\n",
    "        ctd_df = cruise_data_nc.to_dataframe()\n",
    "        \n",
    "        if calc_sigmat:\n",
    "            #update sigmat (or calculate it I suppose)\n",
    "            sigup = sigmat_update(salinity=ctd_df.salinity_ch1,\n",
    "                                  temperature=ctd_df.temperature_ch1)\n",
    "            ctd_df['sigma_t_ch1'] = sigup\n",
    "            \n",
    "            sigup2 = sigmat_update(salinity=ctd_df.salinity_ch2,\n",
    "                                  temperature=ctd_df.temperature_ch2)\n",
    "            ctd_df['sigma_t_ch2'] = sigup2   \n",
    "            \n",
    "        sbe_p = sbe_ctd_plots.CTDProfilePlot(stylesheet='seaborn-v0_8-ticks')\n",
    "        plt,fig =sbe_p.plot3var(varname=['temperature_ch1','temperature_ch2','salinity_ch1','salinity_ch2','sigma_t_ch1','sigma_t_ch2'],\n",
    "                          xdata=[ctd_df.temperature_ch1,ctd_df.temperature_ch2,ctd_df.salinity_ch1,ctd_df.salinity_ch2,ctd_df.sigma_t_ch1,ctd_df.sigma_t_ch2],\n",
    "                          ydata=ctd_df.index.get_level_values('depth'),\n",
    "                          secondary=True,\n",
    "                          xlabel=['Temperature','Salinity','Sigma-T'])\n",
    "\n",
    "        DefaultSize = fig.get_size_inches()\n",
    "        fig.set_size_inches( (DefaultSize[0], DefaultSize[1]*3) )\n",
    "        plt.savefig(sample_data_dir+cast.replace('.nc','_TempSalSigmat.png'))\n",
    "        plt.close(fig)"
   ]
  },
  {
   "cell_type": "code",
   "execution_count": 171,
   "id": "d8f4a442-947e-47c7-bc46-517c42eec83a",
   "metadata": {
    "tags": []
   },
   "outputs": [],
   "source": [
    "for cast in sorted(os.listdir(sample_data_dir)):\n",
    "    if cast.endswith('.nc'):\n",
    "        cruise_data_nc = xa.load_dataset(sample_data_dir+cast)\n",
    "        ctd_df = cruise_data_nc.to_dataframe()\n",
    "        \n",
    "        sbe_p = sbe_ctd_plots.CTDProfilePlot(stylesheet='seaborn-v0_8-ticks')\n",
    "        plt,fig =sbe_p.plot2var(varname=['temperature_ch1','temperature_ch2','oxy_percentsat_ch1','oxy_percentsat_ch2'],\n",
    "                          xdata=[ctd_df.temperature_ch1,ctd_df.temperature_ch2,ctd_df.oxy_percentsat_ch1,ctd_df.oxy_percentsat_ch2],\n",
    "                          ydata=ctd_df.index.get_level_values('depth'),\n",
    "                          secondary=True,\n",
    "                          xlabel=['Temperature','Oxygen Saturation'])\n",
    "\n",
    "        DefaultSize = fig.get_size_inches()\n",
    "        fig.set_size_inches( (DefaultSize[0], DefaultSize[1]*3) )\n",
    "        plt.savefig(sample_data_dir+cast.replace('.nc','_TempOxy.png'))\n",
    "        plt.close(fig)"
   ]
  },
  {
   "cell_type": "code",
   "execution_count": 172,
   "id": "2f894628-4506-44da-9f6c-fefab9471ec7",
   "metadata": {
    "tags": []
   },
   "outputs": [],
   "source": [
    "for cast in sorted(os.listdir(sample_data_dir)):\n",
    "    if cast.endswith('.nc'):\n",
    "        cruise_data_nc = xa.load_dataset(sample_data_dir+cast)\n",
    "        ctd_df = cruise_data_nc.to_dataframe()\n",
    "        \n",
    "        sbe_p = sbe_ctd_plots.CTDProfilePlot(stylesheet='seaborn-v0_8-ticks')\n",
    "        plt,fig =sbe_p.plot3var(varname=['transmittance','','chlor_fluorescence','','par'],\n",
    "                          xdata=[ctd_df.transmittance,np.array([]),ctd_df.chlor_fluorescence,np.array([]),ctd_df.par,np.array([])],\n",
    "                          ydata=ctd_df.index.get_level_values('depth'),\n",
    "                          secondary=False,\n",
    "                          xlabel=['Transmittance','Fluor','Par'])\n",
    "\n",
    "        DefaultSize = fig.get_size_inches()\n",
    "        fig.set_size_inches( (DefaultSize[0], DefaultSize[1]*3) )\n",
    "        plt.savefig(sample_data_dir+cast.replace('.nc','_TransFluorPAR.png'))\n",
    "        plt.close(fig)"
   ]
  },
  {
   "cell_type": "code",
   "execution_count": null,
   "id": "2d0238d2-1712-4db8-9750-c7d92b30d668",
   "metadata": {},
   "outputs": [],
   "source": []
  }
 ],
 "metadata": {
  "interpreter": {
   "hash": "bc96f01bfc9d2c897ec898f99e5079e1d7ab4b93a6c269a5e00afdb6d52f3b37"
  },
  "kernelspec": {
   "display_name": "Python [conda env:p312]",
   "language": "python",
   "name": "conda-env-p312-py"
  },
  "language_info": {
   "codemirror_mode": {
    "name": "ipython",
    "version": 3
   },
   "file_extension": ".py",
   "mimetype": "text/x-python",
   "name": "python",
   "nbconvert_exporter": "python",
   "pygments_lexer": "ipython3",
   "version": "3.12.1"
  }
 },
 "nbformat": 4,
 "nbformat_minor": 5
}
